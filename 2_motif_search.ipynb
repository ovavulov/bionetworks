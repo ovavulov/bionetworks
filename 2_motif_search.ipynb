{
 "cells": [
  {
   "cell_type": "markdown",
   "metadata": {},
   "source": [
    "# Motif search pipeline"
   ]
  },
  {
   "cell_type": "code",
   "execution_count": 2,
   "metadata": {},
   "outputs": [],
   "source": [
    "import os\n",
    "import sys\n",
    "import json\n",
    "import numpy as np\n",
    "sys.path.insert(0, \"./scripts\")\n",
    "from itertools import combinations, product\n",
    "import joblib\n",
    "from tqdm import tqdm\n",
    "import functions as f"
   ]
  },
  {
   "cell_type": "markdown",
   "metadata": {},
   "source": [
    "Actual parametrisation"
   ]
  },
  {
   "cell_type": "code",
   "execution_count": 3,
   "metadata": {},
   "outputs": [
    {
     "name": "stdout",
     "output_type": "stream",
     "text": [
      "RANDOM_SEED: 19\n",
      "TEST_NETWORK_SIZE: 100\n",
      "TEST_NETWORK_LINK_PROB: 0.3\n",
      "PARALLEL_THREADS_NUMBER: 10\n",
      "MOTIF_TO_SEARCH_FOR: fanout\n",
      "SELFLOOPS_INCLUDED: 0\n",
      "NETWORK_TO_SEARCH_IN: yeast\n",
      "MATRIX_NAME: interaction_matrix\n"
     ]
    }
   ],
   "source": [
    "cfg = f.get_actual_parametrization(\"./config.json\")"
   ]
  },
  {
   "cell_type": "markdown",
   "metadata": {},
   "source": [
    "# 1. Random network for testing"
   ]
  },
  {
   "cell_type": "code",
   "execution_count": 3,
   "metadata": {},
   "outputs": [
    {
     "name": "stdout",
     "output_type": "stream",
     "text": [
      "RANDOM_SEED: 19\n",
      "TEST_NETWORK_SIZE: 100\n",
      "TEST_NETWORK_LINK_PROB: 0.3\n",
      "PARALLEL_THREADS_NUMBER: 10\n",
      "MOTIF_TO_SEARCH_FOR: feedforward\n",
      "SELFLOOPS_INCLUDED: 1\n",
      "NETWORK_TO_SEARCH_IN: test\n"
     ]
    }
   ],
   "source": [
    "cfg = f.update_cfg(\"./config.json\", \"NETWORK_TO_SEARCH_IN\", \"test\", verbose=False)\n",
    "cfg = f.update_cfg(\"./config.json\", \"MOTIF_TO_SEARCH_FOR\", \"feedforward\", verbose=False)\n",
    "cfg = f.update_cfg(\"./config.json\", \"SELFLOOPS_INCLUDED\", 1)"
   ]
  },
  {
   "cell_type": "code",
   "execution_count": 5,
   "metadata": {},
   "outputs": [
    {
     "name": "stdout",
     "output_type": "stream",
     "text": [
      "Number of genes triads: 161700\n"
     ]
    }
   ],
   "source": [
    "# all possible gene triads\n",
    "combs = list(combinations(range(interacion_matrix.shape[0]), 3))\n",
    "print(f\"Number of genes triads: {len(combs)}\")"
   ]
  },
  {
   "cell_type": "markdown",
   "metadata": {},
   "source": [
    "Search space splitting for parallel processing"
   ]
  },
  {
   "cell_type": "code",
   "execution_count": 6,
   "metadata": {},
   "outputs": [
    {
     "name": "stdout",
     "output_type": "stream",
     "text": [
      "Search space have been splitted into 10\n"
     ]
    }
   ],
   "source": [
    "f.split_search_space(cfg, combs)"
   ]
  },
  {
   "cell_type": "markdown",
   "metadata": {},
   "source": [
    "Launching search pipeline in parallel"
   ]
  },
  {
   "cell_type": "code",
   "execution_count": 7,
   "metadata": {},
   "outputs": [
    {
     "name": "stdout",
     "output_type": "stream",
     "text": [
      "400 feedforward with selfloops motifs have been found\n",
      "Total time spent: 0:00:03.393634\n"
     ]
    }
   ],
   "source": [
    "f.make_parallel_search(cfg)"
   ]
  },
  {
   "cell_type": "markdown",
   "metadata": {},
   "source": [
    "# 2. Yeast Tnet"
   ]
  },
  {
   "cell_type": "code",
   "execution_count": 4,
   "metadata": {},
   "outputs": [
    {
     "name": "stdout",
     "output_type": "stream",
     "text": [
      "RANDOM_SEED: 19\n",
      "TEST_NETWORK_SIZE: 100\n",
      "TEST_NETWORK_LINK_PROB: 0.3\n",
      "PARALLEL_THREADS_NUMBER: 10\n",
      "MOTIF_TO_SEARCH_FOR: fanout\n",
      "SELFLOOPS_INCLUDED: 0\n",
      "NETWORK_TO_SEARCH_IN: yeast\n",
      "MATRIX_NAME: interaction_matrix\n"
     ]
    }
   ],
   "source": [
    "cfg = f.update_cfg(\"./config.json\", \"NETWORK_TO_SEARCH_IN\", \"yeast\")"
   ]
  },
  {
   "cell_type": "code",
   "execution_count": 5,
   "metadata": {},
   "outputs": [],
   "source": [
    "meta = joblib.load(os.path.join(\"./networks/yeast/meta.pkl\"));\n",
    "tf_nodes, tf_only_nodes, tg_nodes, tg_only_nodes, tf_x_tg_nodes = meta"
   ]
  },
  {
   "cell_type": "markdown",
   "metadata": {},
   "source": [
    "Motif specific search space design"
   ]
  },
  {
   "cell_type": "markdown",
   "metadata": {},
   "source": [
    "1. Feed-forward"
   ]
  },
  {
   "cell_type": "code",
   "execution_count": 6,
   "metadata": {},
   "outputs": [
    {
     "name": "stdout",
     "output_type": "stream",
     "text": [
      "RANDOM_SEED: 19\n",
      "TEST_NETWORK_SIZE: 100\n",
      "TEST_NETWORK_LINK_PROB: 0.3\n",
      "PARALLEL_THREADS_NUMBER: 10\n",
      "MOTIF_TO_SEARCH_FOR: feedforward\n",
      "SELFLOOPS_INCLUDED: 0\n",
      "NETWORK_TO_SEARCH_IN: yeast\n",
      "MATRIX_NAME: interaction_matrix\n"
     ]
    }
   ],
   "source": [
    "cfg = f.update_cfg(\"./config.json\", \"MOTIF_TO_SEARCH_FOR\", \"feedforward\", verbose=False)\n",
    "cfg = f.update_cfg(\"./config.json\", \"MATRIX_NAME\", \"interaction_matrix\", verbose=False)\n",
    "cfg = f.update_cfg(\"./config.json\", \"SELFLOOPS_INCLUDED\", 0)"
   ]
  },
  {
   "cell_type": "code",
   "execution_count": 7,
   "metadata": {
    "scrolled": true
   },
   "outputs": [
    {
     "name": "stdout",
     "output_type": "stream",
     "text": [
      "Equivalent forms for feedforward    (6 total):\n",
      "[[0 0 0]\n",
      " [1 0 0]\n",
      " [1 1 0]]\n",
      "\n",
      "[[0 0 0]\n",
      " [1 0 1]\n",
      " [1 0 0]]\n",
      "\n",
      "[[0 1 0]\n",
      " [0 0 0]\n",
      " [1 1 0]]\n",
      "\n",
      "[[0 0 1]\n",
      " [1 0 1]\n",
      " [0 0 0]]\n",
      "\n",
      "[[0 1 1]\n",
      " [0 0 0]\n",
      " [0 1 0]]\n",
      "\n",
      "[[0 1 1]\n",
      " [0 0 1]\n",
      " [0 0 0]]\n",
      "\n"
     ]
    }
   ],
   "source": [
    "f.print_equivalents(cfg)"
   ]
  },
  {
   "cell_type": "code",
   "execution_count": 8,
   "metadata": {},
   "outputs": [
    {
     "name": "stdout",
     "output_type": "stream",
     "text": [
      "Number of genes triads (for feed-forward): 53094574\n",
      "CPU times: user 5.79 s, sys: 1.01 s, total: 6.8 s\n",
      "Wall time: 6.8 s\n"
     ]
    }
   ],
   "source": [
    "%%time\n",
    "combs = list(combinations(tf_nodes, 3))\n",
    "combs += [(i, j, k) for (i, j), k in product(list(combinations(tf_nodes, 2)), tg_only_nodes)]\n",
    "print(f\"Number of genes triads (for feed-forward): {len(combs)}\")"
   ]
  },
  {
   "cell_type": "code",
   "execution_count": 9,
   "metadata": {},
   "outputs": [
    {
     "name": "stdout",
     "output_type": "stream",
     "text": [
      "Search space have been splitted into 10\n"
     ]
    }
   ],
   "source": [
    "f.split_search_space(cfg, combs)"
   ]
  },
  {
   "cell_type": "code",
   "execution_count": 10,
   "metadata": {},
   "outputs": [
    {
     "name": "stdout",
     "output_type": "stream",
     "text": [
      "3374 feedforward motifs have been found\n",
      "Total time spent: 0:05:21.460526\n"
     ]
    }
   ],
   "source": [
    "f.make_parallel_search(cfg)"
   ]
  },
  {
   "cell_type": "markdown",
   "metadata": {},
   "source": [
    "2. Feedworward with selfloops"
   ]
  },
  {
   "cell_type": "code",
   "execution_count": 8,
   "metadata": {},
   "outputs": [
    {
     "name": "stdout",
     "output_type": "stream",
     "text": [
      "RANDOM_SEED: 19\n",
      "TEST_NETWORK_SIZE: 100\n",
      "TEST_NETWORK_LINK_PROB: 0.3\n",
      "PARALLEL_THREADS_NUMBER: 10\n",
      "MOTIF_TO_SEARCH_FOR: feedforward\n",
      "SELFLOOPS_INCLUDED: 1\n",
      "NETWORK_TO_SEARCH_IN: yeast\n",
      "MATRIX_NAME: interaction_matrix_sl\n"
     ]
    }
   ],
   "source": [
    "cfg = f.update_cfg(\"./config.json\", \"MOTIF_TO_SEARCH_FOR\", \"feedforward\", verbose=False)\n",
    "cfg = f.update_cfg(\"./config.json\", \"SELFLOOPS_INCLUDED\", 1, verbose=False)\n",
    "cfg = f.update_cfg(\"./config.json\", \"MATRIX_NAME\", \"interaction_matrix_sl\")"
   ]
  },
  {
   "cell_type": "code",
   "execution_count": 9,
   "metadata": {
    "scrolled": true
   },
   "outputs": [
    {
     "name": "stdout",
     "output_type": "stream",
     "text": [
      "Equivalent forms for feedforward with selfloops    (6 total):\n",
      "[[1 0 0]\n",
      " [1 1 0]\n",
      " [1 1 1]]\n",
      "\n",
      "[[1 0 0]\n",
      " [1 1 1]\n",
      " [1 0 1]]\n",
      "\n",
      "[[1 1 0]\n",
      " [0 1 0]\n",
      " [1 1 1]]\n",
      "\n",
      "[[1 0 1]\n",
      " [1 1 1]\n",
      " [0 0 1]]\n",
      "\n",
      "[[1 1 1]\n",
      " [0 1 0]\n",
      " [0 1 1]]\n",
      "\n",
      "[[1 1 1]\n",
      " [0 1 1]\n",
      " [0 0 1]]\n",
      "\n"
     ]
    }
   ],
   "source": [
    "f.print_equivalents(cfg)"
   ]
  },
  {
   "cell_type": "code",
   "execution_count": 15,
   "metadata": {},
   "outputs": [
    {
     "name": "stdout",
     "output_type": "stream",
     "text": [
      "3555 feedforward with selfloops motifs have been found\n",
      "Total time spent: 0:05:36.353171\n"
     ]
    }
   ],
   "source": [
    "f.make_parallel_search(cfg)"
   ]
  },
  {
   "cell_type": "markdown",
   "metadata": {},
   "source": [
    "3. Fanin"
   ]
  },
  {
   "cell_type": "code",
   "execution_count": 6,
   "metadata": {},
   "outputs": [
    {
     "name": "stdout",
     "output_type": "stream",
     "text": [
      "RANDOM_SEED: 19\n",
      "TEST_NETWORK_SIZE: 100\n",
      "TEST_NETWORK_LINK_PROB: 0.3\n",
      "PARALLEL_THREADS_NUMBER: 10\n",
      "MOTIF_TO_SEARCH_FOR: fanin\n",
      "SELFLOOPS_INCLUDED: 0\n",
      "NETWORK_TO_SEARCH_IN: yeast\n",
      "MATRIX_NAME: interaction_matrix\n"
     ]
    }
   ],
   "source": [
    "cfg = f.update_cfg(\"./config.json\", \"MOTIF_TO_SEARCH_FOR\", \"fanin\", verbose=False)\n",
    "cfg = f.update_cfg(\"./config.json\", \"SELFLOOPS_INCLUDED\", 0, verbose=False)\n",
    "cfg = f.update_cfg(\"./config.json\", \"MATRIX_NAME\", \"interaction_matrix\")"
   ]
  },
  {
   "cell_type": "code",
   "execution_count": 7,
   "metadata": {},
   "outputs": [
    {
     "name": "stdout",
     "output_type": "stream",
     "text": [
      "Equivalent forms for fanin    (3 total):\n",
      "[[0 1 1]\n",
      " [0 0 0]\n",
      " [0 0 0]]\n",
      "\n",
      "[[0 0 0]\n",
      " [1 0 1]\n",
      " [0 0 0]]\n",
      "\n",
      "[[0 0 0]\n",
      " [0 0 0]\n",
      " [1 1 0]]\n",
      "\n"
     ]
    }
   ],
   "source": [
    "f.print_equivalents(cfg)"
   ]
  },
  {
   "cell_type": "code",
   "execution_count": 10,
   "metadata": {},
   "outputs": [
    {
     "name": "stdout",
     "output_type": "stream",
     "text": [
      "26042 fanin motifs have been found\n",
      "Total time spent: 0:05:45.118447\n"
     ]
    }
   ],
   "source": [
    "f.make_parallel_search(cfg)"
   ]
  },
  {
   "cell_type": "markdown",
   "metadata": {},
   "source": [
    "4. Fanin with selfloops"
   ]
  },
  {
   "cell_type": "code",
   "execution_count": 11,
   "metadata": {},
   "outputs": [
    {
     "name": "stdout",
     "output_type": "stream",
     "text": [
      "RANDOM_SEED: 19\n",
      "TEST_NETWORK_SIZE: 100\n",
      "TEST_NETWORK_LINK_PROB: 0.3\n",
      "PARALLEL_THREADS_NUMBER: 10\n",
      "MOTIF_TO_SEARCH_FOR: fanin\n",
      "SELFLOOPS_INCLUDED: 1\n",
      "NETWORK_TO_SEARCH_IN: yeast\n",
      "MATRIX_NAME: interaction_matrix_sl\n"
     ]
    }
   ],
   "source": [
    "cfg = f.update_cfg(\"./config.json\", \"MOTIF_TO_SEARCH_FOR\", \"fanin\", verbose=False)\n",
    "cfg = f.update_cfg(\"./config.json\", \"SELFLOOPS_INCLUDED\", 1, verbose=False)\n",
    "cfg = f.update_cfg(\"./config.json\", \"MATRIX_NAME\", \"interaction_matrix_sl\")"
   ]
  },
  {
   "cell_type": "code",
   "execution_count": 12,
   "metadata": {},
   "outputs": [
    {
     "name": "stdout",
     "output_type": "stream",
     "text": [
      "Equivalent forms for fanin with selfloops    (3 total):\n",
      "[[1 1 1]\n",
      " [0 1 0]\n",
      " [0 0 1]]\n",
      "\n",
      "[[1 0 0]\n",
      " [1 1 1]\n",
      " [0 0 1]]\n",
      "\n",
      "[[1 0 0]\n",
      " [0 1 0]\n",
      " [1 1 1]]\n",
      "\n"
     ]
    }
   ],
   "source": [
    "f.print_equivalents(cfg)"
   ]
  },
  {
   "cell_type": "code",
   "execution_count": 14,
   "metadata": {},
   "outputs": [
    {
     "name": "stdout",
     "output_type": "stream",
     "text": [
      "26042 fanin with selfloops motifs have been found\n",
      "Total time spent: 0:05:38.975707\n"
     ]
    }
   ],
   "source": [
    "f.make_parallel_search(cfg)"
   ]
  },
  {
   "cell_type": "markdown",
   "metadata": {},
   "source": [
    "5. Cascade"
   ]
  },
  {
   "cell_type": "code",
   "execution_count": 15,
   "metadata": {},
   "outputs": [
    {
     "name": "stdout",
     "output_type": "stream",
     "text": [
      "RANDOM_SEED: 19\n",
      "TEST_NETWORK_SIZE: 100\n",
      "TEST_NETWORK_LINK_PROB: 0.3\n",
      "PARALLEL_THREADS_NUMBER: 10\n",
      "MOTIF_TO_SEARCH_FOR: cascade\n",
      "SELFLOOPS_INCLUDED: 0\n",
      "NETWORK_TO_SEARCH_IN: yeast\n",
      "MATRIX_NAME: interaction_matrix\n"
     ]
    }
   ],
   "source": [
    "cfg = f.update_cfg(\"./config.json\", \"MOTIF_TO_SEARCH_FOR\", \"cascade\", verbose=False)\n",
    "cfg = f.update_cfg(\"./config.json\", \"SELFLOOPS_INCLUDED\", 0, verbose=False)\n",
    "cfg = f.update_cfg(\"./config.json\", \"MATRIX_NAME\", \"interaction_matrix\")"
   ]
  },
  {
   "cell_type": "code",
   "execution_count": 16,
   "metadata": {
    "scrolled": true
   },
   "outputs": [
    {
     "name": "stdout",
     "output_type": "stream",
     "text": [
      "Equivalent forms for cascade    (6 total):\n",
      "[[0 0 0]\n",
      " [1 0 0]\n",
      " [0 1 0]]\n",
      "\n",
      "[[0 0 0]\n",
      " [0 0 1]\n",
      " [1 0 0]]\n",
      "\n",
      "[[0 1 0]\n",
      " [0 0 0]\n",
      " [1 0 0]]\n",
      "\n",
      "[[0 0 1]\n",
      " [1 0 0]\n",
      " [0 0 0]]\n",
      "\n",
      "[[0 0 1]\n",
      " [0 0 0]\n",
      " [0 1 0]]\n",
      "\n",
      "[[0 1 0]\n",
      " [0 0 1]\n",
      " [0 0 0]]\n",
      "\n"
     ]
    }
   ],
   "source": [
    "f.print_equivalents(cfg)"
   ]
  },
  {
   "cell_type": "code",
   "execution_count": 17,
   "metadata": {},
   "outputs": [
    {
     "name": "stdout",
     "output_type": "stream",
     "text": [
      "37631 cascade motifs have been found\n",
      "Total time spent: 0:05:50.536849\n"
     ]
    }
   ],
   "source": [
    "f.make_parallel_search(cfg)"
   ]
  },
  {
   "cell_type": "markdown",
   "metadata": {},
   "source": [
    "6. Cascade with selfloops"
   ]
  },
  {
   "cell_type": "code",
   "execution_count": 18,
   "metadata": {},
   "outputs": [
    {
     "name": "stdout",
     "output_type": "stream",
     "text": [
      "RANDOM_SEED: 19\n",
      "TEST_NETWORK_SIZE: 100\n",
      "TEST_NETWORK_LINK_PROB: 0.3\n",
      "PARALLEL_THREADS_NUMBER: 10\n",
      "MOTIF_TO_SEARCH_FOR: cascade\n",
      "SELFLOOPS_INCLUDED: 1\n",
      "NETWORK_TO_SEARCH_IN: yeast\n",
      "MATRIX_NAME: interaction_matrix_sl\n"
     ]
    }
   ],
   "source": [
    "cfg = f.update_cfg(\"./config.json\", \"MOTIF_TO_SEARCH_FOR\", \"cascade\", verbose=False)\n",
    "cfg = f.update_cfg(\"./config.json\", \"SELFLOOPS_INCLUDED\", 1, verbose=False)\n",
    "cfg = f.update_cfg(\"./config.json\", \"MATRIX_NAME\", \"interaction_matrix_sl\")"
   ]
  },
  {
   "cell_type": "code",
   "execution_count": 19,
   "metadata": {
    "scrolled": true
   },
   "outputs": [
    {
     "name": "stdout",
     "output_type": "stream",
     "text": [
      "Equivalent forms for cascade with selfloops    (6 total):\n",
      "[[1 0 0]\n",
      " [1 1 0]\n",
      " [0 1 1]]\n",
      "\n",
      "[[1 0 0]\n",
      " [0 1 1]\n",
      " [1 0 1]]\n",
      "\n",
      "[[1 1 0]\n",
      " [0 1 0]\n",
      " [1 0 1]]\n",
      "\n",
      "[[1 0 1]\n",
      " [1 1 0]\n",
      " [0 0 1]]\n",
      "\n",
      "[[1 0 1]\n",
      " [0 1 0]\n",
      " [0 1 1]]\n",
      "\n",
      "[[1 1 0]\n",
      " [0 1 1]\n",
      " [0 0 1]]\n",
      "\n"
     ]
    }
   ],
   "source": [
    "f.print_equivalents(cfg)"
   ]
  },
  {
   "cell_type": "code",
   "execution_count": 20,
   "metadata": {},
   "outputs": [
    {
     "name": "stdout",
     "output_type": "stream",
     "text": [
      "37631 cascade with selfloops motifs have been found\n",
      "Total time spent: 0:05:52.107115\n"
     ]
    }
   ],
   "source": [
    "f.make_parallel_search(cfg)"
   ]
  },
  {
   "cell_type": "markdown",
   "metadata": {},
   "source": [
    "\n",
    "# 3. Gene Spyder"
   ]
  },
  {
   "cell_type": "markdown",
   "metadata": {},
   "source": [
    "### SNR 0.01"
   ]
  },
  {
   "cell_type": "code",
   "execution_count": 22,
   "metadata": {},
   "outputs": [
    {
     "name": "stdout",
     "output_type": "stream",
     "text": [
      "RANDOM_SEED: 19\n",
      "TEST_NETWORK_SIZE: 100\n",
      "TEST_NETWORK_LINK_PROB: 0.3\n",
      "PARALLEL_THREADS_NUMBER: 10\n",
      "MOTIF_TO_SEARCH_FOR: cascade\n",
      "SELFLOOPS_INCLUDED: 1\n",
      "NETWORK_TO_SEARCH_IN: gs0.01\n",
      "MATRIX_NAME: interaction_matrix\n"
     ]
    }
   ],
   "source": [
    "cfg = f.update_cfg(\"./config.json\", \"NETWORK_TO_SEARCH_IN\", \"gs0.01\", verbose=False)\n",
    "cfg = f.update_cfg(\"./config.json\", \"MATRIX_NAME\", \"interaction_matrix\")"
   ]
  },
  {
   "cell_type": "code",
   "execution_count": 28,
   "metadata": {},
   "outputs": [],
   "source": [
    "interaction_matrix = f.get_interacion_matrix(cfg)"
   ]
  },
  {
   "cell_type": "code",
   "execution_count": 30,
   "metadata": {},
   "outputs": [
    {
     "name": "stdout",
     "output_type": "stream",
     "text": [
      "Number of genes triads: 85013600\n",
      "CPU times: user 7.98 s, sys: 2.33 s, total: 10.3 s\n",
      "Wall time: 10.3 s\n"
     ]
    }
   ],
   "source": [
    "%%time\n",
    "# all possible gene triads\n",
    "combs = list(combinations(range(interaction_matrix.shape[0]), 3))\n",
    "print(f\"Number of genes triads: {len(combs)}\")"
   ]
  },
  {
   "cell_type": "markdown",
   "metadata": {},
   "source": [
    "Search space splitting for parallel processing"
   ]
  },
  {
   "cell_type": "code",
   "execution_count": 31,
   "metadata": {},
   "outputs": [
    {
     "name": "stderr",
     "output_type": "stream",
     "text": [
      "100%|██████████| 10/10 [11:06<00:00, 66.68s/it]\n"
     ]
    }
   ],
   "source": [
    "f.split_search_space(cfg, combs)"
   ]
  },
  {
   "cell_type": "markdown",
   "metadata": {},
   "source": [
    "1. Feedforward with selfloops"
   ]
  },
  {
   "cell_type": "code",
   "execution_count": 32,
   "metadata": {},
   "outputs": [
    {
     "name": "stdout",
     "output_type": "stream",
     "text": [
      "RANDOM_SEED: 19\n",
      "TEST_NETWORK_SIZE: 100\n",
      "TEST_NETWORK_LINK_PROB: 0.3\n",
      "PARALLEL_THREADS_NUMBER: 10\n",
      "MOTIF_TO_SEARCH_FOR: feedforward\n",
      "SELFLOOPS_INCLUDED: 1\n",
      "NETWORK_TO_SEARCH_IN: gs0.01\n",
      "MATRIX_NAME: interaction_matrix\n"
     ]
    }
   ],
   "source": [
    "cfg = f.update_cfg(\"./config.json\", \"MOTIF_TO_SEARCH_FOR\", \"feedforward\", verbose=False)\n",
    "cfg = f.update_cfg(\"./config.json\", \"SELFLOOPS_INCLUDED\", 1)"
   ]
  },
  {
   "cell_type": "code",
   "execution_count": 33,
   "metadata": {},
   "outputs": [
    {
     "name": "stdout",
     "output_type": "stream",
     "text": [
      "51 feedforward with selfloops motifs have been found\n",
      "Total time spent: 0:09:04.512421\n"
     ]
    }
   ],
   "source": [
    "f.make_parallel_search(cfg)"
   ]
  },
  {
   "cell_type": "markdown",
   "metadata": {},
   "source": [
    "2. Fanout with selfloops"
   ]
  },
  {
   "cell_type": "code",
   "execution_count": 34,
   "metadata": {},
   "outputs": [
    {
     "name": "stdout",
     "output_type": "stream",
     "text": [
      "RANDOM_SEED: 19\n",
      "TEST_NETWORK_SIZE: 100\n",
      "TEST_NETWORK_LINK_PROB: 0.3\n",
      "PARALLEL_THREADS_NUMBER: 10\n",
      "MOTIF_TO_SEARCH_FOR: fanout\n",
      "SELFLOOPS_INCLUDED: 1\n",
      "NETWORK_TO_SEARCH_IN: gs0.01\n",
      "MATRIX_NAME: interaction_matrix\n"
     ]
    }
   ],
   "source": [
    "cfg = f.update_cfg(\"./config.json\", \"MOTIF_TO_SEARCH_FOR\", \"fanout\", verbose=False)\n",
    "cfg = f.update_cfg(\"./config.json\", \"SELFLOOPS_INCLUDED\", 1)"
   ]
  },
  {
   "cell_type": "code",
   "execution_count": 35,
   "metadata": {},
   "outputs": [
    {
     "name": "stdout",
     "output_type": "stream",
     "text": [
      "4709 fanout with selfloops motifs have been found\n",
      "Total time spent: 0:09:08.531130\n"
     ]
    }
   ],
   "source": [
    "f.make_parallel_search(cfg)"
   ]
  },
  {
   "cell_type": "markdown",
   "metadata": {},
   "source": [
    "3. Fanin with selfloops"
   ]
  },
  {
   "cell_type": "code",
   "execution_count": 36,
   "metadata": {},
   "outputs": [
    {
     "name": "stdout",
     "output_type": "stream",
     "text": [
      "RANDOM_SEED: 19\n",
      "TEST_NETWORK_SIZE: 100\n",
      "TEST_NETWORK_LINK_PROB: 0.3\n",
      "PARALLEL_THREADS_NUMBER: 10\n",
      "MOTIF_TO_SEARCH_FOR: fanin\n",
      "SELFLOOPS_INCLUDED: 1\n",
      "NETWORK_TO_SEARCH_IN: gs0.01\n",
      "MATRIX_NAME: interaction_matrix\n"
     ]
    }
   ],
   "source": [
    "cfg = f.update_cfg(\"./config.json\", \"MOTIF_TO_SEARCH_FOR\", \"fanin\", verbose=False)\n",
    "cfg = f.update_cfg(\"./config.json\", \"SELFLOOPS_INCLUDED\", 1)"
   ]
  },
  {
   "cell_type": "code",
   "execution_count": 37,
   "metadata": {},
   "outputs": [
    {
     "name": "stdout",
     "output_type": "stream",
     "text": [
      "3816 fanin with selfloops motifs have been found\n",
      "Total time spent: 0:09:30.114427\n"
     ]
    }
   ],
   "source": [
    "f.make_parallel_search(cfg)"
   ]
  },
  {
   "cell_type": "markdown",
   "metadata": {},
   "source": [
    "4. Cascade with selfloops"
   ]
  },
  {
   "cell_type": "code",
   "execution_count": 38,
   "metadata": {},
   "outputs": [
    {
     "name": "stdout",
     "output_type": "stream",
     "text": [
      "RANDOM_SEED: 19\n",
      "TEST_NETWORK_SIZE: 100\n",
      "TEST_NETWORK_LINK_PROB: 0.3\n",
      "PARALLEL_THREADS_NUMBER: 10\n",
      "MOTIF_TO_SEARCH_FOR: cascade\n",
      "SELFLOOPS_INCLUDED: 1\n",
      "NETWORK_TO_SEARCH_IN: gs0.01\n",
      "MATRIX_NAME: interaction_matrix\n"
     ]
    }
   ],
   "source": [
    "cfg = f.update_cfg(\"./config.json\", \"MOTIF_TO_SEARCH_FOR\", \"cascade\", verbose=False)\n",
    "cfg = f.update_cfg(\"./config.json\", \"SELFLOOPS_INCLUDED\", 1)"
   ]
  },
  {
   "cell_type": "code",
   "execution_count": 39,
   "metadata": {},
   "outputs": [
    {
     "name": "stdout",
     "output_type": "stream",
     "text": [
      "8741 cascade with selfloops motifs have been found\n",
      "Total time spent: 0:09:39.402747\n"
     ]
    }
   ],
   "source": [
    "f.make_parallel_search(cfg)"
   ]
  },
  {
   "cell_type": "markdown",
   "metadata": {},
   "source": [
    "### SNR 0.1"
   ]
  },
  {
   "cell_type": "code",
   "execution_count": 40,
   "metadata": {},
   "outputs": [
    {
     "name": "stdout",
     "output_type": "stream",
     "text": [
      "RANDOM_SEED: 19\n",
      "TEST_NETWORK_SIZE: 100\n",
      "TEST_NETWORK_LINK_PROB: 0.3\n",
      "PARALLEL_THREADS_NUMBER: 10\n",
      "MOTIF_TO_SEARCH_FOR: cascade\n",
      "SELFLOOPS_INCLUDED: 1\n",
      "NETWORK_TO_SEARCH_IN: gs0.1\n",
      "MATRIX_NAME: interaction_matrix\n"
     ]
    }
   ],
   "source": [
    "cfg = f.update_cfg(\"./config.json\", \"NETWORK_TO_SEARCH_IN\", \"gs0.1\")\n",
    "cfg = f.update_cfg(\"./config.json\", \"MATRIX_NAME\", \"interaction_matrix\", verbose=False)"
   ]
  },
  {
   "cell_type": "code",
   "execution_count": 65,
   "metadata": {},
   "outputs": [],
   "source": [
    "interaction_matrix = f.get_interacion_matrix(cfg)"
   ]
  },
  {
   "cell_type": "code",
   "execution_count": 66,
   "metadata": {},
   "outputs": [
    {
     "name": "stdout",
     "output_type": "stream",
     "text": [
      "Number of genes triads: 85013600\n",
      "CPU times: user 10.1 s, sys: 5.77 s, total: 15.8 s\n",
      "Wall time: 16 s\n"
     ]
    }
   ],
   "source": [
    "%%time\n",
    "# all possible gene triads\n",
    "combs = list(combinations(range(interaction_matrix.shape[0]), 3))\n",
    "print(f\"Number of genes triads: {len(combs)}\")"
   ]
  },
  {
   "cell_type": "markdown",
   "metadata": {},
   "source": [
    "Search space splitting for parallel processing"
   ]
  },
  {
   "cell_type": "code",
   "execution_count": 42,
   "metadata": {},
   "outputs": [
    {
     "name": "stderr",
     "output_type": "stream",
     "text": [
      "100%|██████████| 10/10 [11:46<00:00, 70.62s/it]\n"
     ]
    }
   ],
   "source": [
    "f.split_search_space(cfg, combs)"
   ]
  },
  {
   "cell_type": "markdown",
   "metadata": {},
   "source": [
    "1. Feedforward with selfloops"
   ]
  },
  {
   "cell_type": "code",
   "execution_count": 43,
   "metadata": {},
   "outputs": [
    {
     "name": "stdout",
     "output_type": "stream",
     "text": [
      "RANDOM_SEED: 19\n",
      "TEST_NETWORK_SIZE: 100\n",
      "TEST_NETWORK_LINK_PROB: 0.3\n",
      "PARALLEL_THREADS_NUMBER: 10\n",
      "MOTIF_TO_SEARCH_FOR: feedforward\n",
      "SELFLOOPS_INCLUDED: 1\n",
      "NETWORK_TO_SEARCH_IN: gs0.1\n",
      "MATRIX_NAME: interaction_matrix\n"
     ]
    }
   ],
   "source": [
    "cfg = f.update_cfg(\"./config.json\", \"MOTIF_TO_SEARCH_FOR\", \"feedforward\", verbose=False)\n",
    "cfg = f.update_cfg(\"./config.json\", \"SELFLOOPS_INCLUDED\", 1)"
   ]
  },
  {
   "cell_type": "code",
   "execution_count": 44,
   "metadata": {},
   "outputs": [
    {
     "name": "stdout",
     "output_type": "stream",
     "text": [
      "73 feedforward with selfloops motifs have been found\n",
      "Total time spent: 0:08:47.377029\n"
     ]
    }
   ],
   "source": [
    "f.make_parallel_search(cfg)"
   ]
  },
  {
   "cell_type": "markdown",
   "metadata": {},
   "source": [
    "2. Fanout with selfloops"
   ]
  },
  {
   "cell_type": "code",
   "execution_count": 45,
   "metadata": {},
   "outputs": [
    {
     "name": "stdout",
     "output_type": "stream",
     "text": [
      "RANDOM_SEED: 19\n",
      "TEST_NETWORK_SIZE: 100\n",
      "TEST_NETWORK_LINK_PROB: 0.3\n",
      "PARALLEL_THREADS_NUMBER: 10\n",
      "MOTIF_TO_SEARCH_FOR: fanout\n",
      "SELFLOOPS_INCLUDED: 1\n",
      "NETWORK_TO_SEARCH_IN: gs0.1\n",
      "MATRIX_NAME: interaction_matrix\n"
     ]
    }
   ],
   "source": [
    "cfg = f.update_cfg(\"./config.json\", \"MOTIF_TO_SEARCH_FOR\", \"fanout\", verbose=False)\n",
    "cfg = f.update_cfg(\"./config.json\", \"SELFLOOPS_INCLUDED\", 1)"
   ]
  },
  {
   "cell_type": "code",
   "execution_count": 46,
   "metadata": {},
   "outputs": [
    {
     "name": "stdout",
     "output_type": "stream",
     "text": [
      "5261 fanout with selfloops motifs have been found\n",
      "Total time spent: 0:09:02.822430\n"
     ]
    }
   ],
   "source": [
    "f.make_parallel_search(cfg)"
   ]
  },
  {
   "cell_type": "markdown",
   "metadata": {},
   "source": [
    "3. Fanin with selfloops"
   ]
  },
  {
   "cell_type": "code",
   "execution_count": 47,
   "metadata": {},
   "outputs": [
    {
     "name": "stdout",
     "output_type": "stream",
     "text": [
      "RANDOM_SEED: 19\n",
      "TEST_NETWORK_SIZE: 100\n",
      "TEST_NETWORK_LINK_PROB: 0.3\n",
      "PARALLEL_THREADS_NUMBER: 10\n",
      "MOTIF_TO_SEARCH_FOR: fanin\n",
      "SELFLOOPS_INCLUDED: 1\n",
      "NETWORK_TO_SEARCH_IN: gs0.1\n",
      "MATRIX_NAME: interaction_matrix\n"
     ]
    }
   ],
   "source": [
    "cfg = f.update_cfg(\"./config.json\", \"MOTIF_TO_SEARCH_FOR\", \"fanin\", verbose=False)\n",
    "cfg = f.update_cfg(\"./config.json\", \"SELFLOOPS_INCLUDED\", 1)"
   ]
  },
  {
   "cell_type": "code",
   "execution_count": 48,
   "metadata": {},
   "outputs": [
    {
     "name": "stdout",
     "output_type": "stream",
     "text": [
      "4079 fanin with selfloops motifs have been found\n",
      "Total time spent: 0:09:18.503020\n"
     ]
    }
   ],
   "source": [
    "f.make_parallel_search(cfg)"
   ]
  },
  {
   "cell_type": "markdown",
   "metadata": {},
   "source": [
    "4. Cascade with selfloops"
   ]
  },
  {
   "cell_type": "code",
   "execution_count": 49,
   "metadata": {},
   "outputs": [
    {
     "name": "stdout",
     "output_type": "stream",
     "text": [
      "RANDOM_SEED: 19\n",
      "TEST_NETWORK_SIZE: 100\n",
      "TEST_NETWORK_LINK_PROB: 0.3\n",
      "PARALLEL_THREADS_NUMBER: 10\n",
      "MOTIF_TO_SEARCH_FOR: cascade\n",
      "SELFLOOPS_INCLUDED: 1\n",
      "NETWORK_TO_SEARCH_IN: gs0.1\n",
      "MATRIX_NAME: interaction_matrix\n"
     ]
    }
   ],
   "source": [
    "cfg = f.update_cfg(\"./config.json\", \"MOTIF_TO_SEARCH_FOR\", \"cascade\", verbose=False)\n",
    "cfg = f.update_cfg(\"./config.json\", \"SELFLOOPS_INCLUDED\", 1)"
   ]
  },
  {
   "cell_type": "code",
   "execution_count": 50,
   "metadata": {},
   "outputs": [
    {
     "name": "stdout",
     "output_type": "stream",
     "text": [
      "9459 cascade with selfloops motifs have been found\n",
      "Total time spent: 0:09:55.123609\n"
     ]
    }
   ],
   "source": [
    "f.make_parallel_search(cfg)"
   ]
  },
  {
   "cell_type": "markdown",
   "metadata": {},
   "source": [
    "### SNR 1"
   ]
  },
  {
   "cell_type": "code",
   "execution_count": 51,
   "metadata": {},
   "outputs": [
    {
     "name": "stdout",
     "output_type": "stream",
     "text": [
      "RANDOM_SEED: 19\n",
      "TEST_NETWORK_SIZE: 100\n",
      "TEST_NETWORK_LINK_PROB: 0.3\n",
      "PARALLEL_THREADS_NUMBER: 10\n",
      "MOTIF_TO_SEARCH_FOR: cascade\n",
      "SELFLOOPS_INCLUDED: 1\n",
      "NETWORK_TO_SEARCH_IN: gs1\n",
      "MATRIX_NAME: interaction_matrix\n"
     ]
    }
   ],
   "source": [
    "cfg = f.update_cfg(\"./config.json\", \"NETWORK_TO_SEARCH_IN\", \"gs1\")\n",
    "cfg = f.update_cfg(\"./config.json\", \"MATRIX_NAME\", \"interaction_matrix\", verbose=False)"
   ]
  },
  {
   "cell_type": "code",
   "execution_count": 62,
   "metadata": {},
   "outputs": [],
   "source": [
    "interaction_matrix = f.get_interacion_matrix(cfg)"
   ]
  },
  {
   "cell_type": "code",
   "execution_count": 64,
   "metadata": {},
   "outputs": [
    {
     "name": "stdout",
     "output_type": "stream",
     "text": [
      "Number of genes triads: 85013600\n",
      "CPU times: user 9.76 s, sys: 4.73 s, total: 14.5 s\n",
      "Wall time: 14.6 s\n"
     ]
    }
   ],
   "source": [
    "%%time\n",
    "# all possible gene triads\n",
    "combs = list(combinations(range(interaction_matrix.shape[0]), 3))\n",
    "print(f\"Number of genes triads: {len(combs)}\")"
   ]
  },
  {
   "cell_type": "markdown",
   "metadata": {},
   "source": [
    "Search space splitting for parallel processing"
   ]
  },
  {
   "cell_type": "code",
   "execution_count": 53,
   "metadata": {},
   "outputs": [
    {
     "name": "stderr",
     "output_type": "stream",
     "text": [
      "100%|██████████| 10/10 [11:17<00:00, 67.75s/it]\n"
     ]
    }
   ],
   "source": [
    "f.split_search_space(cfg, combs)"
   ]
  },
  {
   "cell_type": "markdown",
   "metadata": {},
   "source": [
    "1. Feedforward with selfloops"
   ]
  },
  {
   "cell_type": "code",
   "execution_count": 54,
   "metadata": {},
   "outputs": [
    {
     "name": "stdout",
     "output_type": "stream",
     "text": [
      "RANDOM_SEED: 19\n",
      "TEST_NETWORK_SIZE: 100\n",
      "TEST_NETWORK_LINK_PROB: 0.3\n",
      "PARALLEL_THREADS_NUMBER: 10\n",
      "MOTIF_TO_SEARCH_FOR: feedforward\n",
      "SELFLOOPS_INCLUDED: 1\n",
      "NETWORK_TO_SEARCH_IN: gs1\n",
      "MATRIX_NAME: interaction_matrix\n"
     ]
    }
   ],
   "source": [
    "cfg = f.update_cfg(\"./config.json\", \"MOTIF_TO_SEARCH_FOR\", \"feedforward\", verbose=False)\n",
    "cfg = f.update_cfg(\"./config.json\", \"SELFLOOPS_INCLUDED\", 1)"
   ]
  },
  {
   "cell_type": "code",
   "execution_count": 55,
   "metadata": {},
   "outputs": [
    {
     "name": "stdout",
     "output_type": "stream",
     "text": [
      "58 feedforward with selfloops motifs have been found\n",
      "Total time spent: 0:10:19.129788\n"
     ]
    }
   ],
   "source": [
    "f.make_parallel_search(cfg)"
   ]
  },
  {
   "cell_type": "markdown",
   "metadata": {},
   "source": [
    "2. Fanout with selfloops"
   ]
  },
  {
   "cell_type": "code",
   "execution_count": 56,
   "metadata": {},
   "outputs": [
    {
     "name": "stdout",
     "output_type": "stream",
     "text": [
      "RANDOM_SEED: 19\n",
      "TEST_NETWORK_SIZE: 100\n",
      "TEST_NETWORK_LINK_PROB: 0.3\n",
      "PARALLEL_THREADS_NUMBER: 10\n",
      "MOTIF_TO_SEARCH_FOR: fanout\n",
      "SELFLOOPS_INCLUDED: 1\n",
      "NETWORK_TO_SEARCH_IN: gs1\n",
      "MATRIX_NAME: interaction_matrix\n"
     ]
    }
   ],
   "source": [
    "cfg = f.update_cfg(\"./config.json\", \"MOTIF_TO_SEARCH_FOR\", \"fanout\", verbose=False)\n",
    "cfg = f.update_cfg(\"./config.json\", \"SELFLOOPS_INCLUDED\", 1)"
   ]
  },
  {
   "cell_type": "code",
   "execution_count": 57,
   "metadata": {},
   "outputs": [
    {
     "name": "stdout",
     "output_type": "stream",
     "text": [
      "4702 fanout with selfloops motifs have been found\n",
      "Total time spent: 0:11:43.317575\n"
     ]
    }
   ],
   "source": [
    "f.make_parallel_search(cfg)"
   ]
  },
  {
   "cell_type": "markdown",
   "metadata": {},
   "source": [
    "3. Fanin with selfloops"
   ]
  },
  {
   "cell_type": "code",
   "execution_count": 58,
   "metadata": {},
   "outputs": [
    {
     "name": "stdout",
     "output_type": "stream",
     "text": [
      "RANDOM_SEED: 19\n",
      "TEST_NETWORK_SIZE: 100\n",
      "TEST_NETWORK_LINK_PROB: 0.3\n",
      "PARALLEL_THREADS_NUMBER: 10\n",
      "MOTIF_TO_SEARCH_FOR: fanin\n",
      "SELFLOOPS_INCLUDED: 1\n",
      "NETWORK_TO_SEARCH_IN: gs1\n",
      "MATRIX_NAME: interaction_matrix\n"
     ]
    }
   ],
   "source": [
    "cfg = f.update_cfg(\"./config.json\", \"MOTIF_TO_SEARCH_FOR\", \"fanin\", verbose=False)\n",
    "cfg = f.update_cfg(\"./config.json\", \"SELFLOOPS_INCLUDED\", 1)"
   ]
  },
  {
   "cell_type": "code",
   "execution_count": 59,
   "metadata": {},
   "outputs": [
    {
     "name": "stdout",
     "output_type": "stream",
     "text": [
      "3666 fanin with selfloops motifs have been found\n",
      "Total time spent: 0:11:27.493955\n"
     ]
    }
   ],
   "source": [
    "f.make_parallel_search(cfg)"
   ]
  },
  {
   "cell_type": "markdown",
   "metadata": {},
   "source": [
    "4. Cascade with selfloops"
   ]
  },
  {
   "cell_type": "code",
   "execution_count": 60,
   "metadata": {},
   "outputs": [
    {
     "name": "stdout",
     "output_type": "stream",
     "text": [
      "RANDOM_SEED: 19\n",
      "TEST_NETWORK_SIZE: 100\n",
      "TEST_NETWORK_LINK_PROB: 0.3\n",
      "PARALLEL_THREADS_NUMBER: 10\n",
      "MOTIF_TO_SEARCH_FOR: cascade\n",
      "SELFLOOPS_INCLUDED: 1\n",
      "NETWORK_TO_SEARCH_IN: gs1\n",
      "MATRIX_NAME: interaction_matrix\n"
     ]
    }
   ],
   "source": [
    "cfg = f.update_cfg(\"./config.json\", \"MOTIF_TO_SEARCH_FOR\", \"cascade\", verbose=False)\n",
    "cfg = f.update_cfg(\"./config.json\", \"SELFLOOPS_INCLUDED\", 1)"
   ]
  },
  {
   "cell_type": "code",
   "execution_count": 61,
   "metadata": {},
   "outputs": [
    {
     "name": "stdout",
     "output_type": "stream",
     "text": [
      "8626 cascade with selfloops motifs have been found\n",
      "Total time spent: 0:12:16.383227\n"
     ]
    }
   ],
   "source": [
    "f.make_parallel_search(cfg)"
   ]
  },
  {
   "cell_type": "code",
   "execution_count": null,
   "metadata": {},
   "outputs": [],
   "source": [
    "!pip freeze | \\\n",
    "grep\\\n",
    "-e 'numpy=='\\\n",
    "-e 'pandas=='\\\n",
    "-e 'numba=='\\\n",
    "-e 'joblib=='\\\n",
    "-e 'json=='\\\n",
    "-e 'tqdm=='\\\n",
    "> requirements.txt"
   ]
  }
 ],
 "metadata": {
  "kernelspec": {
   "display_name": "Python 3",
   "language": "python",
   "name": "python3"
  },
  "language_info": {
   "codemirror_mode": {
    "name": "ipython",
    "version": 3
   },
   "file_extension": ".py",
   "mimetype": "text/x-python",
   "name": "python",
   "nbconvert_exporter": "python",
   "pygments_lexer": "ipython3",
   "version": "3.7.4"
  }
 },
 "nbformat": 4,
 "nbformat_minor": 4
}
