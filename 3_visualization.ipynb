{
 "cells": [
  {
   "cell_type": "markdown",
   "metadata": {},
   "source": [
    "# Results visualization"
   ]
  },
  {
   "cell_type": "code",
   "execution_count": 1,
   "metadata": {},
   "outputs": [],
   "source": [
    "import warnings\n",
    "warnings.filterwarnings('ignore')\n",
    "\n",
    "import os\n",
    "import joblib\n",
    "import pandas as pd\n",
    "from matplotlib import pyplot as plt\n",
    "import seaborn as sns"
   ]
  },
  {
   "cell_type": "code",
   "execution_count": 2,
   "metadata": {},
   "outputs": [],
   "source": [
    "networks = [\"yeast\", \"gs0.01\", \"gs0.1\", \"gs1\"]\n",
    "distribution = dict.fromkeys(networks)\n",
    "for network in networks:\n",
    "    motifs = sorted(os.listdir(f\"./motif_search_results/{network}\"))\n",
    "    distribution[network] = dict.fromkeys(motifs)\n",
    "    for motif in motifs:\n",
    "        number = len(joblib.load(f\"./motif_search_results/{network}/{motif}/genes.pkl\"))\n",
    "        distribution[network][motif] = number"
   ]
  },
  {
   "cell_type": "code",
   "execution_count": 3,
   "metadata": {},
   "outputs": [],
   "source": [
    "def plot_distr(network, title, figsize=(15, 6)):\n",
    "    distr = distribution[network]\n",
    "    plt.figure(figsize=figsize)\n",
    "    plt.title(title, fontsize=20)\n",
    "    plt.bar(distr.keys(), distr.values());"
   ]
  },
  {
   "cell_type": "markdown",
   "metadata": {},
   "source": [
    "# Yeast Tnet"
   ]
  },
  {
   "cell_type": "code",
   "execution_count": 4,
   "metadata": {},
   "outputs": [
    {
     "name": "stdout",
     "output_type": "stream",
     "text": [
      "cascade           37631\n",
      "cascade_sl        37631\n",
      "fanin             26042\n",
      "fanin_sl          26042\n",
      "feedforward        3374\n",
      "feedforward_sl     3555\n",
      "dtype: int64\n"
     ]
    },
    {
     "data": {
      "image/png": "[encoded data removed]",
      "text/plain": [
       "<Figure size 1080x432 with 1 Axes>"
      ]
     },
     "metadata": {
      "needs_background": "light"
     },
     "output_type": "display_data"
    }
   ],
   "source": [
    "print(pd.Series(distribution[\"yeast\"]))\n",
    "plot_distr(\"yeast\", \"Yeast Tnet motifs distribution\")"
   ]
  },
  {
   "cell_type": "markdown",
   "metadata": {},
   "source": [
    "# Gene Spyder, different SNR"
   ]
  },
  {
   "cell_type": "code",
   "execution_count": 5,
   "metadata": {},
   "outputs": [
    {
     "data": {
      "text/html": [
       "<div>\n",
       "<style scoped>\n",
       "    .dataframe tbody tr th:only-of-type {\n",
       "        vertical-align: middle;\n",
       "    }\n",
       "\n",
       "    .dataframe tbody tr th {\n",
       "        vertical-align: top;\n",
       "    }\n",
       "\n",
       "    .dataframe thead th {\n",
       "        text-align: right;\n",
       "    }\n",
       "</style>\n",
       "<table border=\"1\" class=\"dataframe\">\n",
       "  <thead>\n",
       "    <tr style=\"text-align: right;\">\n",
       "      <th></th>\n",
       "      <th>gs0.01</th>\n",
       "      <th>gs0.1</th>\n",
       "      <th>gs1</th>\n",
       "    </tr>\n",
       "  </thead>\n",
       "  <tbody>\n",
       "    <tr>\n",
       "      <td>cascade_sl</td>\n",
       "      <td>8741</td>\n",
       "      <td>9459</td>\n",
       "      <td>8626</td>\n",
       "    </tr>\n",
       "    <tr>\n",
       "      <td>fanin_sl</td>\n",
       "      <td>3816</td>\n",
       "      <td>4079</td>\n",
       "      <td>3666</td>\n",
       "    </tr>\n",
       "    <tr>\n",
       "      <td>fanout_sl</td>\n",
       "      <td>4709</td>\n",
       "      <td>5261</td>\n",
       "      <td>4702</td>\n",
       "    </tr>\n",
       "    <tr>\n",
       "      <td>feedforward_sl</td>\n",
       "      <td>51</td>\n",
       "      <td>73</td>\n",
       "      <td>58</td>\n",
       "    </tr>\n",
       "  </tbody>\n",
       "</table>\n",
       "</div>"
      ],
      "text/plain": [
       "               gs0.01 gs0.1   gs1\n",
       "cascade_sl       8741  9459  8626\n",
       "fanin_sl         3816  4079  3666\n",
       "fanout_sl        4709  5261  4702\n",
       "feedforward_sl     51    73    58"
      ]
     },
     "execution_count": 5,
     "metadata": {},
     "output_type": "execute_result"
    }
   ],
   "source": [
    "gs_results = pd.DataFrame(index=range(12), columns=[\"network\", \"motif\", \"number\"])\n",
    "i = 0\n",
    "for net in [\"gs0.01\", \"gs0.1\", \"gs1\"]:\n",
    "    for motif, number in distribution[net].items():\n",
    "        gs_results.iloc[i, :] = [net, motif, number]\n",
    "        i += 1\n",
    "        \n",
    "df = pd.DataFrame(index=gs_results.motif.unique())\n",
    "for net in [\"gs0.01\", \"gs0.1\", \"gs1\"]:\n",
    "    df[net] = gs_results[gs_results[\"network\"] == net][\"number\"].values\n",
    "df"
   ]
  },
  {
   "cell_type": "code",
   "execution_count": 6,
   "metadata": {},
   "outputs": [
    {
     "data": {
      "image/png": "[encoded data removed]",
      "text/plain": [
       "<Figure size 1080x432 with 1 Axes>"
      ]
     },
     "metadata": {
      "needs_background": "light"
     },
     "output_type": "display_data"
    }
   ],
   "source": [
    "plt.figure(figsize=(15, 6))\n",
    "sns.barplot(data=gs_results, x=\"motif\", y=\"number\", hue=\"network\");"
   ]
  }
 ],
 "metadata": {
  "kernelspec": {
   "display_name": "Python 3",
   "language": "python",
   "name": "python3"
  },
  "language_info": {
   "codemirror_mode": {
    "name": "ipython",
    "version": 3
   },
   "file_extension": ".py",
   "mimetype": "text/x-python",
   "name": "python",
   "nbconvert_exporter": "python",
   "pygments_lexer": "ipython3",
   "version": "3.7.4"
  }
 },
 "nbformat": 4,
 "nbformat_minor": 4
}
