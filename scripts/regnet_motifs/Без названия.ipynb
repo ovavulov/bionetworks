{
 "cells": [
  {
   "cell_type": "code",
   "execution_count": 1,
   "id": "d3d37ef3",
   "metadata": {},
   "outputs": [
    {
     "name": "stdout",
     "output_type": "stream",
     "text": [
      "/opt/anaconda3/bin/python\r\n"
     ]
    }
   ],
   "source": [
    "!which python"
   ]
  },
  {
   "cell_type": "code",
   "execution_count": 4,
   "id": "adcb1f34",
   "metadata": {},
   "outputs": [],
   "source": [
    "import joblib\n",
    "import numba\n",
    "import numpy\n",
    "import pandas\n",
    "import tqdm"
   ]
  },
  {
   "cell_type": "code",
   "execution_count": 5,
   "id": "8744a48c",
   "metadata": {},
   "outputs": [
    {
     "name": "stdout",
     "output_type": "stream",
     "text": [
      "joblib 0.13.2\n",
      "numba 0.53.0\n",
      "numpy 1.17.2\n",
      "pandas 0.25.1\n",
      "tqdm 4.59.0\n"
     ]
    }
   ],
   "source": [
    "print(\"joblib\", joblib.__version__)\n",
    "print(\"numba\", numba.__version__)\n",
    "print(\"numpy\", numpy.__version__)\n",
    "print(\"pandas\", pandas.__version__)\n",
    "print(\"tqdm\", tqdm.__version__)"
   ]
  },
  {
   "cell_type": "code",
   "execution_count": null,
   "id": "7e8e8401",
   "metadata": {},
   "outputs": [],
   "source": []
  }
 ],
 "metadata": {
  "kernelspec": {
   "display_name": "Python 3",
   "language": "python",
   "name": "python3"
  },
  "language_info": {
   "codemirror_mode": {
    "name": "ipython",
    "version": 3
   },
   "file_extension": ".py",
   "mimetype": "text/x-python",
   "name": "python",
   "nbconvert_exporter": "python",
   "pygments_lexer": "ipython3",
   "version": "3.7.4"
  }
 },
 "nbformat": 4,
 "nbformat_minor": 5
}
