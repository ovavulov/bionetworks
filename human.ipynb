{
 "cells": [
  {
   "cell_type": "markdown",
   "metadata": {},
   "source": [
    "# Human"
   ]
  },
  {
   "cell_type": "code",
   "execution_count": 14,
   "metadata": {},
   "outputs": [
    {
     "name": "stdout",
     "output_type": "stream",
     "text": [
      "The autoreload extension is already loaded. To reload it, use:\n",
      "  %reload_ext autoreload\n"
     ]
    }
   ],
   "source": [
    "%load_ext autoreload\n",
    "%autoreload 2\n",
    "import os\n",
    "import sys\n",
    "sys.path.insert(0, \"./scripts\")\n",
    "import numpy as np\n",
    "import pandas as pd\n",
    "from itertools import combinations, product\n",
    "import joblib\n",
    "import functions as f\n",
    "from tqdm import tqdm\n",
    "from matplotlib import pyplot as plt\n",
    "import networkx as nx"
   ]
  },
  {
   "cell_type": "markdown",
   "metadata": {},
   "source": [
    "Actual parametrisation"
   ]
  },
  {
   "cell_type": "code",
   "execution_count": 2,
   "metadata": {},
   "outputs": [
    {
     "name": "stdout",
     "output_type": "stream",
     "text": [
      "RANDOM_SEED: 19\n",
      "TEST_NETWORK_SIZE: 500\n",
      "TEST_NETWORK_LINK_PROB: 0.1\n",
      "N_CORES_TO_USE: -1\n",
      "NETWORK_TO_SEARCH_IN: yeast\n"
     ]
    }
   ],
   "source": [
    "cfg = f.get_actual_parametrization(\"./config.json\")"
   ]
  },
  {
   "cell_type": "code",
   "execution_count": 3,
   "metadata": {},
   "outputs": [
    {
     "name": "stdout",
     "output_type": "stream",
     "text": [
      "RANDOM_SEED: 19\n",
      "TEST_NETWORK_SIZE: 500\n",
      "TEST_NETWORK_LINK_PROB: 0.1\n",
      "N_CORES_TO_USE: -1\n",
      "NETWORK_TO_SEARCH_IN: yeast\n"
     ]
    }
   ],
   "source": [
    "cfg = f.update_cfg(\"./config.json\", \"TEST_NETWORK_LINK_PROB\", 0.1, verbose=False)\n",
    "cfg = f.update_cfg(\"./config.json\", \"TEST_NETWORK_SIZE\", 500)"
   ]
  },
  {
   "cell_type": "markdown",
   "metadata": {},
   "source": [
    "## TRRUST"
   ]
  },
  {
   "cell_type": "code",
   "execution_count": 6,
   "metadata": {},
   "outputs": [],
   "source": [
    "HUMAN_NETWORK_PATH = \"./networks/human/trrust/\""
   ]
  },
  {
   "cell_type": "code",
   "execution_count": 7,
   "metadata": {},
   "outputs": [
    {
     "name": "stdout",
     "output_type": "stream",
     "text": [
      "Total genes number:\t2862\n",
      "Interactions number:\t9396\n"
     ]
    },
    {
     "data": {
      "text/html": [
       "<div>\n",
       "<style scoped>\n",
       "    .dataframe tbody tr th:only-of-type {\n",
       "        vertical-align: middle;\n",
       "    }\n",
       "\n",
       "    .dataframe tbody tr th {\n",
       "        vertical-align: top;\n",
       "    }\n",
       "\n",
       "    .dataframe thead th {\n",
       "        text-align: right;\n",
       "    }\n",
       "</style>\n",
       "<table border=\"1\" class=\"dataframe\">\n",
       "  <thead>\n",
       "    <tr style=\"text-align: right;\">\n",
       "      <th></th>\n",
       "      <th>Tf</th>\n",
       "      <th>Tg</th>\n",
       "    </tr>\n",
       "  </thead>\n",
       "  <tbody>\n",
       "    <tr>\n",
       "      <td>0</td>\n",
       "      <td>AATF</td>\n",
       "      <td>BAX</td>\n",
       "    </tr>\n",
       "    <tr>\n",
       "      <td>1</td>\n",
       "      <td>AATF</td>\n",
       "      <td>CDKN1A</td>\n",
       "    </tr>\n",
       "    <tr>\n",
       "      <td>2</td>\n",
       "      <td>AATF</td>\n",
       "      <td>KLK3</td>\n",
       "    </tr>\n",
       "    <tr>\n",
       "      <td>3</td>\n",
       "      <td>AATF</td>\n",
       "      <td>MYC</td>\n",
       "    </tr>\n",
       "    <tr>\n",
       "      <td>4</td>\n",
       "      <td>AATF</td>\n",
       "      <td>TP53</td>\n",
       "    </tr>\n",
       "  </tbody>\n",
       "</table>\n",
       "</div>"
      ],
      "text/plain": [
       "     Tf      Tg\n",
       "0  AATF     BAX\n",
       "1  AATF  CDKN1A\n",
       "2  AATF    KLK3\n",
       "3  AATF     MYC\n",
       "4  AATF    TP53"
      ]
     },
     "execution_count": 7,
     "metadata": {},
     "output_type": "execute_result"
    }
   ],
   "source": [
    "edges = pd.read_csv(os.path.join(HUMAN_NETWORK_PATH, \"trrust_rawdata.human.tsv\"), sep=\"\\t\", header=None)[[0, 1]]\n",
    "edges.columns = [\"Tf\", \"Tg\"]\n",
    "nodes = sorted(np.unique(np.concatenate((edges.Tf.unique(), edges.Tg.unique()))))\n",
    "nodes = pd.DataFrame(data=range(len(nodes)), index=nodes, columns=[\"idx\"])\n",
    "print(f\"Total genes number:\\t{len(nodes)}\")\n",
    "print(f\"Interactions number:\\t{len(edges)}\")\n",
    "edges.head()"
   ]
  },
  {
   "cell_type": "code",
   "execution_count": 8,
   "metadata": {},
   "outputs": [
    {
     "name": "stdout",
     "output_type": "stream",
     "text": [
      "Total TF:\t795\n",
      "Total TG:\t2492\n",
      "TF and TG:\t425\n",
      "TG only:\t2067\n",
      "TF only:\t370\n"
     ]
    }
   ],
   "source": [
    "edges_ = edges.join(nodes, on=\"Tf\").join(nodes, on=\"Tg\", lsuffix=\"_tf\", rsuffix=\"_tg\")\n",
    "tf_nodes = edges_[\"idx_tf\"].unique()\n",
    "print(f\"Total TF:\\t{len(tf_nodes)}\")\n",
    "tg_nodes = edges_[\"idx_tg\"].unique()\n",
    "print(f\"Total TG:\\t{len(tg_nodes)}\")\n",
    "tf_x_tg_nodes = np.array(sorted(set(tf_nodes) & set(tg_nodes)))\n",
    "print(f\"TF and TG:\\t{len(tf_x_tg_nodes)}\")\n",
    "tg_only_nodes = np.array(sorted(set(tg_nodes) - set(tf_nodes)))\n",
    "print(f\"TG only:\\t{len(tg_only_nodes)}\")\n",
    "tf_only_nodes = np.array(sorted(set(tf_nodes) - set(tg_nodes)))\n",
    "print(f\"TF only:\\t{len(tf_only_nodes)}\")\n",
    "\n",
    "meta = tf_nodes, tf_only_nodes, tg_nodes, tg_only_nodes, tf_x_tg_nodes\n",
    "joblib.dump(meta, os.path.join(HUMAN_NETWORK_PATH, \"meta.pkl\"));"
   ]
  },
  {
   "cell_type": "code",
   "execution_count": 9,
   "metadata": {},
   "outputs": [],
   "source": [
    "def build_Tnet(edges, n):\n",
    "    Tnet = np.zeros((n, n))\n",
    "    Tnet[edges[:, 0], edges[:, 1]] = 1\n",
    "    return Tnet\n",
    "\n",
    "np_edges = edges_[[\"idx_tg\", \"idx_tf\"]].values\n",
    "interaction_matrix = build_Tnet(np_edges, len(nodes))\n",
    "\n",
    "if not os.path.exists(HUMAN_NETWORK_PATH):\n",
    "    os.mkdir(HUMAN_NETWORK_PATH)\n",
    "\n",
    "joblib.dump(interaction_matrix, os.path.join(HUMAN_NETWORK_PATH, \"interaction_matrix.gz\"));"
   ]
  },
  {
   "cell_type": "code",
   "execution_count": 11,
   "metadata": {},
   "outputs": [
    {
     "name": "stdout",
     "output_type": "stream",
     "text": [
      "Total nodes: 2862\n",
      "Total edges: 8427\n"
     ]
    }
   ],
   "source": [
    "print(f\"Total nodes: {interaction_matrix.shape[0]}\")\n",
    "print(f\"Total edges: {interaction_matrix.sum():.0f}\")"
   ]
  },
  {
   "cell_type": "code",
   "execution_count": 12,
   "metadata": {},
   "outputs": [
    {
     "name": "stdout",
     "output_type": "stream",
     "text": [
      "CPU times: user 992 ms, sys: 146 ms, total: 1.14 s\n",
      "Wall time: 4.68 s\n"
     ]
    },
    {
     "data": {
      "text/plain": [
       "{'021C': 64810, '021D': 328320, '021U': 38680, '030C': 85, '030T': 4152}"
      ]
     },
     "execution_count": 12,
     "metadata": {},
     "output_type": "execute_result"
    }
   ],
   "source": [
    "%%time\n",
    "motifs, counter = f.motif_search(cfg, interaction_matrix, batch_size=10000)\n",
    "motifs_orig = motifs[\"030T\"]\n",
    "counter"
   ]
  },
  {
   "cell_type": "code",
   "execution_count": 13,
   "metadata": {},
   "outputs": [
    {
     "data": {
      "image/png": "[encoded data removed]",
      "text/plain": [
       "<Figure size 432x288 with 1 Axes>"
      ]
     },
     "metadata": {
      "needs_background": "light"
     },
     "output_type": "display_data"
    }
   ],
   "source": [
    "f.plot_motif_distr(counter)"
   ]
  },
  {
   "cell_type": "markdown",
   "metadata": {},
   "source": [
    "Motif enrichment"
   ]
  },
  {
   "cell_type": "code",
   "execution_count": 13,
   "metadata": {},
   "outputs": [],
   "source": [
    "from tqdm import tqdm\n",
    "from matplotlib import pyplot as plt"
   ]
  },
  {
   "cell_type": "code",
   "execution_count": 14,
   "metadata": {},
   "outputs": [
    {
     "name": "stderr",
     "output_type": "stream",
     "text": [
      "100%|██████████| 11/11 [02:08<00:00, 11.67s/it]\n"
     ]
    }
   ],
   "source": [
    "noise_list = np.linspace(0, 80000, 11).astype(int)\n",
    "score_list = []\n",
    "for noise in tqdm(noise_list):\n",
    "    shuffled_matrix = f.get_shuffled_matrix(interaction_matrix, noise)\n",
    "    score_list.append(1-f.corruption_score(interaction_matrix, shuffled_matrix))"
   ]
  },
  {
   "cell_type": "code",
   "execution_count": 15,
   "metadata": {},
   "outputs": [
    {
     "data": {
      "image/png": "[encoded data removed]",
      "text/plain": [
       "<Figure size 1440x432 with 1 Axes>"
      ]
     },
     "metadata": {
      "needs_background": "light"
     },
     "output_type": "display_data"
    }
   ],
   "source": [
    "plt.figure(figsize=(20, 6))\n",
    "plt.grid()\n",
    "plt.ylabel(\"Fraction of shifted links\")\n",
    "plt.xlabel(\"Number of swaps\")\n",
    "plt.plot(noise_list, score_list);"
   ]
  },
  {
   "cell_type": "code",
   "execution_count": 16,
   "metadata": {},
   "outputs": [
    {
     "data": {
      "text/plain": [
       "((993, 993), 4023.0)"
      ]
     },
     "execution_count": 16,
     "metadata": {},
     "output_type": "execute_result"
    }
   ],
   "source": [
    "ffl_nodes = list(set(sum([list(map(int, x.split(\"_\"))) for x in motifs_orig], [])))\n",
    "interaction_matrix_ffl = np.zeros((len(ffl_nodes), len(ffl_nodes)))\n",
    "for motif in motifs_orig:\n",
    "    motif = f.split_motif(motif)\n",
    "    motif_new = list(ffl_nodes.index(x) for x in motif)\n",
    "    interaction_matrix_ffl[np.ix_(motif_new, motif_new)] = \\\n",
    "    interaction_matrix[np.ix_(motif, motif)]\n",
    "interaction_matrix_ffl.shape, interaction_matrix_ffl.sum()"
   ]
  },
  {
   "cell_type": "code",
   "execution_count": 17,
   "metadata": {},
   "outputs": [
    {
     "name": "stderr",
     "output_type": "stream",
     "text": [
      "100%|██████████| 8617476/8617476 [00:39<00:00, 220275.38it/s]\n"
     ]
    }
   ],
   "source": [
    "motifs_network = f.build_vmn(motifs_orig, verbose=True)"
   ]
  },
  {
   "cell_type": "code",
   "execution_count": 19,
   "metadata": {},
   "outputs": [
    {
     "data": {
      "text/plain": [
       "False"
      ]
     },
     "execution_count": 19,
     "metadata": {},
     "output_type": "execute_result"
    }
   ],
   "source": [
    "V = nx.Graph(motifs_network)\n",
    "nx.is_connected(V)"
   ]
  },
  {
   "cell_type": "code",
   "execution_count": 26,
   "metadata": {},
   "outputs": [],
   "source": [
    "# components = list(nx.algorithms.components.connected_components(V))\n",
    "main_ffl_motifs = [motifs_orig[i] for i in components[0]]"
   ]
  },
  {
   "cell_type": "code",
   "execution_count": 28,
   "metadata": {},
   "outputs": [
    {
     "data": {
      "text/plain": [
       "(4150, 0.9995183044315993)"
      ]
     },
     "execution_count": 28,
     "metadata": {},
     "output_type": "execute_result"
    }
   ],
   "source": [
    "len(main_ffl_motifs), len(main_ffl_motifs)/len(motifs_orig)"
   ]
  },
  {
   "cell_type": "code",
   "execution_count": 3,
   "metadata": {},
   "outputs": [],
   "source": [
    "interaction_matrix = joblib.load(\"./networks/human/interaction_matrix.gz\")"
   ]
  },
  {
   "cell_type": "code",
   "execution_count": 4,
   "metadata": {},
   "outputs": [
    {
     "data": {
      "text/plain": [
       "((2862, 2862), 8427.0)"
      ]
     },
     "execution_count": 4,
     "metadata": {},
     "output_type": "execute_result"
    }
   ],
   "source": [
    "interaction_matrix.shape, interaction_matrix.sum()"
   ]
  },
  {
   "cell_type": "code",
   "execution_count": 9,
   "metadata": {},
   "outputs": [
    {
     "name": "stdout",
     "output_type": "stream",
     "text": [
      "CPU times: user 907 ms, sys: 102 ms, total: 1.01 s\n",
      "Wall time: 4.1 s\n"
     ]
    },
    {
     "data": {
      "text/plain": [
       "{'021C': 64810, '021D': 328320, '021U': 38680, '030C': 85, '030T': 4152}"
      ]
     },
     "execution_count": 9,
     "metadata": {},
     "output_type": "execute_result"
    }
   ],
   "source": [
    "%%time\n",
    "motifs, counter = f.motif_search(cfg, interaction_matrix, batch_size=10000)\n",
    "motifs_orig = motifs[\"030T\"]\n",
    "counter"
   ]
  },
  {
   "cell_type": "code",
   "execution_count": 5,
   "metadata": {},
   "outputs": [
    {
     "name": "stderr",
     "output_type": "stream",
     "text": [
      "100%|██████████| 100/100 [08:19<00:00,  4.99s/it]\n",
      "100%|██████████| 100/100 [07:14<00:00,  4.34s/it]\n",
      "100%|██████████| 100/100 [07:06<00:00,  4.26s/it]\n",
      "100%|██████████| 100/100 [07:03<00:00,  4.23s/it]\n",
      "100%|██████████| 100/100 [07:14<00:00,  4.34s/it]\n",
      "100%|██████████| 100/100 [07:05<00:00,  4.25s/it]\n",
      "100%|██████████| 100/100 [07:06<00:00,  4.26s/it]\n",
      "100%|██████████| 100/100 [07:02<00:00,  4.22s/it]\n",
      "100%|██████████| 100/100 [07:10<00:00,  4.30s/it]\n",
      "100%|██████████| 100/100 [07:02<00:00,  4.22s/it]\n"
     ]
    }
   ],
   "source": [
    "N_SIMS = 1000\n",
    "N_STEPS = 10\n",
    "N_SWAPS = 60000\n",
    "counters = f.generate_random_networks(cfg, interaction_matrix, N_SIMS, N_STEPS, N_SWAPS)"
   ]
  },
  {
   "cell_type": "code",
   "execution_count": 6,
   "metadata": {},
   "outputs": [],
   "source": [
    "joblib.dump(counters, \"./networks/human/shuffled_counters.gz\");"
   ]
  },
  {
   "cell_type": "code",
   "execution_count": 7,
   "metadata": {},
   "outputs": [],
   "source": [
    "counters = joblib.load(\"./networks/human/shuffled_counters.gz\");"
   ]
  },
  {
   "cell_type": "code",
   "execution_count": 10,
   "metadata": {},
   "outputs": [
    {
     "name": "stderr",
     "output_type": "stream",
     "text": [
      "100%|██████████| 1000/1000 [00:04<00:00, 237.47it/s]\n"
     ]
    },
    {
     "data": {
      "image/png": "[encoded data removed]",
      "text/plain": [
       "<Figure size 1440x360 with 5 Axes>"
      ]
     },
     "metadata": {
      "needs_background": "light"
     },
     "output_type": "display_data"
    }
   ],
   "source": [
    "f.plot_distr(counters, counter, label=\"Motif distribution in Human Tnet\", highlight=False);"
   ]
  },
  {
   "cell_type": "code",
   "execution_count": 11,
   "metadata": {},
   "outputs": [
    {
     "data": {
      "image/png": "[encoded data removed]",
      "text/plain": [
       "<Figure size 1440x720 with 6 Axes>"
      ]
     },
     "metadata": {
      "needs_background": "light"
     },
     "output_type": "display_data"
    }
   ],
   "source": [
    "f.plot_distr_2(counters, counter, ticks = [55, 55, 70, 180, 60])"
   ]
  },
  {
   "cell_type": "code",
   "execution_count": 12,
   "metadata": {},
   "outputs": [
    {
     "data": {
      "text/html": [
       "<div>\n",
       "<style scoped>\n",
       "    .dataframe tbody tr th:only-of-type {\n",
       "        vertical-align: middle;\n",
       "    }\n",
       "\n",
       "    .dataframe tbody tr th {\n",
       "        vertical-align: top;\n",
       "    }\n",
       "\n",
       "    .dataframe thead th {\n",
       "        text-align: right;\n",
       "    }\n",
       "</style>\n",
       "<table border=\"1\" class=\"dataframe\">\n",
       "  <thead>\n",
       "    <tr style=\"text-align: right;\">\n",
       "      <th></th>\n",
       "      <th>N_real</th>\n",
       "      <th>mean(N_rand)</th>\n",
       "      <th>sd(N_rand)</th>\n",
       "      <th>Z-score</th>\n",
       "      <th>P-value</th>\n",
       "      <th>Result</th>\n",
       "    </tr>\n",
       "  </thead>\n",
       "  <tbody>\n",
       "    <tr>\n",
       "      <td>021C</td>\n",
       "      <td>64810</td>\n",
       "      <td>73060.5</td>\n",
       "      <td>1684.39</td>\n",
       "      <td>-4.89824</td>\n",
       "      <td>0</td>\n",
       "      <td>&lt; 0.01</td>\n",
       "    </tr>\n",
       "    <tr>\n",
       "      <td>021D</td>\n",
       "      <td>328320</td>\n",
       "      <td>335191</td>\n",
       "      <td>1468.23</td>\n",
       "      <td>-4.67994</td>\n",
       "      <td>0</td>\n",
       "      <td>&lt; 0.01</td>\n",
       "    </tr>\n",
       "    <tr>\n",
       "      <td>021U</td>\n",
       "      <td>38680</td>\n",
       "      <td>40463.2</td>\n",
       "      <td>281.554</td>\n",
       "      <td>-6.33358</td>\n",
       "      <td>0</td>\n",
       "      <td>&lt; 0.01</td>\n",
       "    </tr>\n",
       "    <tr>\n",
       "      <td>030C</td>\n",
       "      <td>85</td>\n",
       "      <td>122.97</td>\n",
       "      <td>16.2777</td>\n",
       "      <td>-2.33263</td>\n",
       "      <td>0.003</td>\n",
       "      <td>&lt; 0.05</td>\n",
       "    </tr>\n",
       "    <tr>\n",
       "      <td>030T</td>\n",
       "      <td>4152</td>\n",
       "      <td>3880.66</td>\n",
       "      <td>186.654</td>\n",
       "      <td>1.45373</td>\n",
       "      <td>0.072</td>\n",
       "      <td>non-significant</td>\n",
       "    </tr>\n",
       "  </tbody>\n",
       "</table>\n",
       "</div>"
      ],
      "text/plain": [
       "      N_real mean(N_rand) sd(N_rand)  Z-score P-value           Result\n",
       "021C   64810      73060.5    1684.39 -4.89824       0           < 0.01\n",
       "021D  328320       335191    1468.23 -4.67994       0           < 0.01\n",
       "021U   38680      40463.2    281.554 -6.33358       0           < 0.01\n",
       "030C      85       122.97    16.2777 -2.33263   0.003           < 0.05\n",
       "030T    4152      3880.66    186.654  1.45373   0.072  non-significant"
      ]
     },
     "execution_count": 12,
     "metadata": {},
     "output_type": "execute_result"
    }
   ],
   "source": [
    "f.build_zscores_report(counters, counter)"
   ]
  },
  {
   "cell_type": "code",
   "execution_count": 27,
   "metadata": {},
   "outputs": [
    {
     "data": {
      "text/html": [
       "<div>\n",
       "<style scoped>\n",
       "    .dataframe tbody tr th:only-of-type {\n",
       "        vertical-align: middle;\n",
       "    }\n",
       "\n",
       "    .dataframe tbody tr th {\n",
       "        vertical-align: top;\n",
       "    }\n",
       "\n",
       "    .dataframe thead th {\n",
       "        text-align: right;\n",
       "    }\n",
       "</style>\n",
       "<table border=\"1\" class=\"dataframe\">\n",
       "  <thead>\n",
       "    <tr style=\"text-align: right;\">\n",
       "      <th></th>\n",
       "      <th>N_real</th>\n",
       "      <th>mean(N_rand)</th>\n",
       "      <th>sd(N_rand)</th>\n",
       "      <th>Z-score</th>\n",
       "      <th>P-value</th>\n",
       "      <th>Result</th>\n",
       "    </tr>\n",
       "  </thead>\n",
       "  <tbody>\n",
       "    <tr>\n",
       "      <td>021C</td>\n",
       "      <td>40969</td>\n",
       "      <td>45851.5</td>\n",
       "      <td>862.984</td>\n",
       "      <td>-5.65775</td>\n",
       "      <td>0</td>\n",
       "      <td>&lt; 0.01</td>\n",
       "    </tr>\n",
       "    <tr>\n",
       "      <td>021D</td>\n",
       "      <td>135077</td>\n",
       "      <td>138709</td>\n",
       "      <td>698.981</td>\n",
       "      <td>-5.19599</td>\n",
       "      <td>0</td>\n",
       "      <td>&lt; 0.01</td>\n",
       "    </tr>\n",
       "    <tr>\n",
       "      <td>021U</td>\n",
       "      <td>20789</td>\n",
       "      <td>22527.9</td>\n",
       "      <td>184.583</td>\n",
       "      <td>-9.42046</td>\n",
       "      <td>0</td>\n",
       "      <td>&lt; 0.01</td>\n",
       "    </tr>\n",
       "    <tr>\n",
       "      <td>030C</td>\n",
       "      <td>60</td>\n",
       "      <td>81.372</td>\n",
       "      <td>11.6947</td>\n",
       "      <td>-1.8275</td>\n",
       "      <td>0.033</td>\n",
       "      <td>non-significant</td>\n",
       "    </tr>\n",
       "    <tr>\n",
       "      <td>030T</td>\n",
       "      <td>1956</td>\n",
       "      <td>1540.48</td>\n",
       "      <td>84.4663</td>\n",
       "      <td>4.91938</td>\n",
       "      <td>0</td>\n",
       "      <td>&lt; 0.01</td>\n",
       "    </tr>\n",
       "  </tbody>\n",
       "</table>\n",
       "</div>"
      ],
      "text/plain": [
       "      N_real mean(N_rand) sd(N_rand)  Z-score P-value           Result\n",
       "021C   40969      45851.5    862.984 -5.65775       0           < 0.01\n",
       "021D  135077       138709    698.981 -5.19599       0           < 0.01\n",
       "021U   20789      22527.9    184.583 -9.42046       0           < 0.01\n",
       "030C      60       81.372    11.6947  -1.8275   0.033  non-significant\n",
       "030T    1956      1540.48    84.4663  4.91938       0           < 0.01"
      ]
     },
     "execution_count": 27,
     "metadata": {},
     "output_type": "execute_result"
    }
   ],
   "source": [
    "f.build_zscores_report(counters, counter)"
   ]
  },
  {
   "cell_type": "markdown",
   "metadata": {},
   "source": [
    "# Regnetwork"
   ]
  },
  {
   "cell_type": "code",
   "execution_count": 18,
   "metadata": {},
   "outputs": [],
   "source": [
    "HUMAN_NETWORK_PATH = \"./networks/human/regnet/\""
   ]
  },
  {
   "cell_type": "code",
   "execution_count": 19,
   "metadata": {},
   "outputs": [
    {
     "data": {
      "text/html": [
       "<div>\n",
       "<style scoped>\n",
       "    .dataframe tbody tr th:only-of-type {\n",
       "        vertical-align: middle;\n",
       "    }\n",
       "\n",
       "    .dataframe tbody tr th {\n",
       "        vertical-align: top;\n",
       "    }\n",
       "\n",
       "    .dataframe thead th {\n",
       "        text-align: right;\n",
       "    }\n",
       "</style>\n",
       "<table border=\"1\" class=\"dataframe\">\n",
       "  <thead>\n",
       "    <tr style=\"text-align: right;\">\n",
       "      <th></th>\n",
       "      <th>0</th>\n",
       "      <th>1</th>\n",
       "      <th>2</th>\n",
       "      <th>3</th>\n",
       "    </tr>\n",
       "  </thead>\n",
       "  <tbody>\n",
       "    <tr>\n",
       "      <td>320983</td>\n",
       "      <td>hsa-miR-542-3p</td>\n",
       "      <td>MIMAT0003389</td>\n",
       "      <td>CLYBL</td>\n",
       "      <td>171425</td>\n",
       "    </tr>\n",
       "    <tr>\n",
       "      <td>60671</td>\n",
       "      <td>MYC</td>\n",
       "      <td>4609</td>\n",
       "      <td>MRPS2</td>\n",
       "      <td>51116</td>\n",
       "    </tr>\n",
       "    <tr>\n",
       "      <td>343798</td>\n",
       "      <td>hsa-miR-612</td>\n",
       "      <td>MIMAT0003280</td>\n",
       "      <td>JAG1</td>\n",
       "      <td>182</td>\n",
       "    </tr>\n",
       "    <tr>\n",
       "      <td>243194</td>\n",
       "      <td>hsa-miR-24</td>\n",
       "      <td>MIMAT0000080</td>\n",
       "      <td>HEG1</td>\n",
       "      <td>57493</td>\n",
       "    </tr>\n",
       "    <tr>\n",
       "      <td>192969</td>\n",
       "      <td>hsa-miR-132</td>\n",
       "      <td>MIMAT0000426</td>\n",
       "      <td>PITRM1</td>\n",
       "      <td>10531</td>\n",
       "    </tr>\n",
       "    <tr>\n",
       "      <td>361544</td>\n",
       "      <td>hsa-miR-885-3p</td>\n",
       "      <td>MIMAT0004948</td>\n",
       "      <td>LZTS2</td>\n",
       "      <td>84445</td>\n",
       "    </tr>\n",
       "    <tr>\n",
       "      <td>156778</td>\n",
       "      <td>SP1</td>\n",
       "      <td>6667</td>\n",
       "      <td>hsa-miR-3665</td>\n",
       "      <td>MIMAT0018087</td>\n",
       "    </tr>\n",
       "    <tr>\n",
       "      <td>8520</td>\n",
       "      <td>XBP1</td>\n",
       "      <td>7494</td>\n",
       "      <td>CD2BP2</td>\n",
       "      <td>10421</td>\n",
       "    </tr>\n",
       "    <tr>\n",
       "      <td>347744</td>\n",
       "      <td>hsa-miR-630</td>\n",
       "      <td>MIMAT0003299</td>\n",
       "      <td>MAP3K2</td>\n",
       "      <td>10746</td>\n",
       "    </tr>\n",
       "    <tr>\n",
       "      <td>283847</td>\n",
       "      <td>hsa-miR-409-3p</td>\n",
       "      <td>MIMAT0001639</td>\n",
       "      <td>CSTA</td>\n",
       "      <td>1475</td>\n",
       "    </tr>\n",
       "  </tbody>\n",
       "</table>\n",
       "</div>"
      ],
      "text/plain": [
       "                     0             1             2             3\n",
       "320983  hsa-miR-542-3p  MIMAT0003389         CLYBL        171425\n",
       "60671              MYC          4609         MRPS2         51116\n",
       "343798     hsa-miR-612  MIMAT0003280          JAG1           182\n",
       "243194      hsa-miR-24  MIMAT0000080          HEG1         57493\n",
       "192969     hsa-miR-132  MIMAT0000426        PITRM1         10531\n",
       "361544  hsa-miR-885-3p  MIMAT0004948         LZTS2         84445\n",
       "156778             SP1          6667  hsa-miR-3665  MIMAT0018087\n",
       "8520              XBP1          7494        CD2BP2         10421\n",
       "347744     hsa-miR-630  MIMAT0003299        MAP3K2         10746\n",
       "283847  hsa-miR-409-3p  MIMAT0001639          CSTA          1475"
      ]
     },
     "execution_count": 19,
     "metadata": {},
     "output_type": "execute_result"
    }
   ],
   "source": [
    "edges = pd.read_csv(os.path.join(HUMAN_NETWORK_PATH, \"human.source\"), sep=\"\\t\", header=None)\n",
    "edges.sample(10)"
   ]
  },
  {
   "cell_type": "code",
   "execution_count": 20,
   "metadata": {},
   "outputs": [
    {
     "name": "stdout",
     "output_type": "stream",
     "text": [
      "Total genes number:\t23336\n",
      "Interactions number:\t372774\n"
     ]
    },
    {
     "data": {
      "text/html": [
       "<div>\n",
       "<style scoped>\n",
       "    .dataframe tbody tr th:only-of-type {\n",
       "        vertical-align: middle;\n",
       "    }\n",
       "\n",
       "    .dataframe tbody tr th {\n",
       "        vertical-align: top;\n",
       "    }\n",
       "\n",
       "    .dataframe thead th {\n",
       "        text-align: right;\n",
       "    }\n",
       "</style>\n",
       "<table border=\"1\" class=\"dataframe\">\n",
       "  <thead>\n",
       "    <tr style=\"text-align: right;\">\n",
       "      <th></th>\n",
       "      <th>Tf</th>\n",
       "      <th>Tg</th>\n",
       "    </tr>\n",
       "  </thead>\n",
       "  <tbody>\n",
       "    <tr>\n",
       "      <td>0</td>\n",
       "      <td>USF1</td>\n",
       "      <td>S100A6</td>\n",
       "    </tr>\n",
       "    <tr>\n",
       "      <td>1</td>\n",
       "      <td>USF1</td>\n",
       "      <td>DUSP1</td>\n",
       "    </tr>\n",
       "    <tr>\n",
       "      <td>2</td>\n",
       "      <td>USF1</td>\n",
       "      <td>C4A</td>\n",
       "    </tr>\n",
       "    <tr>\n",
       "      <td>3</td>\n",
       "      <td>USF1</td>\n",
       "      <td>ABCA1</td>\n",
       "    </tr>\n",
       "    <tr>\n",
       "      <td>4</td>\n",
       "      <td>TP53</td>\n",
       "      <td>TP73</td>\n",
       "    </tr>\n",
       "  </tbody>\n",
       "</table>\n",
       "</div>"
      ],
      "text/plain": [
       "     Tf      Tg\n",
       "0  USF1  S100A6\n",
       "1  USF1   DUSP1\n",
       "2  USF1     C4A\n",
       "3  USF1   ABCA1\n",
       "4  TP53    TP73"
      ]
     },
     "execution_count": 20,
     "metadata": {},
     "output_type": "execute_result"
    }
   ],
   "source": [
    "edges = pd.read_csv(\n",
    "    os.path.join(HUMAN_NETWORK_PATH, \"human.source\"), sep=\"\\t\", header=None\n",
    ")[[0, 2]]\n",
    "edges.columns = [\"Tf\", \"Tg\"]\n",
    "nodes = sorted(np.unique(np.concatenate((edges.Tf.unique(), edges.Tg.unique()))))\n",
    "nodes = pd.DataFrame(data=range(len(nodes)), index=nodes, columns=[\"idx\"])\n",
    "print(f\"Total genes number:\\t{len(nodes)}\")\n",
    "print(f\"Interactions number:\\t{len(edges)}\")\n",
    "edges.head()"
   ]
  },
  {
   "cell_type": "code",
   "execution_count": 21,
   "metadata": {},
   "outputs": [
    {
     "name": "stdout",
     "output_type": "stream",
     "text": [
      "Total TF:\t2078\n",
      "Total TG:\t23158\n",
      "TF and TG:\t1900\n",
      "TG only:\t21258\n",
      "TF only:\t178\n"
     ]
    }
   ],
   "source": [
    "edges_ = edges.join(nodes, on=\"Tf\").join(nodes, on=\"Tg\", lsuffix=\"_tf\", rsuffix=\"_tg\")\n",
    "tf_nodes = edges_[\"idx_tf\"].unique()\n",
    "print(f\"Total TF:\\t{len(tf_nodes)}\")\n",
    "tg_nodes = edges_[\"idx_tg\"].unique()\n",
    "print(f\"Total TG:\\t{len(tg_nodes)}\")\n",
    "tf_x_tg_nodes = np.array(sorted(set(tf_nodes) & set(tg_nodes)))\n",
    "print(f\"TF and TG:\\t{len(tf_x_tg_nodes)}\")\n",
    "tg_only_nodes = np.array(sorted(set(tg_nodes) - set(tf_nodes)))\n",
    "print(f\"TG only:\\t{len(tg_only_nodes)}\")\n",
    "tf_only_nodes = np.array(sorted(set(tf_nodes) - set(tg_nodes)))\n",
    "print(f\"TF only:\\t{len(tf_only_nodes)}\")\n",
    "\n",
    "meta = tf_nodes, tf_only_nodes, tg_nodes, tg_only_nodes, tf_x_tg_nodes\n",
    "joblib.dump(meta, os.path.join(HUMAN_NETWORK_PATH, \"meta.pkl\"));"
   ]
  },
  {
   "cell_type": "code",
   "execution_count": 22,
   "metadata": {},
   "outputs": [],
   "source": [
    "def build_Tnet(edges, n):\n",
    "    Tnet = np.zeros((n, n))\n",
    "    Tnet[edges[:, 0], edges[:, 1]] = 1\n",
    "    return Tnet\n",
    "\n",
    "np_edges = edges_[[\"idx_tg\", \"idx_tf\"]].values\n",
    "interaction_matrix = build_Tnet(np_edges, len(nodes))\n",
    "\n",
    "if not os.path.exists(HUMAN_NETWORK_PATH):\n",
    "    os.mkdir(HUMAN_NETWORK_PATH)\n",
    "\n",
    "joblib.dump(interaction_matrix, os.path.join(HUMAN_NETWORK_PATH, \"interaction_matrix.gz\"));"
   ]
  },
  {
   "cell_type": "code",
   "execution_count": 23,
   "metadata": {},
   "outputs": [
    {
     "name": "stdout",
     "output_type": "stream",
     "text": [
      "Total nodes: 23336\n",
      "Total edges: 371517\n"
     ]
    }
   ],
   "source": [
    "print(f\"Total nodes: {interaction_matrix.shape[0]}\")\n",
    "print(f\"Total edges: {interaction_matrix.sum():.0f}\")"
   ]
  },
  {
   "cell_type": "code",
   "execution_count": 57,
   "metadata": {},
   "outputs": [
    {
     "name": "stderr",
     "output_type": "stream",
     "text": [
      "14482it [27:22,  8.82it/s]\n"
     ]
    },
    {
     "name": "stdout",
     "output_type": "stream",
     "text": [
      "CPU times: user 8min 14s, sys: 6min 44s, total: 14min 59s\n",
      "Wall time: 38min 11s\n"
     ]
    },
    {
     "data": {
      "text/plain": [
       "{'021C': 6561521,\n",
       " '021D': 125097781,\n",
       " '021U': 4529991,\n",
       " '030C': 2834,\n",
       " '030T': 351063}"
      ]
     },
     "execution_count": 57,
     "metadata": {},
     "output_type": "execute_result"
    }
   ],
   "source": [
    "%%time\n",
    "motifs, counter = f.motif_search(cfg, interaction_matrix, batch_size=10000, verbose=True)\n",
    "motifs_orig = motifs[\"030T\"]\n",
    "counter"
   ]
  },
  {
   "cell_type": "code",
   "execution_count": 58,
   "metadata": {},
   "outputs": [
    {
     "data": {
      "image/png": "[encoded data removed]",
      "text/plain": [
       "<Figure size 432x288 with 1 Axes>"
      ]
     },
     "metadata": {
      "needs_background": "light"
     },
     "output_type": "display_data"
    }
   ],
   "source": [
    "f.plot_motif_distr(counter)"
   ]
  },
  {
   "cell_type": "code",
   "execution_count": null,
   "metadata": {},
   "outputs": [],
   "source": []
  },
  {
   "cell_type": "code",
   "execution_count": null,
   "metadata": {},
   "outputs": [],
   "source": []
  },
  {
   "cell_type": "code",
   "execution_count": null,
   "metadata": {},
   "outputs": [],
   "source": []
  },
  {
   "cell_type": "code",
   "execution_count": null,
   "metadata": {},
   "outputs": [],
   "source": []
  },
  {
   "cell_type": "code",
   "execution_count": null,
   "metadata": {},
   "outputs": [],
   "source": []
  },
  {
   "cell_type": "code",
   "execution_count": null,
   "metadata": {},
   "outputs": [],
   "source": []
  },
  {
   "cell_type": "code",
   "execution_count": null,
   "metadata": {},
   "outputs": [],
   "source": []
  },
  {
   "cell_type": "code",
   "execution_count": null,
   "metadata": {},
   "outputs": [],
   "source": []
  },
  {
   "cell_type": "code",
   "execution_count": null,
   "metadata": {},
   "outputs": [],
   "source": []
  },
  {
   "cell_type": "code",
   "execution_count": null,
   "metadata": {},
   "outputs": [],
   "source": []
  },
  {
   "cell_type": "code",
   "execution_count": null,
   "metadata": {},
   "outputs": [],
   "source": []
  },
  {
   "cell_type": "code",
   "execution_count": null,
   "metadata": {},
   "outputs": [],
   "source": []
  },
  {
   "cell_type": "code",
   "execution_count": null,
   "metadata": {},
   "outputs": [],
   "source": []
  },
  {
   "cell_type": "code",
   "execution_count": null,
   "metadata": {},
   "outputs": [],
   "source": []
  }
 ],
 "metadata": {
  "kernelspec": {
   "display_name": "Python 3",
   "language": "python",
   "name": "python3"
  },
  "language_info": {
   "codemirror_mode": {
    "name": "ipython",
    "version": 3
   },
   "file_extension": ".py",
   "mimetype": "text/x-python",
   "name": "python",
   "nbconvert_exporter": "python",
   "pygments_lexer": "ipython3",
   "version": "3.7.4"
  }
 },
 "nbformat": 4,
 "nbformat_minor": 4
}
