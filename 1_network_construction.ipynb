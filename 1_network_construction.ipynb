{
 "cells": [
  {
   "cell_type": "markdown",
   "metadata": {},
   "source": [
    "# Network construction"
   ]
  },
  {
   "cell_type": "markdown",
   "metadata": {},
   "source": [
    "Network structure formulation in term of binary interaction matrix"
   ]
  },
  {
   "cell_type": "code",
   "execution_count": 1,
   "metadata": {},
   "outputs": [],
   "source": [
    "import os\n",
    "import sys\n",
    "sys.path.insert(0, \"./scripts\")\n",
    "import numpy as np\n",
    "import pandas as pd\n",
    "from itertools import combinations, product\n",
    "import joblib\n",
    "import functions as f"
   ]
  },
  {
   "cell_type": "markdown",
   "metadata": {},
   "source": [
    "Actual parametrisation"
   ]
  },
  {
   "cell_type": "code",
   "execution_count": 2,
   "metadata": {},
   "outputs": [
    {
     "name": "stdout",
     "output_type": "stream",
     "text": [
      "RANDOM_SEED: 19\n",
      "TEST_NETWORK_SIZE: 300\n",
      "TEST_NETWORK_LINK_PROB: 0.01\n",
      "N_CORES_TO_USE: -1\n",
      "NETWORK_TO_SEARCH_IN: gs0.1\n"
     ]
    }
   ],
   "source": [
    "cfg = f.get_actual_parametrization(\"./config.json\")"
   ]
  },
  {
   "cell_type": "markdown",
   "metadata": {},
   "source": [
    "## Random network for testing"
   ]
  },
  {
   "cell_type": "code",
   "execution_count": 3,
   "metadata": {},
   "outputs": [
    {
     "name": "stdout",
     "output_type": "stream",
     "text": [
      "RANDOM_SEED: 19\n",
      "TEST_NETWORK_SIZE: 500\n",
      "TEST_NETWORK_LINK_PROB: 0.1\n",
      "N_CORES_TO_USE: -1\n",
      "NETWORK_TO_SEARCH_IN: gs0.1\n"
     ]
    }
   ],
   "source": [
    "cfg = f.update_cfg(\"./config.json\", \"TEST_NETWORK_LINK_PROB\", 0.1, verbose=False)\n",
    "cfg = f.update_cfg(\"./config.json\", \"TEST_NETWORK_SIZE\", 500)"
   ]
  },
  {
   "cell_type": "code",
   "execution_count": 4,
   "metadata": {},
   "outputs": [],
   "source": [
    "TEST_NETWORK_PATH = \"./networks/test\""
   ]
  },
  {
   "cell_type": "code",
   "execution_count": 5,
   "metadata": {},
   "outputs": [],
   "source": [
    "np.random.seed(cfg[\"RANDOM_SEED\"])\n",
    "network_size = cfg[\"TEST_NETWORK_SIZE\"]\n",
    "link_probability = cfg[\"TEST_NETWORK_LINK_PROB\"]\n",
    "interaction_matrix = np.random.binomial(\n",
    "    1, link_probability, size=(network_size, network_size)\n",
    ")"
   ]
  },
  {
   "cell_type": "code",
   "execution_count": 6,
   "metadata": {},
   "outputs": [],
   "source": [
    "if not os.path.exists(TEST_NETWORK_PATH):\n",
    "    os.mkdir(TEST_NETWORK_PATH)\n",
    "\n",
    "joblib.dump(interaction_matrix, os.path.join(TEST_NETWORK_PATH, \"interaction_matrix.gz\"));"
   ]
  },
  {
   "cell_type": "markdown",
   "metadata": {},
   "source": [
    "## Yeast Tnet"
   ]
  },
  {
   "cell_type": "code",
   "execution_count": 7,
   "metadata": {},
   "outputs": [],
   "source": [
    "YEAST_NETWORK_PATH = \"./networks/yeast\""
   ]
  },
  {
   "cell_type": "code",
   "execution_count": 8,
   "metadata": {},
   "outputs": [
    {
     "name": "stdout",
     "output_type": "stream",
     "text": [
      "Total genes number:\t4441\n",
      "Interactions number:\t12873\n"
     ]
    },
    {
     "data": {
      "text/html": [
       "<div>\n",
       "<style scoped>\n",
       "    .dataframe tbody tr th:only-of-type {\n",
       "        vertical-align: middle;\n",
       "    }\n",
       "\n",
       "    .dataframe tbody tr th {\n",
       "        vertical-align: top;\n",
       "    }\n",
       "\n",
       "    .dataframe thead th {\n",
       "        text-align: right;\n",
       "    }\n",
       "</style>\n",
       "<table border=\"1\" class=\"dataframe\">\n",
       "  <thead>\n",
       "    <tr style=\"text-align: right;\">\n",
       "      <th></th>\n",
       "      <th>Tf</th>\n",
       "      <th>Tg</th>\n",
       "    </tr>\n",
       "  </thead>\n",
       "  <tbody>\n",
       "    <tr>\n",
       "      <td>0</td>\n",
       "      <td>YAL051W</td>\n",
       "      <td>YAL016W</td>\n",
       "    </tr>\n",
       "    <tr>\n",
       "      <td>1</td>\n",
       "      <td>YAL051W</td>\n",
       "      <td>YAL034WA</td>\n",
       "    </tr>\n",
       "    <tr>\n",
       "      <td>2</td>\n",
       "      <td>YAL051W</td>\n",
       "      <td>YAL035CA</td>\n",
       "    </tr>\n",
       "    <tr>\n",
       "      <td>3</td>\n",
       "      <td>YAL051W</td>\n",
       "      <td>YAL035W</td>\n",
       "    </tr>\n",
       "    <tr>\n",
       "      <td>4</td>\n",
       "      <td>YAL051W</td>\n",
       "      <td>YAL036C</td>\n",
       "    </tr>\n",
       "  </tbody>\n",
       "</table>\n",
       "</div>"
      ],
      "text/plain": [
       "        Tf        Tg\n",
       "0  YAL051W   YAL016W\n",
       "1  YAL051W  YAL034WA\n",
       "2  YAL051W  YAL035CA\n",
       "3  YAL051W   YAL035W\n",
       "4  YAL051W   YAL036C"
      ]
     },
     "execution_count": 8,
     "metadata": {},
     "output_type": "execute_result"
    }
   ],
   "source": [
    "edges = pd.read_csv(\"./raw_data/tfcomb/tnet.txt\", sep=\"\\t\")\n",
    "nodes = sorted(np.unique(np.concatenate((edges.Tf.unique(), edges.Tg.unique()))))\n",
    "nodes = pd.DataFrame(data=range(len(nodes)), index=nodes, columns=[\"idx\"])\n",
    "print(f\"Total genes number:\\t{len(nodes)}\")\n",
    "print(f\"Interactions number:\\t{len(edges)}\")\n",
    "edges.head()"
   ]
  },
  {
   "cell_type": "code",
   "execution_count": 9,
   "metadata": {},
   "outputs": [
    {
     "name": "stdout",
     "output_type": "stream",
     "text": [
      "Total TF:\t157\n",
      "Total TG:\t4410\n",
      "TF and TG:\t126\n",
      "TG only:\t4284\n",
      "TF only:\t31\n"
     ]
    }
   ],
   "source": [
    "edges_ = edges.join(nodes, on=\"Tf\").join(nodes, on=\"Tg\", lsuffix=\"_tf\", rsuffix=\"_tg\")\n",
    "tf_nodes = edges_[\"idx_tf\"].unique()\n",
    "print(f\"Total TF:\\t{len(tf_nodes)}\")\n",
    "tg_nodes = edges_[\"idx_tg\"].unique()\n",
    "print(f\"Total TG:\\t{len(tg_nodes)}\")\n",
    "tf_x_tg_nodes = np.array(sorted(set(tf_nodes) & set(tg_nodes)))\n",
    "print(f\"TF and TG:\\t{len(tf_x_tg_nodes)}\")\n",
    "tg_only_nodes = np.array(sorted(set(tg_nodes) - set(tf_nodes)))\n",
    "print(f\"TG only:\\t{len(tg_only_nodes)}\")\n",
    "tf_only_nodes = np.array(sorted(set(tf_nodes) - set(tg_nodes)))\n",
    "print(f\"TF only:\\t{len(tf_only_nodes)}\")\n",
    "\n",
    "meta = tf_nodes, tf_only_nodes, tg_nodes, tg_only_nodes, tf_x_tg_nodes\n",
    "joblib.dump(meta, os.path.join(YEAST_NETWORK_PATH, \"meta.pkl\"));"
   ]
  },
  {
   "cell_type": "code",
   "execution_count": 10,
   "metadata": {},
   "outputs": [],
   "source": [
    "def build_Tnet(edges, n):\n",
    "    Tnet = np.zeros((n, n))\n",
    "    Tnet[edges[:, 0], edges[:, 1]] = 1\n",
    "    return Tnet\n",
    "\n",
    "np_edges = edges_[[\"idx_tg\", \"idx_tf\"]].values\n",
    "interaction_matrix = build_Tnet(np_edges, len(nodes))\n",
    "\n",
    "if not os.path.exists(YEAST_NETWORK_PATH):\n",
    "    os.mkdir(YEAST_NETWORK_PATH)\n",
    "\n",
    "joblib.dump(interaction_matrix, os.path.join(YEAST_NETWORK_PATH, \"interaction_matrix.gz\"));"
   ]
  },
  {
   "cell_type": "markdown",
   "metadata": {},
   "source": [
    "## E. coli network"
   ]
  },
  {
   "cell_type": "code",
   "execution_count": 11,
   "metadata": {},
   "outputs": [],
   "source": [
    "ECOLI_NETWORK_PATH = \"./networks/ecoli\""
   ]
  },
  {
   "cell_type": "code",
   "execution_count": 12,
   "metadata": {},
   "outputs": [],
   "source": [
    "df = f.read_ecoli_network(\"./raw_data/ecoli/network_tf_gene.txt\")"
   ]
  },
  {
   "cell_type": "code",
   "execution_count": 13,
   "metadata": {},
   "outputs": [
    {
     "name": "stdout",
     "output_type": "stream",
     "text": [
      "Total genes number:\t1917\n",
      "Interactions number:\t4693\n"
     ]
    },
    {
     "data": {
      "text/html": [
       "<div>\n",
       "<style scoped>\n",
       "    .dataframe tbody tr th:only-of-type {\n",
       "        vertical-align: middle;\n",
       "    }\n",
       "\n",
       "    .dataframe tbody tr th {\n",
       "        vertical-align: top;\n",
       "    }\n",
       "\n",
       "    .dataframe thead th {\n",
       "        text-align: right;\n",
       "    }\n",
       "</style>\n",
       "<table border=\"1\" class=\"dataframe\">\n",
       "  <thead>\n",
       "    <tr style=\"text-align: right;\">\n",
       "      <th></th>\n",
       "      <th>tf</th>\n",
       "      <th>tg</th>\n",
       "    </tr>\n",
       "  </thead>\n",
       "  <tbody>\n",
       "    <tr>\n",
       "      <td>0</td>\n",
       "      <td>accb</td>\n",
       "      <td>accb</td>\n",
       "    </tr>\n",
       "    <tr>\n",
       "      <td>1</td>\n",
       "      <td>accb</td>\n",
       "      <td>accc</td>\n",
       "    </tr>\n",
       "    <tr>\n",
       "      <td>2</td>\n",
       "      <td>acrr</td>\n",
       "      <td>acra</td>\n",
       "    </tr>\n",
       "    <tr>\n",
       "      <td>3</td>\n",
       "      <td>acrr</td>\n",
       "      <td>acrb</td>\n",
       "    </tr>\n",
       "    <tr>\n",
       "      <td>4</td>\n",
       "      <td>acrr</td>\n",
       "      <td>acrr</td>\n",
       "    </tr>\n",
       "  </tbody>\n",
       "</table>\n",
       "</div>"
      ],
      "text/plain": [
       "     tf    tg\n",
       "0  accb  accb\n",
       "1  accb  accc\n",
       "2  acrr  acra\n",
       "3  acrr  acrb\n",
       "4  acrr  acrr"
      ]
     },
     "execution_count": 13,
     "metadata": {},
     "output_type": "execute_result"
    }
   ],
   "source": [
    "edges = df[[1, 3]]\n",
    "edges.columns = [\"tf\", \"tg\"]\n",
    "edges.tf = edges.tf.apply(lambda x: x.lower())\n",
    "edges.tg = edges.tg.apply(lambda x: x.lower())\n",
    "nodes = sorted(np.unique(np.concatenate((edges.tf.unique(), edges.tg.unique()))))\n",
    "nodes = pd.DataFrame(data=range(len(nodes)), index=nodes, columns=[\"idx\"])\n",
    "print(f\"Total genes number:\\t{len(nodes)}\")\n",
    "print(f\"Interactions number:\\t{len(edges)}\")\n",
    "edges.head()"
   ]
  },
  {
   "cell_type": "code",
   "execution_count": 14,
   "metadata": {},
   "outputs": [
    {
     "name": "stdout",
     "output_type": "stream",
     "text": [
      "Total TF:\t211\n",
      "Total TG:\t1854\n",
      "TF and TG:\t148\n",
      "TG only:\t1706\n",
      "TF only:\t63\n"
     ]
    }
   ],
   "source": [
    "edges_ = edges.join(nodes, on=\"tf\").join(nodes, on=\"tg\", lsuffix=\"_tf\", rsuffix=\"_tg\")\n",
    "tf_nodes = edges_[\"idx_tf\"].unique()\n",
    "print(f\"Total TF:\\t{len(tf_nodes)}\")\n",
    "tg_nodes = edges_[\"idx_tg\"].unique()\n",
    "print(f\"Total TG:\\t{len(tg_nodes)}\")\n",
    "tf_x_tg_nodes = np.array(sorted(set(tf_nodes) & set(tg_nodes)))\n",
    "print(f\"TF and TG:\\t{len(tf_x_tg_nodes)}\")\n",
    "tg_only_nodes = np.array(sorted(set(tg_nodes) - set(tf_nodes)))\n",
    "print(f\"TG only:\\t{len(tg_only_nodes)}\")\n",
    "tf_only_nodes = np.array(sorted(set(tf_nodes) - set(tg_nodes)))\n",
    "print(f\"TF only:\\t{len(tf_only_nodes)}\")"
   ]
  },
  {
   "cell_type": "code",
   "execution_count": 15,
   "metadata": {},
   "outputs": [],
   "source": [
    "def build_Tnet(edges, n):\n",
    "    Tnet = np.zeros((n, n))\n",
    "    Tnet[edges[:, 0], edges[:, 1]] = 1\n",
    "    return Tnet\n",
    "\n",
    "np_edges = edges_[[\"idx_tg\", \"idx_tf\"]].values\n",
    "interaction_matrix = build_Tnet(np_edges, len(nodes))\n",
    "\n",
    "if not os.path.exists(ECOLI_NETWORK_PATH):\n",
    "    os.mkdir(ECOLI_NETWORK_PATH)\n",
    "\n",
    "joblib.dump(interaction_matrix, os.path.join(ECOLI_NETWORK_PATH, \"interaction_matrix.gz\"));"
   ]
  },
  {
   "cell_type": "markdown",
   "metadata": {},
   "source": [
    "## Gene Spyder"
   ]
  },
  {
   "cell_type": "markdown",
   "metadata": {},
   "source": [
    "### SNR 0.01"
   ]
  },
  {
   "cell_type": "code",
   "execution_count": 16,
   "metadata": {},
   "outputs": [
    {
     "name": "stdout",
     "output_type": "stream",
     "text": [
      "Total genes number:\t800\n",
      "Interactions number:\t1925\n",
      "\n",
      "Total TF:\t693\n",
      "Total TG:\t706\n",
      "TF and TG:\t604\n",
      "TG only:\t102\n",
      "TF only:\t89\n"
     ]
    }
   ],
   "source": [
    "GS_NETWORK_PATH = \"./networks/gs0.01\"\n",
    "\n",
    "interaction_matrix = pd.read_csv(\"./raw_data/GS_N800/N800_SNR_0.01.csv\", header=None).astype(bool).astype(int).values\n",
    "print(f\"Total genes number:\\t{interaction_matrix.shape[0]}\")\n",
    "interaction_matrix_adj = interaction_matrix - np.diag(np.diag(interaction_matrix))\n",
    "print(f\"Interactions number:\\t{interaction_matrix_adj.sum()}\")\n",
    "print()\n",
    "tg_idxs, tf_idxs = np.where(interaction_matrix_adj != 0)\n",
    "print(f\"Total TF:\\t{np.unique(tf_idxs).shape[0]}\")\n",
    "print(f\"Total TG:\\t{np.unique(tg_idxs).shape[0]}\")\n",
    "print(f\"TF and TG:\\t{len(set(tg_idxs) & set(tf_idxs))}\")\n",
    "print(f\"TG only:\\t{len(set(tg_idxs) - set(tf_idxs))}\")\n",
    "print(f\"TF only:\\t{len(set(tf_idxs) - set(tg_idxs))}\")\n",
    "\n",
    "if not os.path.exists(GS_NETWORK_PATH):\n",
    "    os.mkdir(GS_NETWORK_PATH)\n",
    "\n",
    "joblib.dump(interaction_matrix, os.path.join(GS_NETWORK_PATH, \"interaction_matrix.gz\"));"
   ]
  },
  {
   "cell_type": "markdown",
   "metadata": {},
   "source": [
    "### SNR 0.1"
   ]
  },
  {
   "cell_type": "code",
   "execution_count": 17,
   "metadata": {},
   "outputs": [
    {
     "name": "stdout",
     "output_type": "stream",
     "text": [
      "Total genes number:\t800\n",
      "Interactions number:\t1913\n",
      "\n",
      "Total TF:\t706\n",
      "Total TG:\t683\n",
      "TF and TG:\t594\n",
      "TG only:\t89\n",
      "TF only:\t112\n"
     ]
    }
   ],
   "source": [
    "GS_NETWORK_PATH = \"./networks/gs0.1\"\n",
    "\n",
    "interaction_matrix = pd.read_csv(\"./raw_data/GS_N800/N800_SNR_0.1.csv\", header=None).astype(bool).astype(int).values\n",
    "print(f\"Total genes number:\\t{interaction_matrix.shape[0]}\")\n",
    "interaction_matrix_adj = interaction_matrix - np.diag(np.diag(interaction_matrix))\n",
    "print(f\"Interactions number:\\t{interaction_matrix_adj.sum()}\")\n",
    "print()\n",
    "tg_idxs, tf_idxs = np.where(interaction_matrix_adj != 0)\n",
    "print(f\"Total TF:\\t{np.unique(tf_idxs).shape[0]}\")\n",
    "print(f\"Total TG:\\t{np.unique(tg_idxs).shape[0]}\")\n",
    "print(f\"TF and TG:\\t{len(set(tg_idxs) & set(tf_idxs))}\")\n",
    "print(f\"TG only:\\t{len(set(tg_idxs) - set(tf_idxs))}\")\n",
    "print(f\"TF only:\\t{len(set(tf_idxs) - set(tg_idxs))}\")\n",
    "\n",
    "if not os.path.exists(GS_NETWORK_PATH):\n",
    "    os.mkdir(GS_NETWORK_PATH)\n",
    "\n",
    "joblib.dump(interaction_matrix, os.path.join(GS_NETWORK_PATH, \"interaction_matrix.gz\"));"
   ]
  },
  {
   "cell_type": "code",
   "execution_count": 18,
   "metadata": {},
   "outputs": [
    {
     "name": "stdout",
     "output_type": "stream",
     "text": [
      "Total genes number:\t800\n",
      "Interactions number:\t1929\n",
      "\n",
      "Total TF:\t692\n",
      "Total TG:\t716\n",
      "TF and TG:\t614\n",
      "TG only:\t102\n",
      "TF only:\t78\n"
     ]
    }
   ],
   "source": [
    "GS_NETWORK_PATH = \"./networks/gs1\"\n",
    "\n",
    "interaction_matrix = pd.read_csv(\"./raw_data/GS_N800/N800_SNR_1.csv\", header=None).astype(bool).astype(int).values\n",
    "print(f\"Total genes number:\\t{interaction_matrix.shape[0]}\")\n",
    "interaction_matrix_adj = interaction_matrix - np.diag(np.diag(interaction_matrix))\n",
    "print(f\"Interactions number:\\t{interaction_matrix_adj.sum()}\")\n",
    "print()\n",
    "tg_idxs, tf_idxs = np.where(interaction_matrix_adj != 0)\n",
    "print(f\"Total TF:\\t{np.unique(tf_idxs).shape[0]}\")\n",
    "print(f\"Total TG:\\t{np.unique(tg_idxs).shape[0]}\")\n",
    "print(f\"TF and TG:\\t{len(set(tg_idxs) & set(tf_idxs))}\")\n",
    "print(f\"TG only:\\t{len(set(tg_idxs) - set(tf_idxs))}\")\n",
    "print(f\"TF only:\\t{len(set(tf_idxs) - set(tg_idxs))}\")\n",
    "\n",
    "if not os.path.exists(GS_NETWORK_PATH):\n",
    "    os.mkdir(GS_NETWORK_PATH)\n",
    "\n",
    "joblib.dump(interaction_matrix, os.path.join(GS_NETWORK_PATH, \"interaction_matrix.gz\"));"
   ]
  }
 ],
 "metadata": {
  "kernelspec": {
   "display_name": "Python 3",
   "language": "python",
   "name": "python3"
  },
  "language_info": {
   "codemirror_mode": {
    "name": "ipython",
    "version": 3
   },
   "file_extension": ".py",
   "mimetype": "text/x-python",
   "name": "python",
   "nbconvert_exporter": "python",
   "pygments_lexer": "ipython3",
   "version": "3.7.4"
  }
 },
 "nbformat": 4,
 "nbformat_minor": 4
}
