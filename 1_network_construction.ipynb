{
 "cells": [
  {
   "cell_type": "markdown",
   "metadata": {},
   "source": [
    "# Network construction"
   ]
  },
  {
   "cell_type": "markdown",
   "metadata": {},
   "source": [
    "Network structure formulation in term of binary interaction matrix"
   ]
  },
  {
   "cell_type": "code",
   "execution_count": 9,
   "metadata": {},
   "outputs": [],
   "source": [
    "import os\n",
    "import sys\n",
    "sys.path.insert(0, \"./scripts\")\n",
    "import numpy as np\n",
    "import pandas as pd\n",
    "from itertools import combinations, product\n",
    "import joblib\n",
    "import functions as f"
   ]
  },
  {
   "cell_type": "markdown",
   "metadata": {},
   "source": [
    "Actual parametrisation"
   ]
  },
  {
   "cell_type": "code",
   "execution_count": 10,
   "metadata": {},
   "outputs": [
    {
     "name": "stdout",
     "output_type": "stream",
     "text": [
      "RANDOM_SEED: 19\n",
      "TEST_NETWORK_SIZE: 100\n",
      "TEST_NETWORK_LINK_PROB: 0.3\n",
      "PARALLEL_THREADS_NUMBER: 10\n",
      "MOTIF_TO_SEARCH_FOR: feedforward\n",
      "SELFLOOPS_INCLUDED: 1\n",
      "NETWORK_TO_SEARCH_IN: yeast\n"
     ]
    }
   ],
   "source": [
    "cfg = f.get_actual_parametrization(\"./config.json\")"
   ]
  },
  {
   "cell_type": "markdown",
   "metadata": {},
   "source": [
    "## Random network for testing"
   ]
  },
  {
   "cell_type": "code",
   "execution_count": 5,
   "metadata": {},
   "outputs": [],
   "source": [
    "TEST_NETWORK_PATH = \"./networks/test\""
   ]
  },
  {
   "cell_type": "code",
   "execution_count": 6,
   "metadata": {},
   "outputs": [],
   "source": [
    "np.random.seed(cfg[\"RANDOM_SEED\"])\n",
    "network_size = cfg[\"TEST_NETWORK_SIZE\"]\n",
    "link_probability = cfg[\"TEST_NETWORK_LINK_PROB\"]\n",
    "interaction_matrix = np.random.binomial(\n",
    "    1, link_probability, size=(network_size, network_size)\n",
    ")"
   ]
  },
  {
   "cell_type": "code",
   "execution_count": 8,
   "metadata": {},
   "outputs": [],
   "source": [
    "if not os.path.exists(TEST_NETWORK_PATH):\n",
    "    os.mkdir(TEST_NETWORK_PATH)\n",
    "\n",
    "joblib.dump(interaction_matrix, os.path.join(TEST_NETWORK_PATH, \"interaction_matrix.pkl\"));"
   ]
  },
  {
   "cell_type": "markdown",
   "metadata": {},
   "source": [
    "## Yeast Tnet"
   ]
  },
  {
   "cell_type": "code",
   "execution_count": 15,
   "metadata": {},
   "outputs": [],
   "source": [
    "YEAST_NETWORK_PATH = \"./networks/yeast\""
   ]
  },
  {
   "cell_type": "code",
   "execution_count": 16,
   "metadata": {},
   "outputs": [
    {
     "name": "stdout",
     "output_type": "stream",
     "text": [
      "Total genes number:\t4441\n",
      "Interactions number:\t12873\n"
     ]
    },
    {
     "data": {
      "text/html": [
       "<div>\n",
       "<style scoped>\n",
       "    .dataframe tbody tr th:only-of-type {\n",
       "        vertical-align: middle;\n",
       "    }\n",
       "\n",
       "    .dataframe tbody tr th {\n",
       "        vertical-align: top;\n",
       "    }\n",
       "\n",
       "    .dataframe thead th {\n",
       "        text-align: right;\n",
       "    }\n",
       "</style>\n",
       "<table border=\"1\" class=\"dataframe\">\n",
       "  <thead>\n",
       "    <tr style=\"text-align: right;\">\n",
       "      <th></th>\n",
       "      <th>Tf</th>\n",
       "      <th>Tg</th>\n",
       "    </tr>\n",
       "  </thead>\n",
       "  <tbody>\n",
       "    <tr>\n",
       "      <td>0</td>\n",
       "      <td>YAL051W</td>\n",
       "      <td>YAL016W</td>\n",
       "    </tr>\n",
       "    <tr>\n",
       "      <td>1</td>\n",
       "      <td>YAL051W</td>\n",
       "      <td>YAL034WA</td>\n",
       "    </tr>\n",
       "    <tr>\n",
       "      <td>2</td>\n",
       "      <td>YAL051W</td>\n",
       "      <td>YAL035CA</td>\n",
       "    </tr>\n",
       "    <tr>\n",
       "      <td>3</td>\n",
       "      <td>YAL051W</td>\n",
       "      <td>YAL035W</td>\n",
       "    </tr>\n",
       "    <tr>\n",
       "      <td>4</td>\n",
       "      <td>YAL051W</td>\n",
       "      <td>YAL036C</td>\n",
       "    </tr>\n",
       "  </tbody>\n",
       "</table>\n",
       "</div>"
      ],
      "text/plain": [
       "        Tf        Tg\n",
       "0  YAL051W   YAL016W\n",
       "1  YAL051W  YAL034WA\n",
       "2  YAL051W  YAL035CA\n",
       "3  YAL051W   YAL035W\n",
       "4  YAL051W   YAL036C"
      ]
     },
     "execution_count": 16,
     "metadata": {},
     "output_type": "execute_result"
    }
   ],
   "source": [
    "edges = pd.read_csv(\"./raw_data/tfcomb/tnet.txt\", sep=\"\\t\")\n",
    "nodes = sorted(np.unique(np.concatenate((edges.Tf.unique(), edges.Tg.unique()))))\n",
    "nodes = pd.DataFrame(data=range(len(nodes)), index=nodes, columns=[\"idx\"])\n",
    "print(f\"Total genes number:\\t{len(nodes)}\")\n",
    "print(f\"Interactions number:\\t{len(edges)}\")\n",
    "edges.head()"
   ]
  },
  {
   "cell_type": "code",
   "execution_count": 17,
   "metadata": {},
   "outputs": [
    {
     "name": "stdout",
     "output_type": "stream",
     "text": [
      "Total TF:\t157\n",
      "Total TG:\t4410\n",
      "TF and TG:\t126\n",
      "TG only:\t4284\n",
      "TF only:\t31\n"
     ]
    }
   ],
   "source": [
    "edges_ = edges.join(nodes, on=\"Tf\").join(nodes, on=\"Tg\", lsuffix=\"_tf\", rsuffix=\"_tg\")\n",
    "tf_nodes = edges_[\"idx_tf\"].unique()\n",
    "print(f\"Total TF:\\t{len(tf_nodes)}\")\n",
    "tg_nodes = edges_[\"idx_tg\"].unique()\n",
    "print(f\"Total TG:\\t{len(tg_nodes)}\")\n",
    "tf_x_tg_nodes = np.array(sorted(set(tf_nodes) & set(tg_nodes)))\n",
    "print(f\"TF and TG:\\t{len(tf_x_tg_nodes)}\")\n",
    "tg_only_nodes = np.array(sorted(set(tg_nodes) - set(tf_nodes)))\n",
    "print(f\"TG only:\\t{len(tg_only_nodes)}\")\n",
    "tf_only_nodes = np.array(sorted(set(tf_nodes) - set(tg_nodes)))\n",
    "print(f\"TF only:\\t{len(tf_only_nodes)}\")\n",
    "\n",
    "meta = tf_nodes, tf_only_nodes, tg_nodes, tg_only_nodes, tf_x_tg_nodes\n",
    "joblib.dump(meta, os.path.join(YEAST_NETWORK_PATH, \"meta.pkl\"));"
   ]
  },
  {
   "cell_type": "code",
   "execution_count": 18,
   "metadata": {},
   "outputs": [],
   "source": [
    "def build_Tnet(edges, n):\n",
    "    Tnet = np.zeros((n, n))\n",
    "    Tnet[edges[:, 0], edges[:, 1]] = 1\n",
    "    return Tnet\n",
    "\n",
    "np_edges = edges_[[\"idx_tg\", \"idx_tf\"]].values\n",
    "interaction_matrix = build_Tnet(np_edges, len(nodes))\n",
    "\n",
    "if not os.path.exists(YEAST_NETWORK_PATH):\n",
    "    os.mkdir(YEAST_NETWORK_PATH)\n",
    "\n",
    "joblib.dump(interaction_matrix, os.path.join(YEAST_NETWORK_PATH, \"interaction_matrix.pkl\"));"
   ]
  },
  {
   "cell_type": "markdown",
   "metadata": {},
   "source": [
    "Add another one version with self loops"
   ]
  },
  {
   "cell_type": "code",
   "execution_count": 19,
   "metadata": {},
   "outputs": [],
   "source": [
    "interaction_matrix_sl = f.add_self_loops(interaction_matrix, list(range(interaction_matrix.shape[0])))\n",
    "\n",
    "joblib.dump(interaction_matrix_sl, os.path.join(YEAST_NETWORK_PATH, \"interaction_matrix_sl.pkl\"));"
   ]
  },
  {
   "cell_type": "markdown",
   "metadata": {},
   "source": [
    "## Gene Spyder"
   ]
  },
  {
   "cell_type": "markdown",
   "metadata": {},
   "source": [
    "### SNR 0.01"
   ]
  },
  {
   "cell_type": "code",
   "execution_count": 30,
   "metadata": {},
   "outputs": [
    {
     "name": "stdout",
     "output_type": "stream",
     "text": [
      "(800, 800)\n"
     ]
    }
   ],
   "source": [
    "GS_NETWORK_PATH = \"./networks/gs0.01\"\n",
    "\n",
    "interaction_matrix = pd.read_csv(\"./raw_data/GS_N800/N800_SNR_0.01.csv\", header=None).astype(bool).astype(int).values\n",
    "print(interaction_matrix.shape)\n",
    "\n",
    "if not os.path.exists(GS_NETWORK_PATH):\n",
    "    os.mkdir(GS_NETWORK_PATH)\n",
    "\n",
    "joblib.dump(interaction_matrix, os.path.join(GS_NETWORK_PATH, \"interaction_matrix.pkl\"));"
   ]
  },
  {
   "cell_type": "markdown",
   "metadata": {},
   "source": [
    "### SNR 0.1"
   ]
  },
  {
   "cell_type": "code",
   "execution_count": 32,
   "metadata": {},
   "outputs": [
    {
     "name": "stdout",
     "output_type": "stream",
     "text": [
      "(800, 800)\n"
     ]
    }
   ],
   "source": [
    "GS_NETWORK_PATH = \"./networks/gs0.1\"\n",
    "\n",
    "interaction_matrix = pd.read_csv(\"./raw_data/GS_N800/N800_SNR_0.1.csv\", header=None).astype(bool).astype(int).values\n",
    "print(interaction_matrix.shape)\n",
    "\n",
    "if not os.path.exists(GS_NETWORK_PATH):\n",
    "    os.mkdir(GS_NETWORK_PATH)\n",
    "\n",
    "joblib.dump(interaction_matrix, os.path.join(GS_NETWORK_PATH, \"interaction_matrix.pkl\"));"
   ]
  },
  {
   "cell_type": "code",
   "execution_count": 36,
   "metadata": {},
   "outputs": [
    {
     "name": "stdout",
     "output_type": "stream",
     "text": [
      "(800, 800)\n"
     ]
    }
   ],
   "source": [
    "GS_NETWORK_PATH = \"./networks/gs1\"\n",
    "\n",
    "interaction_matrix = pd.read_csv(\"./raw_data/GS_N800/N800_SNR_1.csv\", header=None).astype(bool).astype(int).values\n",
    "print(interaction_matrix.shape)\n",
    "\n",
    "if not os.path.exists(GS_NETWORK_PATH):\n",
    "    os.mkdir(GS_NETWORK_PATH)\n",
    "\n",
    "joblib.dump(interaction_matrix, os.path.join(GS_NETWORK_PATH, \"interaction_matrix.pkl\"));"
   ]
  },
  {
   "cell_type": "code",
   "execution_count": null,
   "metadata": {},
   "outputs": [],
   "source": []
  },
  {
   "cell_type": "code",
   "execution_count": null,
   "metadata": {},
   "outputs": [],
   "source": []
  },
  {
   "cell_type": "code",
   "execution_count": null,
   "metadata": {},
   "outputs": [],
   "source": []
  },
  {
   "cell_type": "markdown",
   "metadata": {},
   "source": [
    "## E. coli network"
   ]
  },
  {
   "cell_type": "markdown",
   "metadata": {},
   "source": [
    "TBA"
   ]
  }
 ],
 "metadata": {
  "kernelspec": {
   "display_name": "Python 3",
   "language": "python",
   "name": "python3"
  },
  "language_info": {
   "codemirror_mode": {
    "name": "ipython",
    "version": 3
   },
   "file_extension": ".py",
   "mimetype": "text/x-python",
   "name": "python",
   "nbconvert_exporter": "python",
   "pygments_lexer": "ipython3",
   "version": "3.7.4"
  }
 },
 "nbformat": 4,
 "nbformat_minor": 4
}
