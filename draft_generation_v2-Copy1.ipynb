{
 "cells": [
  {
   "cell_type": "markdown",
   "metadata": {},
   "source": [
    "# Artificial network generation 2.0"
   ]
  },
  {
   "cell_type": "code",
   "execution_count": 1,
   "metadata": {},
   "outputs": [],
   "source": [
    "import numpy as np\n",
    "import pandas as pd\n",
    "import sys\n",
    "import joblib\n",
    "sys.path.insert(0, \"./scripts\")\n",
    "import functions as f\n",
    "from copy import deepcopy\n",
    "import networkx as nx\n",
    "from collections import namedtuple\n",
    "from itertools import product, combinations\n",
    "from matplotlib import pyplot as plt\n",
    "from datetime import datetime\n",
    "from tqdm import tqdm\n",
    "from time import sleep\n",
    "%load_ext autoreload\n",
    "%autoreload 2"
   ]
  },
  {
   "cell_type": "code",
   "execution_count": 2,
   "metadata": {},
   "outputs": [
    {
     "name": "stdout",
     "output_type": "stream",
     "text": [
      "RANDOM_SEED: 19\n",
      "TEST_NETWORK_SIZE: 500\n",
      "TEST_NETWORK_LINK_PROB: 0.1\n",
      "N_CORES_TO_USE: -1\n",
      "NETWORK_TO_SEARCH_IN: yeast\n"
     ]
    }
   ],
   "source": [
    "cfg = f.get_actual_parametrization(\"./config.json\")"
   ]
  },
  {
   "cell_type": "markdown",
   "metadata": {},
   "source": [
    "# Yeast Tnet"
   ]
  },
  {
   "cell_type": "code",
   "execution_count": 3,
   "metadata": {},
   "outputs": [
    {
     "name": "stdout",
     "output_type": "stream",
     "text": [
      "RANDOM_SEED: 19\n",
      "TEST_NETWORK_SIZE: 500\n",
      "TEST_NETWORK_LINK_PROB: 0.1\n",
      "N_CORES_TO_USE: -1\n",
      "NETWORK_TO_SEARCH_IN: yeast\n"
     ]
    }
   ],
   "source": [
    "cfg = f.update_cfg(\"./config.json\", \"NETWORK_TO_SEARCH_IN\", \"yeast\")"
   ]
  },
  {
   "cell_type": "code",
   "execution_count": 4,
   "metadata": {},
   "outputs": [],
   "source": [
    "interaction_matrix = f.get_interaction_matrix(cfg)"
   ]
  },
  {
   "cell_type": "code",
   "execution_count": 5,
   "metadata": {},
   "outputs": [
    {
     "name": "stdout",
     "output_type": "stream",
     "text": [
      "CPU times: user 2.53 s, sys: 141 ms, total: 2.67 s\n",
      "Wall time: 8.08 s\n"
     ]
    },
    {
     "data": {
      "text/plain": [
       "{'021C': 37631, '021D': 1059856, '021U': 26042, '030C': 8, '030T': 3370}"
      ]
     },
     "execution_count": 5,
     "metadata": {},
     "output_type": "execute_result"
    }
   ],
   "source": [
    "%%time\n",
    "motifs, counter = f.motif_search(cfg, interaction_matrix, batch_size=10000)\n",
    "motifs_orig = motifs[\"030T\"]\n",
    "counter"
   ]
  },
  {
   "cell_type": "code",
   "execution_count": 6,
   "metadata": {},
   "outputs": [
    {
     "data": {
      "text/plain": [
       "((1201, 1201), 4326.0)"
      ]
     },
     "execution_count": 6,
     "metadata": {},
     "output_type": "execute_result"
    }
   ],
   "source": [
    "ffl_nodes = list(set(sum([list(map(int, x.split(\"_\"))) for x in motifs_orig], [])))\n",
    "interaction_matrix_ffl = np.zeros((len(ffl_nodes), len(ffl_nodes)))\n",
    "for motif in motifs_orig:\n",
    "    motif = f.split_motif(motif)\n",
    "    motif_new = list(ffl_nodes.index(x) for x in motif)\n",
    "    interaction_matrix_ffl[np.ix_(motif_new, motif_new)] = \\\n",
    "    interaction_matrix[np.ix_(motif, motif)]\n",
    "interaction_matrix_ffl.shape, interaction_matrix_ffl.sum()"
   ]
  },
  {
   "cell_type": "code",
   "execution_count": 7,
   "metadata": {},
   "outputs": [
    {
     "data": {
      "text/plain": [
       "3.6019983347210656"
      ]
     },
     "execution_count": 7,
     "metadata": {},
     "output_type": "execute_result"
    }
   ],
   "source": [
    "4326/1201"
   ]
  },
  {
   "cell_type": "code",
   "execution_count": null,
   "metadata": {},
   "outputs": [],
   "source": []
  },
  {
   "cell_type": "code",
   "execution_count": null,
   "metadata": {},
   "outputs": [],
   "source": []
  },
  {
   "cell_type": "code",
   "execution_count": null,
   "metadata": {},
   "outputs": [],
   "source": []
  },
  {
   "cell_type": "code",
   "execution_count": 104,
   "metadata": {},
   "outputs": [
    {
     "data": {
      "text/plain": [
       "(123, 1078, 0.10241465445462115)"
      ]
     },
     "execution_count": 104,
     "metadata": {},
     "output_type": "execute_result"
    }
   ],
   "source": [
    "tf_nodes = np.where(interaction_matrix_ffl.sum(axis=0) != 0)[0]\n",
    "tg_nodes = np.where(interaction_matrix_ffl.sum(axis=0) == 0)[0]\n",
    "len(tf_nodes), len(tg_nodes), len(tf_nodes)/interaction_matrix_ffl.shape[0]"
   ]
  },
  {
   "cell_type": "code",
   "execution_count": 105,
   "metadata": {},
   "outputs": [
    {
     "name": "stdout",
     "output_type": "stream",
     "text": [
      "CPU times: user 361 ms, sys: 74.6 ms, total: 435 ms\n",
      "Wall time: 1.96 s\n"
     ]
    },
    {
     "data": {
      "text/plain": [
       "{'021C': 12874, '021D': 170539, '021U': 6906, '030C': 8, '030T': 3370}"
      ]
     },
     "execution_count": 105,
     "metadata": {},
     "output_type": "execute_result"
    }
   ],
   "source": [
    "%%time\n",
    "motifs, counter = f.motif_search(cfg, interaction_matrix_ffl, batch_size=10000)\n",
    "motifs_ffl = motifs[\"030T\"]\n",
    "counter"
   ]
  },
  {
   "cell_type": "code",
   "execution_count": null,
   "metadata": {},
   "outputs": [],
   "source": []
  },
  {
   "cell_type": "code",
   "execution_count": 109,
   "metadata": {},
   "outputs": [],
   "source": [
    "types = pd.Series([len(set(f.split_motif(x)) - set(tf_nodes)) for x in motifs_ffl])"
   ]
  },
  {
   "cell_type": "code",
   "execution_count": 112,
   "metadata": {},
   "outputs": [
    {
     "data": {
      "text/plain": [
       "1    0.950445\n",
       "0    0.049555\n",
       "dtype: float64"
      ]
     },
     "execution_count": 112,
     "metadata": {},
     "output_type": "execute_result"
    }
   ],
   "source": [
    "types.value_counts(normalize=True)"
   ]
  },
  {
   "cell_type": "code",
   "execution_count": 68,
   "metadata": {},
   "outputs": [],
   "source": []
  },
  {
   "cell_type": "code",
   "execution_count": null,
   "metadata": {},
   "outputs": [],
   "source": []
  },
  {
   "cell_type": "code",
   "execution_count": null,
   "metadata": {},
   "outputs": [],
   "source": []
  },
  {
   "cell_type": "code",
   "execution_count": 69,
   "metadata": {},
   "outputs": [
    {
     "data": {
      "text/plain": [
       "((1201, 1201), 6471.0)"
      ]
     },
     "execution_count": 69,
     "metadata": {},
     "output_type": "execute_result"
    }
   ],
   "source": [
    "interaction_matrix_ffl.shape, interaction_matrix_ffl.sum()"
   ]
  },
  {
   "cell_type": "code",
   "execution_count": 70,
   "metadata": {},
   "outputs": [
    {
     "data": {
      "text/plain": [
       "5.388009991673606"
      ]
     },
     "execution_count": 70,
     "metadata": {},
     "output_type": "execute_result"
    }
   ],
   "source": [
    "6471/1201"
   ]
  },
  {
   "cell_type": "code",
   "execution_count": 71,
   "metadata": {},
   "outputs": [
    {
     "data": {
      "text/plain": [
       "(10110, 4326)"
      ]
     },
     "execution_count": 71,
     "metadata": {},
     "output_type": "execute_result"
    }
   ],
   "source": [
    "edges = []\n",
    "for triad in motifs_ffl:\n",
    "    for x in combinations(f.split_motif(triad), 2):\n",
    "        edges.append(\"_\".join(map(str, sorted(x))))\n",
    "len(edges), len(set(edges))"
   ]
  },
  {
   "cell_type": "code",
   "execution_count": 31,
   "metadata": {},
   "outputs": [],
   "source": [
    "def get_network_params(interaction_matrix, verbose=True):\n",
    "    # motif search\n",
    "    motifs, counter = f.motif_search(\n",
    "        cfg, interaction_matrix, batch_size=10000, verbose=False\n",
    "    )\n",
    "    motifs = motifs[\"030T\"]\n",
    "    # TF/TG recognition\n",
    "    tf_nodes = np.where(interaction_matrix.sum(axis=0) != 0)[0]\n",
    "    tg_nodes = np.where(interaction_matrix.sum(axis=0) == 0)[0]\n",
    "    # motif type distribution\n",
    "    n_tg_nodes_list = np.array(\n",
    "        [len(set(f.split_motif(motif)) - set(tf_nodes)) for motif in motifs]\n",
    "    )\n",
    "    mtype_probs = pd.Series(n_tg_nodes_list).value_counts(normalize=True).sort_index()\n",
    "    if verbose:\n",
    "        print(\"Number of TG in motif distribution:\")\n",
    "        print(mtype_probs)\n",
    "        print()\n",
    "    # nodes participation in FFL\n",
    "    node_part = np.zeros(interaction_matrix.shape[0])\n",
    "    for triad in motifs:\n",
    "        for x in map(int, triad.split(\"_\")):\n",
    "            node_part[x] += 1\n",
    "    node_part = pd.Series(node_part)\n",
    "    if verbose:\n",
    "        print(\"Node patricipation distribution:\")\n",
    "        print(node_part.value_counts(normalize=False).head())\n",
    "        print(node_part.value_counts(normalize=True).head())\n",
    "        print()\n",
    "    # Distribution of X-unique nodes motifs number\n",
    "    edges_1 = []\n",
    "    motifs_0 = []\n",
    "    types = {i: 0 for i in range(3)}\n",
    "    for triad in motifs:\n",
    "        res = 0\n",
    "        i = 0\n",
    "        for x in map(int, triad.split(\"_\")):\n",
    "            res += node_part[x] == 1\n",
    "            if node_part[x] == 1:\n",
    "                i = x\n",
    "        types[res] += 1\n",
    "        if res == 1:\n",
    "            edges_1.append(set(f.split_motif(triad))-set([i]))\n",
    "        if res == 0:\n",
    "            motifs_0.append(triad)\n",
    "    types = pd.Series(types)\n",
    "    unique_nodes = types/sum(types)\n",
    "    if verbose:\n",
    "        print(\"Unique nodes number distribution\")\n",
    "        print(types)\n",
    "        print(unique_nodes)\n",
    "        print()\n",
    "    #  Is edge unique? (for 1-unique node motifs)\n",
    "    edges_1_part = {\"_\".join(map(str, sorted(edge))): 0 for edge in edges_1}\n",
    "    for triad in motifs:\n",
    "        for x in combinations(f.split_motif(triad), 2):\n",
    "            edge_1 = \"_\".join(map(str, sorted(x)))\n",
    "            try:\n",
    "                edges_1_part[edge_1] += 1\n",
    "            except KeyError:\n",
    "                pass\n",
    "    edges_1_part = pd.Series(edges_1_part)\n",
    "    unique_edges_1 = (edges_1_part == 1).value_counts(normalize=True)\n",
    "    if verbose:\n",
    "        print(\"Is edge unique? (for 1-unique node motifs)\")\n",
    "        print((edges_1_part == 1).value_counts())\n",
    "        print(unique_edges_1)\n",
    "        print()\n",
    "    # Distribution of X-unique edges motifs (for 0-unique nodes motifs)\n",
    "    edges_0_part = {}\n",
    "    for triad in motifs_0:\n",
    "        for x in combinations(f.split_motif(triad), 2):\n",
    "            edge_0 = \"_\".join(map(str, sorted(x)))\n",
    "            try:\n",
    "                edges_0_part[edge_0] += 1\n",
    "            except KeyError:\n",
    "                edges_0_part[edge_0] = 1\n",
    "    edges_0_part = pd.Series(edges_0_part)\n",
    "    edge_types = {i: 0 for i in range(4)}\n",
    "    for triad in motifs_0:\n",
    "        res = 0\n",
    "        for x in combinations(f.split_motif(triad), 2):\n",
    "            edge_0 = \"_\".join(map(str, sorted(x)))\n",
    "            res += edges_0_part[edge_0] == 1\n",
    "        edge_types[res] += 1\n",
    "    edge_types = pd.Series(edge_types)\n",
    "    unique_edges_0 = edge_types/sum(edge_types)\n",
    "    if verbose:\n",
    "        print(\"Distribution of X-unique edges motifs (for 0-unique nodes motifs)\")\n",
    "        print(edge_types)\n",
    "        print(unique_edges_0)\n",
    "        print()\n",
    "    Params = namedtuple(\n",
    "        \"Params\", \"substrate_motifs tf_nodes tg_nodes mtype_probs unique_nodes unique_edges_1 unique_edges_0\"\n",
    "    )\n",
    "    params = Params(\n",
    "        *[motifs, tf_nodes, tg_nodes, mtype_probs, unique_nodes, unique_edges_1, unique_edges_0]\n",
    "    )\n",
    "    return params"
   ]
  },
  {
   "cell_type": "code",
   "execution_count": 316,
   "metadata": {},
   "outputs": [],
   "source": [
    "def get_attachment_params(params):\n",
    "    \"\"\"\n",
    "    Selection of inner/outer motifs and number of shared nodes\n",
    "    ________________________________________________________________________\n",
    "    params - network parameters from previous stage of analysis (see get_network_params)\n",
    "    \"\"\"\n",
    "    \n",
    "    # number of unique nodes in the outer motif\n",
    "    unique_nodes = params.unique_nodes.loc[[0, 1]]\n",
    "    unique_nodes = unique_nodes/sum(unique_nodes)\n",
    "    n_unique_nodes = np.random.choice(\n",
    "        unique_nodes.index, p=unique_nodes.values\n",
    "    )\n",
    "#     n_unique_nodes = np.random.choice(\n",
    "#         params.unique_nodes.index, p=params.unique_nodes.values\n",
    "#     )\n",
    "    # number of unique edges in the outer motif\n",
    "    n_unique_edges = None\n",
    "    if n_unique_nodes == 1:\n",
    "        n_unique_edges = 0\n",
    "#         n_unique_edges = int(np.random.choice(\n",
    "#             params.unique_edges_1.index, p=params.unique_edges_1.values\n",
    "#         ))\n",
    "    elif n_unique_nodes == 0:\n",
    "        unique_edges_0 = params.unique_edges_0.loc[[1, 2]]\n",
    "        unique_edges_0 = unique_edges_0/sum(unique_edges_0)\n",
    "        n_unique_edges = int(np.random.choice(\n",
    "            unique_edges_0.index, p=unique_edges_0.values\n",
    "        ))\n",
    "#         n_unique_edges = int(np.random.choice(\n",
    "#             params.unique_edges_0.index, p=params.unique_edges_0.values\n",
    "#         ))\n",
    "    # buiding VMN for motifs\n",
    "    substrate_vmn = f.build_vmn(params.substrate_motifs)    \n",
    "    \n",
    "    # motif selection for 1 node/2 edges attachment case\n",
    "    if n_unique_nodes == 1 and n_unique_edges == 0:\n",
    "        substrate_type_idxs = list(range(len(params.substrate_motifs)))\n",
    "        substrate_type_vmn = substrate_vmn\n",
    "        weights = substrate_type_vmn.sum(axis=1)\n",
    "        weights /= sum(weights)\n",
    "        inner_motif_1_idx = np.random.choice(substrate_type_idxs, p=weights)\n",
    "        inner_motif_2_idx = None\n",
    "    # motif selection for 0 nodes/1 edges attachment case\n",
    "    elif n_unique_nodes == 0 and n_unique_edges == 1:\n",
    "        substrate_type_idxs = np.where((substrate_vmn==1)|(substrate_vmn==2))[0]\n",
    "        substrate_type_vmn = substrate_vmn[substrate_type_idxs, :]\n",
    "        weights = substrate_type_vmn.sum(axis=1)\n",
    "        weights /= sum(weights)\n",
    "        inner_motif_1_idx = np.random.choice(substrate_type_idxs, p=weights)\n",
    "        line = substrate_vmn[inner_motif_1_idx, :]\n",
    "        inner_motif_2_idx = np.random.choice(np.where((line==1)|(line==2))[0])   \n",
    "    # motif selection for 0 nodes/2 edges attachment case\n",
    "    elif n_unique_nodes == 0 and n_unique_edges == 2:\n",
    "        substrate_type_idxs = np.where((substrate_vmn==1)|(substrate_vmn==0))[0]\n",
    "        substrate_type_vmn = substrate_vmn[substrate_type_idxs, :]\n",
    "        weights = substrate_type_vmn.sum(axis=1)\n",
    "        weights /= sum(weights)\n",
    "        inner_motif_1_idx = np.random.choice(substrate_type_idxs, p=weights)\n",
    "        line = substrate_vmn[inner_motif_1_idx, :]\n",
    "        inner_motif_2_idx = np.random.choice(np.where((line==1)|(line==0))[0])\n",
    "    # determine types \n",
    "    intype_1 = len(set(f.split_motif(params.substrate_motifs[inner_motif_1_idx])) - set(params.tf_nodes))\n",
    "    if inner_motif_2_idx is not None:\n",
    "        intype_2 = len(set(f.split_motif(params.substrate_motifs[inner_motif_2_idx])) - set(params.tf_nodes))\n",
    "    else:\n",
    "        intype_2 = None\n",
    "    \n",
    "    # incoming motif type selection\n",
    "    outtype = np.random.binomial(1, p=0.5)\n",
    "\n",
    "    # results packing\n",
    "    Params = namedtuple(\n",
    "        \"Params\", \"substrate_motifs inner_motif_1_idx inner_motif_2_idx intype_1 intype_2 outtype n_unique_nodes n_unique_edges\"\n",
    "    )\n",
    "    params = Params(\n",
    "        *[params.substrate_motifs, inner_motif_1_idx, inner_motif_2_idx, intype_1, intype_2, outtype, n_unique_nodes, n_unique_edges]\n",
    "    )\n",
    "    return params"
   ]
  },
  {
   "cell_type": "code",
   "execution_count": 308,
   "metadata": {},
   "outputs": [
    {
     "name": "stdout",
     "output_type": "stream",
     "text": [
      "Number of TG in motif distribution:\n",
      "0    0.051632\n",
      "1    0.948368\n",
      "dtype: float64\n",
      "\n",
      "Node patricipation distribution:\n",
      "1.0    0.457952\n",
      "2.0    0.175687\n",
      "3.0    0.094088\n",
      "4.0    0.048293\n",
      "5.0    0.034138\n",
      "dtype: float64\n",
      "\n",
      "Unique nodes number distribution\n",
      "0    0.837685\n",
      "1    0.161424\n",
      "2    0.000890\n",
      "dtype: float64\n",
      "\n",
      "Is edge unique? (for 1-unique node motifs)\n",
      "False    0.968153\n",
      "True     0.031847\n",
      "dtype: float64\n",
      "\n",
      "Distribution of X-unique edges motifs (for 0-unique nodes motifs)\n",
      "1    1042\n",
      "2     230\n",
      "3       6\n",
      "dtype: int64\n",
      "1    0.815336\n",
      "2    0.179969\n",
      "3    0.004695\n",
      "dtype: float64\n",
      "\n",
      "CPU times: user 1.19 s, sys: 139 ms, total: 1.33 s\n",
      "Wall time: 5.97 s\n"
     ]
    }
   ],
   "source": [
    "%%time\n",
    "params = param_estimation(interaction_matrix_ffl)"
   ]
  },
  {
   "cell_type": "code",
   "execution_count": 203,
   "metadata": {},
   "outputs": [],
   "source": [
    "substrate_matrix = get_network_nucleus(interaction_matrix, motifs_orig, motifs_network, \n",
    "                                      min_size=200, random_seed=19)"
   ]
  },
  {
   "cell_type": "code",
   "execution_count": 314,
   "metadata": {},
   "outputs": [
    {
     "name": "stdout",
     "output_type": "stream",
     "text": [
      "Number of TG in motif distribution:\n",
      "0    0.123596\n",
      "1    0.876404\n",
      "dtype: float64\n",
      "\n",
      "Node patricipation distribution:\n",
      "1.0    0.570\n",
      "2.0    0.080\n",
      "3.0    0.050\n",
      "4.0    0.045\n",
      "7.0    0.040\n",
      "dtype: float64\n",
      "\n",
      "Unique nodes number distribution\n",
      "0    0.755056\n",
      "1    0.233708\n",
      "2    0.011236\n",
      "dtype: float64\n",
      "\n",
      "Is edge unique? (for 1-unique node motifs)\n",
      "False    0.886792\n",
      "True     0.113208\n",
      "dtype: float64\n",
      "\n",
      "Distribution of X-unique edges motifs (for 0-unique nodes motifs)\n",
      "1    57\n",
      "2    10\n",
      "3     0\n",
      "dtype: int64\n",
      "1    0.850746\n",
      "2    0.149254\n",
      "3    0.000000\n",
      "dtype: float64\n",
      "\n",
      "CPU times: user 479 ms, sys: 203 ms, total: 682 ms\n",
      "Wall time: 2.48 s\n"
     ]
    }
   ],
   "source": [
    "%%time\n",
    "network_params = param_estimation(substrate_matrix)"
   ]
  },
  {
   "cell_type": "code",
   "execution_count": 329,
   "metadata": {},
   "outputs": [
    {
     "data": {
      "text/plain": [
       "(214, None, 1, None, 0, 1, 0)"
      ]
     },
     "execution_count": 329,
     "metadata": {},
     "output_type": "execute_result"
    }
   ],
   "source": [
    "attachment_params = get_attachment_params(network_params)\n",
    "attachment_params[1:]"
   ]
  },
  {
   "cell_type": "code",
   "execution_count": null,
   "metadata": {},
   "outputs": [],
   "source": []
  },
  {
   "cell_type": "code",
   "execution_count": null,
   "metadata": {},
   "outputs": [],
   "source": []
  },
  {
   "cell_type": "code",
   "execution_count": null,
   "metadata": {},
   "outputs": [],
   "source": []
  },
  {
   "cell_type": "code",
   "execution_count": null,
   "metadata": {},
   "outputs": [],
   "source": []
  },
  {
   "cell_type": "code",
   "execution_count": null,
   "metadata": {},
   "outputs": [],
   "source": []
  },
  {
   "cell_type": "code",
   "execution_count": null,
   "metadata": {},
   "outputs": [],
   "source": []
  },
  {
   "cell_type": "code",
   "execution_count": null,
   "metadata": {},
   "outputs": [],
   "source": []
  },
  {
   "cell_type": "code",
   "execution_count": null,
   "metadata": {},
   "outputs": [],
   "source": []
  },
  {
   "cell_type": "markdown",
   "metadata": {},
   "source": [
    "# Vertex-based motif network on FFL"
   ]
  },
  {
   "cell_type": "code",
   "execution_count": 8,
   "metadata": {},
   "outputs": [
    {
     "name": "stderr",
     "output_type": "stream",
     "text": [
      "100%|██████████| 5676765/5676765 [00:17<00:00, 327836.73it/s]\n"
     ]
    }
   ],
   "source": [
    "motifs_network = f.build_vmn(motifs_orig, verbose=True)"
   ]
  },
  {
   "cell_type": "code",
   "execution_count": 9,
   "metadata": {},
   "outputs": [
    {
     "data": {
      "text/plain": [
       "True"
      ]
     },
     "execution_count": 9,
     "metadata": {},
     "output_type": "execute_result"
    }
   ],
   "source": [
    "V = nx.Graph(motifs_network)\n",
    "nx.is_connected(V)"
   ]
  },
  {
   "cell_type": "markdown",
   "metadata": {},
   "source": [
    "# Generation algorithm"
   ]
  },
  {
   "cell_type": "markdown",
   "metadata": {},
   "source": [
    "#### Nucleation\n",
    "One needs a piece of the real network to get reasonable probability estimates for further preferential attachment workflow"
   ]
  },
  {
   "cell_type": "code",
   "execution_count": 10,
   "metadata": {},
   "outputs": [],
   "source": [
    "def get_network_nucleus(\n",
    "    interaction_matrix, motifs, motifs_network, min_size, random_seed=cfg[\"RANDOM_SEED\"]\n",
    "):\n",
    "    \"\"\"\n",
    "    Getting subsample from real network as a nucleus for artificial network\n",
    "    ________________________________________________________________________\n",
    "    interaction_matrix (numpy.array) - binary interaction matrix for genes\n",
    "    motifs (numpy.array) - list of unique identifiers for condidered motifs (FFL triads)\n",
    "    motifs_network (numpy.array) - vertex-based motifs network (linkage by shared nodes)\n",
    "    min_size (int) - minimal required size of resulting nucleus (may be slightly higher eventually)\n",
    "    random_seed (int) - reproducibility parameter\n",
    "    \n",
    "    \"\"\"\n",
    "    np.random.seed(random_seed)\n",
    "    substrate_motif_idxs = [np.random.randint(len(motifs))]\n",
    "    substrate_motifs = np.array([motifs[i] for i in substrate_motif_idxs])\n",
    "    substrate_size = len(set(sum([f.split_motif(motif) for motif in substrate_motifs], [])))\n",
    "\n",
    "    # grow network nucleus while required size obtained\n",
    "    while substrate_size < min_size:\n",
    "        neighbors = np.where(motifs_network[:, substrate_motif_idxs].sum(axis=1) != 0)[0]\n",
    "        neighbors = np.array(list(set(neighbors) - set(substrate_motif_idxs)))\n",
    "        # assignment of weights to candidate motifs by their connectivity\n",
    "        # with already selected motifs grown substrate network\n",
    "        weights = motifs_network[neighbors, :][:, substrate_motif_idxs].sum(axis=1)\n",
    "        weights /= sum(weights)\n",
    "        substrate_motif_idxs.append(np.random.choice(neighbors, size=1, p=weights)[0])\n",
    "        substrate_motifs = np.array([motifs[i] for i in substrate_motif_idxs])\n",
    "        substrate_size = len(set(sum([f.split_motif(motif) for motif in substrate_motifs], [])))\n",
    "\n",
    "    # interaction matrix building\n",
    "    G = nx.DiGraph()\n",
    "    for motif in substrate_motifs:\n",
    "        nodes = f.split_motif(motif)\n",
    "        M = nx.DiGraph(interaction_matrix[nodes, :][:, nodes])\n",
    "        M = nx.relabel_nodes(M, mapping={i: node for i, node in enumerate(nodes)})\n",
    "        G = nx.compose(G, M)\n",
    "    substrate_matrix = nx.convert_matrix.to_numpy_array(G)\n",
    "    return substrate_matrix"
   ]
  },
  {
   "cell_type": "markdown",
   "metadata": {},
   "source": [
    "#### Parametrization\n",
    "Motif types and number of shared nodes distributions inference. \n",
    "\n",
    "The support set for FFL motif type by TF/TG content is {TTT, TTG} where T and G are for TF and TG respectively.\n",
    "\n",
    "The support set for the number of shared nodes is {1, 2}. We are not considering 0 as we focus only on the largest connected component of FFL VMN which actually contains all of the FFLs in the yeast Tnet and nearly all (99%) in E.coli Tnet"
   ]
  },
  {
   "cell_type": "code",
   "execution_count": 11,
   "metadata": {},
   "outputs": [],
   "source": [
    "def get_network_params(interaction_matrix, verbose=True):\n",
    "    # motif search\n",
    "    motifs, counter = f.motif_search(\n",
    "        cfg, interaction_matrix, batch_size=10000, verbose=False\n",
    "    )\n",
    "    motifs = motifs[\"030T\"]\n",
    "    # TF/TG recognition\n",
    "    tf_nodes = np.where(interaction_matrix.sum(axis=0) != 0)[0]\n",
    "    tg_nodes = np.where(interaction_matrix.sum(axis=0) == 0)[0]\n",
    "    # motif type distribution\n",
    "    n_tg_nodes_list = np.array(\n",
    "        [len(set(f.split_motif(motif)) - set(tf_nodes)) for motif in motifs]\n",
    "    )\n",
    "    mtype_probs = pd.Series(n_tg_nodes_list).value_counts(normalize=True).sort_index()\n",
    "    if verbose:\n",
    "        prob = len(tf_nodes)/interaction_matrix.shape[0]\n",
    "        print(f\"TF content: {prob}\")\n",
    "        print(\"Number of TG in motif distribution:\")\n",
    "        print(mtype_probs)\n",
    "        print()\n",
    "    # nodes participation in FFL\n",
    "    node_part = np.zeros(interaction_matrix.shape[0])\n",
    "    for triad in motifs:\n",
    "        for x in map(int, triad.split(\"_\")):\n",
    "            node_part[x] += 1\n",
    "    node_part = pd.Series(node_part)\n",
    "    if verbose:\n",
    "        print(\"Node patricipation distribution:\")\n",
    "        print(node_part.value_counts(normalize=True).head())\n",
    "        print()\n",
    "    # Distribution of X-unique nodes motifs number\n",
    "    edges_1 = []\n",
    "    motifs_0 = []\n",
    "    types = {i: 0 for i in range(3)}\n",
    "    for triad in motifs:\n",
    "        res = 0\n",
    "        i = 0\n",
    "        for x in map(int, triad.split(\"_\")):\n",
    "            res += node_part[x] == 1\n",
    "            if node_part[x] == 1:\n",
    "                i = x\n",
    "        types[res] += 1\n",
    "        if res == 1:\n",
    "            edges_1.append(set(f.split_motif(triad))-set([i]))\n",
    "        if res == 0:\n",
    "            motifs_0.append(triad)\n",
    "    types = pd.Series(types)\n",
    "    unique_nodes = types/sum(types)\n",
    "    if verbose:\n",
    "        print(\"Unique nodes number distribution\")\n",
    "        print(unique_nodes)\n",
    "        print()\n",
    "    #  Is edge unique? (for 1-unique node motifs)\n",
    "    edges_1_part = {\"_\".join(map(str, sorted(edge))): 0 for edge in edges_1}\n",
    "    for triad in motifs:\n",
    "        for x in combinations(f.split_motif(triad), 2):\n",
    "            edge_1 = \"_\".join(map(str, sorted(x)))\n",
    "            try:\n",
    "                edges_1_part[edge_1] += 1\n",
    "            except KeyError:\n",
    "                pass\n",
    "    edges_1_part = pd.Series(edges_1_part)\n",
    "    unique_edges_1 = (edges_1_part == 1).value_counts(normalize=True)\n",
    "    if verbose:\n",
    "        print(\"Is edge unique? (for 1-unique node motifs)\")\n",
    "        print(unique_edges_1)\n",
    "        print()\n",
    "    # Distribution of X-unique edges motifs (for 0-unique nodes motifs)\n",
    "    edges_0_part = {}\n",
    "    for triad in motifs_0:\n",
    "        for x in combinations(f.split_motif(triad), 2):\n",
    "            edge_0 = \"_\".join(map(str, sorted(x)))\n",
    "            try:\n",
    "                edges_0_part[edge_0] += 1\n",
    "            except KeyError:\n",
    "                edges_0_part[edge_0] = 1\n",
    "    edges_0_part = pd.Series(edges_0_part)\n",
    "    edge_types = {i: 0 for i in range(4)}\n",
    "    for triad in motifs_0:\n",
    "        res = 0\n",
    "        for x in combinations(f.split_motif(triad), 2):\n",
    "            edge_0 = \"_\".join(map(str, sorted(x)))\n",
    "            res += edges_0_part[edge_0] == 1\n",
    "        edge_types[res] += 1\n",
    "    edge_types = pd.Series(edge_types)\n",
    "    unique_edges_0 = edge_types/sum(edge_types)\n",
    "    if verbose:\n",
    "        print(\"Distribution of X-unique edges motifs (for 0-unique nodes motifs)\")\n",
    "        print(edge_types)\n",
    "        print(unique_edges_0)\n",
    "        print()\n",
    "    Params = namedtuple(\n",
    "        \"Params\", \"substrate_motifs tf_nodes tg_nodes mtype_probs unique_nodes unique_edges_1 unique_edges_0\"\n",
    "    )\n",
    "    params = Params(\n",
    "        *[motifs, tf_nodes, tg_nodes, mtype_probs, unique_nodes, unique_edges_1, unique_edges_0]\n",
    "    )\n",
    "    return params"
   ]
  },
  {
   "cell_type": "markdown",
   "metadata": {},
   "source": [
    "#### Single attachment step"
   ]
  },
  {
   "cell_type": "markdown",
   "metadata": {},
   "source": [
    "Random selection of the inner/outer motif types and number of shared nodes with probabilities from the previous step"
   ]
  },
  {
   "cell_type": "code",
   "execution_count": 22,
   "metadata": {},
   "outputs": [],
   "source": [
    "def get_attachment_params(substrate_matrix, params, growth_pace=None):\n",
    "    \"\"\"\n",
    "    Selection of inner/outer motifs and number of shared nodes\n",
    "    ________________________________________________________________________\n",
    "    params - network parameters from previous stage of analysis (see get_network_params)\n",
    "    \"\"\"\n",
    "    \n",
    "    # number of unique nodes in the outer motif\n",
    "    unique_nodes = params.unique_nodes.loc[[0, 1]]\n",
    "    unique_nodes = unique_nodes/sum(unique_nodes)\n",
    "    if growth_pace is not None:\n",
    "        unique_nodes[1] = growth_pace\n",
    "        unique_nodes[0] = 1 - growth_pace\n",
    "    n_unique_nodes = np.random.choice(\n",
    "        unique_nodes.index, p=unique_nodes.values\n",
    "    )\n",
    "#     n_unique_nodes = np.random.choice(\n",
    "#         params.unique_nodes.index, p=params.unique_nodes.values\n",
    "#     )\n",
    "    # number of unique edges in the outer motif\n",
    "    n_unique_edges = None\n",
    "    if n_unique_nodes == 1:\n",
    "        n_unique_edges = 0\n",
    "#         n_unique_edges = int(np.random.choice(\n",
    "#             params.unique_edges_1.index, p=params.unique_edges_1.values\n",
    "#         ))\n",
    "    elif n_unique_nodes == 0:\n",
    "        unique_edges_0 = params.unique_edges_0.loc[[1, 2]]\n",
    "        unique_edges_0 = unique_edges_0/sum(unique_edges_0)\n",
    "        n_unique_edges = int(np.random.choice(\n",
    "            unique_edges_0.index, p=unique_edges_0.values\n",
    "        ))\n",
    "#         n_unique_edges = int(np.random.choice(\n",
    "#             params.unique_edges_0.index, p=params.unique_edges_0.values\n",
    "#         ))\n",
    "    # buiding VMN for motifs\n",
    "    substrate_vmn = f.build_vmn(params.substrate_motifs)    \n",
    "    \n",
    "    # motif selection for 1 node/2 edges attachment case\n",
    "    if n_unique_nodes == 1 and n_unique_edges == 0:\n",
    "        substrate_type_idxs = list(range(len(params.substrate_motifs)))\n",
    "        substrate_type_vmn = substrate_vmn\n",
    "        weights = substrate_type_vmn.sum(axis=1)\n",
    "        weights /= sum(weights)\n",
    "        inner_motif_1_idx = np.random.choice(substrate_type_idxs, p=weights)\n",
    "        inner_motif_2_idx = None\n",
    "    # motif selection for 0 nodes/1 edges attachment case\n",
    "    elif n_unique_nodes == 0 and n_unique_edges == 1:\n",
    "        substrate_type_idxs = np.where((substrate_vmn==1)|(substrate_vmn==2))[0]\n",
    "        substrate_type_vmn = substrate_vmn[substrate_type_idxs, :]\n",
    "        weights = substrate_type_vmn.sum(axis=1)\n",
    "        weights /= sum(weights)\n",
    "        while True:\n",
    "#             inner_motif_1_idx = np.random.choice(substrate_type_idxs, p=weights)\n",
    "            inner_motif_1_idx = np.random.choice(substrate_type_idxs)\n",
    "            line = substrate_vmn[inner_motif_1_idx, :]\n",
    "            inner_motif_2_idx = np.random.choice(np.where((line==1)|(line==2))[0])\n",
    "            # check if there at least one pair of nodes with no link between\n",
    "            inner_motif_1 = f.split_motif(params.substrate_motifs[inner_motif_1_idx])\n",
    "            inner_motif_2 = f.split_motif(params.substrate_motifs[inner_motif_2_idx])\n",
    "            indecies = list(set(inner_motif_1) | set(inner_motif_2))\n",
    "            a = substrate_matrix[indecies, :][:, indecies]\n",
    "            if not (a + a.T + np.diag([1]*a.shape[0]) == 1).all():\n",
    "                break\n",
    "\n",
    "    # motif selection for 0 nodes/2 edges attachment case\n",
    "    elif n_unique_nodes == 0 and n_unique_edges == 2:\n",
    "        substrate_type_idxs = np.where((substrate_vmn==1)|(substrate_vmn==0))[0]\n",
    "        substrate_type_vmn = substrate_vmn[substrate_type_idxs, :]\n",
    "        weights = substrate_type_vmn.sum(axis=1)\n",
    "        weights /= sum(weights)\n",
    "        while True:\n",
    "#             inner_motif_1_idx = np.random.choice(substrate_type_idxs, p=weights)\n",
    "            inner_motif_1_idx = np.random.choice(substrate_type_idxs)\n",
    "            line = substrate_vmn[inner_motif_1_idx, :]\n",
    "            inner_motif_2_idx = np.random.choice(np.where((line==1)|(line==0))[0])\n",
    "            # check if there at least one node with no links with two others\n",
    "            inner_motif_1 = f.split_motif(params.substrate_motifs[inner_motif_1_idx])\n",
    "            inner_motif_2 = f.split_motif(params.substrate_motifs[inner_motif_2_idx])\n",
    "            indecies = list(set(inner_motif_1) | set(inner_motif_2))\n",
    "            a = substrate_matrix[indecies, :][:, indecies]\n",
    "            b = a + a.T; b\n",
    "            if sum(np.array([b.shape[0] - np.count_nonzero(x) for x in b]) >= 3):\n",
    "                break\n",
    "        \n",
    "    # determine types \n",
    "    intype_1 = len(set(f.split_motif(params.substrate_motifs[inner_motif_1_idx])) - set(params.tf_nodes))\n",
    "    if inner_motif_2_idx is not None:\n",
    "        intype_2 = len(set(f.split_motif(params.substrate_motifs[inner_motif_2_idx])) - set(params.tf_nodes))\n",
    "    else:\n",
    "        intype_2 = None\n",
    "    # incoming motif type selection\n",
    "    outtype = np.random.binomial(1, p=0.5)\n",
    "#     outtype = np.random.binomial(1, p=len(params.tg_nodes)/substrate_matrix.shape[0])\n",
    "    # results packing\n",
    "    Params = namedtuple(\n",
    "        \"Params\", \"substrate_motifs inner_motif_1_idx inner_motif_2_idx intype_1 intype_2 outtype n_unique_nodes n_unique_edges\"\n",
    "    )\n",
    "    params = Params(\n",
    "        *[params.substrate_motifs, inner_motif_1_idx, inner_motif_2_idx, intype_1, intype_2, outtype, n_unique_nodes, n_unique_edges]\n",
    "    )\n",
    "    return params"
   ]
  },
  {
   "cell_type": "markdown",
   "metadata": {},
   "source": [
    "Now is the most tricky part. \n",
    "\n",
    "Selection an attachment pattern by the inner/outer motif types and the number of shared nodes fixed on the previous step. The approach strongly depends on the number of shared nodes"
   ]
  },
  {
   "cell_type": "markdown",
   "metadata": {},
   "source": [
    "Shared node case"
   ]
  },
  {
   "cell_type": "markdown",
   "metadata": {},
   "source": [
    "<img src=\"./pics/shared_node_pattern.png\" width=600 height=20/>"
   ]
  },
  {
   "cell_type": "markdown",
   "metadata": {},
   "source": [
    "After a thorough investigation we concluded the following list of patterns:\n",
    "\n",
    "(inner motif type / outer motif type / isoforms number)\n",
    "\n",
    "- TTT / TTT - 9 variants\n",
    "- TTT / TTG - 6 variants\n",
    "- TTG / TTT - 6 variants\n",
    "- TTG / TTG - 5 variants"
   ]
  },
  {
   "cell_type": "code",
   "execution_count": 23,
   "metadata": {},
   "outputs": [],
   "source": [
    "def get_attachment_matrix_shared_node(substrate_matrix, params):\n",
    "    \"\"\"\n",
    "    Attachment patterns constructing for shared node case and random selection the particular one\n",
    "    ________________________________________________________________________\n",
    "    substrate_matrix - the netwotk we are growing\n",
    "    params - attachment parameters from previous stage of analysis (see get_attachment_params)\n",
    "    \"\"\"\n",
    "    inner_motif = f.split_motif(params.substrate_motifs[params.inner_motif_idx])\n",
    "    inner_motif_matrix = substrate_matrix[inner_motif, :][:, inner_motif]\n",
    "    outer_motif_matrix = f.build_motif_from_string(\"0 1 1 0 0 1 0 0 0\")\n",
    "    # check if there are target genes in the considered motifs\n",
    "    tg_in = inner_motif_matrix.sum(axis=0).argmin() if params.intype == 1 else None\n",
    "    tg_out = outer_motif_matrix.sum(axis=0).argmin() if params.outtype == 1 else None\n",
    "    patterns = [] # accumulator of appropriate pattern\n",
    "    for idx_in, role_out in product(*[range(3)]*2):\n",
    "        # filtering out inappropriate patterns (by target gene )\n",
    "        if (idx_in != tg_in) & (role_out == tg_out):\n",
    "            continue\n",
    "        if (idx_in == tg_in) & (role_out != tg_out):\n",
    "            continue\n",
    "        I = nx.DiGraph(inner_motif_matrix)\n",
    "        O = nx.DiGraph(outer_motif_matrix)\n",
    "        mapping = {i: i+3 for i in range(3)}\n",
    "        mapping[role_out] = idx_in\n",
    "        O = nx.relabel_nodes(O, mapping=mapping)\n",
    "        C = nx.compose(I, O)\n",
    "        compounded_matrix = nx.convert_matrix.to_numpy_array(C)\n",
    "        patterns.append(compounded_matrix)\n",
    "    attachment_matrix = patterns[np.random.randint(len(patterns))]\n",
    "    return attachment_matrix"
   ]
  },
  {
   "cell_type": "markdown",
   "metadata": {},
   "source": [
    "#### Attach 1 node and 2 edges"
   ]
  },
  {
   "cell_type": "markdown",
   "metadata": {},
   "source": [
    "<img src=\"./pics/shared_edge_pattern.png\" width=600 height=20/>"
   ]
  },
  {
   "cell_type": "markdown",
   "metadata": {},
   "source": [
    "Results of isoforms diversity analysis:\n",
    "\n",
    "(inner motif type / outer motif type / isoforms number)\n",
    "\n",
    "- TTT / TTT - 9 variants\n",
    "- TTT / TTG - 3 variants\n",
    "- TTG / TTT - 3 variants\n",
    "- TTG / TTG - 5 variants"
   ]
  },
  {
   "cell_type": "code",
   "execution_count": 24,
   "metadata": {},
   "outputs": [],
   "source": [
    "def get_outer_motif_matrix(role_edge):\n",
    "    \"\"\"\n",
    "    Selection of incoming motif matrix based on shared edge type\n",
    "    \"\"\"\n",
    "    if role_edge == (2, 1):\n",
    "        return f.build_motif_from_string(\"0 1 1 0 0 0 0 1 0\")\n",
    "    if role_edge == (2, 0):\n",
    "        return f.build_motif_from_string(\"0 1 0 0 0 0 1 1 0\")\n",
    "    if role_edge == (1, 0):\n",
    "        return f.build_motif_from_string(\"0 0 0 1 0 0 1 1 0\")"
   ]
  },
  {
   "cell_type": "code",
   "execution_count": 25,
   "metadata": {},
   "outputs": [],
   "source": [
    "def get_attachment_1n2e(substrate_matrix, params):\n",
    "    \"\"\"\n",
    "    Attachment patterns constructing for shared edge case and random selection the particular one\n",
    "    ________________________________________________________________________\n",
    "    substrate_matrix - the netwotk we are growing\n",
    "    params - attachment parameters from previous stage of analysis (see get_attachment_params)\n",
    "    \"\"\"\n",
    "    tg_total = np.where(substrate_matrix.sum(axis=0) == 0)[0]\n",
    "    inner_motif = f.split_motif(params.substrate_motifs[params.inner_motif_1_idx])\n",
    "    inner_motif_matrix = substrate_matrix[inner_motif, :][:, inner_motif]\n",
    "    inner_nodes_roles = list(inner_motif_matrix.sum(axis=0).astype(int))\n",
    "    # check if there is a target gene\n",
    "    tg_in = inner_nodes_roles.index(0) if params.intype_1 == 1 else None\n",
    "    # assignment roles and corresponding identifiers to the edges\n",
    "    role_edges = list(combinations(range(2, -1, -1), 2))\n",
    "    idx_by_role = lambda x: inner_nodes_roles.index(x)\n",
    "    idx_edges_in = [(idx_by_role(source), idx_by_role(target)) for source, target in role_edges]\n",
    "    patterns = []\n",
    "    \n",
    "    prob = len(tg_total)/substrate_matrix.shape[0]\n",
    "    if params.outtype == 1:\n",
    "        append_gene = np.random.binomial(1, p=prob*(2-prob))\n",
    "    else:\n",
    "        append_gene = np.random.binomial(1, p=prob)\n",
    "\n",
    "    for idx_edge_in, role_edge_out in product(idx_edges_in, role_edges):\n",
    "        outer_motif_matrix = get_outer_motif_matrix(role_edge_out)\n",
    "        outer_nodes_roles = list(outer_motif_matrix.sum(axis=0).astype(int))\n",
    "        # reveal positions by known edges roles\n",
    "        idx_by_role = lambda x: outer_nodes_roles.index(x)\n",
    "        idx_edge_out = tuple(idx_by_role(v) for v in role_edge_out)\n",
    "        # check if there is a target gene\n",
    "        tg_out = outer_motif_matrix.sum(axis=0).argmin() if params.outtype == 1 else None\n",
    "        \n",
    "        if tg_out is not None and tg_out not in idx_edge_out and not append_gene:\n",
    "            continue\n",
    "        \n",
    "        if append_gene and not(tg_out is not None and tg_out not in idx_edge_out):\n",
    "            continue\n",
    "        \n",
    "        # filtering out inappropriate patterns (by target gene )\n",
    "        if (idx_edge_in[0] != tg_in) & (idx_edge_out[0] == tg_out):\n",
    "            continue\n",
    "        if (idx_edge_in[0] == tg_in) & (idx_edge_out[0] != tg_out):\n",
    "            continue\n",
    "        if (idx_edge_in[1] != tg_in) & (idx_edge_out[1] == tg_out):\n",
    "            continue\n",
    "        if (idx_edge_in[1] == tg_in) & (idx_edge_out[1] != tg_out):\n",
    "            continue\n",
    "        I = nx.DiGraph(inner_motif_matrix)\n",
    "        O = nx.DiGraph(outer_motif_matrix)\n",
    "        mapping = {i: i+3 for i in range(3)}\n",
    "        mapping[1], mapping[2] = idx_edge_in\n",
    "        O = nx.relabel_nodes(O, mapping=mapping)\n",
    "        C = nx.compose(I, O)\n",
    "        compounded_matrix = nx.convert_matrix.to_numpy_array(C)\n",
    "        patterns.append(compounded_matrix)\n",
    "    if patterns:\n",
    "        attachment_matrix = patterns[np.random.randint(len(patterns))]\n",
    "    else:\n",
    "        attachment_matrix = None\n",
    "    return attachment_matrix"
   ]
  },
  {
   "cell_type": "markdown",
   "metadata": {},
   "source": [
    "#### Attach 0 nodes and 1 edge"
   ]
  },
  {
   "cell_type": "code",
   "execution_count": 26,
   "metadata": {},
   "outputs": [],
   "source": [
    "def prepare_motif_libs():\n",
    "    dl_lib = [\n",
    "        \"\".join(map(str, x.flatten().astype(int))) for x in\n",
    "        f.get_equivalents(f.build_motif_from_string(\"0 0 0 1 0 0 1 0 0\"))\n",
    "    ]\n",
    "    ul_lib = [\n",
    "        \"\".join(map(str, x.flatten().astype(int))) for x in\n",
    "        f.get_equivalents(f.build_motif_from_string(\"0 1 1 0 0 0 0 0 0\"))\n",
    "    ]\n",
    "    cs_lib = [\n",
    "        \"\".join(map(str, x.flatten().astype(int))) for x in\n",
    "        f.get_equivalents(f.build_motif_from_string(\"0 1 0 0 0 0 1 0 0\"))\n",
    "    ]\n",
    "    return dl_lib, ul_lib, cs_lib"
   ]
  },
  {
   "cell_type": "code",
   "execution_count": 27,
   "metadata": {},
   "outputs": [],
   "source": [
    "def get_attachment_0n1e(substrate_matrix, params):\n",
    "    \"\"\"\n",
    "    Attachment patterns constructing for one edge attachment case \n",
    "    and random selection the particular one\n",
    "    ________________________________________________________________________\n",
    "    substrate_matrix - the netwotk we are growing\n",
    "    params - attachment parameters from previous stage of analysis (see get_attachment_params)\n",
    "    \"\"\"\n",
    "    dl_lib, ul_lib, cs_lib = prepare_motif_libs()\n",
    "    inner_motif_1 = f.split_motif(params.substrate_motifs[params.inner_motif_1_idx])\n",
    "    inner_motif_2 = f.split_motif(params.substrate_motifs[params.inner_motif_2_idx])\n",
    "    tf_total = np.where(substrate_matrix.sum(axis=0) != 0)[0]\n",
    "    tg_total = np.where(substrate_matrix.sum(axis=0) == 0)[0]\n",
    "#     print(\"Motifs:\", inner_motif_1, inner_motif_2)\n",
    "    # if there tg nodes in this motif pair\n",
    "    tg_nodes = (set(inner_motif_1) | set(inner_motif_2)) & set(tg_total)\n",
    "#     print(\"TG nodes\", tg_nodes)\n",
    "    # separate nodes by motif they belong to (or both of them)\n",
    "    shared_nodes = list(set(inner_motif_1) & set(inner_motif_2))\n",
    "#     print(\"Shared nodes:\", shared_nodes)\n",
    "    unique_nodes_1 = list(set(inner_motif_1) - set(inner_motif_2))\n",
    "#     print(\"Unique nodes 1:\", unique_nodes_1)\n",
    "    unique_nodes_2 = list(set(inner_motif_2) - set(inner_motif_1))\n",
    "#     print(\"Unique nodes 2:\", unique_nodes_2)    \n",
    "    # construct all possible triads (common vertex - node in 1st motif - node in 2nd motif)\n",
    "    triads = product(shared_nodes, product(unique_nodes_1, unique_nodes_2))\n",
    "    get_type = lambda triad: len(set(triad) - set(tf_total))\n",
    "    triads = [(x, y, z) for x, (y, z) in triads if get_type((x, y, z))==params.outtype]\n",
    "#     print(triads)\n",
    "    # accumulate possible links upon base motif\n",
    "    possible_links = []\n",
    "    for triad in triads:\n",
    "#         print(triad)\n",
    "        triad_matrix = substrate_matrix[triad, :][:, triad]\n",
    "        triad_str = \"\".join(map(str, triad_matrix.flatten().astype(int)))\n",
    "        node_1, node_2 = triad[1:]\n",
    "        if triad_str in dl_lib:\n",
    "#             print(\"downlink base motif\")\n",
    "#             print(triad_matrix)\n",
    "            if node_2 not in tg_nodes:\n",
    "                possible_links.append((node_1, node_2))\n",
    "            if node_1 not in tg_nodes:\n",
    "                possible_links.append((node_2, node_1))\n",
    "        elif triad_str in ul_lib:\n",
    "#             print(\"uplink base motif\")\n",
    "#             print(triad_matrix)\n",
    "            possible_links.append((node_1, node_2))\n",
    "            possible_links.append((node_2, node_1))\n",
    "        elif triad_str in cs_lib:\n",
    "#             print(\"cascade base motif\")\n",
    "#             print(triad_matrix)\n",
    "#             print(triad_str, triad_str[3])\n",
    "            if triad_str[3] == \"1\":\n",
    "#                 print(1, node_1, node_2)\n",
    "                possible_links.append((node_1, node_2))\n",
    "            else:\n",
    "                possible_links.append((node_2, node_1))\n",
    "#         print(possible_links)\n",
    "    possible_links = list(set(possible_links))\n",
    "    if possible_links:\n",
    "        link_to_attach = possible_links[np.random.choice(range(len(possible_links)))]\n",
    "    else:\n",
    "        link_to_attach = None\n",
    "    return link_to_attach"
   ]
  },
  {
   "cell_type": "markdown",
   "metadata": {},
   "source": [
    "#### Attach 0 nodes and 2 edge"
   ]
  },
  {
   "cell_type": "code",
   "execution_count": 28,
   "metadata": {},
   "outputs": [],
   "source": [
    "def get_attachment_0n2e(substrate_matrix, params):\n",
    "    \"\"\"\n",
    "    Attachment patterns constructing for two edges attachment case \n",
    "    and random selection the particular one\n",
    "    ________________________________________________________________________\n",
    "    substrate_matrix - the netwotk we are growing\n",
    "    params - attachment parameters from previous stage of analysis (see get_attachment_params)\n",
    "    \"\"\"\n",
    "    inner_motif_1 = f.split_motif(params.substrate_motifs[params.inner_motif_1_idx])\n",
    "    inner_motif_2 = f.split_motif(params.substrate_motifs[params.inner_motif_2_idx])\n",
    "    tf_total = np.where(substrate_matrix.sum(axis=0) != 0)[0]\n",
    "    tg_total = np.where(substrate_matrix.sum(axis=0) == 0)[0]\n",
    "#     print(\"Motifs:\", inner_motif_1, inner_motif_2)\n",
    "    # if there tg nodes in this motif pair\n",
    "    tg_nodes = (set(inner_motif_1) | set(inner_motif_2)) & set(tg_total)\n",
    "#     print(\"TG nodes\", tg_nodes)\n",
    "    # separate nodes by motif they belong to (or both of them)\n",
    "    shared_nodes = list(set(inner_motif_1) & set(inner_motif_2))\n",
    "#     print(\"Shared nodes:\", shared_nodes)\n",
    "    unique_nodes_1 = list(set(inner_motif_1) - set(inner_motif_2))\n",
    "#     print(\"Unique nodes 1:\", unique_nodes_1)\n",
    "    unique_nodes_2 = list(set(inner_motif_2) - set(inner_motif_1))\n",
    "#     print(\"Unique nodes 2:\", unique_nodes_2)\n",
    "    # triads construction\n",
    "    triads = []\n",
    "    if len(shared_nodes) == 1:\n",
    "        unique_nodes = [unique_nodes_1, unique_nodes_2]\n",
    "        for i in range(2):\n",
    "            y, z =  unique_nodes[i-1]\n",
    "            for x in unique_nodes[i]:\n",
    "                # check if there is a place for two new links\n",
    "                if substrate_matrix[(x, y, z), :][:, (x, y, z)].sum() == 1:\n",
    "                    triads.append((x, y, z))\n",
    "    else:\n",
    "        edges_total = [list(combinations(inner_motif_1, 2)), list(combinations(inner_motif_2, 2))]\n",
    "        nodes_total = [inner_motif_1, inner_motif_2]\n",
    "        for i in range(2):\n",
    "            edges = edges_total[i]\n",
    "            nodes = nodes_total[i-1]\n",
    "            for y, z in edges:\n",
    "                for x in nodes:\n",
    "                    # check if there is a place for two new links\n",
    "                    if substrate_matrix[(x, y, z), :][:, (x, y, z)].sum() == 1:\n",
    "                        triads.append((x, y, z))\n",
    "    get_type = lambda triad: len(set(triad) - set(tf_total))\n",
    "    triads = [triad for triad in triads if get_type(triad)==params.outtype]\n",
    "    possible_link_pairs = []\n",
    "    for triad in triads:\n",
    "    #     print(triad)\n",
    "        triad_matrix = substrate_matrix[triad, :][:, triad]\n",
    "    #     print(triad_matrix)\n",
    "        target, source = map(lambda x: x[0], np.where(triad_matrix == 1))\n",
    "        outer = list(set(range(3)) - set([target, source]))[0]\n",
    "        triad = tuple(triad[i] for i in [source, target, outer])\n",
    "    #     print(triad)\n",
    "        triad_matrix = substrate_matrix[triad, :][:, triad]\n",
    "    #     print(triad_matrix)\n",
    "        link_pairs = [\n",
    "            [(2, 0), (2, 1)], [(2, 0), (1, 2)], [(0, 2), (1, 2)]\n",
    "        ]\n",
    "        link_pairs = [\n",
    "            [(triad[i], triad[j]), (triad[k], triad[l])] for (i, j), (k, l) in link_pairs\n",
    "            if triad[j] not in tg_nodes and triad[l] not in tg_nodes\n",
    "        ]\n",
    "        possible_link_pairs += link_pairs\n",
    "#     print(len(possible_link_pairs))\n",
    "#     print(possible_link_pairs)\n",
    "    if possible_link_pairs:\n",
    "        link_pair = possible_link_pairs[np.random.choice(range(len(possible_link_pairs)))]\n",
    "    else:\n",
    "        link_pair = None\n",
    "    return link_pair  "
   ]
  },
  {
   "cell_type": "markdown",
   "metadata": {},
   "source": [
    "#### Update"
   ]
  },
  {
   "cell_type": "code",
   "execution_count": 29,
   "metadata": {},
   "outputs": [],
   "source": [
    "def update_substrate_matrix(substrate_matrix, attachment_pattern, inner_motif, nodes_attach=False):\n",
    "    \"\"\"\n",
    "    Substrate network update by selected attachment pattern\n",
    "    ________________________________________________________________________\n",
    "    substrate_matrix - the netwotk we are growing\n",
    "    attachment_matrix - randomly selected attachment pattern compatible with chosen params\n",
    "    inner_motif - inner triad we attach to\n",
    "    \"\"\"\n",
    "    substrate_matrix_upd = deepcopy(substrate_matrix)\n",
    "    if attachment_pattern is not None:\n",
    "        if nodes_attach:\n",
    "            n_nodes_to_join = int(attachment_pattern.shape[0] - 3)\n",
    "            substrate_matrix_upd = np.concatenate(\n",
    "                (substrate_matrix_upd, np.zeros((n_nodes_to_join, substrate_matrix_upd.shape[1]))), axis=0\n",
    "            )\n",
    "            substrate_matrix_upd = np.concatenate(\n",
    "                (substrate_matrix_upd, np.zeros((substrate_matrix_upd.shape[0], n_nodes_to_join))), axis=1\n",
    "            )\n",
    "            shape = substrate_matrix_upd.shape[0]\n",
    "            # interaction matrix update\n",
    "            substrate_matrix_upd[\n",
    "                np.ix_(range(shape-n_nodes_to_join, shape), range(shape-n_nodes_to_join, shape))\n",
    "            ] = attachment_pattern[np.ix_(range(3, 3+n_nodes_to_join) ,range(3, 3+n_nodes_to_join))]\n",
    "            substrate_matrix_upd[\n",
    "                np.ix_(range(shape-n_nodes_to_join, shape), inner_motif)\n",
    "            ] = attachment_pattern[np.ix_(range(3, 3+n_nodes_to_join) ,range(3))]\n",
    "            substrate_matrix_upd[\n",
    "                np.ix_(inner_motif, range(shape-n_nodes_to_join, shape))\n",
    "            ] = attachment_pattern[np.ix_(range(3), range(3, 3+n_nodes_to_join))]\n",
    "        else:\n",
    "            try:\n",
    "                (i, j), (k, l) = attachment_pattern\n",
    "                substrate_matrix_upd[i, j] = 1\n",
    "                substrate_matrix_upd[k, l] = 1\n",
    "            except TypeError:\n",
    "                i, j = attachment_pattern\n",
    "                substrate_matrix_upd[i, j] = 1\n",
    "    return substrate_matrix_upd"
   ]
  },
  {
   "cell_type": "code",
   "execution_count": null,
   "metadata": {},
   "outputs": [],
   "source": []
  },
  {
   "cell_type": "markdown",
   "metadata": {},
   "source": [
    "# Stack all in the pipeline"
   ]
  },
  {
   "cell_type": "code",
   "execution_count": 30,
   "metadata": {},
   "outputs": [],
   "source": [
    "def generate_artificial_network(\n",
    "    interaction_matrix, \n",
    "    motifs=None, \n",
    "    motifs_network=None, \n",
    "    nucleus_size=50,\n",
    "    growth_pace=None,\n",
    "    network_size = 1000,\n",
    "    reference_matrix=None,\n",
    "    random_seed=cfg[\"RANDOM_SEED\"]\n",
    "):\n",
    "    \"\"\"\n",
    "    Aggragated pipeline of artificial network generation\n",
    "    ________________________________________________________________________\n",
    "    interaction_matrix (numpy.array) \n",
    "        Binary interaction matrix for genes\n",
    "    motifs (numpy.array, default=None) \n",
    "        List of unique identifiers for condidered motifs (FFL triads). \n",
    "        If None motif counting is launched\n",
    "    motifs_network (numpy.array, default=None) \n",
    "        Vertex-based motifs network (linkage by shared nodes)\n",
    "        If None VMN buiding algorithm is launched\n",
    "    nucleus_size (int, default=50)\n",
    "        Minimal required size of initial nucleus. \n",
    "        The resulting size may be slightly higher as we may attach two nodes per time.\n",
    "    network_size (int, default=1000)\n",
    "        Required resulting network size.\n",
    "        The resulting size may be slightly higher as we may attach two nodes per time.\n",
    "    random_seed (int, default=19)\n",
    "        Reproducibility parameter\n",
    "    \"\"\"\n",
    "    assert (motifs is None) & (motifs_network is None) | (motifs is not None)\n",
    "    np.random.seed(random_seed)\n",
    "    init_time = datetime.now()\n",
    "    \n",
    "    # check if motifs are provided and search them otherwise \n",
    "    if motifs is None:\n",
    "        print(\"Motifs are not provided. Motif search is in progress...\")\n",
    "        motifs_orig, counter_orig = f.motif_search(\n",
    "            cfg, interaction_matrix, batch_size=10000, verbose=False\n",
    "        )\n",
    "        motifs = motifs_orig[\"030T\"]\n",
    "        print()\n",
    "    \n",
    "    # check if motifs are provided and search them otherwise \n",
    "    if motifs_network is None:\n",
    "        print(\"Vertex-based FFL net is not provided. VMN building is in progress...\")\n",
    "        motifs_network = f.build_vmn(motifs, verbose=False)\n",
    "        print()\n",
    "    \n",
    "    # nucleus subsampling\n",
    "    substrate_matrix = get_network_nucleus(\n",
    "        interaction_matrix, motifs, motifs_network, min_size=nucleus_size\n",
    "    )\n",
    "    print(f\"Nucleus matrix shape: {substrate_matrix.shape}\")\n",
    "    network_params = get_network_params(substrate_matrix, verbose=True)\n",
    "    print()\n",
    "    if reference_matrix is not None:\n",
    "        print(\"Reference matrix params\")\n",
    "        fix_network_params = get_network_params(reference_matrix, verbose=True)\n",
    "        print()\n",
    "    else:\n",
    "        fix_network_params = None\n",
    "    sleep(2)\n",
    "    # preferencial attachment start\n",
    "    substrate_size = substrate_matrix.shape[0]\n",
    "#     pbar_nodes = tqdm(initial=substrate_size, total=network_size)\n",
    "#     pbar_edges = tqdm(initial=substrate_matrix.sum())\n",
    "    i = 0\n",
    "    while substrate_size < network_size:\n",
    "        i += 1\n",
    "        network_params = get_network_params(substrate_matrix, verbose=False)\n",
    "        if fix_network_params is not None: \n",
    "            Params = namedtuple(\n",
    "                \"Params\", \"substrate_motifs tf_nodes tg_nodes mtype_probs unique_nodes unique_edges_1 unique_edges_0\"\n",
    "            )\n",
    "            network_params = Params(\n",
    "                *[network_params.substrate_motifs,\n",
    "                  network_params.tf_nodes,\n",
    "                  network_params.tg_nodes,\n",
    "                  fix_network_params.mtype_probs,\n",
    "                  fix_network_params.unique_nodes,\n",
    "                  fix_network_params.unique_edges_1,\n",
    "                  fix_network_params.unique_edges_0]\n",
    "            )\n",
    "        params = get_attachment_params(substrate_matrix, network_params, growth_pace=growth_pace)\n",
    "#         print(params[-5:])\n",
    "        if params.n_unique_nodes == 1:\n",
    "            attachment_pattern = get_attachment_1n2e(substrate_matrix, params)\n",
    "#             n_edges_to_join = 2\n",
    "        elif params.n_unique_nodes == 0 and params.n_unique_edges == 1:\n",
    "            attachment_pattern = get_attachment_0n1e(substrate_matrix, params)\n",
    "#             n_edges_to_join = 1\n",
    "        elif params.n_unique_nodes == 0 and params.n_unique_edges == 2:\n",
    "            attachment_pattern = get_attachment_0n2e(substrate_matrix, params)\n",
    "#             n_edges_to_join = 2\n",
    "        inner_motif = f.split_motif(params.substrate_motifs[params.inner_motif_1_idx])\n",
    "        nodes_attach = params.n_unique_nodes == 1\n",
    "        substrate_matrix = update_substrate_matrix(\n",
    "            substrate_matrix, attachment_pattern, inner_motif, nodes_attach\n",
    "        )\n",
    "        if nodes_attach and attachment_pattern is not None:\n",
    "            substrate_size = substrate_matrix.shape[0]\n",
    "            n_nodes_to_join = int(attachment_pattern.shape[0] - 3)\n",
    "#             pbar_nodes.update(n_nodes_to_join)\n",
    "#         pbar_edges.update(n_edges_to_join)\n",
    "        if i % 10 == 0:\n",
    "            print(f\"step: {i}\\tnodes: {substrate_matrix.shape[0]}\\tedeges: {substrate_matrix.sum()}\")\n",
    "#         print(\"\\n\\n\\n\")\n",
    "#     pbar_nodes.close()\n",
    "#     pbar_edges.close()\n",
    "    sleep(2)\n",
    "    print()\n",
    "    print(f\"Network has been successfully generated!\\nTotal time spent: {datetime.now() - init_time}\")\n",
    "    return substrate_matrix"
   ]
  },
  {
   "cell_type": "markdown",
   "metadata": {},
   "source": [
    "# Test launch"
   ]
  },
  {
   "cell_type": "code",
   "execution_count": null,
   "metadata": {},
   "outputs": [],
   "source": []
  },
  {
   "cell_type": "code",
   "execution_count": 31,
   "metadata": {},
   "outputs": [
    {
     "name": "stdout",
     "output_type": "stream",
     "text": [
      "Nucleus matrix shape: (50, 50)\n",
      "TF content: 0.26\n",
      "Number of TG in motif distribution:\n",
      "0    0.076923\n",
      "1    0.923077\n",
      "dtype: float64\n",
      "\n",
      "Node patricipation distribution:\n",
      "1.0     0.70\n",
      "2.0     0.10\n",
      "5.0     0.06\n",
      "10.0    0.04\n",
      "6.0     0.02\n",
      "dtype: float64\n",
      "\n",
      "Unique nodes number distribution\n",
      "0    0.403846\n",
      "1    0.519231\n",
      "2    0.076923\n",
      "dtype: float64\n",
      "\n",
      "Is edge unique? (for 1-unique node motifs)\n",
      "False    1.0\n",
      "dtype: float64\n",
      "\n",
      "Distribution of X-unique edges motifs (for 0-unique nodes motifs)\n",
      "0    10\n",
      "1    10\n",
      "2     1\n",
      "3     0\n",
      "dtype: int64\n",
      "0    0.476190\n",
      "1    0.476190\n",
      "2    0.047619\n",
      "3    0.000000\n",
      "dtype: float64\n",
      "\n",
      "\n",
      "Reference matrix params\n",
      "TF content: 0.10241465445462115\n",
      "Number of TG in motif distribution:\n",
      "0    0.049555\n",
      "1    0.950445\n",
      "dtype: float64\n",
      "\n",
      "Node patricipation distribution:\n",
      "1.0    0.457952\n",
      "2.0    0.175687\n",
      "3.0    0.094088\n",
      "4.0    0.048293\n",
      "5.0    0.034138\n",
      "dtype: float64\n",
      "\n",
      "Unique nodes number distribution\n",
      "0    0.837685\n",
      "1    0.161424\n",
      "2    0.000890\n",
      "dtype: float64\n",
      "\n",
      "Is edge unique? (for 1-unique node motifs)\n",
      "False    0.968153\n",
      "True     0.031847\n",
      "dtype: float64\n",
      "\n",
      "Distribution of X-unique edges motifs (for 0-unique nodes motifs)\n",
      "0    1545\n",
      "1    1042\n",
      "2     230\n",
      "3       6\n",
      "dtype: int64\n",
      "0    0.547290\n",
      "1    0.369111\n",
      "2    0.081474\n",
      "3    0.002125\n",
      "dtype: float64\n",
      "\n",
      "\n",
      "step: 10\tnodes: 56\tedeges: 112.0\n",
      "step: 20\tnodes: 58\tedeges: 121.0\n",
      "step: 30\tnodes: 60\tedeges: 130.0\n",
      "step: 40\tnodes: 62\tedeges: 138.0\n",
      "step: 50\tnodes: 64\tedeges: 146.0\n",
      "step: 60\tnodes: 67\tedeges: 156.0\n",
      "step: 70\tnodes: 69\tedeges: 166.0\n",
      "step: 80\tnodes: 74\tedeges: 177.0\n",
      "step: 90\tnodes: 78\tedeges: 189.0\n",
      "step: 100\tnodes: 81\tedeges: 201.0\n",
      "step: 110\tnodes: 83\tedeges: 207.0\n",
      "step: 120\tnodes: 86\tedeges: 215.0\n",
      "step: 130\tnodes: 87\tedeges: 220.0\n",
      "step: 140\tnodes: 90\tedeges: 229.0\n",
      "step: 150\tnodes: 93\tedeges: 238.0\n",
      "step: 160\tnodes: 96\tedeges: 247.0\n",
      "step: 170\tnodes: 102\tedeges: 261.0\n",
      "step: 180\tnodes: 102\tedeges: 267.0\n",
      "step: 190\tnodes: 107\tedeges: 278.0\n",
      "step: 200\tnodes: 108\tedeges: 283.0\n",
      "step: 210\tnodes: 113\tedeges: 294.0\n",
      "step: 220\tnodes: 115\tedeges: 300.0\n",
      "step: 230\tnodes: 117\tedeges: 308.0\n",
      "step: 240\tnodes: 119\tedeges: 312.0\n",
      "step: 250\tnodes: 122\tedeges: 323.0\n",
      "step: 260\tnodes: 125\tedeges: 334.0\n",
      "step: 270\tnodes: 129\tedeges: 342.0\n",
      "step: 280\tnodes: 130\tedeges: 347.0\n"
     ]
    },
    {
     "name": "stderr",
     "output_type": "stream",
     "text": [
      "Process ForkPoolWorker-7764:\n",
      "Traceback (most recent call last):\n",
      "  File \"/opt/anaconda3/lib/python3.7/multiprocessing/process.py\", line 297, in _bootstrap\n",
      "    self.run()\n",
      "  File \"/opt/anaconda3/lib/python3.7/multiprocessing/process.py\", line 99, in run\n",
      "    self._target(*self._args, **self._kwargs)\n",
      "  File \"/opt/anaconda3/lib/python3.7/multiprocessing/pool.py\", line 105, in worker\n",
      "    initializer(*initargs)\n",
      "  File \"./scripts/functions.py\", line 215, in process\n",
      "    output_q.put(get_motifs(interaction_matrix, batch, codes, len(mapping)))\n",
      "ValueError: cannot compute fingerprint of empty list\n"
     ]
    },
    {
     "name": "stdout",
     "output_type": "stream",
     "text": [
      "step: 290\tnodes: 134\tedeges: 358.0\n",
      "step: 300\tnodes: 134\tedeges: 363.0\n",
      "step: 310\tnodes: 134\tedeges: 368.0\n",
      "step: 320\tnodes: 135\tedeges: 373.0\n",
      "step: 330\tnodes: 137\tedeges: 381.0\n",
      "step: 340\tnodes: 140\tedeges: 391.0\n",
      "step: 350\tnodes: 143\tedeges: 402.0\n",
      "step: 360\tnodes: 146\tedeges: 412.0\n",
      "step: 370\tnodes: 148\tedeges: 419.0\n",
      "\n",
      "Network has been successfully generated!\n",
      "Total time spent: 0:05:45.244865\n"
     ]
    }
   ],
   "source": [
    "artificial_matrix = generate_artificial_network(\n",
    "    interaction_matrix, motifs=motifs_orig, motifs_network=motifs_network,\n",
    "    nucleus_size=50, network_size=150, growth_pace=0.4,\n",
    "    reference_matrix=interaction_matrix_ffl\n",
    ")"
   ]
  },
  {
   "cell_type": "code",
   "execution_count": null,
   "metadata": {},
   "outputs": [],
   "source": []
  },
  {
   "cell_type": "code",
   "execution_count": null,
   "metadata": {},
   "outputs": [],
   "source": []
  },
  {
   "cell_type": "code",
   "execution_count": null,
   "metadata": {},
   "outputs": [],
   "source": []
  },
  {
   "cell_type": "code",
   "execution_count": null,
   "metadata": {},
   "outputs": [],
   "source": []
  },
  {
   "cell_type": "code",
   "execution_count": null,
   "metadata": {},
   "outputs": [],
   "source": []
  },
  {
   "cell_type": "code",
   "execution_count": null,
   "metadata": {},
   "outputs": [],
   "source": []
  },
  {
   "cell_type": "code",
   "execution_count": null,
   "metadata": {},
   "outputs": [],
   "source": []
  },
  {
   "cell_type": "code",
   "execution_count": null,
   "metadata": {},
   "outputs": [],
   "source": []
  },
  {
   "cell_type": "code",
   "execution_count": null,
   "metadata": {},
   "outputs": [],
   "source": []
  },
  {
   "cell_type": "code",
   "execution_count": 233,
   "metadata": {},
   "outputs": [
    {
     "data": {
      "text/plain": [
       "['artificial_matrix.gz']"
      ]
     },
     "execution_count": 233,
     "metadata": {},
     "output_type": "execute_result"
    }
   ],
   "source": [
    "joblib.dump(artificial_matrix, \"artificial_matrix.gz\")"
   ]
  },
  {
   "cell_type": "code",
   "execution_count": 22,
   "metadata": {},
   "outputs": [],
   "source": [
    "artificial_matrix = joblib.load(\"artificial_matrix.gz\")"
   ]
  },
  {
   "cell_type": "markdown",
   "metadata": {},
   "source": [
    "Artificial network characteristics"
   ]
  },
  {
   "cell_type": "code",
   "execution_count": 32,
   "metadata": {},
   "outputs": [
    {
     "data": {
      "text/plain": [
       "((150, 150), 424.0)"
      ]
     },
     "execution_count": 32,
     "metadata": {},
     "output_type": "execute_result"
    }
   ],
   "source": [
    "artificial_matrix.shape, artificial_matrix.sum()"
   ]
  },
  {
   "cell_type": "code",
   "execution_count": 33,
   "metadata": {},
   "outputs": [
    {
     "data": {
      "text/plain": [
       "2.8266666666666667"
      ]
     },
     "execution_count": 33,
     "metadata": {},
     "output_type": "execute_result"
    }
   ],
   "source": [
    "424.0 / 150"
   ]
  },
  {
   "cell_type": "code",
   "execution_count": 34,
   "metadata": {},
   "outputs": [
    {
     "name": "stdout",
     "output_type": "stream",
     "text": [
      "CPU times: user 116 ms, sys: 118 ms, total: 235 ms\n",
      "Wall time: 799 ms\n"
     ]
    },
    {
     "data": {
      "text/plain": [
       "{'021C': 1550, '021D': 10014, '021U': 138, '030C': 10, '030T': 543}"
      ]
     },
     "execution_count": 34,
     "metadata": {},
     "output_type": "execute_result"
    }
   ],
   "source": [
    "%%time\n",
    "motifs, counter_art = f.motif_search(cfg, artificial_matrix, batch_size=10000)\n",
    "motifs_art = motifs[\"030T\"]\n",
    "counter_art"
   ]
  },
  {
   "cell_type": "code",
   "execution_count": 40,
   "metadata": {},
   "outputs": [
    {
     "name": "stdout",
     "output_type": "stream",
     "text": [
      "CPU times: user 98.8 ms, sys: 65.2 ms, total: 164 ms\n",
      "Wall time: 708 ms\n"
     ]
    },
    {
     "data": {
      "text/plain": [
       "{'021C': 1860, '021D': 10533, '021U': 100, '030C': 15, '030T': 596}"
      ]
     },
     "execution_count": 40,
     "metadata": {},
     "output_type": "execute_result"
    }
   ],
   "source": [
    "%%time\n",
    "motifs, counter_art = f.motif_search(cfg, artificial_matrix, batch_size=10000)\n",
    "motifs_art = motifs[\"030T\"]\n",
    "counter_art"
   ]
  },
  {
   "cell_type": "code",
   "execution_count": 24,
   "metadata": {},
   "outputs": [
    {
     "name": "stdout",
     "output_type": "stream",
     "text": [
      "CPU times: user 103 ms, sys: 71.8 ms, total: 175 ms\n",
      "Wall time: 1.05 s\n"
     ]
    },
    {
     "data": {
      "text/plain": [
       "{'021C': 1860, '021D': 10533, '021U': 100, '030C': 15, '030T': 596}"
      ]
     },
     "execution_count": 24,
     "metadata": {},
     "output_type": "execute_result"
    }
   ],
   "source": [
    "%%time\n",
    "motifs, counter_art = f.motif_search(cfg, artificial_matrix, batch_size=10000)\n",
    "motifs_art = motifs[\"030T\"]\n",
    "counter_art"
   ]
  },
  {
   "cell_type": "code",
   "execution_count": null,
   "metadata": {},
   "outputs": [],
   "source": []
  },
  {
   "cell_type": "code",
   "execution_count": 35,
   "metadata": {},
   "outputs": [
    {
     "data": {
      "image/png": "[encoded data removed]",
      "text/plain": [
       "<Figure size 432x288 with 1 Axes>"
      ]
     },
     "metadata": {
      "needs_background": "light"
     },
     "output_type": "display_data"
    }
   ],
   "source": [
    "a = pd.Series(counter_art)\n",
    "a = a/sum(a)\n",
    "plt.title(\"Motifs distribution (ART2)\", fontsize=15)\n",
    "plt.ylim(0, 1)\n",
    "plt.bar(a.index, a.values)\n",
    "for key in a.keys():\n",
    "    plt.text(x=key, y=a[key]+0.05,\n",
    "             s=f\"{a[key]:.3f}\", fontsize=10)\n",
    "plt.savefig(\"./pics/motif_distr_art2.png\")"
   ]
  },
  {
   "cell_type": "code",
   "execution_count": 25,
   "metadata": {},
   "outputs": [
    {
     "data": {
      "image/png": "[encoded data removed]",
      "text/plain": [
       "<Figure size 432x288 with 1 Axes>"
      ]
     },
     "metadata": {
      "needs_background": "light"
     },
     "output_type": "display_data"
    }
   ],
   "source": [
    "a = pd.Series(counter_art)\n",
    "a = a/sum(a)\n",
    "plt.title(\"Motifs distribution (ART2)\", fontsize=15)\n",
    "plt.ylim(0, 1)\n",
    "plt.bar(a.index, a.values)\n",
    "for key in a.keys():\n",
    "    plt.text(x=key, y=a[key]+0.05,\n",
    "             s=f\"{a[key]:.3f}\", fontsize=10)\n",
    "plt.savefig(\"./pics/motif_distr_art2.png\")"
   ]
  },
  {
   "cell_type": "code",
   "execution_count": 36,
   "metadata": {},
   "outputs": [
    {
     "name": "stdout",
     "output_type": "stream",
     "text": [
      "TF content: 0.15333333333333332\n",
      "Number of TG in motif distribution:\n",
      "0    0.195212\n",
      "1    0.804788\n",
      "dtype: float64\n",
      "\n",
      "Node patricipation distribution:\n",
      "1.0    0.626667\n",
      "3.0    0.106667\n",
      "6.0    0.046667\n",
      "2.0    0.026667\n",
      "8.0    0.020000\n",
      "dtype: float64\n",
      "\n",
      "Unique nodes number distribution\n",
      "0    0.826888\n",
      "1    0.173112\n",
      "2    0.000000\n",
      "dtype: float64\n",
      "\n",
      "Is edge unique? (for 1-unique node motifs)\n",
      "False    1.0\n",
      "dtype: float64\n",
      "\n",
      "Distribution of X-unique edges motifs (for 0-unique nodes motifs)\n",
      "0    442\n",
      "1      4\n",
      "2      3\n",
      "3      0\n",
      "dtype: int64\n",
      "0    0.984410\n",
      "1    0.008909\n",
      "2    0.006682\n",
      "3    0.000000\n",
      "dtype: float64\n",
      "\n"
     ]
    }
   ],
   "source": [
    "art_network_params = get_network_params(artificial_matrix, verbose=True)"
   ]
  },
  {
   "cell_type": "code",
   "execution_count": 26,
   "metadata": {},
   "outputs": [
    {
     "name": "stdout",
     "output_type": "stream",
     "text": [
      "TF content: 0.14666666666666667\n",
      "Number of TG in motif distribution:\n",
      "0    0.182886\n",
      "1    0.817114\n",
      "dtype: float64\n",
      "\n",
      "Node patricipation distribution:\n",
      "1.0     0.613333\n",
      "3.0     0.086667\n",
      "6.0     0.053333\n",
      "15.0    0.026667\n",
      "2.0     0.020000\n",
      "dtype: float64\n",
      "\n",
      "Unique nodes number distribution\n",
      "0    0.845638\n",
      "1    0.154362\n",
      "2    0.000000\n",
      "dtype: float64\n",
      "\n",
      "Is edge unique? (for 1-unique node motifs)\n",
      "False    1.0\n",
      "dtype: float64\n",
      "\n",
      "Distribution of X-unique edges motifs (for 0-unique nodes motifs)\n",
      "0    499\n",
      "1      4\n",
      "2      1\n",
      "3      0\n",
      "dtype: int64\n",
      "0    0.990079\n",
      "1    0.007937\n",
      "2    0.001984\n",
      "3    0.000000\n",
      "dtype: float64\n",
      "\n"
     ]
    }
   ],
   "source": [
    "art_network_params = get_network_params(artificial_matrix, verbose=True)"
   ]
  },
  {
   "cell_type": "code",
   "execution_count": 27,
   "metadata": {},
   "outputs": [
    {
     "data": {
      "text/plain": [
       "0.14666666666666667"
      ]
     },
     "execution_count": 27,
     "metadata": {},
     "output_type": "execute_result"
    }
   ],
   "source": [
    "len(art_network_params.tf_nodes)/artificial_matrix.shape[0]"
   ]
  },
  {
   "cell_type": "code",
   "execution_count": 28,
   "metadata": {},
   "outputs": [
    {
     "data": {
      "image/png": "[encoded data removed]",
      "text/plain": [
       "<Figure size 432x288 with 1 Axes>"
      ]
     },
     "metadata": {
      "needs_background": "light"
     },
     "output_type": "display_data"
    }
   ],
   "source": [
    "a = pd.Series({0: 499, 1: 4, 2: 1, 3: 0})\n",
    "a = a/sum(a)\n",
    "plt.title(\"Motifs with X unique edges (ART2)\", fontsize=15)\n",
    "plt.xticks(a.index)\n",
    "plt.ylim(0, 1)\n",
    "plt.bar(a.index, a.values)\n",
    "for key in a.keys():\n",
    "    plt.text(x=key, y=a[key]+0.05  - 0.15 * (key == 0),\n",
    "             s=f\"{a[key]:.4f}\", fontsize=15)\n",
    "plt.savefig(\"./pics/motif_by_unique_edges_art2.png\")"
   ]
  },
  {
   "cell_type": "code",
   "execution_count": 29,
   "metadata": {},
   "outputs": [
    {
     "data": {
      "image/png": "[encoded data removed]",
      "text/plain": [
       "<Figure size 432x288 with 1 Axes>"
      ]
     },
     "metadata": {
      "needs_background": "light"
     },
     "output_type": "display_data"
    }
   ],
   "source": [
    "plt.xticks([0, 1, 2])\n",
    "plt.ylim(0, 1)\n",
    "plt.title(\"Motifs by number of unique nodes (ART2)\", fontsize=15)\n",
    "plt.bar(art_network_params.unique_nodes.index, art_network_params.unique_nodes.values)\n",
    "for i in range(len(art_network_params.unique_nodes)):\n",
    "    plt.text(x=i, y=art_network_params.unique_nodes[i]+0.05 - 0.15 * (i == 0),\n",
    "             s=f\"{art_network_params.unique_nodes[i]:.3f}\", fontsize=15)\n",
    "plt.savefig(f\"./pics/motifs_by_uniqnodes_ART2.png\")"
   ]
  },
  {
   "cell_type": "code",
   "execution_count": null,
   "metadata": {},
   "outputs": [],
   "source": []
  },
  {
   "cell_type": "markdown",
   "metadata": {},
   "source": [
    "Network finishing"
   ]
  },
  {
   "cell_type": "code",
   "execution_count": 23,
   "metadata": {},
   "outputs": [],
   "source": [
    "test_network = deepcopy(artificial_matrix)"
   ]
  },
  {
   "cell_type": "code",
   "execution_count": 24,
   "metadata": {},
   "outputs": [],
   "source": [
    "TARGET_SPARCITY = 3.6"
   ]
  },
  {
   "cell_type": "code",
   "execution_count": 25,
   "metadata": {},
   "outputs": [
    {
     "name": "stdout",
     "output_type": "stream",
     "text": [
      "Links: 440\tNodes: 150\n",
      "Required number of links: 540\n"
     ]
    }
   ],
   "source": [
    "n_nodes = test_network.shape[0]\n",
    "n_links = int(test_network.sum())\n",
    "print(f\"Links: {n_links}\\tNodes: {n_nodes}\")\n",
    "target_links_number = int(TARGET_SPARCITY*n_nodes)\n",
    "print(f\"Required number of links: {target_links_number}\")\n",
    "tf_total = np.where(test_network.sum(axis=0) != 0)[0]\n",
    "tg_total = np.where(test_network.sum(axis=0) == 0)[0]\n",
    "base_motif = f.build_motif_from_string(\"0 0 0 1 0 0 1 1 0\")"
   ]
  },
  {
   "cell_type": "code",
   "execution_count": 26,
   "metadata": {},
   "outputs": [],
   "source": [
    "while test_network.sum() < target_links_number:\n",
    "    # weights for TF by in-degree\n",
    "    tf_weights_in = test_network[tf_total, :].sum(axis=1)\n",
    "    # weights for TF by out-degree\n",
    "    tf_weights_out = test_network[:, tf_total].sum(axis=0)\n",
    "    tf_weights_out /= sum(tf_weights_out)\n",
    "    # weights for TG by in-degree\n",
    "    tg_weights_in = test_network[tg_total, :].sum(axis=1)\n",
    "    tg_weights_in /= sum(tg_weights_in)\n",
    "    tf_pair = np.random.choice(range(len(tf_total)), size=2, replace=False, p=tf_weights_out)\n",
    "    probs = (tf_weights_in[tf_pair] + 1e6)/sum(tf_weights_in[tf_pair] + 1e6)\n",
    "    tf_2_idx = np.random.choice(tf_pair, p=probs)\n",
    "    tf_2 = tf_total[tf_2_idx]\n",
    "    tf_1 = tf_total[[tf for tf in tf_pair if tf != tf_2_idx][0]]\n",
    "    tg = np.random.choice(tg_total, p=tg_weights_in)\n",
    "    triad = tf_1, tf_2, tg\n",
    "    triad_matrix = test_network[np.ix_(triad, triad)]\n",
    "#     print(triad)\n",
    "#     print(triad_matrix)\n",
    "    existing_links = np.concatenate([np.diag(triad_matrix, k=i) for i in range(3)]).astype(int)\n",
    "#     print(existing_links)\n",
    "#     print()\n",
    "    if existing_links.sum() == 0:\n",
    "        links_pattern = np.maximum.reduce([triad_matrix, base_motif])\n",
    "#         print(links_pattern)\n",
    "        test_network[np.ix_(triad, triad)] = links_pattern"
   ]
  },
  {
   "cell_type": "code",
   "execution_count": 27,
   "metadata": {},
   "outputs": [
    {
     "name": "stdout",
     "output_type": "stream",
     "text": [
      "Links: 541\tNodes: 150\n"
     ]
    }
   ],
   "source": [
    "n_nodes = test_network.shape[0]\n",
    "n_links = int(test_network.sum())\n",
    "print(f\"Links: {n_links}\\tNodes: {n_nodes}\")"
   ]
  },
  {
   "cell_type": "code",
   "execution_count": 28,
   "metadata": {},
   "outputs": [
    {
     "name": "stdout",
     "output_type": "stream",
     "text": [
      "CPU times: user 107 ms, sys: 72.6 ms, total: 180 ms\n",
      "Wall time: 1.05 s\n"
     ]
    },
    {
     "data": {
      "text/plain": [
       "{'021C': 2343, '021D': 13680, '021U': 132, '030C': 32, '030T': 947}"
      ]
     },
     "execution_count": 28,
     "metadata": {},
     "output_type": "execute_result"
    }
   ],
   "source": [
    "%%time\n",
    "motifs, counter_art = f.motif_search(cfg, test_network, batch_size=10000)\n",
    "motifs_art = motifs[\"030T\"]\n",
    "counter_art"
   ]
  },
  {
   "cell_type": "code",
   "execution_count": 29,
   "metadata": {},
   "outputs": [
    {
     "data": {
      "image/png": "[encoded data removed]",
      "text/plain": [
       "<Figure size 432x288 with 1 Axes>"
      ]
     },
     "metadata": {
      "needs_background": "light"
     },
     "output_type": "display_data"
    }
   ],
   "source": [
    "a = pd.Series(counter_art)\n",
    "a = a/sum(a)\n",
    "plt.title(\"Motifs distribution (ART2)\", fontsize=15)\n",
    "plt.ylim(0, 1)\n",
    "plt.bar(a.index, a.values)\n",
    "for key in a.keys():\n",
    "    plt.text(x=key, y=a[key]+0.05,\n",
    "             s=f\"{a[key]:.3f}\", fontsize=10)\n",
    "plt.savefig(\"./pics/motif_distr_art2.png\")"
   ]
  },
  {
   "cell_type": "code",
   "execution_count": 25,
   "metadata": {},
   "outputs": [
    {
     "data": {
      "image/png": "[encoded data removed]",
      "text/plain": [
       "<Figure size 432x288 with 1 Axes>"
      ]
     },
     "metadata": {
      "needs_background": "light"
     },
     "output_type": "display_data"
    }
   ],
   "source": [
    "a = pd.Series(counter_art)\n",
    "a = a/sum(a)\n",
    "plt.title(\"Motifs distribution (ART2)\", fontsize=15)\n",
    "plt.ylim(0, 1)\n",
    "plt.bar(a.index, a.values)\n",
    "for key in a.keys():\n",
    "    plt.text(x=key, y=a[key]+0.05,\n",
    "             s=f\"{a[key]:.3f}\", fontsize=10)\n",
    "plt.savefig(\"./pics/motif_distr_art2.png\")"
   ]
  },
  {
   "cell_type": "code",
   "execution_count": 30,
   "metadata": {},
   "outputs": [
    {
     "name": "stdout",
     "output_type": "stream",
     "text": [
      "TF content: 0.14666666666666667\n",
      "Number of TG in motif distribution:\n",
      "0    0.154171\n",
      "1    0.845829\n",
      "dtype: float64\n",
      "\n",
      "Node patricipation distribution:\n",
      "1.0     0.440000\n",
      "6.0     0.120000\n",
      "3.0     0.080000\n",
      "8.0     0.033333\n",
      "15.0    0.033333\n",
      "dtype: float64\n",
      "\n",
      "Unique nodes number distribution\n",
      "0    0.930306\n",
      "1    0.069694\n",
      "2    0.000000\n",
      "dtype: float64\n",
      "\n",
      "Is edge unique? (for 1-unique node motifs)\n",
      "False    1.0\n",
      "dtype: float64\n",
      "\n",
      "Distribution of X-unique edges motifs (for 0-unique nodes motifs)\n",
      "0    875\n",
      "1      6\n",
      "2      0\n",
      "3      0\n",
      "dtype: int64\n",
      "0    0.99319\n",
      "1    0.00681\n",
      "2    0.00000\n",
      "3    0.00000\n",
      "dtype: float64\n",
      "\n"
     ]
    }
   ],
   "source": [
    "art_network_params = get_network_params(test_network, verbose=True)"
   ]
  },
  {
   "cell_type": "code",
   "execution_count": 26,
   "metadata": {},
   "outputs": [
    {
     "name": "stdout",
     "output_type": "stream",
     "text": [
      "TF content: 0.14666666666666667\n",
      "Number of TG in motif distribution:\n",
      "0    0.182886\n",
      "1    0.817114\n",
      "dtype: float64\n",
      "\n",
      "Node patricipation distribution:\n",
      "1.0     0.613333\n",
      "3.0     0.086667\n",
      "6.0     0.053333\n",
      "15.0    0.026667\n",
      "2.0     0.020000\n",
      "dtype: float64\n",
      "\n",
      "Unique nodes number distribution\n",
      "0    0.845638\n",
      "1    0.154362\n",
      "2    0.000000\n",
      "dtype: float64\n",
      "\n",
      "Is edge unique? (for 1-unique node motifs)\n",
      "False    1.0\n",
      "dtype: float64\n",
      "\n",
      "Distribution of X-unique edges motifs (for 0-unique nodes motifs)\n",
      "0    499\n",
      "1      4\n",
      "2      1\n",
      "3      0\n",
      "dtype: int64\n",
      "0    0.990079\n",
      "1    0.007937\n",
      "2    0.001984\n",
      "3    0.000000\n",
      "dtype: float64\n",
      "\n"
     ]
    }
   ],
   "source": [
    "art_network_params = get_network_params(artificial_matrix, verbose=True)"
   ]
  },
  {
   "cell_type": "code",
   "execution_count": 27,
   "metadata": {},
   "outputs": [
    {
     "data": {
      "text/plain": [
       "0.14666666666666667"
      ]
     },
     "execution_count": 27,
     "metadata": {},
     "output_type": "execute_result"
    }
   ],
   "source": [
    "len(art_network_params.tf_nodes)/artificial_matrix.shape[0]"
   ]
  },
  {
   "cell_type": "code",
   "execution_count": 28,
   "metadata": {},
   "outputs": [
    {
     "data": {
      "image/png": "[encoded data removed]",
      "text/plain": [
       "<Figure size 432x288 with 1 Axes>"
      ]
     },
     "metadata": {
      "needs_background": "light"
     },
     "output_type": "display_data"
    }
   ],
   "source": [
    "a = pd.Series({0: 499, 1: 4, 2: 1, 3: 0})\n",
    "a = a/sum(a)\n",
    "plt.title(\"Motifs with X unique edges (ART2)\", fontsize=15)\n",
    "plt.xticks(a.index)\n",
    "plt.ylim(0, 1)\n",
    "plt.bar(a.index, a.values)\n",
    "for key in a.keys():\n",
    "    plt.text(x=key, y=a[key]+0.05  - 0.15 * (key == 0),\n",
    "             s=f\"{a[key]:.4f}\", fontsize=15)\n",
    "plt.savefig(\"./pics/motif_by_unique_edges_art2.png\")"
   ]
  },
  {
   "cell_type": "code",
   "execution_count": 31,
   "metadata": {},
   "outputs": [
    {
     "data": {
      "image/png": "[encoded data removed]",
      "text/plain": [
       "<Figure size 432x288 with 1 Axes>"
      ]
     },
     "metadata": {
      "needs_background": "light"
     },
     "output_type": "display_data"
    }
   ],
   "source": [
    "plt.xticks([0, 1, 2])\n",
    "plt.ylim(0, 1)\n",
    "plt.title(\"Motifs by number of unique nodes (ART2)\", fontsize=15)\n",
    "plt.bar(art_network_params.unique_nodes.index, art_network_params.unique_nodes.values)\n",
    "for i in range(len(art_network_params.unique_nodes)):\n",
    "    plt.text(x=i, y=art_network_params.unique_nodes[i]+0.05 - 0.15 * (i == 0),\n",
    "             s=f\"{art_network_params.unique_nodes[i]:.3f}\", fontsize=15)\n",
    "plt.savefig(f\"./pics/motifs_by_uniqnodes_ART2.png\")"
   ]
  },
  {
   "cell_type": "code",
   "execution_count": 35,
   "metadata": {},
   "outputs": [
    {
     "data": {
      "text/plain": [
       "['test_network.gz']"
      ]
     },
     "execution_count": 35,
     "metadata": {},
     "output_type": "execute_result"
    }
   ],
   "source": [
    "joblib.dump(test_network, \"test_network.gz\")"
   ]
  },
  {
   "cell_type": "markdown",
   "metadata": {},
   "source": [
    "Motif enrichment"
   ]
  },
  {
   "cell_type": "code",
   "execution_count": 32,
   "metadata": {},
   "outputs": [
    {
     "name": "stderr",
     "output_type": "stream",
     "text": [
      "100%|██████████| 11/11 [00:04<00:00,  2.71it/s]\n"
     ]
    }
   ],
   "source": [
    "noise_list = np.linspace(0, 80000, 11).astype(int)\n",
    "score_list = []\n",
    "for noise in tqdm(noise_list):\n",
    "    shuffled_matrix = f.get_shuffled_matrix(test_network, noise)\n",
    "    score_list.append(1-f.corruption_score(test_network, shuffled_matrix))"
   ]
  },
  {
   "cell_type": "code",
   "execution_count": 33,
   "metadata": {},
   "outputs": [
    {
     "data": {
      "image/png": "[encoded data removed]",
      "text/plain": [
       "<Figure size 1440x432 with 1 Axes>"
      ]
     },
     "metadata": {
      "needs_background": "light"
     },
     "output_type": "display_data"
    }
   ],
   "source": [
    "plt.figure(figsize=(20, 6))\n",
    "plt.grid()\n",
    "plt.ylabel(\"Fraction of shifted links\")\n",
    "plt.xlabel(\"Number of swaps\")\n",
    "plt.plot(noise_list, score_list);"
   ]
  },
  {
   "cell_type": "code",
   "execution_count": 8,
   "metadata": {},
   "outputs": [],
   "source": [
    "test_network = joblib.load(\"test_network.gz\")"
   ]
  },
  {
   "cell_type": "code",
   "execution_count": 12,
   "metadata": {},
   "outputs": [
    {
     "name": "stdout",
     "output_type": "stream",
     "text": [
      "CPU times: user 115 ms, sys: 78.7 ms, total: 194 ms\n",
      "Wall time: 963 ms\n"
     ]
    },
    {
     "data": {
      "text/plain": [
       "{'021C': 2343, '021D': 13680, '021U': 132, '030C': 32, '030T': 947}"
      ]
     },
     "execution_count": 12,
     "metadata": {},
     "output_type": "execute_result"
    }
   ],
   "source": [
    "%%time\n",
    "motifs, counter_art = f.motif_search(cfg, test_network, batch_size=10000)\n",
    "motifs_art = motifs[\"030T\"]\n",
    "counter_art"
   ]
  },
  {
   "cell_type": "code",
   "execution_count": 9,
   "metadata": {},
   "outputs": [
    {
     "name": "stderr",
     "output_type": "stream",
     "text": [
      "100%|██████████| 100/100 [01:13<00:00,  1.35it/s]\n",
      "100%|██████████| 100/100 [01:17<00:00,  1.28it/s]\n",
      "100%|██████████| 100/100 [01:10<00:00,  1.42it/s]\n",
      "100%|██████████| 100/100 [01:12<00:00,  1.37it/s]\n",
      "100%|██████████| 100/100 [01:16<00:00,  1.30it/s]\n",
      "100%|██████████| 100/100 [01:29<00:00,  1.12it/s]\n",
      "100%|██████████| 100/100 [01:22<00:00,  1.21it/s]\n",
      "100%|██████████| 100/100 [01:17<00:00,  1.29it/s]\n",
      "100%|██████████| 100/100 [01:26<00:00,  1.16it/s]\n",
      "100%|██████████| 100/100 [01:22<00:00,  1.21it/s]\n"
     ]
    }
   ],
   "source": [
    "N_SIMS = 1000\n",
    "N_STEPS = 10\n",
    "N_SWAPS = 10000\n",
    "counters = f.generate_random_networks(cfg, test_network, N_SIMS, N_STEPS, N_SWAPS)"
   ]
  },
  {
   "cell_type": "code",
   "execution_count": 10,
   "metadata": {},
   "outputs": [],
   "source": [
    "joblib.dump(counters, \"./shuffled_counters_2.gz\");"
   ]
  },
  {
   "cell_type": "code",
   "execution_count": 11,
   "metadata": {},
   "outputs": [],
   "source": [
    "counters = joblib.load(\"./shuffled_counters_2.gz\");"
   ]
  },
  {
   "cell_type": "code",
   "execution_count": 13,
   "metadata": {},
   "outputs": [
    {
     "name": "stderr",
     "output_type": "stream",
     "text": [
      "100%|██████████| 1000/1000 [00:05<00:00, 189.56it/s]\n"
     ]
    },
    {
     "data": {
      "image/png": "[encoded data removed]",
      "text/plain": [
       "<Figure size 1440x360 with 5 Axes>"
      ]
     },
     "metadata": {
      "needs_background": "light"
     },
     "output_type": "display_data"
    }
   ],
   "source": [
    "f.plot_distr(counters, counter_art, label=\"Motif distribution in Yeast Tnet\", highlight=False);"
   ]
  },
  {
   "cell_type": "code",
   "execution_count": 15,
   "metadata": {},
   "outputs": [
    {
     "data": {
      "image/png": "[encoded data removed]",
      "text/plain": [
       "<Figure size 1440x720 with 6 Axes>"
      ]
     },
     "metadata": {
      "needs_background": "light"
     },
     "output_type": "display_data"
    }
   ],
   "source": [
    "f.plot_distr_2(counters, counter_art, ticks = [55, 55, 70, 180, 60])"
   ]
  },
  {
   "cell_type": "code",
   "execution_count": 16,
   "metadata": {},
   "outputs": [
    {
     "data": {
      "text/html": [
       "<div>\n",
       "<style scoped>\n",
       "    .dataframe tbody tr th:only-of-type {\n",
       "        vertical-align: middle;\n",
       "    }\n",
       "\n",
       "    .dataframe tbody tr th {\n",
       "        vertical-align: top;\n",
       "    }\n",
       "\n",
       "    .dataframe thead th {\n",
       "        text-align: right;\n",
       "    }\n",
       "</style>\n",
       "<table border=\"1\" class=\"dataframe\">\n",
       "  <thead>\n",
       "    <tr style=\"text-align: right;\">\n",
       "      <th></th>\n",
       "      <th>N_real</th>\n",
       "      <th>mean(N_rand)</th>\n",
       "      <th>sd(N_rand)</th>\n",
       "      <th>Z-score</th>\n",
       "      <th>P-value</th>\n",
       "      <th>Result</th>\n",
       "    </tr>\n",
       "  </thead>\n",
       "  <tbody>\n",
       "    <tr>\n",
       "      <td>021C</td>\n",
       "      <td>2343</td>\n",
       "      <td>839.212</td>\n",
       "      <td>140.585</td>\n",
       "      <td>10.6966</td>\n",
       "      <td>0</td>\n",
       "      <td>&lt; 0.01</td>\n",
       "    </tr>\n",
       "    <tr>\n",
       "      <td>021D</td>\n",
       "      <td>13680</td>\n",
       "      <td>12304.1</td>\n",
       "      <td>132.333</td>\n",
       "      <td>10.3974</td>\n",
       "      <td>0</td>\n",
       "      <td>&lt; 0.01</td>\n",
       "    </tr>\n",
       "    <tr>\n",
       "      <td>021U</td>\n",
       "      <td>132</td>\n",
       "      <td>244.225</td>\n",
       "      <td>27.1459</td>\n",
       "      <td>-4.13414</td>\n",
       "      <td>0</td>\n",
       "      <td>&lt; 0.01</td>\n",
       "    </tr>\n",
       "    <tr>\n",
       "      <td>030C</td>\n",
       "      <td>32</td>\n",
       "      <td>3.52</td>\n",
       "      <td>2.38864</td>\n",
       "      <td>11.9231</td>\n",
       "      <td>0</td>\n",
       "      <td>&lt; 0.01</td>\n",
       "    </tr>\n",
       "    <tr>\n",
       "      <td>030T</td>\n",
       "      <td>947</td>\n",
       "      <td>382.85</td>\n",
       "      <td>57.622</td>\n",
       "      <td>9.79053</td>\n",
       "      <td>0</td>\n",
       "      <td>&lt; 0.01</td>\n",
       "    </tr>\n",
       "  </tbody>\n",
       "</table>\n",
       "</div>"
      ],
      "text/plain": [
       "     N_real mean(N_rand) sd(N_rand)  Z-score P-value   Result\n",
       "021C   2343      839.212    140.585  10.6966       0   < 0.01\n",
       "021D  13680      12304.1    132.333  10.3974       0   < 0.01\n",
       "021U    132      244.225    27.1459 -4.13414       0   < 0.01\n",
       "030C     32         3.52    2.38864  11.9231       0   < 0.01\n",
       "030T    947       382.85     57.622  9.79053       0   < 0.01"
      ]
     },
     "execution_count": 16,
     "metadata": {},
     "output_type": "execute_result"
    }
   ],
   "source": [
    "f.build_zscores_report(counters, counter_art)"
   ]
  },
  {
   "cell_type": "code",
   "execution_count": null,
   "metadata": {},
   "outputs": [],
   "source": []
  },
  {
   "cell_type": "code",
   "execution_count": 17,
   "metadata": {},
   "outputs": [],
   "source": [
    "D = nx.DiGraph(test_network)"
   ]
  },
  {
   "cell_type": "code",
   "execution_count": 18,
   "metadata": {},
   "outputs": [
    {
     "data": {
      "image/png": "[encoded data removed]",
      "text/plain": [
       "<Figure size 432x288 with 1 Axes>"
      ]
     },
     "metadata": {
      "needs_background": "light"
     },
     "output_type": "display_data"
    }
   ],
   "source": [
    "pd.Series(dict(nx.degree(D))).hist(bins=100);"
   ]
  },
  {
   "cell_type": "code",
   "execution_count": 19,
   "metadata": {},
   "outputs": [
    {
     "data": {
      "text/plain": [
       "(3, 2)"
      ]
     },
     "execution_count": 19,
     "metadata": {},
     "output_type": "execute_result"
    }
   ],
   "source": [
    "nx.diameter(D.to_undirected()), nx.radius(D.to_undirected())"
   ]
  },
  {
   "cell_type": "code",
   "execution_count": 20,
   "metadata": {},
   "outputs": [
    {
     "data": {
      "image/png": "[encoded data removed]",
      "text/plain": [
       "<Figure size 432x288 with 1 Axes>"
      ]
     },
     "metadata": {
      "needs_background": "light"
     },
     "output_type": "display_data"
    }
   ],
   "source": [
    "pd.Series(nx.degree_centrality(D)).hist(bins=50);"
   ]
  },
  {
   "cell_type": "code",
   "execution_count": 21,
   "metadata": {},
   "outputs": [
    {
     "data": {
      "image/png": "[encoded data removed]",
      "text/plain": [
       "<Figure size 432x288 with 1 Axes>"
      ]
     },
     "metadata": {
      "needs_background": "light"
     },
     "output_type": "display_data"
    }
   ],
   "source": [
    "pd.Series(nx.betweenness_centrality(D)).hist(bins=50);"
   ]
  },
  {
   "cell_type": "code",
   "execution_count": null,
   "metadata": {},
   "outputs": [],
   "source": []
  },
  {
   "cell_type": "code",
   "execution_count": null,
   "metadata": {},
   "outputs": [],
   "source": []
  },
  {
   "cell_type": "code",
   "execution_count": 24,
   "metadata": {},
   "outputs": [],
   "source": [
    "D = nx.DiGraph(artificial_matrix)"
   ]
  },
  {
   "cell_type": "code",
   "execution_count": 25,
   "metadata": {},
   "outputs": [
    {
     "data": {
      "image/png": "[encoded data removed]",
      "text/plain": [
       "<Figure size 432x288 with 1 Axes>"
      ]
     },
     "metadata": {
      "needs_background": "light"
     },
     "output_type": "display_data"
    }
   ],
   "source": [
    "pd.Series(dict(nx.degree(D))).hist(bins=100);"
   ]
  },
  {
   "cell_type": "code",
   "execution_count": 26,
   "metadata": {},
   "outputs": [
    {
     "data": {
      "text/plain": [
       "(3, 2)"
      ]
     },
     "execution_count": 26,
     "metadata": {},
     "output_type": "execute_result"
    }
   ],
   "source": [
    "nx.diameter(D.to_undirected()), nx.radius(D.to_undirected())"
   ]
  },
  {
   "cell_type": "code",
   "execution_count": 27,
   "metadata": {},
   "outputs": [
    {
     "data": {
      "image/png": "[encoded data removed]",
      "text/plain": [
       "<Figure size 432x288 with 1 Axes>"
      ]
     },
     "metadata": {
      "needs_background": "light"
     },
     "output_type": "display_data"
    }
   ],
   "source": [
    "pd.Series(nx.degree_centrality(D)).hist(bins=50);"
   ]
  },
  {
   "cell_type": "code",
   "execution_count": 28,
   "metadata": {},
   "outputs": [
    {
     "data": {
      "image/png": "[encoded data removed]",
      "text/plain": [
       "<Figure size 432x288 with 1 Axes>"
      ]
     },
     "metadata": {
      "needs_background": "light"
     },
     "output_type": "display_data"
    }
   ],
   "source": [
    "pd.Series(nx.betweenness_centrality(D)).hist(bins=50);"
   ]
  },
  {
   "cell_type": "code",
   "execution_count": null,
   "metadata": {},
   "outputs": [],
   "source": []
  },
  {
   "cell_type": "code",
   "execution_count": null,
   "metadata": {},
   "outputs": [],
   "source": []
  },
  {
   "cell_type": "markdown",
   "metadata": {},
   "source": [
    "Real network parameters"
   ]
  },
  {
   "cell_type": "code",
   "execution_count": 36,
   "metadata": {},
   "outputs": [
    {
     "data": {
      "text/plain": [
       "((1201, 1201), 4326.0)"
      ]
     },
     "execution_count": 36,
     "metadata": {},
     "output_type": "execute_result"
    }
   ],
   "source": [
    "interaction_matrix_ffl.shape, interaction_matrix_ffl.sum()"
   ]
  },
  {
   "cell_type": "code",
   "execution_count": 37,
   "metadata": {},
   "outputs": [
    {
     "data": {
      "text/plain": [
       "3.6019983347210656"
      ]
     },
     "execution_count": 37,
     "metadata": {},
     "output_type": "execute_result"
    }
   ],
   "source": [
    "4326/1201"
   ]
  },
  {
   "cell_type": "code",
   "execution_count": 38,
   "metadata": {},
   "outputs": [
    {
     "name": "stdout",
     "output_type": "stream",
     "text": [
      "CPU times: user 445 ms, sys: 94.3 ms, total: 540 ms\n",
      "Wall time: 2.66 s\n"
     ]
    },
    {
     "data": {
      "text/plain": [
       "{'021C': 12874, '021D': 170539, '021U': 6906, '030C': 8, '030T': 3370}"
      ]
     },
     "execution_count": 38,
     "metadata": {},
     "output_type": "execute_result"
    }
   ],
   "source": [
    "%%time\n",
    "motifs, counter_orig = f.motif_search(cfg, interaction_matrix_ffl, batch_size=10000)\n",
    "motifs_real = motifs[\"030T\"]\n",
    "counter_orig"
   ]
  },
  {
   "cell_type": "code",
   "execution_count": 39,
   "metadata": {},
   "outputs": [
    {
     "data": {
      "image/png": "[encoded data removed]",
      "text/plain": [
       "<Figure size 432x288 with 1 Axes>"
      ]
     },
     "metadata": {
      "needs_background": "light"
     },
     "output_type": "display_data"
    }
   ],
   "source": [
    "a = pd.Series(counter_orig)\n",
    "a = a/sum(a)\n",
    "plt.title(\"Motifs distribution (REAL)\", fontsize=15)\n",
    "plt.ylim(0, 1)\n",
    "plt.bar(a.index, a.values)\n",
    "for key in a.keys():\n",
    "    plt.text(x=key, y=a[key]+0.05,\n",
    "             s=f\"{a[key]:.3f}\", fontsize=10)\n",
    "plt.savefig(\"./pics/motif_distr_real.png\")"
   ]
  },
  {
   "cell_type": "code",
   "execution_count": 40,
   "metadata": {},
   "outputs": [
    {
     "name": "stdout",
     "output_type": "stream",
     "text": [
      "Number of TG in motif distribution:\n",
      "0    0.049555\n",
      "1    0.950445\n",
      "dtype: float64\n",
      "\n",
      "Node patricipation distribution:\n",
      "1.0    0.457952\n",
      "2.0    0.175687\n",
      "3.0    0.094088\n",
      "4.0    0.048293\n",
      "5.0    0.034138\n",
      "dtype: float64\n",
      "\n",
      "Unique nodes number distribution\n",
      "0    0.837685\n",
      "1    0.161424\n",
      "2    0.000890\n",
      "dtype: float64\n",
      "\n",
      "Is edge unique? (for 1-unique node motifs)\n",
      "False    0.968153\n",
      "True     0.031847\n",
      "dtype: float64\n",
      "\n",
      "Distribution of X-unique edges motifs (for 0-unique nodes motifs)\n",
      "0    1545\n",
      "1    1042\n",
      "2     230\n",
      "3       6\n",
      "dtype: int64\n",
      "0    0.547290\n",
      "1    0.369111\n",
      "2    0.081474\n",
      "3    0.002125\n",
      "dtype: float64\n",
      "\n"
     ]
    }
   ],
   "source": [
    "real_network_params = get_network_params(interaction_matrix_ffl, verbose=True)"
   ]
  },
  {
   "cell_type": "code",
   "execution_count": 41,
   "metadata": {},
   "outputs": [
    {
     "name": "stdout",
     "output_type": "stream",
     "text": [
      "TF fractioin: 0.10241465445462115\n"
     ]
    }
   ],
   "source": [
    "print(f\"TF fractioin: {len(real_network_params.tf_nodes)/interaction_matrix_ffl.shape[0]}\")"
   ]
  },
  {
   "cell_type": "code",
   "execution_count": 30,
   "metadata": {},
   "outputs": [
    {
     "data": {
      "image/png": "[encoded data removed]",
      "text/plain": [
       "<Figure size 432x288 with 1 Axes>"
      ]
     },
     "metadata": {
      "needs_background": "light"
     },
     "output_type": "display_data"
    }
   ],
   "source": [
    "a = pd.Series({0: 1545, 1: 1042, 2: 230, 3: 6})\n",
    "a = a/sum(a)\n",
    "plt.title(\"Motifs with X unique edges (REAL)\", fontsize=15)\n",
    "plt.xticks(a.index)\n",
    "plt.ylim(0, 1)\n",
    "plt.bar(a.index, a.values)\n",
    "for key in a.keys():\n",
    "    plt.text(x=key, y=a[key]+0.05,\n",
    "             s=f\"{a[key]:.3f}\", fontsize=15)\n",
    "plt.savefig(\"./pics/motif_by_unique_edges_real.png\")"
   ]
  },
  {
   "cell_type": "code",
   "execution_count": 89,
   "metadata": {},
   "outputs": [
    {
     "data": {
      "image/png": "[encoded data removed]",
      "text/plain": [
       "<Figure size 432x288 with 1 Axes>"
      ]
     },
     "metadata": {
      "needs_background": "light"
     },
     "output_type": "display_data"
    }
   ],
   "source": [
    "plt.xticks([0, 1, 2])\n",
    "plt.ylim(0, 1)\n",
    "plt.title(\"Motifs by number of unique nodes (REAL)\", fontsize=15)\n",
    "plt.bar(real_network_params.unique_nodes.index, real_network_params.unique_nodes.values)\n",
    "for i in range(len(real_network_params.unique_nodes)):\n",
    "    plt.text(x=i, y=real_network_params.unique_nodes[i]+0.05,\n",
    "             s=f\"{real_network_params.unique_nodes[i]:.3f}\", fontsize=15)\n",
    "plt.savefig(f\"./pics/motifs_by_uniqnodes_REAL.png\")"
   ]
  },
  {
   "cell_type": "code",
   "execution_count": null,
   "metadata": {},
   "outputs": [],
   "source": []
  }
 ],
 "metadata": {
  "kernelspec": {
   "display_name": "Python 3",
   "language": "python",
   "name": "python3"
  },
  "language_info": {
   "codemirror_mode": {
    "name": "ipython",
    "version": 3
   },
   "file_extension": ".py",
   "mimetype": "text/x-python",
   "name": "python",
   "nbconvert_exporter": "python",
   "pygments_lexer": "ipython3",
   "version": "3.7.4"
  }
 },
 "nbformat": 4,
 "nbformat_minor": 4
}
