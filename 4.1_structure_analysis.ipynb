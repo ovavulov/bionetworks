{
 "cells": [
  {
   "cell_type": "markdown",
   "metadata": {},
   "source": []
  },
  {
   "cell_type": "code",
   "execution_count": 1,
   "metadata": {},
   "outputs": [],
   "source": [
    "import numpy as np\n",
    "import pandas as pd\n",
    "import sys\n",
    "sys.path.insert(0, \"./scripts\")\n",
    "import functions as f\n",
    "from matplotlib import pyplot as plt\n",
    "import seaborn as sns\n",
    "from copy import copy\n",
    "import multiprocessing as mp\n",
    "import joblib\n",
    "from tqdm import tqdm\n",
    "from scipy import stats"
   ]
  },
  {
   "cell_type": "code",
   "execution_count": 2,
   "metadata": {},
   "outputs": [],
   "source": [
    "from tqdm import tqdm\n",
    "from itertools import combinations\n",
    "import networkx as nx"
   ]
  },
  {
   "cell_type": "code",
   "execution_count": 188,
   "metadata": {},
   "outputs": [],
   "source": [
    "def kendall_w(expt_ratings):\n",
    "    if expt_ratings.ndim!=2:\n",
    "        raise 'ratings matrix must be 2-dimensional'\n",
    "    m = expt_ratings.shape[0] #raters\n",
    "    n = expt_ratings.shape[1] # items rated\n",
    "    denom = m**2*(n**3-n)\n",
    "    rating_sums = np.sum(expt_ratings, axis=0)\n",
    "    S = n*np.var(rating_sums)\n",
    "    return 12*S/denom"
   ]
  },
  {
   "cell_type": "code",
   "execution_count": 3,
   "metadata": {},
   "outputs": [
    {
     "name": "stdout",
     "output_type": "stream",
     "text": [
      "RANDOM_SEED: 19\n",
      "TEST_NETWORK_SIZE: 500\n",
      "TEST_NETWORK_LINK_PROB: 0.1\n",
      "N_CORES_TO_USE: -1\n",
      "NETWORK_TO_SEARCH_IN: ecoli\n"
     ]
    }
   ],
   "source": [
    "cfg = f.get_actual_parametrization(\"./config.json\")"
   ]
  },
  {
   "cell_type": "markdown",
   "metadata": {},
   "source": [
    "# Yeast Tnet"
   ]
  },
  {
   "cell_type": "code",
   "execution_count": 58,
   "metadata": {},
   "outputs": [
    {
     "name": "stdout",
     "output_type": "stream",
     "text": [
      "RANDOM_SEED: 19\n",
      "TEST_NETWORK_SIZE: 500\n",
      "TEST_NETWORK_LINK_PROB: 0.1\n",
      "N_CORES_TO_USE: -1\n",
      "NETWORK_TO_SEARCH_IN: yeast\n"
     ]
    }
   ],
   "source": [
    "cfg = f.update_cfg(\"./config.json\", \"NETWORK_TO_SEARCH_IN\", \"yeast\")"
   ]
  },
  {
   "cell_type": "code",
   "execution_count": 59,
   "metadata": {},
   "outputs": [],
   "source": [
    "interaction_matrix = f.get_interaction_matrix(cfg)"
   ]
  },
  {
   "cell_type": "code",
   "execution_count": 60,
   "metadata": {},
   "outputs": [
    {
     "name": "stdout",
     "output_type": "stream",
     "text": [
      "CPU times: user 2.48 s, sys: 140 ms, total: 2.62 s\n",
      "Wall time: 7.88 s\n"
     ]
    },
    {
     "data": {
      "text/plain": [
       "{'021C': 37631, '021D': 1059856, '021U': 26042, '030C': 8, '030T': 3370}"
      ]
     },
     "execution_count": 60,
     "metadata": {},
     "output_type": "execute_result"
    }
   ],
   "source": [
    "%%time\n",
    "motifs_orig, counter_orig = f.motif_search(cfg, interaction_matrix, batch_size=10000)\n",
    "counter_orig"
   ]
  },
  {
   "cell_type": "code",
   "execution_count": 61,
   "metadata": {},
   "outputs": [
    {
     "data": {
      "text/plain": [
       "021C    0.033393\n",
       "021D    0.940500\n",
       "021U    0.023109\n",
       "030C    0.000007\n",
       "030T    0.002990\n",
       "dtype: float64"
      ]
     },
     "execution_count": 61,
     "metadata": {},
     "output_type": "execute_result"
    }
   ],
   "source": [
    "a = pd.Series(counter_orig)\n",
    "a/sum(a)"
   ]
  },
  {
   "cell_type": "code",
   "execution_count": 15,
   "metadata": {},
   "outputs": [],
   "source": [
    "a = interaction_matrix.sum(axis=0)\n",
    "tf_nodes = np.where(a != 0)[0]"
   ]
  },
  {
   "cell_type": "code",
   "execution_count": 16,
   "metadata": {},
   "outputs": [],
   "source": [
    "interaction_matrix_tf = interaction_matrix[tf_nodes, :][:, tf_nodes]"
   ]
  },
  {
   "cell_type": "code",
   "execution_count": 19,
   "metadata": {},
   "outputs": [
    {
     "name": "stdout",
     "output_type": "stream",
     "text": [
      "CPU times: user 29.6 ms, sys: 51.7 ms, total: 81.3 ms\n",
      "Wall time: 785 ms\n"
     ]
    },
    {
     "data": {
      "text/plain": [
       "{'021C': 1244, '021D': 1276, '021U': 1085, '030C': 8, '030T': 185}"
      ]
     },
     "execution_count": 19,
     "metadata": {},
     "output_type": "execute_result"
    }
   ],
   "source": [
    "%%time\n",
    "motifs_tf, counter_tf = f.motif_search(cfg, interaction_matrix_tf, batch_size=10000)\n",
    "counter_tf"
   ]
  },
  {
   "cell_type": "code",
   "execution_count": 41,
   "metadata": {},
   "outputs": [
    {
     "data": {
      "text/plain": [
       "021C    0.327541\n",
       "021D    0.335966\n",
       "021U    0.285677\n",
       "030C    0.002106\n",
       "030T    0.048710\n",
       "dtype: float64"
      ]
     },
     "execution_count": 41,
     "metadata": {},
     "output_type": "execute_result"
    }
   ],
   "source": [
    "a = pd.Series(counter_tf)\n",
    "a/sum(a)"
   ]
  },
  {
   "cell_type": "code",
   "execution_count": 31,
   "metadata": {},
   "outputs": [],
   "source": [
    "G_tf = nx.DiGraph(interaction_matrix_tf)"
   ]
  },
  {
   "cell_type": "code",
   "execution_count": 32,
   "metadata": {},
   "outputs": [
    {
     "data": {
      "text/plain": [
       "(False, False)"
      ]
     },
     "execution_count": 32,
     "metadata": {},
     "output_type": "execute_result"
    }
   ],
   "source": [
    "nx.is_strongly_connected(G_tf), nx.is_weakly_connected(G_tf) "
   ]
  },
  {
   "cell_type": "code",
   "execution_count": 55,
   "metadata": {},
   "outputs": [
    {
     "name": "stdout",
     "output_type": "stream",
     "text": [
      "Largest weakly conn. comp.: 0.9171974522292994\n",
      "Largest strongly conn. comp.: 0.3821656050955414\n"
     ]
    }
   ],
   "source": [
    "w_components = list(nx.algorithms.components.weakly_connected_components(G_tf))\n",
    "s_components = list(nx.algorithms.components.strongly_connected_components(G_tf))\n",
    "print(\"Largest weakly conn. comp.:\", len(w_components[0])/interaction_matrix_tf.shape[0])\n",
    "print(\"Largest strongly conn. comp.:\", len(sorted(s_components, key=len, reverse=True)[0])/interaction_matrix_tf.shape[0])"
   ]
  },
  {
   "cell_type": "code",
   "execution_count": 42,
   "metadata": {},
   "outputs": [],
   "source": [
    "motifs = motifs_orig[\"030T\"]"
   ]
  },
  {
   "cell_type": "code",
   "execution_count": 43,
   "metadata": {},
   "outputs": [
    {
     "name": "stderr",
     "output_type": "stream",
     "text": [
      "100%|██████████| 5676765/5676765 [00:17<00:00, 319917.00it/s]\n"
     ]
    }
   ],
   "source": [
    "motifs_network = np.zeros((len(motifs), len(motifs)))\n",
    "for i, j in tqdm(combinations(range(len(motifs)), 2), total=int(len(motifs)*(len(motifs)-1)/2)):\n",
    "    m1, m2 = map(lambda x: set(map(int, x.split(\"_\"))), [motifs[i], motifs[j]])\n",
    "    motifs_network[i, j] = len(m1 & m2)\n",
    "    motifs_network[j, i] = motifs_network[i, j]"
   ]
  },
  {
   "cell_type": "code",
   "execution_count": 44,
   "metadata": {},
   "outputs": [],
   "source": [
    "V = nx.Graph(motifs_network)"
   ]
  },
  {
   "cell_type": "code",
   "execution_count": 45,
   "metadata": {},
   "outputs": [
    {
     "data": {
      "text/plain": [
       "True"
      ]
     },
     "execution_count": 45,
     "metadata": {},
     "output_type": "execute_result"
    }
   ],
   "source": [
    "nx.is_connected(V)"
   ]
  },
  {
   "cell_type": "code",
   "execution_count": 46,
   "metadata": {},
   "outputs": [
    {
     "data": {
      "text/plain": [
       "1201"
      ]
     },
     "execution_count": 46,
     "metadata": {},
     "output_type": "execute_result"
    }
   ],
   "source": [
    "ffl_nodes = list(set(sum([list(map(int, x.split(\"_\"))) for x in motifs], [])))\n",
    "len(ffl_nodes)"
   ]
  },
  {
   "cell_type": "code",
   "execution_count": 47,
   "metadata": {},
   "outputs": [],
   "source": [
    "interaction_matrix_ffl = interaction_matrix[ffl_nodes, :][:, ffl_nodes]"
   ]
  },
  {
   "cell_type": "code",
   "execution_count": 48,
   "metadata": {},
   "outputs": [
    {
     "name": "stdout",
     "output_type": "stream",
     "text": [
      "CPU times: user 693 ms, sys: 82.9 ms, total: 776 ms\n",
      "Wall time: 3.23 s\n"
     ]
    },
    {
     "data": {
      "text/plain": [
       "{'021C': 18847, '021D': 290778, '021U': 18362, '030C': 8, '030T': 3370}"
      ]
     },
     "execution_count": 48,
     "metadata": {},
     "output_type": "execute_result"
    }
   ],
   "source": [
    "%%time\n",
    "motifs_ffl, counter_ffl = f.motif_search(cfg, interaction_matrix_ffl, batch_size=10000)\n",
    "counter_ffl"
   ]
  },
  {
   "cell_type": "code",
   "execution_count": 50,
   "metadata": {},
   "outputs": [
    {
     "data": {
      "text/plain": [
       "021C    0.056877\n",
       "021D    0.877516\n",
       "021U    0.055413\n",
       "030C    0.000024\n",
       "030T    0.010170\n",
       "dtype: float64"
      ]
     },
     "execution_count": 50,
     "metadata": {},
     "output_type": "execute_result"
    }
   ],
   "source": [
    "a = pd.Series(counter_ffl)\n",
    "a/sum(a)"
   ]
  },
  {
   "cell_type": "code",
   "execution_count": 49,
   "metadata": {},
   "outputs": [
    {
     "name": "stderr",
     "output_type": "stream",
     "text": [
      "100%|██████████| 1/1 [00:00<00:00, 202.71it/s]\n"
     ]
    },
    {
     "data": {
      "image/png": "[encoded data removed]",
      "text/plain": [
       "<Figure size 1440x360 with 5 Axes>"
      ]
     },
     "metadata": {
      "needs_background": "light"
     },
     "output_type": "display_data"
    }
   ],
   "source": [
    "f.plot_distr([counter_ffl], counter_orig, label=\"\", highlight=False);"
   ]
  },
  {
   "cell_type": "code",
   "execution_count": 21,
   "metadata": {},
   "outputs": [],
   "source": [
    "ffl_nodes = set(sum([list(map(int, x.split(\"_\"))) for x in motifs_orig[\"030T\"]], []))\n",
    "cascade_nodes = set(sum([list(map(int, x.split(\"_\"))) for x in motifs_orig[\"021C\"]], []))\n",
    "uplink_nodes = set(sum([list(map(int, x.split(\"_\"))) for x in motifs_orig[\"021U\"]], []))\n",
    "# downlink_nodes = set(sum([list(map(int, x.split(\"_\"))) for x in motifs_orig[\"021D\"]], []))"
   ]
  },
  {
   "cell_type": "code",
   "execution_count": 23,
   "metadata": {},
   "outputs": [
    {
     "name": "stderr",
     "output_type": "stream",
     "text": [
      "100%|██████████| 1059856/1059856 [00:01<00:00, 713607.77it/s]\n"
     ]
    }
   ],
   "source": [
    "downlink_nodes = []\n",
    "for triad in tqdm(motifs_orig[\"021D\"]):\n",
    "    for x in map(int, triad.split(\"_\")):\n",
    "        downlink_nodes.append(x)\n",
    "downlink_nodes = set(downlink_nodes)"
   ]
  },
  {
   "cell_type": "code",
   "execution_count": 24,
   "metadata": {},
   "outputs": [
    {
     "data": {
      "text/plain": [
       "(1201, 4252, 2750, 4439)"
      ]
     },
     "execution_count": 24,
     "metadata": {},
     "output_type": "execute_result"
    }
   ],
   "source": [
    "len(ffl_nodes), len(cascade_nodes), len(uplink_nodes), len(downlink_nodes)"
   ]
  },
  {
   "cell_type": "code",
   "execution_count": 26,
   "metadata": {},
   "outputs": [
    {
     "data": {
      "text/plain": [
       "(1198, 1080, 1201)"
      ]
     },
     "execution_count": 26,
     "metadata": {},
     "output_type": "execute_result"
    }
   ],
   "source": [
    "len(ffl_nodes & cascade_nodes), len(ffl_nodes & uplink_nodes), len(ffl_nodes & downlink_nodes)"
   ]
  },
  {
   "cell_type": "code",
   "execution_count": 28,
   "metadata": {},
   "outputs": [
    {
     "data": {
      "text/plain": [
       "157"
      ]
     },
     "execution_count": 28,
     "metadata": {},
     "output_type": "execute_result"
    }
   ],
   "source": [
    "tf_nodes = set(tf_nodes)\n",
    "len(tf_nodes)"
   ]
  },
  {
   "cell_type": "code",
   "execution_count": 29,
   "metadata": {},
   "outputs": [
    {
     "data": {
      "text/plain": [
       "(126, 146, 157, 155)"
      ]
     },
     "execution_count": 29,
     "metadata": {},
     "output_type": "execute_result"
    }
   ],
   "source": [
    "len(tf_nodes & ffl_nodes), len(tf_nodes & cascade_nodes), len(tf_nodes & uplink_nodes), len(tf_nodes & downlink_nodes)"
   ]
  },
  {
   "cell_type": "code",
   "execution_count": 30,
   "metadata": {},
   "outputs": [
    {
     "data": {
      "text/plain": [
       "array([0.80254777, 0.92993631, 1.        , 0.98726115])"
      ]
     },
     "execution_count": 30,
     "metadata": {},
     "output_type": "execute_result"
    }
   ],
   "source": [
    "np.array([126, 146, 157, 155])/len(tf_nodes)"
   ]
  },
  {
   "cell_type": "markdown",
   "metadata": {},
   "source": [
    "# Nodes participation"
   ]
  },
  {
   "cell_type": "code",
   "execution_count": 95,
   "metadata": {},
   "outputs": [
    {
     "name": "stderr",
     "output_type": "stream",
     "text": [
      "100%|██████████| 5/5 [00:02<00:00,  1.79it/s]\n"
     ]
    }
   ],
   "source": [
    "# node_part = pd.DataFrame(index=range(interaction_matrix.shape[0]), columns=counter_orig.keys())\n",
    "node_part = {motif: np.zeros(interaction_matrix.shape[0]) for motif in counter_orig.keys()}\n",
    "for motif in tqdm(counter_orig.keys()):\n",
    "    for triad in motifs_orig[motif]:\n",
    "        for x in map(int, triad.split(\"_\")):\n",
    "            node_part[motif][x] += 1\n",
    "node_part_df = pd.DataFrame(index=range(interaction_matrix.shape[0]), columns=counter_orig.keys())\n",
    "for motif, data in node_part.items():\n",
    "    node_part_df[motif] = data.astype(int)"
   ]
  },
  {
   "cell_type": "code",
   "execution_count": 138,
   "metadata": {
    "scrolled": true
   },
   "outputs": [
    {
     "data": {
      "text/html": [
       "<div>\n",
       "<style scoped>\n",
       "    .dataframe tbody tr th:only-of-type {\n",
       "        vertical-align: middle;\n",
       "    }\n",
       "\n",
       "    .dataframe tbody tr th {\n",
       "        vertical-align: top;\n",
       "    }\n",
       "\n",
       "    .dataframe thead th {\n",
       "        text-align: right;\n",
       "    }\n",
       "</style>\n",
       "<table border=\"1\" class=\"dataframe\">\n",
       "  <thead>\n",
       "    <tr style=\"text-align: right;\">\n",
       "      <th></th>\n",
       "      <th>021C</th>\n",
       "      <th>021D</th>\n",
       "      <th>021U</th>\n",
       "      <th>030C</th>\n",
       "      <th>030T</th>\n",
       "    </tr>\n",
       "  </thead>\n",
       "  <tbody>\n",
       "    <tr>\n",
       "      <td>1308</td>\n",
       "      <td>2342</td>\n",
       "      <td>18464</td>\n",
       "      <td>727</td>\n",
       "      <td>1</td>\n",
       "      <td>362</td>\n",
       "    </tr>\n",
       "    <tr>\n",
       "      <td>762</td>\n",
       "      <td>1421</td>\n",
       "      <td>22881</td>\n",
       "      <td>978</td>\n",
       "      <td>0</td>\n",
       "      <td>355</td>\n",
       "    </tr>\n",
       "    <tr>\n",
       "      <td>923</td>\n",
       "      <td>1555</td>\n",
       "      <td>19394</td>\n",
       "      <td>1023</td>\n",
       "      <td>1</td>\n",
       "      <td>298</td>\n",
       "    </tr>\n",
       "    <tr>\n",
       "      <td>3207</td>\n",
       "      <td>2463</td>\n",
       "      <td>36966</td>\n",
       "      <td>1072</td>\n",
       "      <td>1</td>\n",
       "      <td>295</td>\n",
       "    </tr>\n",
       "    <tr>\n",
       "      <td>2536</td>\n",
       "      <td>2432</td>\n",
       "      <td>10987</td>\n",
       "      <td>516</td>\n",
       "      <td>1</td>\n",
       "      <td>293</td>\n",
       "    </tr>\n",
       "    <tr>\n",
       "      <td>2546</td>\n",
       "      <td>1716</td>\n",
       "      <td>23246</td>\n",
       "      <td>1012</td>\n",
       "      <td>2</td>\n",
       "      <td>265</td>\n",
       "    </tr>\n",
       "    <tr>\n",
       "      <td>4336</td>\n",
       "      <td>1824</td>\n",
       "      <td>13739</td>\n",
       "      <td>789</td>\n",
       "      <td>3</td>\n",
       "      <td>261</td>\n",
       "    </tr>\n",
       "    <tr>\n",
       "      <td>2058</td>\n",
       "      <td>1526</td>\n",
       "      <td>27238</td>\n",
       "      <td>920</td>\n",
       "      <td>0</td>\n",
       "      <td>257</td>\n",
       "    </tr>\n",
       "    <tr>\n",
       "      <td>3221</td>\n",
       "      <td>955</td>\n",
       "      <td>16629</td>\n",
       "      <td>714</td>\n",
       "      <td>0</td>\n",
       "      <td>216</td>\n",
       "    </tr>\n",
       "    <tr>\n",
       "      <td>2133</td>\n",
       "      <td>858</td>\n",
       "      <td>4306</td>\n",
       "      <td>631</td>\n",
       "      <td>0</td>\n",
       "      <td>202</td>\n",
       "    </tr>\n",
       "    <tr>\n",
       "      <td>3113</td>\n",
       "      <td>1146</td>\n",
       "      <td>8857</td>\n",
       "      <td>610</td>\n",
       "      <td>0</td>\n",
       "      <td>190</td>\n",
       "    </tr>\n",
       "    <tr>\n",
       "      <td>2903</td>\n",
       "      <td>1865</td>\n",
       "      <td>16878</td>\n",
       "      <td>793</td>\n",
       "      <td>0</td>\n",
       "      <td>187</td>\n",
       "    </tr>\n",
       "    <tr>\n",
       "      <td>578</td>\n",
       "      <td>1473</td>\n",
       "      <td>29986</td>\n",
       "      <td>975</td>\n",
       "      <td>0</td>\n",
       "      <td>149</td>\n",
       "    </tr>\n",
       "    <tr>\n",
       "      <td>3487</td>\n",
       "      <td>1370</td>\n",
       "      <td>17178</td>\n",
       "      <td>660</td>\n",
       "      <td>1</td>\n",
       "      <td>139</td>\n",
       "    </tr>\n",
       "    <tr>\n",
       "      <td>1150</td>\n",
       "      <td>1693</td>\n",
       "      <td>25965</td>\n",
       "      <td>503</td>\n",
       "      <td>0</td>\n",
       "      <td>137</td>\n",
       "    </tr>\n",
       "    <tr>\n",
       "      <td>2433</td>\n",
       "      <td>1823</td>\n",
       "      <td>40228</td>\n",
       "      <td>585</td>\n",
       "      <td>1</td>\n",
       "      <td>117</td>\n",
       "    </tr>\n",
       "    <tr>\n",
       "      <td>3123</td>\n",
       "      <td>1525</td>\n",
       "      <td>62635</td>\n",
       "      <td>1126</td>\n",
       "      <td>0</td>\n",
       "      <td>109</td>\n",
       "    </tr>\n",
       "    <tr>\n",
       "      <td>1516</td>\n",
       "      <td>835</td>\n",
       "      <td>63023</td>\n",
       "      <td>1048</td>\n",
       "      <td>0</td>\n",
       "      <td>107</td>\n",
       "    </tr>\n",
       "    <tr>\n",
       "      <td>1103</td>\n",
       "      <td>2422</td>\n",
       "      <td>21089</td>\n",
       "      <td>462</td>\n",
       "      <td>2</td>\n",
       "      <td>106</td>\n",
       "    </tr>\n",
       "    <tr>\n",
       "      <td>2159</td>\n",
       "      <td>1178</td>\n",
       "      <td>12208</td>\n",
       "      <td>395</td>\n",
       "      <td>2</td>\n",
       "      <td>106</td>\n",
       "    </tr>\n",
       "    <tr>\n",
       "      <td>1570</td>\n",
       "      <td>1215</td>\n",
       "      <td>3278</td>\n",
       "      <td>391</td>\n",
       "      <td>2</td>\n",
       "      <td>104</td>\n",
       "    </tr>\n",
       "    <tr>\n",
       "      <td>1961</td>\n",
       "      <td>1696</td>\n",
       "      <td>37835</td>\n",
       "      <td>768</td>\n",
       "      <td>1</td>\n",
       "      <td>102</td>\n",
       "    </tr>\n",
       "    <tr>\n",
       "      <td>3859</td>\n",
       "      <td>698</td>\n",
       "      <td>30990</td>\n",
       "      <td>861</td>\n",
       "      <td>0</td>\n",
       "      <td>98</td>\n",
       "    </tr>\n",
       "    <tr>\n",
       "      <td>1394</td>\n",
       "      <td>1070</td>\n",
       "      <td>5314</td>\n",
       "      <td>528</td>\n",
       "      <td>0</td>\n",
       "      <td>98</td>\n",
       "    </tr>\n",
       "    <tr>\n",
       "      <td>2580</td>\n",
       "      <td>1395</td>\n",
       "      <td>9915</td>\n",
       "      <td>624</td>\n",
       "      <td>0</td>\n",
       "      <td>98</td>\n",
       "    </tr>\n",
       "    <tr>\n",
       "      <td>2944</td>\n",
       "      <td>1046</td>\n",
       "      <td>11584</td>\n",
       "      <td>666</td>\n",
       "      <td>0</td>\n",
       "      <td>92</td>\n",
       "    </tr>\n",
       "    <tr>\n",
       "      <td>839</td>\n",
       "      <td>1438</td>\n",
       "      <td>10671</td>\n",
       "      <td>626</td>\n",
       "      <td>0</td>\n",
       "      <td>84</td>\n",
       "    </tr>\n",
       "    <tr>\n",
       "      <td>4227</td>\n",
       "      <td>887</td>\n",
       "      <td>14323</td>\n",
       "      <td>771</td>\n",
       "      <td>0</td>\n",
       "      <td>84</td>\n",
       "    </tr>\n",
       "    <tr>\n",
       "      <td>1244</td>\n",
       "      <td>723</td>\n",
       "      <td>8756</td>\n",
       "      <td>701</td>\n",
       "      <td>0</td>\n",
       "      <td>82</td>\n",
       "    </tr>\n",
       "    <tr>\n",
       "      <td>2519</td>\n",
       "      <td>1292</td>\n",
       "      <td>9419</td>\n",
       "      <td>501</td>\n",
       "      <td>0</td>\n",
       "      <td>78</td>\n",
       "    </tr>\n",
       "    <tr>\n",
       "      <td>2863</td>\n",
       "      <td>868</td>\n",
       "      <td>7197</td>\n",
       "      <td>613</td>\n",
       "      <td>0</td>\n",
       "      <td>73</td>\n",
       "    </tr>\n",
       "    <tr>\n",
       "      <td>4064</td>\n",
       "      <td>982</td>\n",
       "      <td>6688</td>\n",
       "      <td>283</td>\n",
       "      <td>0</td>\n",
       "      <td>72</td>\n",
       "    </tr>\n",
       "    <tr>\n",
       "      <td>4213</td>\n",
       "      <td>478</td>\n",
       "      <td>1370</td>\n",
       "      <td>252</td>\n",
       "      <td>1</td>\n",
       "      <td>70</td>\n",
       "    </tr>\n",
       "    <tr>\n",
       "      <td>508</td>\n",
       "      <td>1572</td>\n",
       "      <td>34132</td>\n",
       "      <td>780</td>\n",
       "      <td>0</td>\n",
       "      <td>67</td>\n",
       "    </tr>\n",
       "    <tr>\n",
       "      <td>1492</td>\n",
       "      <td>587</td>\n",
       "      <td>8003</td>\n",
       "      <td>745</td>\n",
       "      <td>0</td>\n",
       "      <td>60</td>\n",
       "    </tr>\n",
       "    <tr>\n",
       "      <td>555</td>\n",
       "      <td>1000</td>\n",
       "      <td>11505</td>\n",
       "      <td>358</td>\n",
       "      <td>0</td>\n",
       "      <td>56</td>\n",
       "    </tr>\n",
       "    <tr>\n",
       "      <td>2904</td>\n",
       "      <td>1239</td>\n",
       "      <td>26531</td>\n",
       "      <td>520</td>\n",
       "      <td>0</td>\n",
       "      <td>55</td>\n",
       "    </tr>\n",
       "    <tr>\n",
       "      <td>1526</td>\n",
       "      <td>1084</td>\n",
       "      <td>30718</td>\n",
       "      <td>742</td>\n",
       "      <td>0</td>\n",
       "      <td>53</td>\n",
       "    </tr>\n",
       "    <tr>\n",
       "      <td>1066</td>\n",
       "      <td>1545</td>\n",
       "      <td>12709</td>\n",
       "      <td>388</td>\n",
       "      <td>0</td>\n",
       "      <td>53</td>\n",
       "    </tr>\n",
       "    <tr>\n",
       "      <td>3247</td>\n",
       "      <td>449</td>\n",
       "      <td>2748</td>\n",
       "      <td>346</td>\n",
       "      <td>0</td>\n",
       "      <td>53</td>\n",
       "    </tr>\n",
       "    <tr>\n",
       "      <td>1820</td>\n",
       "      <td>849</td>\n",
       "      <td>4131</td>\n",
       "      <td>226</td>\n",
       "      <td>0</td>\n",
       "      <td>52</td>\n",
       "    </tr>\n",
       "    <tr>\n",
       "      <td>4356</td>\n",
       "      <td>1445</td>\n",
       "      <td>32278</td>\n",
       "      <td>613</td>\n",
       "      <td>2</td>\n",
       "      <td>51</td>\n",
       "    </tr>\n",
       "    <tr>\n",
       "      <td>3593</td>\n",
       "      <td>1012</td>\n",
       "      <td>20528</td>\n",
       "      <td>688</td>\n",
       "      <td>1</td>\n",
       "      <td>50</td>\n",
       "    </tr>\n",
       "    <tr>\n",
       "      <td>881</td>\n",
       "      <td>1257</td>\n",
       "      <td>20847</td>\n",
       "      <td>471</td>\n",
       "      <td>0</td>\n",
       "      <td>49</td>\n",
       "    </tr>\n",
       "    <tr>\n",
       "      <td>1873</td>\n",
       "      <td>599</td>\n",
       "      <td>4218</td>\n",
       "      <td>668</td>\n",
       "      <td>1</td>\n",
       "      <td>48</td>\n",
       "    </tr>\n",
       "    <tr>\n",
       "      <td>3227</td>\n",
       "      <td>699</td>\n",
       "      <td>10894</td>\n",
       "      <td>557</td>\n",
       "      <td>0</td>\n",
       "      <td>44</td>\n",
       "    </tr>\n",
       "    <tr>\n",
       "      <td>113</td>\n",
       "      <td>29</td>\n",
       "      <td>2089</td>\n",
       "      <td>79</td>\n",
       "      <td>0</td>\n",
       "      <td>37</td>\n",
       "    </tr>\n",
       "    <tr>\n",
       "      <td>222</td>\n",
       "      <td>976</td>\n",
       "      <td>21668</td>\n",
       "      <td>471</td>\n",
       "      <td>0</td>\n",
       "      <td>36</td>\n",
       "    </tr>\n",
       "    <tr>\n",
       "      <td>2582</td>\n",
       "      <td>1378</td>\n",
       "      <td>44645</td>\n",
       "      <td>418</td>\n",
       "      <td>0</td>\n",
       "      <td>36</td>\n",
       "    </tr>\n",
       "    <tr>\n",
       "      <td>172</td>\n",
       "      <td>249</td>\n",
       "      <td>6992</td>\n",
       "      <td>759</td>\n",
       "      <td>0</td>\n",
       "      <td>34</td>\n",
       "    </tr>\n",
       "  </tbody>\n",
       "</table>\n",
       "</div>"
      ],
      "text/plain": [
       "      021C   021D  021U  030C  030T\n",
       "1308  2342  18464   727     1   362\n",
       "762   1421  22881   978     0   355\n",
       "923   1555  19394  1023     1   298\n",
       "3207  2463  36966  1072     1   295\n",
       "2536  2432  10987   516     1   293\n",
       "2546  1716  23246  1012     2   265\n",
       "4336  1824  13739   789     3   261\n",
       "2058  1526  27238   920     0   257\n",
       "3221   955  16629   714     0   216\n",
       "2133   858   4306   631     0   202\n",
       "3113  1146   8857   610     0   190\n",
       "2903  1865  16878   793     0   187\n",
       "578   1473  29986   975     0   149\n",
       "3487  1370  17178   660     1   139\n",
       "1150  1693  25965   503     0   137\n",
       "2433  1823  40228   585     1   117\n",
       "3123  1525  62635  1126     0   109\n",
       "1516   835  63023  1048     0   107\n",
       "1103  2422  21089   462     2   106\n",
       "2159  1178  12208   395     2   106\n",
       "1570  1215   3278   391     2   104\n",
       "1961  1696  37835   768     1   102\n",
       "3859   698  30990   861     0    98\n",
       "1394  1070   5314   528     0    98\n",
       "2580  1395   9915   624     0    98\n",
       "2944  1046  11584   666     0    92\n",
       "839   1438  10671   626     0    84\n",
       "4227   887  14323   771     0    84\n",
       "1244   723   8756   701     0    82\n",
       "2519  1292   9419   501     0    78\n",
       "2863   868   7197   613     0    73\n",
       "4064   982   6688   283     0    72\n",
       "4213   478   1370   252     1    70\n",
       "508   1572  34132   780     0    67\n",
       "1492   587   8003   745     0    60\n",
       "555   1000  11505   358     0    56\n",
       "2904  1239  26531   520     0    55\n",
       "1526  1084  30718   742     0    53\n",
       "1066  1545  12709   388     0    53\n",
       "3247   449   2748   346     0    53\n",
       "1820   849   4131   226     0    52\n",
       "4356  1445  32278   613     2    51\n",
       "3593  1012  20528   688     1    50\n",
       "881   1257  20847   471     0    49\n",
       "1873   599   4218   668     1    48\n",
       "3227   699  10894   557     0    44\n",
       "113     29   2089    79     0    37\n",
       "222    976  21668   471     0    36\n",
       "2582  1378  44645   418     0    36\n",
       "172    249   6992   759     0    34"
      ]
     },
     "execution_count": 138,
     "metadata": {},
     "output_type": "execute_result"
    }
   ],
   "source": [
    "node_part_df.sort_values(\"030T\", ascending=False).head(50)"
   ]
  },
  {
   "cell_type": "code",
   "execution_count": 198,
   "metadata": {},
   "outputs": [],
   "source": [
    "n = interaction_matrix.shape[0]\n",
    "ratings = pd.DataFrame(index=range(n), columns=node_part_df.columns)\n",
    "for motif_name in node_part_df.columns:\n",
    "    ratings[motif_name] = pd.Series(index=node_part_df.sort_values(motif_name, ascending=False).index, data=range(1, n+1))"
   ]
  },
  {
   "cell_type": "code",
   "execution_count": 201,
   "metadata": {},
   "outputs": [
    {
     "data": {
      "text/plain": [
       "0.0"
      ]
     },
     "execution_count": 201,
     "metadata": {},
     "output_type": "execute_result"
    }
   ],
   "source": [
    "kendall_w(ratings.values)"
   ]
  },
  {
   "cell_type": "code",
   "execution_count": null,
   "metadata": {},
   "outputs": [],
   "source": []
  },
  {
   "cell_type": "code",
   "execution_count": 165,
   "metadata": {},
   "outputs": [],
   "source": [
    "TOP_NODES = 50"
   ]
  },
  {
   "cell_type": "code",
   "execution_count": 209,
   "metadata": {},
   "outputs": [],
   "source": [
    "n_top = list(range(50, 500, 10))\n",
    "fraction = {\"ffl_x_casc\": [], \"ffl_x_uplink\": [], \"ffl_x_downlink\": []}\n",
    "for n in n_top:\n",
    "    motif_name = \"030T\"\n",
    "    df = node_part_df.sort_values(motif_name, ascending=False)[motif_name].head(200)\n",
    "    ffl_nodes_top = set(df.head(n).index)\n",
    "    motif_name = \"021U\"\n",
    "    df = node_part_df.sort_values(motif_name, ascending=False)[motif_name].head(200)\n",
    "    uplink_nodes_top = set(df.head(n).index)\n",
    "    motif_name = \"021D\"\n",
    "    df = node_part_df.sort_values(motif_name, ascending=False)[motif_name].head(200)\n",
    "    downlink_nodes_top = set(df.head(n).index)\n",
    "    motif_name = \"021C\"\n",
    "    df = node_part_df.sort_values(motif_name, ascending=False)[motif_name].head(200)\n",
    "    cascade_nodes_top = set(df.head(n).index)\n",
    "    fraction[\"ffl_x_casc\"].append(len(ffl_nodes_top & cascade_nodes_top)/n)\n",
    "    fraction[\"ffl_x_uplink\"].append(len(ffl_nodes_top & uplink_nodes_top)/n)\n",
    "    fraction[\"ffl_x_downlink\"].append(len(ffl_nodes_top & downlink_nodes_top)/n)"
   ]
  },
  {
   "cell_type": "code",
   "execution_count": 214,
   "metadata": {},
   "outputs": [
    {
     "data": {
      "text/plain": [
       "<matplotlib.legend.Legend at 0x7f941f5a1710>"
      ]
     },
     "execution_count": 214,
     "metadata": {},
     "output_type": "execute_result"
    },
    {
     "data": {
      "image/png": "[encoded data removed]",
      "text/plain": [
       "<Figure size 1080x432 with 1 Axes>"
      ]
     },
     "metadata": {
      "needs_background": "light"
     },
     "output_type": "display_data"
    }
   ],
   "source": [
    "plt.figure(figsize=(15, 6))\n",
    "plt.grid()\n",
    "plt.plot(n_top, fraction[\"ffl_x_casc\"])\n",
    "plt.plot(n_top, fraction[\"ffl_x_uplink\"])\n",
    "plt.plot(n_top, fraction[\"ffl_x_downlink\"])\n",
    "plt.legend([\"ffl_x_casc\", \"ffl_x_uplink\", \"ffl_x_downlink\"], fontsize=20)"
   ]
  },
  {
   "cell_type": "code",
   "execution_count": 182,
   "metadata": {},
   "outputs": [
    {
     "data": {
      "image/png": "[encoded data removed]",
      "text/plain": [
       "<Figure size 432x288 with 1 Axes>"
      ]
     },
     "metadata": {
      "needs_background": "light"
     },
     "output_type": "display_data"
    }
   ],
   "source": [
    "motif_name = \"030T\"\n",
    "df = node_part_df.sort_values(motif_name, ascending=False)[motif_name].head(200)\n",
    "plt.title(f\"Survival plot for {motif_name}\")\n",
    "plt.plot(range(len(df)), df.values)\n",
    "ffl_nodes_top = set(df.head(TOP_NODES).index)"
   ]
  },
  {
   "cell_type": "code",
   "execution_count": 183,
   "metadata": {},
   "outputs": [
    {
     "data": {
      "image/png": "[encoded data removed]",
      "text/plain": [
       "<Figure size 432x288 with 1 Axes>"
      ]
     },
     "metadata": {
      "needs_background": "light"
     },
     "output_type": "display_data"
    }
   ],
   "source": [
    "motif_name = \"021U\"\n",
    "df = node_part_df.sort_values(motif_name, ascending=False)[motif_name].head(200)\n",
    "plt.title(f\"Survival plot for {motif_name}\")\n",
    "plt.plot(range(len(df)), df.values)\n",
    "uplink_nodes_top = set(df.head(TOP_NODES).index)"
   ]
  },
  {
   "cell_type": "code",
   "execution_count": 184,
   "metadata": {},
   "outputs": [
    {
     "data": {
      "image/png": "[encoded data removed]",
      "text/plain": [
       "<Figure size 432x288 with 1 Axes>"
      ]
     },
     "metadata": {
      "needs_background": "light"
     },
     "output_type": "display_data"
    }
   ],
   "source": [
    "motif_name = \"021D\"\n",
    "df = node_part_df.sort_values(motif_name, ascending=False)[motif_name].head(200)\n",
    "plt.title(f\"Survival plot for {motif_name}\")\n",
    "plt.plot(range(len(df)), df.values)\n",
    "downlink_nodes_top = set(df.head(TOP_NODES).index)"
   ]
  },
  {
   "cell_type": "code",
   "execution_count": 185,
   "metadata": {},
   "outputs": [
    {
     "data": {
      "image/png": "[encoded data removed]",
      "text/plain": [
       "<Figure size 432x288 with 1 Axes>"
      ]
     },
     "metadata": {
      "needs_background": "light"
     },
     "output_type": "display_data"
    }
   ],
   "source": [
    "motif_name = \"021C\"\n",
    "df = node_part_df.sort_values(motif_name, ascending=False)[motif_name].head(200)\n",
    "plt.title(f\"Survival plot for {motif_name}\")\n",
    "plt.plot(range(len(df)), df.values)\n",
    "cascade_nodes_top = set(df.head(TOP_NODES).index)"
   ]
  },
  {
   "cell_type": "code",
   "execution_count": 186,
   "metadata": {},
   "outputs": [
    {
     "data": {
      "text/plain": [
       "(50, 50, 50, 50)"
      ]
     },
     "execution_count": 186,
     "metadata": {},
     "output_type": "execute_result"
    }
   ],
   "source": [
    "len(ffl_nodes_top), len(cascade_nodes_top), len(uplink_nodes_top), len(downlink_nodes_top)"
   ]
  },
  {
   "cell_type": "code",
   "execution_count": 187,
   "metadata": {},
   "outputs": [
    {
     "data": {
      "text/plain": [
       "(47, 39, 43)"
      ]
     },
     "execution_count": 187,
     "metadata": {},
     "output_type": "execute_result"
    }
   ],
   "source": [
    "len(ffl_nodes_top & cascade_nodes_top), len(ffl_nodes_top & uplink_nodes_top), len(ffl_nodes_top & downlink_nodes_top)"
   ]
  },
  {
   "cell_type": "code",
   "execution_count": null,
   "metadata": {},
   "outputs": [],
   "source": []
  },
  {
   "cell_type": "code",
   "execution_count": null,
   "metadata": {},
   "outputs": [],
   "source": []
  },
  {
   "cell_type": "code",
   "execution_count": null,
   "metadata": {},
   "outputs": [],
   "source": []
  },
  {
   "cell_type": "code",
   "execution_count": null,
   "metadata": {},
   "outputs": [],
   "source": []
  },
  {
   "cell_type": "code",
   "execution_count": null,
   "metadata": {},
   "outputs": [],
   "source": []
  },
  {
   "cell_type": "code",
   "execution_count": 97,
   "metadata": {},
   "outputs": [],
   "source": [
    "# pd.Series(node_part_df[\"030T\"]).value_counts().head(50)"
   ]
  },
  {
   "cell_type": "code",
   "execution_count": 131,
   "metadata": {},
   "outputs": [],
   "source": [
    "G = nx.DiGraph(interaction_matrix)\n",
    "paths_gen = nx.all_pairs_shortest_path_length(G)\n",
    "n = interaction_matrix.shape[0]\n",
    "paths_matrix = np.array([[np.inf]*n]*n)"
   ]
  },
  {
   "cell_type": "code",
   "execution_count": null,
   "metadata": {},
   "outputs": [],
   "source": []
  },
  {
   "cell_type": "code",
   "execution_count": 132,
   "metadata": {},
   "outputs": [
    {
     "name": "stderr",
     "output_type": "stream",
     "text": [
      "4441it [00:00, 4812.04it/s]\n"
     ]
    }
   ],
   "source": [
    "for source, paths in tqdm(paths_gen):\n",
    "    for target, length in list(paths.items())[1:]:\n",
    "        paths_matrix[target, source] = length"
   ]
  },
  {
   "cell_type": "code",
   "execution_count": null,
   "metadata": {},
   "outputs": [],
   "source": []
  },
  {
   "cell_type": "code",
   "execution_count": null,
   "metadata": {},
   "outputs": [],
   "source": []
  },
  {
   "cell_type": "code",
   "execution_count": null,
   "metadata": {},
   "outputs": [],
   "source": []
  },
  {
   "cell_type": "code",
   "execution_count": null,
   "metadata": {},
   "outputs": [],
   "source": []
  },
  {
   "cell_type": "code",
   "execution_count": null,
   "metadata": {},
   "outputs": [],
   "source": []
  },
  {
   "cell_type": "code",
   "execution_count": null,
   "metadata": {},
   "outputs": [],
   "source": []
  },
  {
   "cell_type": "code",
   "execution_count": null,
   "metadata": {},
   "outputs": [],
   "source": []
  },
  {
   "cell_type": "code",
   "execution_count": null,
   "metadata": {},
   "outputs": [],
   "source": []
  },
  {
   "cell_type": "code",
   "execution_count": null,
   "metadata": {},
   "outputs": [],
   "source": []
  },
  {
   "cell_type": "code",
   "execution_count": null,
   "metadata": {},
   "outputs": [],
   "source": []
  },
  {
   "cell_type": "code",
   "execution_count": null,
   "metadata": {},
   "outputs": [],
   "source": []
  },
  {
   "cell_type": "code",
   "execution_count": null,
   "metadata": {},
   "outputs": [],
   "source": []
  },
  {
   "cell_type": "markdown",
   "metadata": {},
   "source": [
    "Total network"
   ]
  },
  {
   "cell_type": "code",
   "execution_count": 24,
   "metadata": {},
   "outputs": [],
   "source": [
    "G = nx.DiGraph(interaction_matrix)"
   ]
  },
  {
   "cell_type": "code",
   "execution_count": 25,
   "metadata": {},
   "outputs": [
    {
     "data": {
      "text/plain": [
       "(False, True)"
      ]
     },
     "execution_count": 25,
     "metadata": {},
     "output_type": "execute_result"
    }
   ],
   "source": [
    "nx.is_strongly_connected(G), nx.is_weakly_connected(G) "
   ]
  },
  {
   "cell_type": "code",
   "execution_count": 49,
   "metadata": {},
   "outputs": [
    {
     "name": "stdout",
     "output_type": "stream",
     "text": [
      "CPU times: user 52.7 s, sys: 71.2 ms, total: 52.8 s\n",
      "Wall time: 52.8 s\n"
     ]
    }
   ],
   "source": [
    "%%time\n",
    "ecc = nx.eccentricity(G.to_undirected())"
   ]
  },
  {
   "cell_type": "code",
   "execution_count": 50,
   "metadata": {},
   "outputs": [
    {
     "data": {
      "text/plain": [
       "5    0.843279\n",
       "6    0.107408\n",
       "4    0.049313\n",
       "dtype: float64"
      ]
     },
     "execution_count": 50,
     "metadata": {},
     "output_type": "execute_result"
    }
   ],
   "source": [
    "pd.Series(ecc).value_counts(normalize=True)"
   ]
  },
  {
   "cell_type": "code",
   "execution_count": 74,
   "metadata": {},
   "outputs": [
    {
     "data": {
      "image/png": "[encoded data removed]",
      "text/plain": [
       "<Figure size 432x288 with 1 Axes>"
      ]
     },
     "metadata": {
      "needs_background": "light"
     },
     "output_type": "display_data"
    }
   ],
   "source": [
    "pd.Series(ecc).hist(bins=5);"
   ]
  },
  {
   "cell_type": "code",
   "execution_count": 44,
   "metadata": {},
   "outputs": [
    {
     "data": {
      "image/png": "[encoded data removed]",
      "text/plain": [
       "<Figure size 432x288 with 1 Axes>"
      ]
     },
     "metadata": {
      "needs_background": "light"
     },
     "output_type": "display_data"
    }
   ],
   "source": [
    "cl_centr = pd.Series(nx.centrality.closeness_centrality(G.to_undirected()))\n",
    "cl_centr.hist(bins=100);"
   ]
  },
  {
   "cell_type": "code",
   "execution_count": 47,
   "metadata": {},
   "outputs": [
    {
     "data": {
      "image/png": "[encoded data removed]",
      "text/plain": [
       "<Figure size 432x288 with 1 Axes>"
      ]
     },
     "metadata": {
      "needs_background": "light"
     },
     "output_type": "display_data"
    }
   ],
   "source": [
    "cl_centr = pd.Series(nx.centrality.betweenness_centrality(G.to_undirected()))\n",
    "cl_centr.hist(bins=100);"
   ]
  },
  {
   "cell_type": "markdown",
   "metadata": {},
   "source": [
    "FFL network"
   ]
  },
  {
   "cell_type": "code",
   "execution_count": 52,
   "metadata": {},
   "outputs": [],
   "source": [
    "G_ffl = nx.DiGraph(interaction_matrix_ffl)"
   ]
  },
  {
   "cell_type": "code",
   "execution_count": 53,
   "metadata": {},
   "outputs": [
    {
     "data": {
      "text/plain": [
       "(False, True)"
      ]
     },
     "execution_count": 53,
     "metadata": {},
     "output_type": "execute_result"
    }
   ],
   "source": [
    "nx.is_strongly_connected(G_ffl), nx.is_weakly_connected(G_ffl) "
   ]
  },
  {
   "cell_type": "code",
   "execution_count": 54,
   "metadata": {},
   "outputs": [
    {
     "name": "stdout",
     "output_type": "stream",
     "text": [
      "CPU times: user 4.85 s, sys: 6.53 ms, total: 4.85 s\n",
      "Wall time: 4.85 s\n"
     ]
    }
   ],
   "source": [
    "%%time\n",
    "ecc_ffl = nx.eccentricity(G_ffl.to_undirected())"
   ]
  },
  {
   "cell_type": "code",
   "execution_count": 55,
   "metadata": {},
   "outputs": [
    {
     "data": {
      "text/plain": [
       "4    0.937552\n",
       "5    0.037469\n",
       "3    0.024979\n",
       "dtype: float64"
      ]
     },
     "execution_count": 55,
     "metadata": {},
     "output_type": "execute_result"
    }
   ],
   "source": [
    "pd.Series(ecc_ffl).value_counts(normalize=True)"
   ]
  },
  {
   "cell_type": "code",
   "execution_count": 75,
   "metadata": {},
   "outputs": [
    {
     "data": {
      "image/png": "[encoded data removed]",
      "text/plain": [
       "<Figure size 432x288 with 1 Axes>"
      ]
     },
     "metadata": {
      "needs_background": "light"
     },
     "output_type": "display_data"
    }
   ],
   "source": [
    "pd.Series(ecc_ffl).hist(bins=5);"
   ]
  },
  {
   "cell_type": "code",
   "execution_count": 76,
   "metadata": {},
   "outputs": [],
   "source": [
    "center_ffl = nx.center(G_ffl.to_undirected())"
   ]
  },
  {
   "cell_type": "code",
   "execution_count": 77,
   "metadata": {},
   "outputs": [
    {
     "data": {
      "text/plain": [
       "30"
      ]
     },
     "execution_count": 77,
     "metadata": {},
     "output_type": "execute_result"
    }
   ],
   "source": [
    "len(center_ffl)"
   ]
  },
  {
   "cell_type": "code",
   "execution_count": 43,
   "metadata": {},
   "outputs": [
    {
     "data": {
      "image/png": "[encoded data removed]",
      "text/plain": [
       "<Figure size 432x288 with 1 Axes>"
      ]
     },
     "metadata": {
      "needs_background": "light"
     },
     "output_type": "display_data"
    }
   ],
   "source": [
    "cl_centr_ffl = pd.Series(nx.centrality.closeness_centrality(G_ffl.to_undirected()))\n",
    "cl_centr_ffl.hist(bins=100);"
   ]
  },
  {
   "cell_type": "code",
   "execution_count": 48,
   "metadata": {},
   "outputs": [
    {
     "data": {
      "image/png": "[encoded data removed]",
      "text/plain": [
       "<Figure size 432x288 with 1 Axes>"
      ]
     },
     "metadata": {
      "needs_background": "light"
     },
     "output_type": "display_data"
    }
   ],
   "source": [
    "cl_centr_ffl = pd.Series(nx.centrality.betweenness_centrality(G_ffl.to_undirected()))\n",
    "cl_centr_ffl.hist(bins=100);"
   ]
  },
  {
   "cell_type": "code",
   "execution_count": 68,
   "metadata": {},
   "outputs": [],
   "source": [
    "ecc_df = pd.DataFrame(index=ecc.keys(), data=ecc.values(), columns=[\"total\"])\n",
    "ecc_df = ecc_df.join(pd.DataFrame(index=ecc_ffl.keys(), data=ecc_ffl.values(), columns=[\"ffl\"]), how=\"left\")\n",
    "ecc_df[\"diff\"] = ecc_df.total - ecc_df.ffl"
   ]
  },
  {
   "cell_type": "code",
   "execution_count": 72,
   "metadata": {},
   "outputs": [
    {
     "data": {
      "text/plain": [
       " NaN    3240\n",
       " 1.0     939\n",
       " 2.0     169\n",
       " 0.0      90\n",
       " 3.0       2\n",
       "-1.0       1\n",
       "Name: diff, dtype: int64"
      ]
     },
     "execution_count": 72,
     "metadata": {},
     "output_type": "execute_result"
    }
   ],
   "source": [
    "ecc_df[\"diff\"].value_counts(dropna=False)"
   ]
  },
  {
   "cell_type": "code",
   "execution_count": 102,
   "metadata": {},
   "outputs": [],
   "source": [
    "paths_ffl = {}\n",
    "for lengths in nx.all_pairs_shortest_path_length(G_ffl):\n",
    "    paths_ffl[lengths[0]] = pd.Series(lengths[1]).max()\n",
    "paths_ffl = pd.Series(paths_ffl)"
   ]
  },
  {
   "cell_type": "code",
   "execution_count": 110,
   "metadata": {},
   "outputs": [
    {
     "data": {
      "text/plain": [
       "0      15\n",
       "1       7\n",
       "2       6\n",
       "4       3\n",
       "5      29\n",
       "6     147\n",
       "7     358\n",
       "8     266\n",
       "9     198\n",
       "10     63\n",
       "11     30\n",
       "12     52\n",
       "13     17\n",
       "14      1\n",
       "15      1\n",
       "16      7\n",
       "17      1\n",
       "dtype: int64"
      ]
     },
     "execution_count": 110,
     "metadata": {},
     "output_type": "execute_result"
    }
   ],
   "source": [
    "paths_ffl.value_counts().sort_index()"
   ]
  },
  {
   "cell_type": "code",
   "execution_count": 106,
   "metadata": {},
   "outputs": [
    {
     "data": {
      "image/png": "[encoded data removed]",
      "text/plain": [
       "<Figure size 432x288 with 1 Axes>"
      ]
     },
     "metadata": {
      "needs_background": "light"
     },
     "output_type": "display_data"
    }
   ],
   "source": [
    "paths_ffl.hist();"
   ]
  },
  {
   "cell_type": "code",
   "execution_count": 111,
   "metadata": {},
   "outputs": [
    {
     "name": "stderr",
     "output_type": "stream",
     "text": [
      "4441it [00:02, 2090.97it/s]\n"
     ]
    }
   ],
   "source": [
    "paths = {}\n",
    "for lengths in tqdm(nx.all_pairs_shortest_path_length(G)):\n",
    "    paths[lengths[0]] = pd.Series(lengths[1]).max()\n",
    "paths = pd.Series(paths)"
   ]
  },
  {
   "cell_type": "code",
   "execution_count": 113,
   "metadata": {},
   "outputs": [
    {
     "data": {
      "text/plain": [
       "0      31\n",
       "1     183\n",
       "2      93\n",
       "3      44\n",
       "4       3\n",
       "5      34\n",
       "6     210\n",
       "7     831\n",
       "8     884\n",
       "9     775\n",
       "10    492\n",
       "11    221\n",
       "12    152\n",
       "13    193\n",
       "14    127\n",
       "15     18\n",
       "16    129\n",
       "17     21\n",
       "dtype: int64"
      ]
     },
     "execution_count": 113,
     "metadata": {},
     "output_type": "execute_result"
    }
   ],
   "source": [
    "paths.value_counts().sort_index()"
   ]
  },
  {
   "cell_type": "code",
   "execution_count": 114,
   "metadata": {},
   "outputs": [
    {
     "data": {
      "image/png": "[encoded data removed]",
      "text/plain": [
       "<Figure size 432x288 with 1 Axes>"
      ]
     },
     "metadata": {
      "needs_background": "light"
     },
     "output_type": "display_data"
    }
   ],
   "source": [
    "paths.hist();"
   ]
  },
  {
   "cell_type": "code",
   "execution_count": 122,
   "metadata": {},
   "outputs": [],
   "source": [
    "paths_df = pd.DataFrame(index=paths.index, data=paths.values, columns=[\"total\"])\n",
    "paths_df = paths_df.join(pd.DataFrame(index=paths_ffl.index, data=paths_ffl.values, columns=[\"ffl\"]), how=\"left\")\n",
    "paths_df[\"diff\"] = paths_df.total - paths_df.ffl"
   ]
  },
  {
   "cell_type": "code",
   "execution_count": 128,
   "metadata": {},
   "outputs": [
    {
     "data": {
      "text/plain": [
       " 1.0     0.159867\n",
       " 0.0     0.144047\n",
       " 2.0     0.124063\n",
       "-1.0     0.089925\n",
       " 3.0     0.079101\n",
       "-2.0     0.062448\n",
       " 4.0     0.048293\n",
       "-3.0     0.034138\n",
       " 7.0     0.032473\n",
       " 5.0     0.029975\n",
       " 6.0     0.026644\n",
       "-4.0     0.025812\n",
       " 8.0     0.024979\n",
       "-5.0     0.024979\n",
       "-6.0     0.024147\n",
       " 9.0     0.014988\n",
       "-7.0     0.014988\n",
       "-8.0     0.010824\n",
       "-9.0     0.009159\n",
       " 10.0    0.006661\n",
       "-10.0    0.003331\n",
       " 11.0    0.002498\n",
       "-12.0    0.002498\n",
       " 16.0    0.001665\n",
       " 12.0    0.001665\n",
       "-11.0    0.000833\n",
       "Name: diff, dtype: float64"
      ]
     },
     "execution_count": 128,
     "metadata": {},
     "output_type": "execute_result"
    }
   ],
   "source": [
    "x = paths_df[\"diff\"].value_counts(dropna=True, normalize=True); x"
   ]
  },
  {
   "cell_type": "code",
   "execution_count": 140,
   "metadata": {},
   "outputs": [
    {
     "data": {
      "text/plain": [
       "0.6969192339716902"
      ]
     },
     "execution_count": 140,
     "metadata": {},
     "output_type": "execute_result"
    }
   ],
   "source": [
    "x.sort_index()[0:].sum()"
   ]
  },
  {
   "cell_type": "code",
   "execution_count": null,
   "metadata": {},
   "outputs": [],
   "source": []
  },
  {
   "cell_type": "code",
   "execution_count": null,
   "metadata": {},
   "outputs": [],
   "source": []
  },
  {
   "cell_type": "markdown",
   "metadata": {},
   "source": [
    "# Ecoli Tnet"
   ]
  },
  {
   "cell_type": "code",
   "execution_count": 4,
   "metadata": {},
   "outputs": [
    {
     "name": "stdout",
     "output_type": "stream",
     "text": [
      "RANDOM_SEED: 19\n",
      "TEST_NETWORK_SIZE: 500\n",
      "TEST_NETWORK_LINK_PROB: 0.1\n",
      "N_CORES_TO_USE: -1\n",
      "NETWORK_TO_SEARCH_IN: ecoli\n"
     ]
    }
   ],
   "source": [
    "cfg = f.update_cfg(\"./config.json\", \"NETWORK_TO_SEARCH_IN\", \"ecoli\")"
   ]
  },
  {
   "cell_type": "code",
   "execution_count": 5,
   "metadata": {},
   "outputs": [],
   "source": [
    "interaction_matrix = f.get_interaction_matrix(cfg)"
   ]
  },
  {
   "cell_type": "code",
   "execution_count": 6,
   "metadata": {},
   "outputs": [
    {
     "name": "stdout",
     "output_type": "stream",
     "text": [
      "CPU times: user 665 ms, sys: 74.5 ms, total: 740 ms\n",
      "Wall time: 2.53 s\n"
     ]
    },
    {
     "data": {
      "text/plain": [
       "{'021C': 3938, '021D': 329287, '021U': 4365, '030C': 0, '030T': 1392}"
      ]
     },
     "execution_count": 6,
     "metadata": {},
     "output_type": "execute_result"
    }
   ],
   "source": [
    "%%time\n",
    "motifs_orig, counter_orig = f.motif_search(cfg, interaction_matrix, batch_size=10000)\n",
    "counter_orig"
   ]
  },
  {
   "cell_type": "code",
   "execution_count": 7,
   "metadata": {},
   "outputs": [],
   "source": [
    "motifs = motifs_orig[\"030T\"]"
   ]
  },
  {
   "cell_type": "code",
   "execution_count": 8,
   "metadata": {},
   "outputs": [
    {
     "name": "stderr",
     "output_type": "stream",
     "text": [
      "100%|██████████| 968136/968136 [00:03<00:00, 311856.69it/s]\n"
     ]
    }
   ],
   "source": [
    "motifs_network = np.zeros((len(motifs), len(motifs)))\n",
    "for i, j in tqdm(combinations(range(len(motifs)), 2), total=int(len(motifs)*(len(motifs)-1)/2)):\n",
    "    m1, m2 = map(lambda x: set(map(int, x.split(\"_\"))), [motifs[i], motifs[j]])\n",
    "    motifs_network[i, j] = len(m1 & m2)\n",
    "    motifs_network[j, i] = motifs_network[i, j]"
   ]
  },
  {
   "cell_type": "code",
   "execution_count": 9,
   "metadata": {},
   "outputs": [],
   "source": [
    "V = nx.Graph(motifs_network)"
   ]
  },
  {
   "cell_type": "code",
   "execution_count": 10,
   "metadata": {},
   "outputs": [
    {
     "data": {
      "text/plain": [
       "False"
      ]
     },
     "execution_count": 10,
     "metadata": {},
     "output_type": "execute_result"
    }
   ],
   "source": [
    "nx.is_connected(V)"
   ]
  },
  {
   "cell_type": "code",
   "execution_count": 11,
   "metadata": {},
   "outputs": [],
   "source": [
    "components = list(nx.algorithms.components.connected_components(V))\n",
    "main_ffl_motifs = [motifs[i] for i in components[0]]"
   ]
  },
  {
   "cell_type": "code",
   "execution_count": 12,
   "metadata": {},
   "outputs": [
    {
     "data": {
      "text/plain": [
       "(1380, 0.9913793103448276)"
      ]
     },
     "execution_count": 12,
     "metadata": {},
     "output_type": "execute_result"
    }
   ],
   "source": [
    "len(main_ffl_motifs), len(main_ffl_motifs)/len(motifs)"
   ]
  },
  {
   "cell_type": "code",
   "execution_count": 13,
   "metadata": {},
   "outputs": [
    {
     "data": {
      "text/plain": [
       "693"
      ]
     },
     "execution_count": 13,
     "metadata": {},
     "output_type": "execute_result"
    }
   ],
   "source": [
    "ffl_nodes = list(set(sum([list(map(int, x.split(\"_\"))) for x in main_ffl_motifs], [])))\n",
    "len(ffl_nodes)"
   ]
  },
  {
   "cell_type": "code",
   "execution_count": 14,
   "metadata": {},
   "outputs": [],
   "source": [
    "interaction_matrix_ffl = interaction_matrix[ffl_nodes, :][:, ffl_nodes]"
   ]
  },
  {
   "cell_type": "code",
   "execution_count": 15,
   "metadata": {},
   "outputs": [
    {
     "name": "stdout",
     "output_type": "stream",
     "text": [
      "CPU times: user 297 ms, sys: 58.7 ms, total: 356 ms\n",
      "Wall time: 1.87 s\n"
     ]
    },
    {
     "data": {
      "text/plain": [
       "{'021C': 2167, '021D': 130868, '021U': 2627, '030C': 0, '030T': 1380}"
      ]
     },
     "execution_count": 15,
     "metadata": {},
     "output_type": "execute_result"
    }
   ],
   "source": [
    "%%time\n",
    "motifs_ffl, counter_ffl = f.motif_search(cfg, interaction_matrix_ffl, batch_size=10000)\n",
    "counter_ffl"
   ]
  },
  {
   "cell_type": "code",
   "execution_count": 16,
   "metadata": {},
   "outputs": [
    {
     "name": "stderr",
     "output_type": "stream",
     "text": [
      "100%|██████████| 1/1 [00:00<00:00, 231.70it/s]\n"
     ]
    },
    {
     "data": {
      "image/png": "[encoded data removed]",
      "text/plain": [
       "<Figure size 1440x360 with 5 Axes>"
      ]
     },
     "metadata": {
      "needs_background": "light"
     },
     "output_type": "display_data"
    }
   ],
   "source": [
    "f.plot_distr([counter_ffl], counter_orig, label=\"\", highlight=False);"
   ]
  },
  {
   "cell_type": "code",
   "execution_count": 17,
   "metadata": {},
   "outputs": [],
   "source": [
    "ffl_nodes = set(sum([list(map(int, x.split(\"_\"))) for x in motifs_orig[\"030T\"]], []))\n",
    "cascade_nodes = set(sum([list(map(int, x.split(\"_\"))) for x in motifs_orig[\"021C\"]], []))\n",
    "uplink_nodes = set(sum([list(map(int, x.split(\"_\"))) for x in motifs_orig[\"021U\"]], []))\n",
    "# downlink_nodes = set(sum([list(map(int, x.split(\"_\"))) for x in motifs_orig[\"021D\"]], []))"
   ]
  },
  {
   "cell_type": "code",
   "execution_count": 22,
   "metadata": {},
   "outputs": [
    {
     "name": "stderr",
     "output_type": "stream",
     "text": [
      "100%|██████████| 329287/329287 [00:00<00:00, 645802.69it/s]\n"
     ]
    }
   ],
   "source": [
    "downlink_nodes = []\n",
    "for triad in tqdm(motifs_orig[\"021D\"]):\n",
    "    for x in map(int, triad.split(\"_\")):\n",
    "        downlink_nodes.append(x)\n",
    "downlink_nodes = set(downlink_nodes)"
   ]
  },
  {
   "cell_type": "code",
   "execution_count": 23,
   "metadata": {},
   "outputs": [
    {
     "data": {
      "text/plain": [
       "(717, 1361, 968, 1896)"
      ]
     },
     "execution_count": 23,
     "metadata": {},
     "output_type": "execute_result"
    }
   ],
   "source": [
    "len(ffl_nodes), len(cascade_nodes), len(uplink_nodes), len(downlink_nodes)"
   ]
  },
  {
   "cell_type": "code",
   "execution_count": 24,
   "metadata": {},
   "outputs": [
    {
     "data": {
      "text/plain": [
       "(673, 540, 711)"
      ]
     },
     "execution_count": 24,
     "metadata": {},
     "output_type": "execute_result"
    }
   ],
   "source": [
    "len(ffl_nodes & cascade_nodes), len(ffl_nodes & uplink_nodes), len(ffl_nodes & downlink_nodes)"
   ]
  },
  {
   "cell_type": "code",
   "execution_count": 25,
   "metadata": {},
   "outputs": [
    {
     "data": {
      "text/plain": [
       "(0.9386331938633193, 0.7531380753138075, 0.9916317991631799)"
      ]
     },
     "execution_count": 25,
     "metadata": {},
     "output_type": "execute_result"
    }
   ],
   "source": [
    "673/717, 540/717, 711/717"
   ]
  },
  {
   "cell_type": "markdown",
   "metadata": {},
   "source": [
    "Total network"
   ]
  },
  {
   "cell_type": "code",
   "execution_count": 21,
   "metadata": {},
   "outputs": [],
   "source": [
    "G = nx.DiGraph(interaction_matrix)"
   ]
  },
  {
   "cell_type": "code",
   "execution_count": 22,
   "metadata": {},
   "outputs": [
    {
     "data": {
      "text/plain": [
       "(False, False)"
      ]
     },
     "execution_count": 22,
     "metadata": {},
     "output_type": "execute_result"
    }
   ],
   "source": [
    "nx.is_strongly_connected(G), nx.is_weakly_connected(G) "
   ]
  },
  {
   "cell_type": "code",
   "execution_count": 28,
   "metadata": {},
   "outputs": [
    {
     "name": "stdout",
     "output_type": "stream",
     "text": [
      "Largest weakly conn. comp.: 0.94679186228482\n",
      "Largest strongly conn. comp.: 0.0005216484089723526\n"
     ]
    }
   ],
   "source": [
    "w_components = list(nx.algorithms.components.weakly_connected_components(G))\n",
    "s_components = list(nx.algorithms.components.strongly_connected_components(G))\n",
    "print(\"Largest weakly conn. comp.:\", len(w_components[0])/interaction_matrix.shape[0])\n",
    "print(\"Largest strongly conn. comp.:\", len(s_components[0])/interaction_matrix.shape[0])"
   ]
  },
  {
   "cell_type": "code",
   "execution_count": 33,
   "metadata": {},
   "outputs": [],
   "source": [
    "main_comp_nodes = w_components[0]\n",
    "interaction_matrix_conn = interaction_matrix[list(main_comp_nodes), :][:, list(main_comp_nodes)]\n",
    "interaction_matrix_conn.shape\n",
    "G = nx.DiGraph(interaction_matrix_conn)"
   ]
  },
  {
   "cell_type": "code",
   "execution_count": null,
   "metadata": {},
   "outputs": [],
   "source": []
  },
  {
   "cell_type": "code",
   "execution_count": 34,
   "metadata": {},
   "outputs": [
    {
     "name": "stdout",
     "output_type": "stream",
     "text": [
      "CPU times: user 8.02 s, sys: 16.2 ms, total: 8.03 s\n",
      "Wall time: 8.04 s\n"
     ]
    }
   ],
   "source": [
    "%%time\n",
    "ecc = nx.eccentricity(G.to_undirected())"
   ]
  },
  {
   "cell_type": "code",
   "execution_count": null,
   "metadata": {},
   "outputs": [],
   "source": [
    "pd.Series(ecc).value_counts(normalize=True)"
   ]
  },
  {
   "cell_type": "code",
   "execution_count": 37,
   "metadata": {},
   "outputs": [
    {
     "data": {
      "image/png": "[encoded data removed]",
      "text/plain": [
       "<Figure size 432x288 with 1 Axes>"
      ]
     },
     "metadata": {
      "needs_background": "light"
     },
     "output_type": "display_data"
    }
   ],
   "source": [
    "pd.Series(ecc).hist(bins=9);"
   ]
  },
  {
   "cell_type": "code",
   "execution_count": 38,
   "metadata": {},
   "outputs": [
    {
     "data": {
      "image/png": "[encoded data removed]",
      "text/plain": [
       "<Figure size 432x288 with 1 Axes>"
      ]
     },
     "metadata": {
      "needs_background": "light"
     },
     "output_type": "display_data"
    }
   ],
   "source": [
    "cl_centr = pd.Series(nx.centrality.closeness_centrality(G.to_undirected()))\n",
    "cl_centr.hist(bins=100);"
   ]
  },
  {
   "cell_type": "code",
   "execution_count": 39,
   "metadata": {},
   "outputs": [
    {
     "data": {
      "image/png": "[encoded data removed]",
      "text/plain": [
       "<Figure size 432x288 with 1 Axes>"
      ]
     },
     "metadata": {
      "needs_background": "light"
     },
     "output_type": "display_data"
    }
   ],
   "source": [
    "cl_centr = pd.Series(nx.centrality.betweenness_centrality(G.to_undirected()))\n",
    "cl_centr.hist(bins=100);"
   ]
  },
  {
   "cell_type": "markdown",
   "metadata": {},
   "source": [
    "FFL network"
   ]
  },
  {
   "cell_type": "code",
   "execution_count": 40,
   "metadata": {},
   "outputs": [],
   "source": [
    "G_ffl = nx.DiGraph(interaction_matrix_ffl)"
   ]
  },
  {
   "cell_type": "code",
   "execution_count": 41,
   "metadata": {},
   "outputs": [
    {
     "data": {
      "text/plain": [
       "(False, True)"
      ]
     },
     "execution_count": 41,
     "metadata": {},
     "output_type": "execute_result"
    }
   ],
   "source": [
    "nx.is_strongly_connected(G_ffl), nx.is_weakly_connected(G_ffl) "
   ]
  },
  {
   "cell_type": "code",
   "execution_count": 42,
   "metadata": {},
   "outputs": [
    {
     "name": "stdout",
     "output_type": "stream",
     "text": [
      "CPU times: user 1.32 s, sys: 2.96 ms, total: 1.32 s\n",
      "Wall time: 1.32 s\n"
     ]
    }
   ],
   "source": [
    "%%time\n",
    "ecc_ffl = nx.eccentricity(G_ffl.to_undirected())"
   ]
  },
  {
   "cell_type": "code",
   "execution_count": 43,
   "metadata": {},
   "outputs": [
    {
     "data": {
      "text/plain": [
       "5    0.544012\n",
       "4    0.440115\n",
       "6    0.015873\n",
       "dtype: float64"
      ]
     },
     "execution_count": 43,
     "metadata": {},
     "output_type": "execute_result"
    }
   ],
   "source": [
    "pd.Series(ecc_ffl).value_counts(normalize=True)"
   ]
  },
  {
   "cell_type": "code",
   "execution_count": 44,
   "metadata": {},
   "outputs": [
    {
     "data": {
      "image/png": "[encoded data removed]",
      "text/plain": [
       "<Figure size 432x288 with 1 Axes>"
      ]
     },
     "metadata": {
      "needs_background": "light"
     },
     "output_type": "display_data"
    }
   ],
   "source": [
    "pd.Series(ecc_ffl).hist(bins=5);"
   ]
  },
  {
   "cell_type": "code",
   "execution_count": 45,
   "metadata": {},
   "outputs": [],
   "source": [
    "center_ffl = nx.center(G_ffl.to_undirected())"
   ]
  },
  {
   "cell_type": "code",
   "execution_count": 46,
   "metadata": {},
   "outputs": [
    {
     "data": {
      "text/plain": [
       "305"
      ]
     },
     "execution_count": 46,
     "metadata": {},
     "output_type": "execute_result"
    }
   ],
   "source": [
    "len(center_ffl)"
   ]
  },
  {
   "cell_type": "code",
   "execution_count": 47,
   "metadata": {},
   "outputs": [
    {
     "data": {
      "image/png": "[encoded data removed]",
      "text/plain": [
       "<Figure size 432x288 with 1 Axes>"
      ]
     },
     "metadata": {
      "needs_background": "light"
     },
     "output_type": "display_data"
    }
   ],
   "source": [
    "cl_centr_ffl = pd.Series(nx.centrality.closeness_centrality(G_ffl.to_undirected()))\n",
    "cl_centr_ffl.hist(bins=100);"
   ]
  },
  {
   "cell_type": "code",
   "execution_count": 48,
   "metadata": {},
   "outputs": [
    {
     "data": {
      "image/png": "[encoded data removed]",
      "text/plain": [
       "<Figure size 432x288 with 1 Axes>"
      ]
     },
     "metadata": {
      "needs_background": "light"
     },
     "output_type": "display_data"
    }
   ],
   "source": [
    "cl_centr_ffl = pd.Series(nx.centrality.betweenness_centrality(G_ffl.to_undirected()))\n",
    "cl_centr_ffl.hist(bins=100);"
   ]
  },
  {
   "cell_type": "code",
   "execution_count": 49,
   "metadata": {},
   "outputs": [],
   "source": [
    "ecc_df = pd.DataFrame(index=ecc.keys(), data=ecc.values(), columns=[\"total\"])\n",
    "ecc_df = ecc_df.join(pd.DataFrame(index=ecc_ffl.keys(), data=ecc_ffl.values(), columns=[\"ffl\"]), how=\"left\")\n",
    "ecc_df[\"diff\"] = ecc_df.total - ecc_df.ffl"
   ]
  },
  {
   "cell_type": "code",
   "execution_count": 50,
   "metadata": {},
   "outputs": [
    {
     "data": {
      "text/plain": [
       "NaN    1122\n",
       "2.0     282\n",
       "1.0     261\n",
       "3.0     109\n",
       "4.0      20\n",
       "0.0      19\n",
       "5.0       2\n",
       "Name: diff, dtype: int64"
      ]
     },
     "execution_count": 50,
     "metadata": {},
     "output_type": "execute_result"
    }
   ],
   "source": [
    "ecc_df[\"diff\"].value_counts(dropna=False)"
   ]
  },
  {
   "cell_type": "code",
   "execution_count": 51,
   "metadata": {},
   "outputs": [],
   "source": [
    "paths_ffl = {}\n",
    "for lengths in nx.all_pairs_shortest_path_length(G_ffl):\n",
    "    paths_ffl[lengths[0]] = pd.Series(lengths[1]).max()\n",
    "paths_ffl = pd.Series(paths_ffl)"
   ]
  },
  {
   "cell_type": "code",
   "execution_count": 52,
   "metadata": {},
   "outputs": [
    {
     "data": {
      "text/plain": [
       "0     23\n",
       "1     31\n",
       "2     18\n",
       "3    202\n",
       "4    174\n",
       "5    146\n",
       "6     25\n",
       "7     54\n",
       "8     11\n",
       "9      9\n",
       "dtype: int64"
      ]
     },
     "execution_count": 52,
     "metadata": {},
     "output_type": "execute_result"
    }
   ],
   "source": [
    "paths_ffl.value_counts().sort_index()"
   ]
  },
  {
   "cell_type": "code",
   "execution_count": 53,
   "metadata": {},
   "outputs": [
    {
     "data": {
      "image/png": "[encoded data removed]",
      "text/plain": [
       "<Figure size 432x288 with 1 Axes>"
      ]
     },
     "metadata": {
      "needs_background": "light"
     },
     "output_type": "display_data"
    }
   ],
   "source": [
    "paths_ffl.hist();"
   ]
  },
  {
   "cell_type": "code",
   "execution_count": 54,
   "metadata": {},
   "outputs": [
    {
     "name": "stderr",
     "output_type": "stream",
     "text": [
      "1815it [00:00, 3532.50it/s]\n"
     ]
    }
   ],
   "source": [
    "paths = {}\n",
    "for lengths in tqdm(nx.all_pairs_shortest_path_length(G)):\n",
    "    paths[lengths[0]] = pd.Series(lengths[1]).max()\n",
    "paths = pd.Series(paths)"
   ]
  },
  {
   "cell_type": "code",
   "execution_count": 55,
   "metadata": {},
   "outputs": [
    {
     "data": {
      "text/plain": [
       "0      75\n",
       "1     410\n",
       "2      92\n",
       "3     390\n",
       "4     337\n",
       "5     323\n",
       "6      61\n",
       "7      93\n",
       "8      12\n",
       "9      15\n",
       "10      7\n",
       "dtype: int64"
      ]
     },
     "execution_count": 55,
     "metadata": {},
     "output_type": "execute_result"
    }
   ],
   "source": [
    "paths.value_counts().sort_index()"
   ]
  },
  {
   "cell_type": "code",
   "execution_count": 56,
   "metadata": {},
   "outputs": [
    {
     "data": {
      "image/png": "[encoded data removed]",
      "text/plain": [
       "<Figure size 432x288 with 1 Axes>"
      ]
     },
     "metadata": {
      "needs_background": "light"
     },
     "output_type": "display_data"
    }
   ],
   "source": [
    "paths.hist();"
   ]
  },
  {
   "cell_type": "code",
   "execution_count": 57,
   "metadata": {},
   "outputs": [],
   "source": [
    "paths_df = pd.DataFrame(index=paths.index, data=paths.values, columns=[\"total\"])\n",
    "paths_df = paths_df.join(pd.DataFrame(index=paths_ffl.index, data=paths_ffl.values, columns=[\"ffl\"]), how=\"left\")\n",
    "paths_df[\"diff\"] = paths_df.total - paths_df.ffl"
   ]
  },
  {
   "cell_type": "code",
   "execution_count": 58,
   "metadata": {},
   "outputs": [
    {
     "data": {
      "text/plain": [
       " 1.0    0.145743\n",
       "-2.0    0.141414\n",
       " 0.0    0.139971\n",
       "-1.0    0.134199\n",
       "-3.0    0.111111\n",
       " 2.0    0.093795\n",
       "-4.0    0.090909\n",
       " 3.0    0.041847\n",
       " 4.0    0.040404\n",
       "-5.0    0.021645\n",
       "-6.0    0.020202\n",
       "-7.0    0.008658\n",
       " 5.0    0.004329\n",
       " 6.0    0.002886\n",
       " 7.0    0.002886\n",
       "Name: diff, dtype: float64"
      ]
     },
     "execution_count": 58,
     "metadata": {},
     "output_type": "execute_result"
    }
   ],
   "source": [
    "x = paths_df[\"diff\"].value_counts(dropna=True, normalize=True); x"
   ]
  },
  {
   "cell_type": "code",
   "execution_count": 59,
   "metadata": {},
   "outputs": [
    {
     "data": {
      "text/plain": [
       "0.47186147186147187"
      ]
     },
     "execution_count": 59,
     "metadata": {},
     "output_type": "execute_result"
    }
   ],
   "source": [
    "x.sort_index()[0:].sum()"
   ]
  },
  {
   "cell_type": "code",
   "execution_count": null,
   "metadata": {},
   "outputs": [],
   "source": []
  },
  {
   "cell_type": "code",
   "execution_count": null,
   "metadata": {},
   "outputs": [],
   "source": []
  },
  {
   "cell_type": "code",
   "execution_count": null,
   "metadata": {},
   "outputs": [],
   "source": []
  },
  {
   "cell_type": "code",
   "execution_count": null,
   "metadata": {},
   "outputs": [],
   "source": []
  },
  {
   "cell_type": "code",
   "execution_count": null,
   "metadata": {},
   "outputs": [],
   "source": []
  },
  {
   "cell_type": "code",
   "execution_count": null,
   "metadata": {},
   "outputs": [],
   "source": []
  },
  {
   "cell_type": "code",
   "execution_count": null,
   "metadata": {},
   "outputs": [],
   "source": []
  },
  {
   "cell_type": "code",
   "execution_count": null,
   "metadata": {},
   "outputs": [],
   "source": []
  },
  {
   "cell_type": "code",
   "execution_count": null,
   "metadata": {},
   "outputs": [],
   "source": []
  },
  {
   "cell_type": "code",
   "execution_count": null,
   "metadata": {},
   "outputs": [],
   "source": []
  },
  {
   "cell_type": "code",
   "execution_count": null,
   "metadata": {},
   "outputs": [],
   "source": []
  },
  {
   "cell_type": "code",
   "execution_count": null,
   "metadata": {},
   "outputs": [],
   "source": []
  },
  {
   "cell_type": "code",
   "execution_count": null,
   "metadata": {},
   "outputs": [],
   "source": []
  },
  {
   "cell_type": "code",
   "execution_count": null,
   "metadata": {},
   "outputs": [],
   "source": []
  },
  {
   "cell_type": "code",
   "execution_count": null,
   "metadata": {},
   "outputs": [],
   "source": []
  },
  {
   "cell_type": "code",
   "execution_count": null,
   "metadata": {},
   "outputs": [],
   "source": []
  },
  {
   "cell_type": "code",
   "execution_count": null,
   "metadata": {},
   "outputs": [],
   "source": []
  },
  {
   "cell_type": "code",
   "execution_count": null,
   "metadata": {},
   "outputs": [],
   "source": []
  },
  {
   "cell_type": "code",
   "execution_count": null,
   "metadata": {},
   "outputs": [],
   "source": []
  }
 ],
 "metadata": {
  "kernelspec": {
   "display_name": "Python 3",
   "language": "python",
   "name": "python3"
  },
  "language_info": {
   "codemirror_mode": {
    "name": "ipython",
    "version": 3
   },
   "file_extension": ".py",
   "mimetype": "text/x-python",
   "name": "python",
   "nbconvert_exporter": "python",
   "pygments_lexer": "ipython3",
   "version": "3.7.4"
  }
 },
 "nbformat": 4,
 "nbformat_minor": 4
}
