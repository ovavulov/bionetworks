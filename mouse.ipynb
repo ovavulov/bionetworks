{
 "cells": [
  {
   "cell_type": "markdown",
   "metadata": {},
   "source": [
    "# Mouse"
   ]
  },
  {
   "cell_type": "code",
   "execution_count": 59,
   "metadata": {},
   "outputs": [
    {
     "name": "stdout",
     "output_type": "stream",
     "text": [
      "The autoreload extension is already loaded. To reload it, use:\n",
      "  %reload_ext autoreload\n"
     ]
    }
   ],
   "source": [
    "%load_ext autoreload\n",
    "%autoreload 2\n",
    "import os\n",
    "import sys\n",
    "sys.path.insert(0, \"./scripts\")\n",
    "import numpy as np\n",
    "import pandas as pd\n",
    "from itertools import combinations, product\n",
    "import joblib\n",
    "import functions as f\n",
    "from tqdm import tqdm\n",
    "from matplotlib import pyplot as plt\n",
    "import networkx as nx"
   ]
  },
  {
   "cell_type": "markdown",
   "metadata": {},
   "source": [
    "Actual parametrisation"
   ]
  },
  {
   "cell_type": "code",
   "execution_count": 2,
   "metadata": {},
   "outputs": [
    {
     "name": "stdout",
     "output_type": "stream",
     "text": [
      "RANDOM_SEED: 19\n",
      "TEST_NETWORK_SIZE: 500\n",
      "TEST_NETWORK_LINK_PROB: 0.1\n",
      "N_CORES_TO_USE: -1\n",
      "NETWORK_TO_SEARCH_IN: yeast\n"
     ]
    }
   ],
   "source": [
    "cfg = f.get_actual_parametrization(\"./config.json\")"
   ]
  },
  {
   "cell_type": "code",
   "execution_count": 3,
   "metadata": {},
   "outputs": [
    {
     "name": "stdout",
     "output_type": "stream",
     "text": [
      "RANDOM_SEED: 19\n",
      "TEST_NETWORK_SIZE: 500\n",
      "TEST_NETWORK_LINK_PROB: 0.1\n",
      "N_CORES_TO_USE: -1\n",
      "NETWORK_TO_SEARCH_IN: yeast\n"
     ]
    }
   ],
   "source": [
    "cfg = f.update_cfg(\"./config.json\", \"TEST_NETWORK_LINK_PROB\", 0.1, verbose=False)\n",
    "cfg = f.update_cfg(\"./config.json\", \"TEST_NETWORK_SIZE\", 500)"
   ]
  },
  {
   "cell_type": "markdown",
   "metadata": {},
   "source": [
    "## TRRUST"
   ]
  },
  {
   "cell_type": "markdown",
   "metadata": {},
   "source": [
    "Network construction"
   ]
  },
  {
   "cell_type": "code",
   "execution_count": 9,
   "metadata": {},
   "outputs": [],
   "source": [
    "MOUSE_NETWORK_PATH = \"./networks/mouse/trrust\""
   ]
  },
  {
   "cell_type": "code",
   "execution_count": 11,
   "metadata": {},
   "outputs": [
    {
     "name": "stdout",
     "output_type": "stream",
     "text": [
      "Total genes number:\t2456\n",
      "Interactions number:\t7057\n"
     ]
    },
    {
     "data": {
      "text/html": [
       "<div>\n",
       "<style scoped>\n",
       "    .dataframe tbody tr th:only-of-type {\n",
       "        vertical-align: middle;\n",
       "    }\n",
       "\n",
       "    .dataframe tbody tr th {\n",
       "        vertical-align: top;\n",
       "    }\n",
       "\n",
       "    .dataframe thead th {\n",
       "        text-align: right;\n",
       "    }\n",
       "</style>\n",
       "<table border=\"1\" class=\"dataframe\">\n",
       "  <thead>\n",
       "    <tr style=\"text-align: right;\">\n",
       "      <th></th>\n",
       "      <th>Tf</th>\n",
       "      <th>Tg</th>\n",
       "    </tr>\n",
       "  </thead>\n",
       "  <tbody>\n",
       "    <tr>\n",
       "      <td>0</td>\n",
       "      <td>Aatf</td>\n",
       "      <td>Bak1</td>\n",
       "    </tr>\n",
       "    <tr>\n",
       "      <td>1</td>\n",
       "      <td>Aatf</td>\n",
       "      <td>Bax</td>\n",
       "    </tr>\n",
       "    <tr>\n",
       "      <td>2</td>\n",
       "      <td>Aatf</td>\n",
       "      <td>Bbc3</td>\n",
       "    </tr>\n",
       "    <tr>\n",
       "      <td>3</td>\n",
       "      <td>Aatf</td>\n",
       "      <td>Cdkn1a</td>\n",
       "    </tr>\n",
       "    <tr>\n",
       "      <td>4</td>\n",
       "      <td>Aatf</td>\n",
       "      <td>Tpt1</td>\n",
       "    </tr>\n",
       "  </tbody>\n",
       "</table>\n",
       "</div>"
      ],
      "text/plain": [
       "     Tf      Tg\n",
       "0  Aatf    Bak1\n",
       "1  Aatf     Bax\n",
       "2  Aatf    Bbc3\n",
       "3  Aatf  Cdkn1a\n",
       "4  Aatf    Tpt1"
      ]
     },
     "execution_count": 11,
     "metadata": {},
     "output_type": "execute_result"
    }
   ],
   "source": [
    "edges = pd.read_csv(os.path.join(MOUSE_NETWORK_PATH, \"trrust_rawdata.mouse.tsv\"), sep=\"\\t\", header=None)[[0, 1]]\n",
    "edges.columns = [\"Tf\", \"Tg\"]\n",
    "nodes = sorted(np.unique(np.concatenate((edges.Tf.unique(), edges.Tg.unique()))))\n",
    "nodes = pd.DataFrame(data=range(len(nodes)), index=nodes, columns=[\"idx\"])\n",
    "print(f\"Total genes number:\\t{len(nodes)}\")\n",
    "print(f\"Interactions number:\\t{len(edges)}\")\n",
    "edges.head()"
   ]
  },
  {
   "cell_type": "code",
   "execution_count": 12,
   "metadata": {},
   "outputs": [
    {
     "name": "stdout",
     "output_type": "stream",
     "text": [
      "Total TF:\t827\n",
      "Total TG:\t2092\n",
      "TF and TG:\t463\n",
      "TG only:\t1629\n",
      "TF only:\t364\n"
     ]
    }
   ],
   "source": [
    "edges_ = edges.join(nodes, on=\"Tf\").join(nodes, on=\"Tg\", lsuffix=\"_tf\", rsuffix=\"_tg\")\n",
    "tf_nodes = edges_[\"idx_tf\"].unique()\n",
    "print(f\"Total TF:\\t{len(tf_nodes)}\")\n",
    "tg_nodes = edges_[\"idx_tg\"].unique()\n",
    "print(f\"Total TG:\\t{len(tg_nodes)}\")\n",
    "tf_x_tg_nodes = np.array(sorted(set(tf_nodes) & set(tg_nodes)))\n",
    "print(f\"TF and TG:\\t{len(tf_x_tg_nodes)}\")\n",
    "tg_only_nodes = np.array(sorted(set(tg_nodes) - set(tf_nodes)))\n",
    "print(f\"TG only:\\t{len(tg_only_nodes)}\")\n",
    "tf_only_nodes = np.array(sorted(set(tf_nodes) - set(tg_nodes)))\n",
    "print(f\"TF only:\\t{len(tf_only_nodes)}\")\n",
    "\n",
    "meta = tf_nodes, tf_only_nodes, tg_nodes, tg_only_nodes, tf_x_tg_nodes\n",
    "joblib.dump(meta, os.path.join(MOUSE_NETWORK_PATH, \"meta.pkl\"));"
   ]
  },
  {
   "cell_type": "code",
   "execution_count": 13,
   "metadata": {},
   "outputs": [],
   "source": [
    "def build_Tnet(edges, n):\n",
    "    Tnet = np.zeros((n, n))\n",
    "    Tnet[edges[:, 0], edges[:, 1]] = 1\n",
    "    return Tnet\n",
    "\n",
    "np_edges = edges_[[\"idx_tg\", \"idx_tf\"]].values\n",
    "interaction_matrix = build_Tnet(np_edges, len(nodes))\n",
    "\n",
    "if not os.path.exists(MOUSE_NETWORK_PATH):\n",
    "    os.mkdir(MOUSE_NETWORK_PATH)\n",
    "\n",
    "joblib.dump(interaction_matrix, os.path.join(MOUSE_NETWORK_PATH, \"interaction_matrix.gz\"));"
   ]
  },
  {
   "cell_type": "code",
   "execution_count": 17,
   "metadata": {},
   "outputs": [
    {
     "name": "stdout",
     "output_type": "stream",
     "text": [
      "Total nodes: 2456\n",
      "Total edges: 6490\n"
     ]
    }
   ],
   "source": [
    "print(f\"Total nodes: {interaction_matrix.shape[0]}\")\n",
    "print(f\"Total edges: {interaction_matrix.sum():.0f}\")"
   ]
  },
  {
   "cell_type": "code",
   "execution_count": 18,
   "metadata": {},
   "outputs": [
    {
     "name": "stdout",
     "output_type": "stream",
     "text": [
      "CPU times: user 513 ms, sys: 120 ms, total: 634 ms\n",
      "Wall time: 3.23 s\n"
     ]
    },
    {
     "data": {
      "text/plain": [
       "{'021C': 40969, '021D': 135077, '021U': 20789, '030C': 60, '030T': 1956}"
      ]
     },
     "execution_count": 18,
     "metadata": {},
     "output_type": "execute_result"
    }
   ],
   "source": [
    "%%time\n",
    "motifs, counter = f.motif_search(cfg, interaction_matrix, batch_size=10000)\n",
    "motifs_orig = motifs[\"030T\"]\n",
    "counter"
   ]
  },
  {
   "cell_type": "code",
   "execution_count": 19,
   "metadata": {},
   "outputs": [
    {
     "data": {
      "image/png": "[encoded data removed]",
      "text/plain": [
       "<Figure size 432x288 with 1 Axes>"
      ]
     },
     "metadata": {
      "needs_background": "light"
     },
     "output_type": "display_data"
    }
   ],
   "source": [
    "f.plot_motif_distr(counter)"
   ]
  },
  {
   "cell_type": "markdown",
   "metadata": {},
   "source": [
    "Motif enrichment"
   ]
  },
  {
   "cell_type": "code",
   "execution_count": 21,
   "metadata": {},
   "outputs": [
    {
     "name": "stderr",
     "output_type": "stream",
     "text": [
      "100%|██████████| 11/11 [00:33<00:00,  3.04s/it]\n"
     ]
    }
   ],
   "source": [
    "noise_list = np.linspace(0, 80000, 11).astype(int)\n",
    "score_list = []\n",
    "for noise in tqdm(noise_list):\n",
    "    shuffled_matrix = f.get_shuffled_matrix(interaction_matrix, noise)\n",
    "    score_list.append(1-f.corruption_score(interaction_matrix, shuffled_matrix))"
   ]
  },
  {
   "cell_type": "code",
   "execution_count": 22,
   "metadata": {},
   "outputs": [
    {
     "data": {
      "image/png": "[encoded data removed]",
      "text/plain": [
       "<Figure size 1440x432 with 1 Axes>"
      ]
     },
     "metadata": {
      "needs_background": "light"
     },
     "output_type": "display_data"
    }
   ],
   "source": [
    "plt.figure(figsize=(20, 6))\n",
    "plt.grid()\n",
    "plt.ylabel(\"Fraction of shifted links\", fontsize=20)\n",
    "plt.xlabel(\"Number of swaps\", fontsize=20)\n",
    "plt.plot(noise_list, score_list);"
   ]
  },
  {
   "cell_type": "code",
   "execution_count": 33,
   "metadata": {},
   "outputs": [
    {
     "data": {
      "text/plain": [
       "((773, 773), 2697.0)"
      ]
     },
     "execution_count": 33,
     "metadata": {},
     "output_type": "execute_result"
    }
   ],
   "source": [
    "ffl_nodes = list(set(sum([list(map(int, x.split(\"_\"))) for x in motifs_orig], [])))\n",
    "interaction_matrix_ffl = np.zeros((len(ffl_nodes), len(ffl_nodes)))\n",
    "for motif in motifs_orig:\n",
    "    motif = f.split_motif(motif)\n",
    "    motif_new = list(ffl_nodes.index(x) for x in motif)\n",
    "    interaction_matrix_ffl[np.ix_(motif_new, motif_new)] = \\\n",
    "    interaction_matrix[np.ix_(motif, motif)]\n",
    "interaction_matrix_ffl.shape, interaction_matrix_ffl.sum()"
   ]
  },
  {
   "cell_type": "code",
   "execution_count": 35,
   "metadata": {},
   "outputs": [
    {
     "name": "stderr",
     "output_type": "stream",
     "text": [
      "100%|██████████| 1911990/1911990 [00:09<00:00, 207426.81it/s]\n"
     ]
    }
   ],
   "source": [
    "motifs_network = f.build_vmn(motifs_orig, verbose=True)"
   ]
  },
  {
   "cell_type": "code",
   "execution_count": 36,
   "metadata": {},
   "outputs": [
    {
     "data": {
      "text/plain": [
       "False"
      ]
     },
     "execution_count": 36,
     "metadata": {},
     "output_type": "execute_result"
    }
   ],
   "source": [
    "V = nx.Graph(motifs_network)\n",
    "nx.is_connected(V)"
   ]
  },
  {
   "cell_type": "code",
   "execution_count": 38,
   "metadata": {},
   "outputs": [],
   "source": [
    "components = list(nx.algorithms.components.connected_components(V))\n",
    "main_ffl_motifs = [motifs_orig[i] for i in components[0]]"
   ]
  },
  {
   "cell_type": "code",
   "execution_count": 39,
   "metadata": {},
   "outputs": [
    {
     "data": {
      "text/plain": [
       "(1950, 0.9969325153374233)"
      ]
     },
     "execution_count": 39,
     "metadata": {},
     "output_type": "execute_result"
    }
   ],
   "source": [
    "len(main_ffl_motifs), len(main_ffl_motifs)/len(motifs_orig)"
   ]
  },
  {
   "cell_type": "code",
   "execution_count": 23,
   "metadata": {},
   "outputs": [],
   "source": [
    "interaction_matrix = joblib.load(os.path.join(MOUSE_NETWORK_PATH, \"interaction_matrix.gz\"))"
   ]
  },
  {
   "cell_type": "code",
   "execution_count": 5,
   "metadata": {},
   "outputs": [
    {
     "name": "stderr",
     "output_type": "stream",
     "text": [
      "100%|██████████| 100/100 [04:22<00:00,  2.62s/it]\n",
      "100%|██████████| 100/100 [04:33<00:00,  2.74s/it]\n",
      "100%|██████████| 100/100 [04:48<00:00,  2.89s/it]\n",
      "100%|██████████| 100/100 [04:41<00:00,  2.82s/it]\n",
      "100%|██████████| 100/100 [04:35<00:00,  2.76s/it]\n",
      "100%|██████████| 100/100 [04:55<00:00,  2.96s/it]\n",
      "100%|██████████| 100/100 [05:14<00:00,  3.14s/it]\n",
      "100%|██████████| 100/100 [05:24<00:00,  3.25s/it]\n",
      "100%|██████████| 100/100 [05:08<00:00,  3.08s/it]\n",
      "100%|██████████| 100/100 [05:01<00:00,  3.01s/it]\n"
     ]
    }
   ],
   "source": [
    "N_SIMS = 1000\n",
    "N_STEPS = 10\n",
    "N_SWAPS = 40000\n",
    "counters = f.generate_random_networks(cfg, interaction_matrix, N_SIMS, N_STEPS, N_SWAPS)"
   ]
  },
  {
   "cell_type": "code",
   "execution_count": 6,
   "metadata": {},
   "outputs": [],
   "source": [
    "joblib.dump(counters, os.path.join(MOUSE_NETWORK_PATH, \"shuffled_counters.gz\"));"
   ]
  },
  {
   "cell_type": "code",
   "execution_count": 24,
   "metadata": {},
   "outputs": [],
   "source": [
    "counters = joblib.load(os.path.join(MOUSE_NETWORK_PATH, \"shuffled_counters.gz\"));"
   ]
  },
  {
   "cell_type": "code",
   "execution_count": 25,
   "metadata": {},
   "outputs": [
    {
     "name": "stderr",
     "output_type": "stream",
     "text": [
      "100%|██████████| 1000/1000 [00:04<00:00, 245.35it/s]\n"
     ]
    },
    {
     "data": {
      "image/png": "[encoded data removed]",
      "text/plain": [
       "<Figure size 1440x360 with 5 Axes>"
      ]
     },
     "metadata": {
      "needs_background": "light"
     },
     "output_type": "display_data"
    }
   ],
   "source": [
    "f.plot_distr(counters, counter, label=\"Motif distribution in Mouse Tnet\", highlight=False);"
   ]
  },
  {
   "cell_type": "code",
   "execution_count": 26,
   "metadata": {},
   "outputs": [
    {
     "data": {
      "image/png": "[encoded data removed]",
      "text/plain": [
       "<Figure size 1440x720 with 6 Axes>"
      ]
     },
     "metadata": {
      "needs_background": "light"
     },
     "output_type": "display_data"
    }
   ],
   "source": [
    "f.plot_distr_2(counters, counter, ticks = [55, 55, 70, 180, 60])"
   ]
  },
  {
   "cell_type": "code",
   "execution_count": 27,
   "metadata": {},
   "outputs": [
    {
     "data": {
      "text/html": [
       "<div>\n",
       "<style scoped>\n",
       "    .dataframe tbody tr th:only-of-type {\n",
       "        vertical-align: middle;\n",
       "    }\n",
       "\n",
       "    .dataframe tbody tr th {\n",
       "        vertical-align: top;\n",
       "    }\n",
       "\n",
       "    .dataframe thead th {\n",
       "        text-align: right;\n",
       "    }\n",
       "</style>\n",
       "<table border=\"1\" class=\"dataframe\">\n",
       "  <thead>\n",
       "    <tr style=\"text-align: right;\">\n",
       "      <th></th>\n",
       "      <th>N_real</th>\n",
       "      <th>mean(N_rand)</th>\n",
       "      <th>sd(N_rand)</th>\n",
       "      <th>Z-score</th>\n",
       "      <th>P-value</th>\n",
       "      <th>Result</th>\n",
       "    </tr>\n",
       "  </thead>\n",
       "  <tbody>\n",
       "    <tr>\n",
       "      <td>021C</td>\n",
       "      <td>40969</td>\n",
       "      <td>45851.5</td>\n",
       "      <td>862.984</td>\n",
       "      <td>-5.65775</td>\n",
       "      <td>0</td>\n",
       "      <td>&lt; 0.01</td>\n",
       "    </tr>\n",
       "    <tr>\n",
       "      <td>021D</td>\n",
       "      <td>135077</td>\n",
       "      <td>138709</td>\n",
       "      <td>698.981</td>\n",
       "      <td>-5.19599</td>\n",
       "      <td>0</td>\n",
       "      <td>&lt; 0.01</td>\n",
       "    </tr>\n",
       "    <tr>\n",
       "      <td>021U</td>\n",
       "      <td>20789</td>\n",
       "      <td>22527.9</td>\n",
       "      <td>184.583</td>\n",
       "      <td>-9.42046</td>\n",
       "      <td>0</td>\n",
       "      <td>&lt; 0.01</td>\n",
       "    </tr>\n",
       "    <tr>\n",
       "      <td>030C</td>\n",
       "      <td>60</td>\n",
       "      <td>81.372</td>\n",
       "      <td>11.6947</td>\n",
       "      <td>-1.8275</td>\n",
       "      <td>0.033</td>\n",
       "      <td>non-significant</td>\n",
       "    </tr>\n",
       "    <tr>\n",
       "      <td>030T</td>\n",
       "      <td>1956</td>\n",
       "      <td>1540.48</td>\n",
       "      <td>84.4663</td>\n",
       "      <td>4.91938</td>\n",
       "      <td>0</td>\n",
       "      <td>&lt; 0.01</td>\n",
       "    </tr>\n",
       "  </tbody>\n",
       "</table>\n",
       "</div>"
      ],
      "text/plain": [
       "      N_real mean(N_rand) sd(N_rand)  Z-score P-value           Result\n",
       "021C   40969      45851.5    862.984 -5.65775       0           < 0.01\n",
       "021D  135077       138709    698.981 -5.19599       0           < 0.01\n",
       "021U   20789      22527.9    184.583 -9.42046       0           < 0.01\n",
       "030C      60       81.372    11.6947  -1.8275   0.033  non-significant\n",
       "030T    1956      1540.48    84.4663  4.91938       0           < 0.01"
      ]
     },
     "execution_count": 27,
     "metadata": {},
     "output_type": "execute_result"
    }
   ],
   "source": [
    "f.build_zscores_report(counters, counter)"
   ]
  },
  {
   "cell_type": "markdown",
   "metadata": {},
   "source": [
    "# Regnetwork"
   ]
  },
  {
   "cell_type": "code",
   "execution_count": 28,
   "metadata": {},
   "outputs": [],
   "source": [
    "MOUSE_NETWORK_PATH = \"./networks/mouse/regnet/\""
   ]
  },
  {
   "cell_type": "code",
   "execution_count": 40,
   "metadata": {},
   "outputs": [],
   "source": [
    "name_by_node = dict(pd.read_csv(os.path.join(MOUSE_NETWORK_PATH, \"mouse.node\"), sep=\"\\t\", header=None, index_col=0)[1])\n",
    "node_by_name = {y: x for x, y in name_by_node.items()}"
   ]
  },
  {
   "cell_type": "code",
   "execution_count": 48,
   "metadata": {},
   "outputs": [
    {
     "data": {
      "text/plain": [
       "21293"
      ]
     },
     "execution_count": 48,
     "metadata": {},
     "output_type": "execute_result"
    }
   ],
   "source": [
    "len(name_by_node)"
   ]
  },
  {
   "cell_type": "code",
   "execution_count": 51,
   "metadata": {},
   "outputs": [
    {
     "data": {
      "text/html": [
       "<div>\n",
       "<style scoped>\n",
       "    .dataframe tbody tr th:only-of-type {\n",
       "        vertical-align: middle;\n",
       "    }\n",
       "\n",
       "    .dataframe tbody tr th {\n",
       "        vertical-align: top;\n",
       "    }\n",
       "\n",
       "    .dataframe thead th {\n",
       "        text-align: right;\n",
       "    }\n",
       "</style>\n",
       "<table border=\"1\" class=\"dataframe\">\n",
       "  <thead>\n",
       "    <tr style=\"text-align: right;\">\n",
       "      <th></th>\n",
       "      <th>0</th>\n",
       "      <th>1</th>\n",
       "      <th>2</th>\n",
       "      <th>3</th>\n",
       "    </tr>\n",
       "  </thead>\n",
       "  <tbody>\n",
       "    <tr>\n",
       "      <td>261306</td>\n",
       "      <td>mmu-miR-181d-5p</td>\n",
       "      <td>MIMAT0004324</td>\n",
       "      <td>Slmap</td>\n",
       "      <td>83997</td>\n",
       "    </tr>\n",
       "    <tr>\n",
       "      <td>8078</td>\n",
       "      <td>Cebpb</td>\n",
       "      <td>12608</td>\n",
       "      <td>Wfdc2</td>\n",
       "      <td>67701</td>\n",
       "    </tr>\n",
       "    <tr>\n",
       "      <td>148404</td>\n",
       "      <td>mmu-miR-106b-5p</td>\n",
       "      <td>MIMAT0000386</td>\n",
       "      <td>Ski</td>\n",
       "      <td>20481</td>\n",
       "    </tr>\n",
       "    <tr>\n",
       "      <td>202277</td>\n",
       "      <td>mmu-miR-217-5p</td>\n",
       "      <td>MIMAT0000679</td>\n",
       "      <td>Zfyve20</td>\n",
       "      <td>78287</td>\n",
       "    </tr>\n",
       "    <tr>\n",
       "      <td>122570</td>\n",
       "      <td>mmu-miR-10b-5p</td>\n",
       "      <td>MIMAT0000208</td>\n",
       "      <td>Bcl2l11</td>\n",
       "      <td>12125</td>\n",
       "    </tr>\n",
       "    <tr>\n",
       "      <td>250273</td>\n",
       "      <td>mmu-miR-665-3p</td>\n",
       "      <td>MIMAT0003733</td>\n",
       "      <td>Lbh</td>\n",
       "      <td>77889</td>\n",
       "    </tr>\n",
       "    <tr>\n",
       "      <td>84257</td>\n",
       "      <td>Zfp292</td>\n",
       "      <td>30046</td>\n",
       "      <td>Hoxa2</td>\n",
       "      <td>15399</td>\n",
       "    </tr>\n",
       "    <tr>\n",
       "      <td>22003</td>\n",
       "      <td>Fosl1</td>\n",
       "      <td>14283</td>\n",
       "      <td>Lrrn4cl</td>\n",
       "      <td>68852</td>\n",
       "    </tr>\n",
       "    <tr>\n",
       "      <td>99653</td>\n",
       "      <td>mmu-miR-27b-3p</td>\n",
       "      <td>MIMAT0000126</td>\n",
       "      <td>Galnt7</td>\n",
       "      <td>108150</td>\n",
       "    </tr>\n",
       "    <tr>\n",
       "      <td>305414</td>\n",
       "      <td>Irf1</td>\n",
       "      <td>16362</td>\n",
       "      <td>mmu-miR-1894-3p</td>\n",
       "      <td>MIMAT0007878</td>\n",
       "    </tr>\n",
       "  </tbody>\n",
       "</table>\n",
       "</div>"
      ],
      "text/plain": [
       "                      0             1                2             3\n",
       "261306  mmu-miR-181d-5p  MIMAT0004324            Slmap         83997\n",
       "8078              Cebpb         12608            Wfdc2         67701\n",
       "148404  mmu-miR-106b-5p  MIMAT0000386              Ski         20481\n",
       "202277   mmu-miR-217-5p  MIMAT0000679          Zfyve20         78287\n",
       "122570   mmu-miR-10b-5p  MIMAT0000208          Bcl2l11         12125\n",
       "250273   mmu-miR-665-3p  MIMAT0003733              Lbh         77889\n",
       "84257            Zfp292         30046            Hoxa2         15399\n",
       "22003             Fosl1         14283          Lrrn4cl         68852\n",
       "99653    mmu-miR-27b-3p  MIMAT0000126           Galnt7        108150\n",
       "305414             Irf1         16362  mmu-miR-1894-3p  MIMAT0007878"
      ]
     },
     "execution_count": 51,
     "metadata": {},
     "output_type": "execute_result"
    }
   ],
   "source": [
    "edges = pd.read_csv(os.path.join(MOUSE_NETWORK_PATH, \"mouse.source\"), sep=\"\\t\", header=None)\n",
    "edges.sample(10)"
   ]
  },
  {
   "cell_type": "code",
   "execution_count": 53,
   "metadata": {},
   "outputs": [
    {
     "name": "stdout",
     "output_type": "stream",
     "text": [
      "Total genes number:\t20737\n",
      "Interactions number:\t323636\n"
     ]
    },
    {
     "data": {
      "text/html": [
       "<div>\n",
       "<style scoped>\n",
       "    .dataframe tbody tr th:only-of-type {\n",
       "        vertical-align: middle;\n",
       "    }\n",
       "\n",
       "    .dataframe tbody tr th {\n",
       "        vertical-align: top;\n",
       "    }\n",
       "\n",
       "    .dataframe thead th {\n",
       "        text-align: right;\n",
       "    }\n",
       "</style>\n",
       "<table border=\"1\" class=\"dataframe\">\n",
       "  <thead>\n",
       "    <tr style=\"text-align: right;\">\n",
       "      <th></th>\n",
       "      <th>Tf</th>\n",
       "      <th>Tg</th>\n",
       "    </tr>\n",
       "  </thead>\n",
       "  <tbody>\n",
       "    <tr>\n",
       "      <td>0</td>\n",
       "      <td>LOC100047997</td>\n",
       "      <td>Npy</td>\n",
       "    </tr>\n",
       "    <tr>\n",
       "      <td>1</td>\n",
       "      <td>LOC100047997</td>\n",
       "      <td>Arc</td>\n",
       "    </tr>\n",
       "    <tr>\n",
       "      <td>2</td>\n",
       "      <td>LOC100047997</td>\n",
       "      <td>Bcl2</td>\n",
       "    </tr>\n",
       "    <tr>\n",
       "      <td>3</td>\n",
       "      <td>LOC100047997</td>\n",
       "      <td>Bdnf</td>\n",
       "    </tr>\n",
       "    <tr>\n",
       "      <td>4</td>\n",
       "      <td>LOC100047997</td>\n",
       "      <td>Crh</td>\n",
       "    </tr>\n",
       "  </tbody>\n",
       "</table>\n",
       "</div>"
      ],
      "text/plain": [
       "             Tf    Tg\n",
       "0  LOC100047997   Npy\n",
       "1  LOC100047997   Arc\n",
       "2  LOC100047997  Bcl2\n",
       "3  LOC100047997  Bdnf\n",
       "4  LOC100047997   Crh"
      ]
     },
     "execution_count": 53,
     "metadata": {},
     "output_type": "execute_result"
    }
   ],
   "source": [
    "edges = pd.read_csv(\n",
    "    os.path.join(MOUSE_NETWORK_PATH, \"mouse.source\"), sep=\"\\t\", header=None\n",
    ")[[0, 2]]\n",
    "edges.columns = [\"Tf\", \"Tg\"]\n",
    "nodes = sorted(np.unique(np.concatenate((edges.Tf.unique(), edges.Tg.unique()))))\n",
    "nodes = pd.DataFrame(data=range(len(nodes)), index=nodes, columns=[\"idx\"])\n",
    "print(f\"Total genes number:\\t{len(nodes)}\")\n",
    "print(f\"Interactions number:\\t{len(edges)}\")\n",
    "edges.head()"
   ]
  },
  {
   "cell_type": "code",
   "execution_count": 54,
   "metadata": {},
   "outputs": [
    {
     "name": "stdout",
     "output_type": "stream",
     "text": [
      "Total TF:\t1902\n",
      "Total TG:\t20714\n",
      "TF and TG:\t1879\n",
      "TG only:\t18835\n",
      "TF only:\t23\n"
     ]
    }
   ],
   "source": [
    "edges_ = edges.join(nodes, on=\"Tf\").join(nodes, on=\"Tg\", lsuffix=\"_tf\", rsuffix=\"_tg\")\n",
    "tf_nodes = edges_[\"idx_tf\"].unique()\n",
    "print(f\"Total TF:\\t{len(tf_nodes)}\")\n",
    "tg_nodes = edges_[\"idx_tg\"].unique()\n",
    "print(f\"Total TG:\\t{len(tg_nodes)}\")\n",
    "tf_x_tg_nodes = np.array(sorted(set(tf_nodes) & set(tg_nodes)))\n",
    "print(f\"TF and TG:\\t{len(tf_x_tg_nodes)}\")\n",
    "tg_only_nodes = np.array(sorted(set(tg_nodes) - set(tf_nodes)))\n",
    "print(f\"TG only:\\t{len(tg_only_nodes)}\")\n",
    "tf_only_nodes = np.array(sorted(set(tf_nodes) - set(tg_nodes)))\n",
    "print(f\"TF only:\\t{len(tf_only_nodes)}\")\n",
    "\n",
    "meta = tf_nodes, tf_only_nodes, tg_nodes, tg_only_nodes, tf_x_tg_nodes\n",
    "joblib.dump(meta, os.path.join(MOUSE_NETWORK_PATH, \"meta.pkl\"));"
   ]
  },
  {
   "cell_type": "code",
   "execution_count": 55,
   "metadata": {},
   "outputs": [],
   "source": [
    "def build_Tnet(edges, n):\n",
    "    Tnet = np.zeros((n, n))\n",
    "    Tnet[edges[:, 0], edges[:, 1]] = 1\n",
    "    return Tnet\n",
    "\n",
    "np_edges = edges_[[\"idx_tg\", \"idx_tf\"]].values\n",
    "interaction_matrix = build_Tnet(np_edges, len(nodes))\n",
    "\n",
    "if not os.path.exists(MOUSE_NETWORK_PATH):\n",
    "    os.mkdir(MOUSE_NETWORK_PATH)\n",
    "\n",
    "joblib.dump(interaction_matrix, os.path.join(MOUSE_NETWORK_PATH, \"interaction_matrix.gz\"));"
   ]
  },
  {
   "cell_type": "code",
   "execution_count": 56,
   "metadata": {},
   "outputs": [
    {
     "name": "stdout",
     "output_type": "stream",
     "text": [
      "Total nodes: 20737\n",
      "Total edges: 323580\n"
     ]
    }
   ],
   "source": [
    "print(f\"Total nodes: {interaction_matrix.shape[0]}\")\n",
    "print(f\"Total edges: {interaction_matrix.sum():.0f}\")"
   ]
  },
  {
   "cell_type": "code",
   "execution_count": 57,
   "metadata": {},
   "outputs": [
    {
     "name": "stderr",
     "output_type": "stream",
     "text": [
      "14482it [27:22,  8.82it/s]\n"
     ]
    },
    {
     "name": "stdout",
     "output_type": "stream",
     "text": [
      "CPU times: user 8min 14s, sys: 6min 44s, total: 14min 59s\n",
      "Wall time: 38min 11s\n"
     ]
    },
    {
     "data": {
      "text/plain": [
       "{'021C': 6561521,\n",
       " '021D': 125097781,\n",
       " '021U': 4529991,\n",
       " '030C': 2834,\n",
       " '030T': 351063}"
      ]
     },
     "execution_count": 57,
     "metadata": {},
     "output_type": "execute_result"
    }
   ],
   "source": [
    "%%time\n",
    "motifs, counter = f.motif_search(cfg, interaction_matrix, batch_size=10000, verbose=True)\n",
    "motifs_orig = motifs[\"030T\"]\n",
    "counter"
   ]
  },
  {
   "cell_type": "code",
   "execution_count": 58,
   "metadata": {},
   "outputs": [
    {
     "data": {
      "image/png": "[encoded data removed]",
      "text/plain": [
       "<Figure size 432x288 with 1 Axes>"
      ]
     },
     "metadata": {
      "needs_background": "light"
     },
     "output_type": "display_data"
    }
   ],
   "source": [
    "f.plot_motif_distr(counter)"
   ]
  },
  {
   "cell_type": "markdown",
   "metadata": {},
   "source": [
    "Motif enrichment"
   ]
  },
  {
   "cell_type": "code",
   "execution_count": null,
   "metadata": {},
   "outputs": [],
   "source": []
  },
  {
   "cell_type": "code",
   "execution_count": 63,
   "metadata": {},
   "outputs": [
    {
     "name": "stderr",
     "output_type": "stream",
     "text": [
      "100%|██████████| 1/1 [05:18<00:00, 318.39s/it]\n"
     ]
    }
   ],
   "source": [
    "noise_list = np.linspace(200000, 200000, 1).astype(int)\n",
    "score_list = []\n",
    "for noise in tqdm(noise_list):\n",
    "    shuffled_matrix = f.get_shuffled_matrix(interaction_matrix, noise)\n",
    "    score_list.append(1-f.corruption_score(interaction_matrix, shuffled_matrix))"
   ]
  },
  {
   "cell_type": "code",
   "execution_count": 64,
   "metadata": {},
   "outputs": [
    {
     "data": {
      "text/plain": [
       "[0.3547283515668459]"
      ]
     },
     "execution_count": 64,
     "metadata": {},
     "output_type": "execute_result"
    }
   ],
   "source": [
    "score_list"
   ]
  },
  {
   "cell_type": "code",
   "execution_count": 61,
   "metadata": {},
   "outputs": [
    {
     "data": {
      "image/png": "[encoded data removed]",
      "text/plain": [
       "<Figure size 1440x432 with 1 Axes>"
      ]
     },
     "metadata": {
      "needs_background": "light"
     },
     "output_type": "display_data"
    }
   ],
   "source": [
    "plt.figure(figsize=(20, 6))\n",
    "plt.grid()\n",
    "plt.ylabel(\"Fraction of shifted links\", fontsize=20)\n",
    "plt.xlabel(\"Number of swaps\", fontsize=20)\n",
    "plt.plot(noise_list, score_list);"
   ]
  },
  {
   "cell_type": "code",
   "execution_count": 33,
   "metadata": {},
   "outputs": [
    {
     "data": {
      "text/plain": [
       "((773, 773), 2697.0)"
      ]
     },
     "execution_count": 33,
     "metadata": {},
     "output_type": "execute_result"
    }
   ],
   "source": [
    "ffl_nodes = list(set(sum([list(map(int, x.split(\"_\"))) for x in motifs_orig], [])))\n",
    "interaction_matrix_ffl = np.zeros((len(ffl_nodes), len(ffl_nodes)))\n",
    "for motif in motifs_orig:\n",
    "    motif = f.split_motif(motif)\n",
    "    motif_new = list(ffl_nodes.index(x) for x in motif)\n",
    "    interaction_matrix_ffl[np.ix_(motif_new, motif_new)] = \\\n",
    "    interaction_matrix[np.ix_(motif, motif)]\n",
    "interaction_matrix_ffl.shape, interaction_matrix_ffl.sum()"
   ]
  },
  {
   "cell_type": "code",
   "execution_count": 35,
   "metadata": {},
   "outputs": [
    {
     "name": "stderr",
     "output_type": "stream",
     "text": [
      "100%|██████████| 1911990/1911990 [00:09<00:00, 207426.81it/s]\n"
     ]
    }
   ],
   "source": [
    "motifs_network = f.build_vmn(motifs_orig, verbose=True)"
   ]
  },
  {
   "cell_type": "code",
   "execution_count": 36,
   "metadata": {},
   "outputs": [
    {
     "data": {
      "text/plain": [
       "False"
      ]
     },
     "execution_count": 36,
     "metadata": {},
     "output_type": "execute_result"
    }
   ],
   "source": [
    "V = nx.Graph(motifs_network)\n",
    "nx.is_connected(V)"
   ]
  },
  {
   "cell_type": "code",
   "execution_count": 38,
   "metadata": {},
   "outputs": [],
   "source": [
    "components = list(nx.algorithms.components.connected_components(V))\n",
    "main_ffl_motifs = [motifs_orig[i] for i in components[0]]"
   ]
  },
  {
   "cell_type": "code",
   "execution_count": 39,
   "metadata": {},
   "outputs": [
    {
     "data": {
      "text/plain": [
       "(1950, 0.9969325153374233)"
      ]
     },
     "execution_count": 39,
     "metadata": {},
     "output_type": "execute_result"
    }
   ],
   "source": [
    "len(main_ffl_motifs), len(main_ffl_motifs)/len(motifs_orig)"
   ]
  },
  {
   "cell_type": "code",
   "execution_count": null,
   "metadata": {},
   "outputs": [],
   "source": []
  },
  {
   "cell_type": "code",
   "execution_count": null,
   "metadata": {},
   "outputs": [],
   "source": []
  },
  {
   "cell_type": "code",
   "execution_count": null,
   "metadata": {},
   "outputs": [],
   "source": []
  },
  {
   "cell_type": "code",
   "execution_count": null,
   "metadata": {},
   "outputs": [],
   "source": []
  },
  {
   "cell_type": "code",
   "execution_count": null,
   "metadata": {},
   "outputs": [],
   "source": []
  },
  {
   "cell_type": "code",
   "execution_count": null,
   "metadata": {},
   "outputs": [],
   "source": []
  },
  {
   "cell_type": "code",
   "execution_count": null,
   "metadata": {},
   "outputs": [],
   "source": []
  },
  {
   "cell_type": "code",
   "execution_count": null,
   "metadata": {},
   "outputs": [],
   "source": []
  },
  {
   "cell_type": "code",
   "execution_count": null,
   "metadata": {},
   "outputs": [],
   "source": []
  },
  {
   "cell_type": "code",
   "execution_count": null,
   "metadata": {},
   "outputs": [],
   "source": []
  },
  {
   "cell_type": "code",
   "execution_count": null,
   "metadata": {},
   "outputs": [],
   "source": []
  },
  {
   "cell_type": "code",
   "execution_count": null,
   "metadata": {},
   "outputs": [],
   "source": [
    "joblib==0.13.2\n",
    "numba==0.53.0\n",
    "numpy==1.17.2\n",
    "pandas==0.25.1\n",
    "tqdm==4.36.1"
   ]
  },
  {
   "cell_type": "code",
   "execution_count": 65,
   "metadata": {},
   "outputs": [],
   "source": [
    "import joblib\n",
    "import numba\n",
    "import numpy\n",
    "import pandas\n",
    "import tqdm"
   ]
  },
  {
   "cell_type": "code",
   "execution_count": 72,
   "metadata": {},
   "outputs": [
    {
     "name": "stdout",
     "output_type": "stream",
     "text": [
      "joblib 0.13.2\n",
      "numba 0.53.0\n",
      "numpy 1.17.2\n",
      "pandas 0.25.1\n",
      "tqdm 4.59.0\n"
     ]
    }
   ],
   "source": [
    "print(\"joblib\", joblib.__version__)\n",
    "print(\"numba\", numba.__version__)\n",
    "print(\"numpy\", numpy.__version__)\n",
    "print(\"pandas\", pandas.__version__)\n",
    "print(\"tqdm\", tqdm.__version__)"
   ]
  },
  {
   "cell_type": "code",
   "execution_count": 68,
   "metadata": {},
   "outputs": [
    {
     "name": "stdout",
     "output_type": "stream",
     "text": [
      "/opt/anaconda3/bin/python\n"
     ]
    }
   ],
   "source": [
    "!which python"
   ]
  },
  {
   "cell_type": "code",
   "execution_count": 69,
   "metadata": {},
   "outputs": [
    {
     "name": "stdout",
     "output_type": "stream",
     "text": [
      "Python 3.7.4 (default, Aug 13 2019, 15:17:50) \n",
      "[Clang 4.0.1 (tags/RELEASE_401/final)] :: Anaconda, Inc. on darwin\n",
      "Type \"help\", \"copyright\", \"credits\" or \"license\" for more information.\n",
      ">>> \n",
      "KeyboardInterrupt\n",
      ">>> \n",
      ">>> "
     ]
    }
   ],
   "source": [
    "!/opt/anaconda3/bin/python"
   ]
  },
  {
   "cell_type": "code",
   "execution_count": 71,
   "metadata": {},
   "outputs": [],
   "source": [
    "!conda env export > env.yml"
   ]
  },
  {
   "cell_type": "code",
   "execution_count": null,
   "metadata": {},
   "outputs": [],
   "source": []
  }
 ],
 "metadata": {
  "kernelspec": {
   "display_name": "Python 3",
   "language": "python",
   "name": "python3"
  },
  "language_info": {
   "codemirror_mode": {
    "name": "ipython",
    "version": 3
   },
   "file_extension": ".py",
   "mimetype": "text/x-python",
   "name": "python",
   "nbconvert_exporter": "python",
   "pygments_lexer": "ipython3",
   "version": "3.7.4"
  }
 },
 "nbformat": 4,
 "nbformat_minor": 4
}
