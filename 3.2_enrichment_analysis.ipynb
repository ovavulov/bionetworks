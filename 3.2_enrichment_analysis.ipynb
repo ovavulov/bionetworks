{
 "cells": [
  {
   "cell_type": "markdown",
   "metadata": {},
   "source": [
    "# Motif enrichment analysis"
   ]
  },
  {
   "cell_type": "code",
   "execution_count": 1,
   "metadata": {},
   "outputs": [],
   "source": [
    "import numpy as np\n",
    "import pandas as pd\n",
    "import sys\n",
    "sys.path.insert(0, \"./scripts\")\n",
    "import functions as f\n",
    "from matplotlib import pyplot as plt\n",
    "import seaborn as sns\n",
    "from copy import copy\n",
    "import multiprocessing as mp\n",
    "import joblib\n",
    "from tqdm import tqdm\n",
    "from scipy import stats"
   ]
  },
  {
   "cell_type": "code",
   "execution_count": 2,
   "metadata": {},
   "outputs": [
    {
     "name": "stdout",
     "output_type": "stream",
     "text": [
      "RANDOM_SEED: 19\n",
      "TEST_NETWORK_SIZE: 500\n",
      "TEST_NETWORK_LINK_PROB: 0.1\n",
      "N_CORES_TO_USE: -1\n",
      "NETWORK_TO_SEARCH_IN: gs0.1\n"
     ]
    }
   ],
   "source": [
    "cfg = f.get_actual_parametrization(\"./config.json\")"
   ]
  },
  {
   "cell_type": "markdown",
   "metadata": {},
   "source": [
    "### Motifs library"
   ]
  },
  {
   "cell_type": "markdown",
   "metadata": {},
   "source": [
    "There are conventional denotations for all possible triads as presented below"
   ]
  },
  {
   "cell_type": "markdown",
   "metadata": {},
   "source": [
    "<img src=\"./pics/triads.png\" width=2000 height=20/>"
   ]
  },
  {
   "cell_type": "markdown",
   "metadata": {},
   "source": [
    "# Yeast Tnet"
   ]
  },
  {
   "cell_type": "code",
   "execution_count": 29,
   "metadata": {},
   "outputs": [
    {
     "name": "stdout",
     "output_type": "stream",
     "text": [
      "RANDOM_SEED: 19\n",
      "TEST_NETWORK_SIZE: 500\n",
      "TEST_NETWORK_LINK_PROB: 0.1\n",
      "N_CORES_TO_USE: -1\n",
      "NETWORK_TO_SEARCH_IN: yeast\n"
     ]
    }
   ],
   "source": [
    "cfg = f.update_cfg(\"./config.json\", \"NETWORK_TO_SEARCH_IN\", \"yeast\")"
   ]
  },
  {
   "cell_type": "code",
   "execution_count": 30,
   "metadata": {},
   "outputs": [],
   "source": [
    "interaction_matrix = f.get_interaction_matrix(cfg)"
   ]
  },
  {
   "cell_type": "code",
   "execution_count": 32,
   "metadata": {},
   "outputs": [
    {
     "name": "stdout",
     "output_type": "stream",
     "text": [
      "CPU times: user 2.6 s, sys: 137 ms, total: 2.73 s\n",
      "Wall time: 7.39 s\n"
     ]
    },
    {
     "data": {
      "text/plain": [
       "{'021C': 37631, '021D': 1059856, '021U': 26042, '030C': 8, '030T': 3370}"
      ]
     },
     "execution_count": 32,
     "metadata": {},
     "output_type": "execute_result"
    }
   ],
   "source": [
    "%%time\n",
    "motifs_orig, counter_orig = f.motif_search(cfg, interaction_matrix, batch_size=10000)\n",
    "counter_orig"
   ]
  },
  {
   "cell_type": "markdown",
   "metadata": {},
   "source": [
    "#### Random networks motif counting"
   ]
  },
  {
   "cell_type": "code",
   "execution_count": 11,
   "metadata": {},
   "outputs": [],
   "source": [
    "N_SIMS = 1000\n",
    "N_STEPS = 10\n",
    "N_SWAPS = 60000"
   ]
  },
  {
   "cell_type": "code",
   "execution_count": 9,
   "metadata": {},
   "outputs": [],
   "source": [
    "def get_shuffled_mp(params):\n",
    "    matrix = params[\"matrix\"]\n",
    "    nswaps = params[\"nswaps\"]\n",
    "    return f.get_shuffled_matrix(matrix, nswaps)"
   ]
  },
  {
   "cell_type": "code",
   "execution_count": 12,
   "metadata": {},
   "outputs": [
    {
     "name": "stderr",
     "output_type": "stream",
     "text": [
      "100%|██████████| 100/100 [15:20<00:00,  9.20s/it]\n",
      "100%|██████████| 100/100 [15:14<00:00,  9.14s/it]\n",
      "100%|██████████| 100/100 [15:17<00:00,  9.18s/it]\n",
      "100%|██████████| 100/100 [14:46<00:00,  8.87s/it]\n",
      "100%|██████████| 100/100 [14:45<00:00,  8.86s/it]\n",
      "100%|██████████| 100/100 [14:56<00:00,  8.97s/it]\n",
      "100%|██████████| 100/100 [14:45<00:00,  8.85s/it]\n",
      "100%|██████████| 100/100 [14:48<00:00,  8.89s/it]\n",
      "100%|██████████| 100/100 [14:56<00:00,  8.96s/it]\n",
      "100%|██████████| 100/100 [15:10<00:00,  9.10s/it]\n"
     ]
    }
   ],
   "source": [
    "counters = []\n",
    "for _ in range(N_STEPS):\n",
    "    pool = mp.Pool(mp.cpu_count())\n",
    "    params = {\"matrix\": interaction_matrix, \"nswaps\": N_SWAPS}\n",
    "    shuffled_arrays = pool.map(get_shuffled_mp, (params for _ in range(int(N_SIMS/N_STEPS))))\n",
    "    pool.close()\n",
    "    pool.join()\n",
    "    for arr in tqdm(shuffled_arrays):\n",
    "        motifs, counter = f.motif_search(cfg, arr, batch_size=10000)\n",
    "        counters.append(counter)\n",
    "# joblib.dump(counters, \"./networks/yeast/shuffled_counters.gz\");"
   ]
  },
  {
   "cell_type": "code",
   "execution_count": 13,
   "metadata": {},
   "outputs": [
    {
     "data": {
      "text/plain": [
       "1000"
      ]
     },
     "execution_count": 13,
     "metadata": {},
     "output_type": "execute_result"
    }
   ],
   "source": [
    "# c = joblib.load(\"./networks/yeast/shuffled_counters.gz\")\n",
    "# len(c)"
   ]
  },
  {
   "cell_type": "markdown",
   "metadata": {},
   "source": [
    "#### Z-score and P-value estimation"
   ]
  },
  {
   "cell_type": "code",
   "execution_count": 33,
   "metadata": {},
   "outputs": [],
   "source": [
    "counters = joblib.load(\"./networks/yeast/shuffled_counters.gz\");"
   ]
  },
  {
   "cell_type": "code",
   "execution_count": 34,
   "metadata": {},
   "outputs": [
    {
     "name": "stderr",
     "output_type": "stream",
     "text": [
      "100%|██████████| 1000/1000 [00:03<00:00, 254.38it/s]\n"
     ]
    },
    {
     "data": {
      "image/png": "[encoded data removed]",
      "text/plain": [
       "<Figure size 1440x360 with 5 Axes>"
      ]
     },
     "metadata": {
      "needs_background": "light"
     },
     "output_type": "display_data"
    }
   ],
   "source": [
    "f.plot_distr(counters, counter_orig, label=\"Motif distribution in Yeast Tnet\", highlight=False);"
   ]
  },
  {
   "cell_type": "code",
   "execution_count": 35,
   "metadata": {},
   "outputs": [],
   "source": [
    "distr = {triad: [] for triad in counters[0].keys()}\n",
    "for counter in counters:\n",
    "    for triad, n in counter.items():\n",
    "        distr[triad].append(n)\n",
    "distr = {x: np.array(y) for x, y in distr.items()}"
   ]
  },
  {
   "cell_type": "code",
   "execution_count": 36,
   "metadata": {},
   "outputs": [
    {
     "data": {
      "image/png": "[encoded data removed]",
      "text/plain": [
       "<Figure size 1440x720 with 6 Axes>"
      ]
     },
     "metadata": {
      "needs_background": "light"
     },
     "output_type": "display_data"
    }
   ],
   "source": [
    "fig, axes = plt.subplots(nrows=2, ncols=3, figsize=(20, 10))\n",
    "ticks = [60, 60, 60, 110, 70]\n",
    "for i, motif in enumerate(counters[0].keys()):\n",
    "    ax = axes[i//3, i%3]\n",
    "    ax.set_title(motif, fontsize=25)\n",
    "    pd.Series(distr[motif]).hist(bins=50, ax=ax)\n",
    "    ax.plot([counter_orig[motif]]*100, np.linspace(0, ticks[i], 100), \"r\")"
   ]
  },
  {
   "cell_type": "code",
   "execution_count": 37,
   "metadata": {},
   "outputs": [
    {
     "data": {
      "text/html": [
       "<div>\n",
       "<style scoped>\n",
       "    .dataframe tbody tr th:only-of-type {\n",
       "        vertical-align: middle;\n",
       "    }\n",
       "\n",
       "    .dataframe tbody tr th {\n",
       "        vertical-align: top;\n",
       "    }\n",
       "\n",
       "    .dataframe thead th {\n",
       "        text-align: right;\n",
       "    }\n",
       "</style>\n",
       "<table border=\"1\" class=\"dataframe\">\n",
       "  <thead>\n",
       "    <tr style=\"text-align: right;\">\n",
       "      <th></th>\n",
       "      <th>N_real</th>\n",
       "      <th>mean(N_rand)</th>\n",
       "      <th>sd(N_rand)</th>\n",
       "      <th>Z-score</th>\n",
       "      <th>P-value</th>\n",
       "      <th>Result</th>\n",
       "    </tr>\n",
       "  </thead>\n",
       "  <tbody>\n",
       "    <tr>\n",
       "      <td>021C</td>\n",
       "      <td>37631</td>\n",
       "      <td>39133.2</td>\n",
       "      <td>798.108</td>\n",
       "      <td>-1.88218</td>\n",
       "      <td>0.036</td>\n",
       "      <td>non-significant</td>\n",
       "    </tr>\n",
       "    <tr>\n",
       "      <td>021D</td>\n",
       "      <td>1059856</td>\n",
       "      <td>1.06136e+06</td>\n",
       "      <td>775.767</td>\n",
       "      <td>-1.94061</td>\n",
       "      <td>0.032</td>\n",
       "      <td>non-significant</td>\n",
       "    </tr>\n",
       "    <tr>\n",
       "      <td>021U</td>\n",
       "      <td>26042</td>\n",
       "      <td>27282.5</td>\n",
       "      <td>91.95</td>\n",
       "      <td>-13.4915</td>\n",
       "      <td>0</td>\n",
       "      <td>&lt; 0.01</td>\n",
       "    </tr>\n",
       "    <tr>\n",
       "      <td>030C</td>\n",
       "      <td>8</td>\n",
       "      <td>10.405</td>\n",
       "      <td>3.54753</td>\n",
       "      <td>-0.677936</td>\n",
       "      <td>0.319</td>\n",
       "      <td>non-significant</td>\n",
       "    </tr>\n",
       "    <tr>\n",
       "      <td>030T</td>\n",
       "      <td>3370</td>\n",
       "      <td>2439.5</td>\n",
       "      <td>102.095</td>\n",
       "      <td>9.11403</td>\n",
       "      <td>0</td>\n",
       "      <td>&lt; 0.01</td>\n",
       "    </tr>\n",
       "  </tbody>\n",
       "</table>\n",
       "</div>"
      ],
      "text/plain": [
       "       N_real mean(N_rand) sd(N_rand)   Z-score P-value           Result\n",
       "021C    37631      39133.2    798.108  -1.88218   0.036  non-significant\n",
       "021D  1059856  1.06136e+06    775.767  -1.94061   0.032  non-significant\n",
       "021U    26042      27282.5      91.95  -13.4915       0           < 0.01\n",
       "030C        8       10.405    3.54753 -0.677936   0.319  non-significant\n",
       "030T     3370       2439.5    102.095   9.11403       0           < 0.01"
      ]
     },
     "execution_count": 37,
     "metadata": {},
     "output_type": "execute_result"
    }
   ],
   "source": [
    "zscores_report = pd.DataFrame(\n",
    "    index=[\"N_real\", \"mean(N_rand)\", \"sd(N_rand)\", \"Z-score\", \"P-value\", \"Result\"]\n",
    ")\n",
    "for motif in counters[0].keys():\n",
    "    n_hypothesis = len(counters[0].keys())\n",
    "    d = distr[motif]\n",
    "    zscore = (counter_orig[motif]-np.mean(distr[motif]))/np.std(distr[motif])\n",
    "    pvalue = len(d[d <= counter_orig[motif]])/len(d)\n",
    "    if pvalue > 0.5:\n",
    "        pvalue = len(d[d >= counter_orig[motif]])/len(d)\n",
    "    if pvalue < 0.01/n_hypothesis:\n",
    "        result = \" < 0.01\"\n",
    "    elif pvalue < 0.05/n_hypothesis:\n",
    "        result = \" < 0.05\"\n",
    "    else:\n",
    "        result = \"non-significant\"\n",
    "    result_list = [\n",
    "        counter_orig[motif],\n",
    "        np.mean(distr[motif]),\n",
    "        np.std(distr[motif]),\n",
    "        zscore,\n",
    "        pvalue,\n",
    "        result\n",
    "    ]\n",
    "    zscores_report[motif] = result_list\n",
    "zscores_report.T"
   ]
  },
  {
   "cell_type": "markdown",
   "metadata": {},
   "source": [
    "# Ecoli Tnet"
   ]
  },
  {
   "cell_type": "code",
   "execution_count": 3,
   "metadata": {},
   "outputs": [
    {
     "name": "stdout",
     "output_type": "stream",
     "text": [
      "RANDOM_SEED: 19\n",
      "TEST_NETWORK_SIZE: 500\n",
      "TEST_NETWORK_LINK_PROB: 0.1\n",
      "N_CORES_TO_USE: -1\n",
      "NETWORK_TO_SEARCH_IN: ecoli\n"
     ]
    }
   ],
   "source": [
    "cfg = f.update_cfg(\"./config.json\", \"NETWORK_TO_SEARCH_IN\", \"ecoli\")"
   ]
  },
  {
   "cell_type": "code",
   "execution_count": 4,
   "metadata": {},
   "outputs": [],
   "source": [
    "interaction_matrix = f.get_interaction_matrix(cfg)"
   ]
  },
  {
   "cell_type": "code",
   "execution_count": 5,
   "metadata": {},
   "outputs": [
    {
     "name": "stdout",
     "output_type": "stream",
     "text": [
      "CPU times: user 678 ms, sys: 71.2 ms, total: 750 ms\n",
      "Wall time: 2.65 s\n"
     ]
    },
    {
     "data": {
      "text/plain": [
       "{'021C': 3938, '021D': 329287, '021U': 4365, '030C': 0, '030T': 1392}"
      ]
     },
     "execution_count": 5,
     "metadata": {},
     "output_type": "execute_result"
    }
   ],
   "source": [
    "%%time\n",
    "motifs_orig, counter_orig = f.motif_search(cfg, interaction_matrix, batch_size=10000)\n",
    "counter_orig"
   ]
  },
  {
   "cell_type": "markdown",
   "metadata": {},
   "source": [
    "#### Random networks motif counting"
   ]
  },
  {
   "cell_type": "code",
   "execution_count": 6,
   "metadata": {},
   "outputs": [],
   "source": [
    "N_SIMS = 1000\n",
    "N_STEPS = 10\n",
    "N_SWAPS = 70000"
   ]
  },
  {
   "cell_type": "code",
   "execution_count": 7,
   "metadata": {},
   "outputs": [],
   "source": [
    "def get_shuffled_mp(params):\n",
    "    matrix = params[\"matrix\"]\n",
    "    nswaps = params[\"nswaps\"]\n",
    "    return f.get_shuffled_matrix(matrix, nswaps)"
   ]
  },
  {
   "cell_type": "code",
   "execution_count": 28,
   "metadata": {},
   "outputs": [],
   "source": [
    "counters = []\n",
    "for _ in range(N_STEPS):\n",
    "    pool = mp.Pool(mp.cpu_count())\n",
    "    params = {\"matrix\": interaction_matrix, \"nswaps\": N_SWAPS}\n",
    "    shuffled_arrays = pool.map(get_shuffled_mp, (params for _ in range(int(N_SIMS/N_STEPS))))\n",
    "    pool.close()\n",
    "    pool.join()\n",
    "    for arr in tqdm(shuffled_arrays):\n",
    "        motifs, counter = f.motif_search(cfg, arr, batch_size=10000)\n",
    "        counters.append(counter)\n",
    "# joblib.dump(counters, \"./networks/ecoli/shuffled_counters.gz\");"
   ]
  },
  {
   "cell_type": "code",
   "execution_count": 13,
   "metadata": {},
   "outputs": [
    {
     "data": {
      "text/plain": [
       "1000"
      ]
     },
     "execution_count": 13,
     "metadata": {},
     "output_type": "execute_result"
    }
   ],
   "source": [
    "c = joblib.load(\"./networks/ecoli/shuffled_counters.gz\")\n",
    "len(c)"
   ]
  },
  {
   "cell_type": "markdown",
   "metadata": {},
   "source": [
    "#### Z-score and P-value estimation"
   ]
  },
  {
   "cell_type": "code",
   "execution_count": 6,
   "metadata": {},
   "outputs": [],
   "source": [
    "counters = joblib.load(\"./networks/ecoli/shuffled_counters.gz\");"
   ]
  },
  {
   "cell_type": "code",
   "execution_count": 15,
   "metadata": {},
   "outputs": [
    {
     "name": "stderr",
     "output_type": "stream",
     "text": [
      "100%|██████████| 1000/1000 [00:03<00:00, 258.50it/s]\n"
     ]
    },
    {
     "data": {
      "image/png": "[encoded data removed]",
      "text/plain": [
       "<Figure size 1440x360 with 5 Axes>"
      ]
     },
     "metadata": {
      "needs_background": "light"
     },
     "output_type": "display_data"
    }
   ],
   "source": [
    "df, fig = f.plot_distr(counters, counter_orig, label=\"Motifs distribution in E.coli Tnet\", highlight=False);"
   ]
  },
  {
   "cell_type": "code",
   "execution_count": 8,
   "metadata": {},
   "outputs": [],
   "source": [
    "distr = {triad: [] for triad in counters[0].keys()}\n",
    "for counter in counters:\n",
    "    for triad, n in counter.items():\n",
    "        distr[triad].append(n)\n",
    "distr = {x: np.array(y) for x, y in distr.items()}"
   ]
  },
  {
   "cell_type": "code",
   "execution_count": 11,
   "metadata": {},
   "outputs": [
    {
     "data": {
      "image/png": "[encoded data removed]",
      "text/plain": [
       "<Figure size 1440x720 with 6 Axes>"
      ]
     },
     "metadata": {
      "needs_background": "light"
     },
     "output_type": "display_data"
    }
   ],
   "source": [
    "fig, axes = plt.subplots(nrows=2, ncols=3, figsize=(20, 10))\n",
    "ticks = [60, 60, 60, 250, 70]\n",
    "for i, motif in enumerate(counters[0].keys()):\n",
    "    ax = axes[i//3, i%3]\n",
    "    ax.set_title(motif, fontsize=25)\n",
    "    pd.Series(distr[motif]).hist(bins=50, ax=ax)\n",
    "    ax.plot([counter_orig[motif]]*100, np.linspace(0, ticks[i], 100), \"r\")"
   ]
  },
  {
   "cell_type": "code",
   "execution_count": 14,
   "metadata": {},
   "outputs": [
    {
     "data": {
      "text/html": [
       "<div>\n",
       "<style scoped>\n",
       "    .dataframe tbody tr th:only-of-type {\n",
       "        vertical-align: middle;\n",
       "    }\n",
       "\n",
       "    .dataframe tbody tr th {\n",
       "        vertical-align: top;\n",
       "    }\n",
       "\n",
       "    .dataframe thead th {\n",
       "        text-align: right;\n",
       "    }\n",
       "</style>\n",
       "<table border=\"1\" class=\"dataframe\">\n",
       "  <thead>\n",
       "    <tr style=\"text-align: right;\">\n",
       "      <th></th>\n",
       "      <th>N_real</th>\n",
       "      <th>mean(N_rand)</th>\n",
       "      <th>sd(N_rand)</th>\n",
       "      <th>Z-score</th>\n",
       "      <th>P-value</th>\n",
       "      <th>Result</th>\n",
       "    </tr>\n",
       "  </thead>\n",
       "  <tbody>\n",
       "    <tr>\n",
       "      <td>021C</td>\n",
       "      <td>3938</td>\n",
       "      <td>8250.95</td>\n",
       "      <td>544.278</td>\n",
       "      <td>-7.92417</td>\n",
       "      <td>0</td>\n",
       "      <td>&lt; 0.01</td>\n",
       "    </tr>\n",
       "    <tr>\n",
       "      <td>021D</td>\n",
       "      <td>329287</td>\n",
       "      <td>333191</td>\n",
       "      <td>537.226</td>\n",
       "      <td>-7.26617</td>\n",
       "      <td>0</td>\n",
       "      <td>&lt; 0.01</td>\n",
       "    </tr>\n",
       "    <tr>\n",
       "      <td>021U</td>\n",
       "      <td>4365</td>\n",
       "      <td>5524.94</td>\n",
       "      <td>79.8659</td>\n",
       "      <td>-14.5235</td>\n",
       "      <td>0</td>\n",
       "      <td>&lt; 0.01</td>\n",
       "    </tr>\n",
       "    <tr>\n",
       "      <td>030C</td>\n",
       "      <td>0</td>\n",
       "      <td>2.18</td>\n",
       "      <td>1.58921</td>\n",
       "      <td>-1.37175</td>\n",
       "      <td>0.13</td>\n",
       "      <td>non-significant</td>\n",
       "    </tr>\n",
       "    <tr>\n",
       "      <td>030T</td>\n",
       "      <td>1392</td>\n",
       "      <td>754.326</td>\n",
       "      <td>86.0515</td>\n",
       "      <td>7.41038</td>\n",
       "      <td>0</td>\n",
       "      <td>&lt; 0.01</td>\n",
       "    </tr>\n",
       "  </tbody>\n",
       "</table>\n",
       "</div>"
      ],
      "text/plain": [
       "      N_real mean(N_rand) sd(N_rand)  Z-score P-value           Result\n",
       "021C    3938      8250.95    544.278 -7.92417       0           < 0.01\n",
       "021D  329287       333191    537.226 -7.26617       0           < 0.01\n",
       "021U    4365      5524.94    79.8659 -14.5235       0           < 0.01\n",
       "030C       0         2.18    1.58921 -1.37175    0.13  non-significant\n",
       "030T    1392      754.326    86.0515  7.41038       0           < 0.01"
      ]
     },
     "execution_count": 14,
     "metadata": {},
     "output_type": "execute_result"
    }
   ],
   "source": [
    "zscores_report = pd.DataFrame(\n",
    "    index=[\"N_real\", \"mean(N_rand)\", \"sd(N_rand)\", \"Z-score\", \"P-value\", \"Result\"]\n",
    ")\n",
    "for motif in counters[0].keys():\n",
    "    n_hypothesis = len(counters[0].keys())\n",
    "    d = distr[motif]\n",
    "    zscore = (counter_orig[motif]-np.mean(distr[motif]))/np.std(distr[motif])\n",
    "    pvalue = len(d[d <= counter_orig[motif]])/len(d)\n",
    "    if pvalue > 0.5:\n",
    "        pvalue = len(d[d >= counter_orig[motif]])/len(d)\n",
    "    if pvalue < 0.01/n_hypothesis:\n",
    "        result = \" < 0.01\"\n",
    "    elif pvalue < 0.05/n_hypothesis:\n",
    "        result = \" < 0.05\"\n",
    "    else:\n",
    "        result = \"non-significant\"\n",
    "    result_list = [\n",
    "        counter_orig[motif],\n",
    "        np.mean(distr[motif]),\n",
    "        np.std(distr[motif]),\n",
    "        zscore,\n",
    "        pvalue,\n",
    "        result\n",
    "    ]\n",
    "    zscores_report[motif] = result_list\n",
    "zscores_report.T"
   ]
  },
  {
   "cell_type": "markdown",
   "metadata": {},
   "source": [
    "# GS 0.1 net"
   ]
  },
  {
   "cell_type": "code",
   "execution_count": 3,
   "metadata": {},
   "outputs": [
    {
     "name": "stdout",
     "output_type": "stream",
     "text": [
      "RANDOM_SEED: 19\n",
      "TEST_NETWORK_SIZE: 500\n",
      "TEST_NETWORK_LINK_PROB: 0.1\n",
      "N_CORES_TO_USE: -1\n",
      "NETWORK_TO_SEARCH_IN: gs0.1\n"
     ]
    }
   ],
   "source": [
    "cfg = f.update_cfg(\"./config.json\", \"NETWORK_TO_SEARCH_IN\", \"gs0.1\")"
   ]
  },
  {
   "cell_type": "code",
   "execution_count": 4,
   "metadata": {},
   "outputs": [],
   "source": [
    "interaction_matrix = f.get_interaction_matrix(cfg)"
   ]
  },
  {
   "cell_type": "code",
   "execution_count": 5,
   "metadata": {},
   "outputs": [
    {
     "name": "stdout",
     "output_type": "stream",
     "text": [
      "CPU times: user 47.2 ms, sys: 42.4 ms, total: 89.6 ms\n",
      "Wall time: 2.11 s\n"
     ]
    },
    {
     "data": {
      "text/plain": [
       "{'021C': 9459, '021D': 5261, '021U': 4079, '030C': 17, '030T': 73}"
      ]
     },
     "execution_count": 5,
     "metadata": {},
     "output_type": "execute_result"
    }
   ],
   "source": [
    "%%time\n",
    "motifs_orig, counter_orig = f.motif_search(cfg, interaction_matrix, batch_size=10000)\n",
    "counter_orig"
   ]
  },
  {
   "cell_type": "markdown",
   "metadata": {},
   "source": [
    "#### Random networks motif counting"
   ]
  },
  {
   "cell_type": "code",
   "execution_count": 6,
   "metadata": {},
   "outputs": [],
   "source": [
    "N_SIMS = 1000\n",
    "N_STEPS = 10\n",
    "N_SWAPS = 40000"
   ]
  },
  {
   "cell_type": "code",
   "execution_count": 7,
   "metadata": {},
   "outputs": [],
   "source": [
    "def get_shuffled_mp(params):\n",
    "    matrix = params[\"matrix\"]\n",
    "    nswaps = params[\"nswaps\"]\n",
    "    return f.get_shuffled_matrix(matrix, nswaps)"
   ]
  },
  {
   "cell_type": "code",
   "execution_count": 8,
   "metadata": {},
   "outputs": [
    {
     "name": "stderr",
     "output_type": "stream",
     "text": [
      "100%|██████████| 100/100 [02:06<00:00,  1.26s/it]\n",
      "100%|██████████| 100/100 [02:06<00:00,  1.26s/it]\n",
      "100%|██████████| 100/100 [02:06<00:00,  1.27s/it]\n",
      "100%|██████████| 100/100 [02:06<00:00,  1.27s/it]\n",
      "100%|██████████| 100/100 [02:05<00:00,  1.26s/it]\n",
      "100%|██████████| 100/100 [02:06<00:00,  1.27s/it]\n",
      "100%|██████████| 100/100 [02:07<00:00,  1.28s/it]\n",
      "100%|██████████| 100/100 [02:07<00:00,  1.28s/it]\n",
      "100%|██████████| 100/100 [02:07<00:00,  1.27s/it]\n",
      "100%|██████████| 100/100 [02:06<00:00,  1.26s/it]\n"
     ]
    }
   ],
   "source": [
    "counters = []\n",
    "for _ in range(N_STEPS):\n",
    "    pool = mp.Pool(mp.cpu_count())\n",
    "    params = {\"matrix\": interaction_matrix, \"nswaps\": N_SWAPS}\n",
    "    shuffled_arrays = pool.map(get_shuffled_mp, (params for _ in range(int(N_SIMS/N_STEPS))))\n",
    "    pool.close()\n",
    "    pool.join()\n",
    "    for arr in tqdm(shuffled_arrays):\n",
    "        motifs, counter = f.motif_search(cfg, arr, batch_size=10000)\n",
    "        counters.append(counter)\n",
    "joblib.dump(counters, \"./networks/gs0.1/shuffled_counters.gz\");"
   ]
  },
  {
   "cell_type": "code",
   "execution_count": 11,
   "metadata": {
    "jupyter": {
     "source_hidden": true
    }
   },
   "outputs": [],
   "source": [
    "# c = joblib.load(\"./networks/ecoli/shuffled_counters.gz\")\n",
    "# c[:100]"
   ]
  },
  {
   "cell_type": "markdown",
   "metadata": {},
   "source": [
    "#### Z-score and P-value estimation"
   ]
  },
  {
   "cell_type": "code",
   "execution_count": 12,
   "metadata": {},
   "outputs": [],
   "source": [
    "counters = joblib.load(\"./networks/gs0.1/shuffled_counters.gz\");"
   ]
  },
  {
   "cell_type": "code",
   "execution_count": 13,
   "metadata": {},
   "outputs": [
    {
     "name": "stderr",
     "output_type": "stream",
     "text": [
      "100%|██████████| 1000/1000 [00:03<00:00, 268.42it/s]\n"
     ]
    },
    {
     "data": {
      "image/png": "[encoded data removed]",
      "text/plain": [
       "<Figure size 1440x360 with 5 Axes>"
      ]
     },
     "metadata": {
      "needs_background": "light"
     },
     "output_type": "display_data"
    }
   ],
   "source": [
    "f.plot_distr(counters, counter_orig, label=\"Motifs distribution in GS net (SNR 0.1)\", highlight=False);"
   ]
  },
  {
   "cell_type": "code",
   "execution_count": 14,
   "metadata": {},
   "outputs": [],
   "source": [
    "distr = {triad: [] for triad in counters[0].keys()}\n",
    "for counter in counters:\n",
    "    for triad, n in counter.items():\n",
    "        distr[triad].append(n)\n",
    "distr = {x: np.array(y) for x, y in distr.items()}"
   ]
  },
  {
   "cell_type": "code",
   "execution_count": 15,
   "metadata": {},
   "outputs": [
    {
     "data": {
      "image/png": "[encoded data removed]",
      "text/plain": [
       "<Figure size 1440x720 with 6 Axes>"
      ]
     },
     "metadata": {
      "needs_background": "light"
     },
     "output_type": "display_data"
    }
   ],
   "source": [
    "fig, axes = plt.subplots(nrows=2, ncols=3, figsize=(20, 10))\n",
    "ticks = [60, 60, 60, 250, 70]\n",
    "for i, motif in enumerate(counters[0].keys()):\n",
    "    ax = axes[i//3, i%3]\n",
    "    ax.set_title(motif, fontsize=25)\n",
    "    pd.Series(distr[motif]).hist(bins=50, ax=ax)\n",
    "    ax.plot([counter_orig[motif]]*100, np.linspace(0, ticks[i], 100), \"r\")"
   ]
  },
  {
   "cell_type": "code",
   "execution_count": 16,
   "metadata": {},
   "outputs": [
    {
     "data": {
      "text/html": [
       "<div>\n",
       "<style scoped>\n",
       "    .dataframe tbody tr th:only-of-type {\n",
       "        vertical-align: middle;\n",
       "    }\n",
       "\n",
       "    .dataframe tbody tr th {\n",
       "        vertical-align: top;\n",
       "    }\n",
       "\n",
       "    .dataframe thead th {\n",
       "        text-align: right;\n",
       "    }\n",
       "</style>\n",
       "<table border=\"1\" class=\"dataframe\">\n",
       "  <thead>\n",
       "    <tr style=\"text-align: right;\">\n",
       "      <th></th>\n",
       "      <th>N_real</th>\n",
       "      <th>mean(N_rand)</th>\n",
       "      <th>sd(N_rand)</th>\n",
       "      <th>Z-score</th>\n",
       "      <th>P-value</th>\n",
       "      <th>Result</th>\n",
       "    </tr>\n",
       "  </thead>\n",
       "  <tbody>\n",
       "    <tr>\n",
       "      <td>021C</td>\n",
       "      <td>9459</td>\n",
       "      <td>13594.9</td>\n",
       "      <td>175.585</td>\n",
       "      <td>-23.5552</td>\n",
       "      <td>0</td>\n",
       "      <td>&lt; 0.01</td>\n",
       "    </tr>\n",
       "    <tr>\n",
       "      <td>021D</td>\n",
       "      <td>5261</td>\n",
       "      <td>6937.75</td>\n",
       "      <td>97.3987</td>\n",
       "      <td>-17.2153</td>\n",
       "      <td>0</td>\n",
       "      <td>&lt; 0.01</td>\n",
       "    </tr>\n",
       "    <tr>\n",
       "      <td>021U</td>\n",
       "      <td>4079</td>\n",
       "      <td>5801.72</td>\n",
       "      <td>73.102</td>\n",
       "      <td>-23.566</td>\n",
       "      <td>0</td>\n",
       "      <td>&lt; 0.01</td>\n",
       "    </tr>\n",
       "    <tr>\n",
       "      <td>030C</td>\n",
       "      <td>17</td>\n",
       "      <td>43.626</td>\n",
       "      <td>6.80824</td>\n",
       "      <td>-3.91085</td>\n",
       "      <td>0</td>\n",
       "      <td>&lt; 0.01</td>\n",
       "    </tr>\n",
       "    <tr>\n",
       "      <td>030T</td>\n",
       "      <td>73</td>\n",
       "      <td>111.069</td>\n",
       "      <td>12.1616</td>\n",
       "      <td>-3.13027</td>\n",
       "      <td>0</td>\n",
       "      <td>&lt; 0.01</td>\n",
       "    </tr>\n",
       "  </tbody>\n",
       "</table>\n",
       "</div>"
      ],
      "text/plain": [
       "     N_real mean(N_rand) sd(N_rand)  Z-score P-value   Result\n",
       "021C   9459      13594.9    175.585 -23.5552       0   < 0.01\n",
       "021D   5261      6937.75    97.3987 -17.2153       0   < 0.01\n",
       "021U   4079      5801.72     73.102  -23.566       0   < 0.01\n",
       "030C     17       43.626    6.80824 -3.91085       0   < 0.01\n",
       "030T     73      111.069    12.1616 -3.13027       0   < 0.01"
      ]
     },
     "execution_count": 16,
     "metadata": {},
     "output_type": "execute_result"
    }
   ],
   "source": [
    "zscores_report = pd.DataFrame(\n",
    "    index=[\"N_real\", \"mean(N_rand)\", \"sd(N_rand)\", \"Z-score\", \"P-value\", \"Result\"]\n",
    ")\n",
    "for motif in counters[0].keys():\n",
    "    n_hypothesis = len(counters[0].keys())\n",
    "    d = distr[motif]\n",
    "    zscore = (counter_orig[motif]-np.mean(distr[motif]))/np.std(distr[motif])\n",
    "    pvalue = len(d[d <= counter_orig[motif]])/len(d)\n",
    "    if pvalue > 0.5:\n",
    "        pvalue = len(d[d >= counter_orig[motif]])/len(d)\n",
    "    if pvalue < 0.01/n_hypothesis:\n",
    "        result = \" < 0.01\"\n",
    "    elif pvalue < 0.05/n_hypothesis:\n",
    "        result = \" < 0.05\"\n",
    "    else:\n",
    "        result = \"non-significant\"\n",
    "    result_list = [\n",
    "        counter_orig[motif],\n",
    "        np.mean(distr[motif]),\n",
    "        np.std(distr[motif]),\n",
    "        zscore,\n",
    "        pvalue,\n",
    "        result\n",
    "    ]\n",
    "    zscores_report[motif] = result_list\n",
    "zscores_report.T"
   ]
  }
 ],
 "metadata": {
  "kernelspec": {
   "display_name": "Python 3",
   "language": "python",
   "name": "python3"
  },
  "language_info": {
   "codemirror_mode": {
    "name": "ipython",
    "version": 3
   },
   "file_extension": ".py",
   "mimetype": "text/x-python",
   "name": "python",
   "nbconvert_exporter": "python",
   "pygments_lexer": "ipython3",
   "version": "3.7.4"
  }
 },
 "nbformat": 4,
 "nbformat_minor": 4
}
