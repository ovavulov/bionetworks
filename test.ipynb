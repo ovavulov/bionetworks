{
 "cells": [
  {
   "cell_type": "markdown",
   "metadata": {},
   "source": [
    "# Motif enrichment analysis"
   ]
  },
  {
   "cell_type": "code",
   "execution_count": 3,
   "metadata": {},
   "outputs": [],
   "source": [
    "import numpy as np\n",
    "import pandas as pd\n",
    "import sys\n",
    "sys.path.insert(0, \"./scripts\")\n",
    "import functions as f\n",
    "from matplotlib import pyplot as plt\n",
    "import seaborn as sns\n",
    "from copy import copy\n",
    "import multiprocessing as mp\n",
    "import joblib\n",
    "from tqdm import tqdm\n",
    "from scipy import stats"
   ]
  },
  {
   "cell_type": "code",
   "execution_count": 2,
   "metadata": {},
   "outputs": [
    {
     "name": "stdout",
     "output_type": "stream",
     "text": [
      "RANDOM_SEED: 19\n",
      "TEST_NETWORK_SIZE: 500\n",
      "TEST_NETWORK_LINK_PROB: 0.1\n",
      "N_CORES_TO_USE: -1\n",
      "NETWORK_TO_SEARCH_IN: gs0.1\n"
     ]
    }
   ],
   "source": [
    "cfg = f.get_actual_parametrization(\"./config.json\")"
   ]
  },
  {
   "cell_type": "markdown",
   "metadata": {},
   "source": [
    "### Motifs library"
   ]
  },
  {
   "cell_type": "markdown",
   "metadata": {},
   "source": [
    "There are conventional denotations for all possible triads as presented below"
   ]
  },
  {
   "cell_type": "markdown",
   "metadata": {},
   "source": [
    "<img src=\"./pics/triads.png\" width=2000 height=20/>"
   ]
  },
  {
   "cell_type": "markdown",
   "metadata": {},
   "source": [
    "# Yeast Tnet"
   ]
  },
  {
   "cell_type": "code",
   "execution_count": 47,
   "metadata": {},
   "outputs": [
    {
     "name": "stdout",
     "output_type": "stream",
     "text": [
      "RANDOM_SEED: 19\n",
      "TEST_NETWORK_SIZE: 500\n",
      "TEST_NETWORK_LINK_PROB: 0.1\n",
      "N_CORES_TO_USE: -1\n",
      "NETWORK_TO_SEARCH_IN: yeast\n"
     ]
    }
   ],
   "source": [
    "cfg = f.update_cfg(\"./config.json\", \"NETWORK_TO_SEARCH_IN\", \"yeast\")"
   ]
  },
  {
   "cell_type": "code",
   "execution_count": 48,
   "metadata": {},
   "outputs": [],
   "source": [
    "interaction_matrix = f.get_interaction_matrix(cfg)"
   ]
  },
  {
   "cell_type": "code",
   "execution_count": 49,
   "metadata": {},
   "outputs": [
    {
     "name": "stdout",
     "output_type": "stream",
     "text": [
      "CPU times: user 2.46 s, sys: 151 ms, total: 2.61 s\n",
      "Wall time: 7.68 s\n"
     ]
    },
    {
     "data": {
      "text/plain": [
       "{'021C': 37631, '021D': 1059856, '021U': 26042, '030C': 8, '030T': 3370}"
      ]
     },
     "execution_count": 49,
     "metadata": {},
     "output_type": "execute_result"
    }
   ],
   "source": [
    "%%time\n",
    "motifs_orig, counter_orig = f.motif_search(cfg, interaction_matrix, batch_size=10000)\n",
    "counter_orig"
   ]
  },
  {
   "cell_type": "code",
   "execution_count": 50,
   "metadata": {},
   "outputs": [],
   "source": [
    "node_motif_distr = {motif: {} for motif in motifs_orig.keys()}\n",
    "for motif in motifs_orig.keys():\n",
    "    for triad in motifs_orig[motif]:\n",
    "        i, j, k = map(int, triad.split(\"_\"))\n",
    "        try:\n",
    "            node_motif_distr[motif][i] += 1\n",
    "        except KeyError:\n",
    "            node_motif_distr[motif][i] = 1\n",
    "        try:\n",
    "            node_motif_distr[motif][j] += 1\n",
    "        except KeyError:\n",
    "            node_motif_distr[motif][j] = 1\n",
    "        try:\n",
    "            node_motif_distr[motif][k] += 1\n",
    "        except KeyError:\n",
    "            node_motif_distr[motif][k] = 1"
   ]
  },
  {
   "cell_type": "code",
   "execution_count": 51,
   "metadata": {},
   "outputs": [],
   "source": [
    "distr_dict = {motif: {} for motif in motifs_orig.keys()}\n",
    "for motif in motifs_orig.keys():\n",
    "    nodes = [x[0] for x in node_motif_distr[motif].items()]\n",
    "    n_motifs = [x[1] for x in node_motif_distr[motif].items()]\n",
    "    distr_dict[motif] = pd.DataFrame(data=n_motifs, index=nodes, columns=[\"n_motifs\"])"
   ]
  },
  {
   "cell_type": "code",
   "execution_count": 59,
   "metadata": {},
   "outputs": [
    {
     "name": "stdout",
     "output_type": "stream",
     "text": [
      "\n",
      "Yeast nodes participation:\n",
      "\n",
      "021C:\ttotal 4252 genes involved (95.74%)\n",
      "021D:\ttotal 4439 genes involved (99.95%)\n",
      "021U:\ttotal 2750 genes involved (61.92%)\n",
      "030C:\ttotal 17 genes involved (0.38%)\n",
      "030T:\ttotal 1201 genes involved (27.04%)\n",
      "\n"
     ]
    }
   ],
   "source": [
    "print(\"\\nYeast nodes participation:\\n\")\n",
    "for motif, distr in distr_dict.items():\n",
    "    print(f\"{motif}:\\ttotal {len(distr)} \\\n",
    "genes involved ({100*len(distr)/interaction_matrix.shape[0]:.2f}%)\")\n",
    "print()"
   ]
  },
  {
   "cell_type": "markdown",
   "metadata": {},
   "source": [
    "# Ecoli Tnet"
   ]
  },
  {
   "cell_type": "code",
   "execution_count": 60,
   "metadata": {},
   "outputs": [
    {
     "name": "stdout",
     "output_type": "stream",
     "text": [
      "RANDOM_SEED: 19\n",
      "TEST_NETWORK_SIZE: 500\n",
      "TEST_NETWORK_LINK_PROB: 0.1\n",
      "N_CORES_TO_USE: -1\n",
      "NETWORK_TO_SEARCH_IN: ecoli\n"
     ]
    }
   ],
   "source": [
    "cfg = f.update_cfg(\"./config.json\", \"NETWORK_TO_SEARCH_IN\", \"ecoli\")"
   ]
  },
  {
   "cell_type": "code",
   "execution_count": 61,
   "metadata": {},
   "outputs": [],
   "source": [
    "interaction_matrix = f.get_interaction_matrix(cfg)"
   ]
  },
  {
   "cell_type": "code",
   "execution_count": 62,
   "metadata": {},
   "outputs": [
    {
     "name": "stdout",
     "output_type": "stream",
     "text": [
      "CPU times: user 939 ms, sys: 109 ms, total: 1.05 s\n",
      "Wall time: 3.34 s\n"
     ]
    },
    {
     "data": {
      "text/plain": [
       "{'021C': 3938, '021D': 329287, '021U': 4365, '030C': 0, '030T': 1392}"
      ]
     },
     "execution_count": 62,
     "metadata": {},
     "output_type": "execute_result"
    }
   ],
   "source": [
    "%%time\n",
    "motifs_orig, counter_orig = f.motif_search(cfg, interaction_matrix, batch_size=10000)\n",
    "counter_orig"
   ]
  },
  {
   "cell_type": "code",
   "execution_count": 63,
   "metadata": {},
   "outputs": [],
   "source": [
    "node_motif_distr = {motif: {} for motif in motifs_orig.keys()}\n",
    "for motif in motifs_orig.keys():\n",
    "    for triad in motifs_orig[motif]:\n",
    "        i, j, k = map(int, triad.split(\"_\"))\n",
    "        try:\n",
    "            node_motif_distr[motif][i] += 1\n",
    "        except KeyError:\n",
    "            node_motif_distr[motif][i] = 1\n",
    "        try:\n",
    "            node_motif_distr[motif][j] += 1\n",
    "        except KeyError:\n",
    "            node_motif_distr[motif][j] = 1\n",
    "        try:\n",
    "            node_motif_distr[motif][k] += 1\n",
    "        except KeyError:\n",
    "            node_motif_distr[motif][k] = 1"
   ]
  },
  {
   "cell_type": "code",
   "execution_count": 64,
   "metadata": {},
   "outputs": [],
   "source": [
    "distr_dict = {motif: {} for motif in motifs_orig.keys()}\n",
    "for motif in motifs_orig.keys():\n",
    "    nodes = [x[0] for x in node_motif_distr[motif].items()]\n",
    "    n_motifs = [x[1] for x in node_motif_distr[motif].items()]\n",
    "    distr_dict[motif] = pd.DataFrame(data=n_motifs, index=nodes, columns=[\"n_motifs\"])"
   ]
  },
  {
   "cell_type": "code",
   "execution_count": 66,
   "metadata": {},
   "outputs": [
    {
     "name": "stdout",
     "output_type": "stream",
     "text": [
      "\n",
      "Ecoli nodes participation:\n",
      "\n",
      "021C:\ttotal 1361 genes involved (71.00%)\n",
      "021D:\ttotal 1896 genes involved (98.90%)\n",
      "021U:\ttotal 968 genes involved (50.50%)\n",
      "030C:\ttotal 0 genes involved (0.00%)\n",
      "030T:\ttotal 717 genes involved (37.40%)\n",
      "\n"
     ]
    }
   ],
   "source": [
    "print(\"\\nEcoli nodes participation:\\n\")\n",
    "for motif, distr in distr_dict.items():\n",
    "    print(f\"{motif}:\\ttotal {len(distr)} \\\n",
    "genes involved ({100*len(distr)/interaction_matrix.shape[0]:.2f}%)\")\n",
    "print()"
   ]
  },
  {
   "cell_type": "code",
   "execution_count": null,
   "metadata": {},
   "outputs": [],
   "source": []
  },
  {
   "cell_type": "code",
   "execution_count": null,
   "metadata": {},
   "outputs": [],
   "source": []
  },
  {
   "cell_type": "code",
   "execution_count": null,
   "metadata": {},
   "outputs": [],
   "source": []
  },
  {
   "cell_type": "code",
   "execution_count": null,
   "metadata": {},
   "outputs": [],
   "source": []
  },
  {
   "cell_type": "code",
   "execution_count": null,
   "metadata": {},
   "outputs": [],
   "source": []
  },
  {
   "cell_type": "code",
   "execution_count": null,
   "metadata": {},
   "outputs": [],
   "source": []
  },
  {
   "cell_type": "code",
   "execution_count": null,
   "metadata": {},
   "outputs": [],
   "source": []
  },
  {
   "cell_type": "code",
   "execution_count": null,
   "metadata": {},
   "outputs": [],
   "source": []
  },
  {
   "cell_type": "code",
   "execution_count": null,
   "metadata": {},
   "outputs": [],
   "source": []
  },
  {
   "cell_type": "code",
   "execution_count": null,
   "metadata": {},
   "outputs": [],
   "source": []
  },
  {
   "cell_type": "code",
   "execution_count": null,
   "metadata": {},
   "outputs": [],
   "source": []
  },
  {
   "cell_type": "code",
   "execution_count": 9,
   "metadata": {},
   "outputs": [],
   "source": [
    "import joblib\n",
    "from itertools import combinations"
   ]
  },
  {
   "cell_type": "code",
   "execution_count": 10,
   "metadata": {},
   "outputs": [],
   "source": [
    "def connected_triads_generator(interaction_matrix):\n",
    "    interaction_matrix_adj = interaction_matrix - np.diag(np.diag(interaction_matrix))\n",
    "    tg_idxs, tf_idxs = np.where(interaction_matrix_adj != 0)\n",
    "    links = pd.DataFrame(index=range(len(tf_idxs)), columns=[\"tf\", \"tg\"])\n",
    "    links.tf = tf_idxs\n",
    "    links.tg = tg_idxs\n",
    "    links_tf = links.set_index(\"tf\", drop=False)[[\"tg\"]]\n",
    "    \n",
    "    cascades = links.join(links_tf[[\"tg\"]], on=\"tg\", how=\"inner\", rsuffix=\"_final\")\n",
    "    cascades = cascades[cascades.tf != cascades.tg_final]\n",
    "    \n",
    "    for cascade in cascades.values:\n",
    "        yield tuple(cascade)\n",
    "    \n",
    "    grouper = links.groupby(\"tg\")\n",
    "    counter = grouper[\"tf\"].count()\n",
    "    for tg in counter[counter > 1].index:\n",
    "        tf_pairs = combinations(links[links.tg == tg].tf.values, 2)\n",
    "        for tf_1, tf_2 in tf_pairs:\n",
    "            yield tf_1, tf_2, tg\n",
    "    \n",
    "    grouper = links.groupby(\"tf\")\n",
    "    counter = grouper[\"tg\"].count()\n",
    "    for tf in counter[counter > 1].index:\n",
    "        tg_pairs = combinations(links[links.tf == tf].tg.values, 2)\n",
    "        for tg_1, tg_2 in tg_pairs:\n",
    "            yield tf, tg_1, tg_2"
   ]
  },
  {
   "cell_type": "code",
   "execution_count": 4,
   "metadata": {},
   "outputs": [],
   "source": [
    "matrix = joblib.load(\"./networks/mouse/regnet/interaction_matrix.gz\")"
   ]
  },
  {
   "cell_type": "code",
   "execution_count": 11,
   "metadata": {},
   "outputs": [
    {
     "name": "stderr",
     "output_type": "stream",
     "text": [
      "144817125it [01:29, 1625178.87it/s]\n"
     ]
    }
   ],
   "source": [
    "for triad in tqdm(connected_triads_generator(matrix)):\n",
    "    pass"
   ]
  },
  {
   "cell_type": "code",
   "execution_count": null,
   "metadata": {},
   "outputs": [],
   "source": []
  },
  {
   "cell_type": "code",
   "execution_count": 12,
   "metadata": {},
   "outputs": [],
   "source": [
    "matrix = joblib.load(\"./networks/human/regnet/interaction_matrix.gz\")"
   ]
  },
  {
   "cell_type": "code",
   "execution_count": 13,
   "metadata": {},
   "outputs": [
    {
     "name": "stderr",
     "output_type": "stream",
     "text": [
      "239275889it [01:31, 2617227.53it/s]\n"
     ]
    }
   ],
   "source": [
    "for triad in tqdm(connected_triads_generator(matrix)):\n",
    "    pass"
   ]
  },
  {
   "cell_type": "code",
   "execution_count": null,
   "metadata": {},
   "outputs": [],
   "source": []
  },
  {
   "cell_type": "code",
   "execution_count": 14,
   "metadata": {},
   "outputs": [
    {
     "name": "stdout",
     "output_type": "stream",
     "text": [
      "/opt/anaconda3/bin/python\n"
     ]
    }
   ],
   "source": [
    "!which python"
   ]
  },
  {
   "cell_type": "code",
   "execution_count": null,
   "metadata": {},
   "outputs": [],
   "source": []
  }
 ],
 "metadata": {
  "kernelspec": {
   "display_name": "Python 3",
   "language": "python",
   "name": "python3"
  },
  "language_info": {
   "codemirror_mode": {
    "name": "ipython",
    "version": 3
   },
   "file_extension": ".py",
   "mimetype": "text/x-python",
   "name": "python",
   "nbconvert_exporter": "python",
   "pygments_lexer": "ipython3",
   "version": "3.7.4"
  }
 },
 "nbformat": 4,
 "nbformat_minor": 4
}
