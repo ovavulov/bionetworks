{
 "cells": [
  {
   "cell_type": "markdown",
   "metadata": {},
   "source": [
    "# Motif enrichment analysis"
   ]
  },
  {
   "cell_type": "code",
   "execution_count": 1,
   "metadata": {},
   "outputs": [],
   "source": [
    "import numpy as np\n",
    "import pandas as pd\n",
    "import sys\n",
    "sys.path.insert(0, \"./scripts\")\n",
    "import functions as f\n",
    "from matplotlib import pyplot as plt\n",
    "import seaborn as sns"
   ]
  },
  {
   "cell_type": "code",
   "execution_count": 2,
   "metadata": {},
   "outputs": [
    {
     "name": "stdout",
     "output_type": "stream",
     "text": [
      "RANDOM_SEED: 19\n",
      "TEST_NETWORK_SIZE: 500\n",
      "TEST_NETWORK_LINK_PROB: 0.1\n",
      "N_CORES_TO_USE: -1\n",
      "NETWORK_TO_SEARCH_IN: yeast\n"
     ]
    }
   ],
   "source": [
    "cfg = f.get_actual_parametrization(\"./config.json\")"
   ]
  },
  {
   "cell_type": "markdown",
   "metadata": {},
   "source": [
    "# Yeast Tnet"
   ]
  },
  {
   "cell_type": "code",
   "execution_count": 3,
   "metadata": {},
   "outputs": [
    {
     "name": "stdout",
     "output_type": "stream",
     "text": [
      "RANDOM_SEED: 19\n",
      "TEST_NETWORK_SIZE: 500\n",
      "TEST_NETWORK_LINK_PROB: 0.1\n",
      "N_CORES_TO_USE: -1\n",
      "NETWORK_TO_SEARCH_IN: yeast\n"
     ]
    }
   ],
   "source": [
    "cfg = f.update_cfg(\"./config.json\", \"NETWORK_TO_SEARCH_IN\", \"yeast\")"
   ]
  },
  {
   "cell_type": "code",
   "execution_count": 4,
   "metadata": {},
   "outputs": [],
   "source": [
    "interaction_matrix = f.get_interaction_matrix(cfg)"
   ]
  },
  {
   "cell_type": "code",
   "execution_count": 5,
   "metadata": {},
   "outputs": [
    {
     "name": "stdout",
     "output_type": "stream",
     "text": [
      "CPU times: user 31.2 s, sys: 268 ms, total: 31.5 s\n",
      "Wall time: 31.5 s\n"
     ]
    }
   ],
   "source": [
    "%%time\n",
    "shuffled_matrix = f.get_shuffled_matrix(interaction_matrix, min_swaps=10000)"
   ]
  },
  {
   "cell_type": "code",
   "execution_count": 6,
   "metadata": {},
   "outputs": [
    {
     "name": "stdout",
     "output_type": "stream",
     "text": [
      "Links before: 12873\tLinks after: 12871\n"
     ]
    }
   ],
   "source": [
    "print(f\"Links before: {interaction_matrix.sum():.0f}\\tLinks after: {shuffled_matrix.sum()}\")"
   ]
  },
  {
   "cell_type": "code",
   "execution_count": 7,
   "metadata": {},
   "outputs": [
    {
     "name": "stdout",
     "output_type": "stream",
     "text": [
      "Fraction of original linkfs which moved out: 0.88\n"
     ]
    }
   ],
   "source": [
    "print(f\"Fraction of original linkfs which moved out: {1-f.corruption_score(interaction_matrix, shuffled_matrix):.2f}\")"
   ]
  },
  {
   "cell_type": "code",
   "execution_count": 13,
   "metadata": {},
   "outputs": [
    {
     "name": "stdout",
     "output_type": "stream",
     "text": [
      "CPU times: user 1min 24s, sys: 205 ms, total: 1min 24s\n",
      "Wall time: 1min 24s\n"
     ]
    }
   ],
   "source": [
    "%%time\n",
    "report = f.get_metrics_report(interaction_matrix)"
   ]
  },
  {
   "cell_type": "code",
   "execution_count": 14,
   "metadata": {},
   "outputs": [
    {
     "name": "stdout",
     "output_type": "stream",
     "text": [
      "CPU times: user 54.9 s, sys: 68.8 ms, total: 54.9 s\n",
      "Wall time: 55 s\n"
     ]
    }
   ],
   "source": [
    "%%time\n",
    "report_shuffled = f.get_metrics_report(shuffled_matrix)"
   ]
  },
  {
   "cell_type": "markdown",
   "metadata": {},
   "source": [
    "## Topological measures comparison"
   ]
  },
  {
   "cell_type": "markdown",
   "metadata": {},
   "source": [
    "Check if there are any differences in degrees"
   ]
  },
  {
   "cell_type": "code",
   "execution_count": 15,
   "metadata": {},
   "outputs": [
    {
     "data": {
      "text/plain": [
       "2300    1\n",
       "2661    1\n",
       "3221    1\n",
       "4064    1\n",
       "dtype: int64"
      ]
     },
     "execution_count": 15,
     "metadata": {},
     "output_type": "execute_result"
    }
   ],
   "source": [
    "eq = report.degree_seq == report_shuffled.degree_seq\n",
    "idxs = eq[eq == False].index\n",
    "report.degree_seq[idxs] - report_shuffled.degree_seq[idxs]"
   ]
  },
  {
   "cell_type": "code",
   "execution_count": 16,
   "metadata": {},
   "outputs": [
    {
     "name": "stdout",
     "output_type": "stream",
     "text": [
      "Average degree \t original: 5.7973\tshuffled: 5.7964\n"
     ]
    }
   ],
   "source": [
    "print(f\"Average degree \\t original: {report.avg_degree:.4f}\\tshuffled: {report_shuffled.avg_degree:.4f}\")"
   ]
  },
  {
   "cell_type": "code",
   "execution_count": 17,
   "metadata": {},
   "outputs": [
    {
     "data": {
      "image/png": "[encoded data removed]",
      "text/plain": [
       "<Figure size 1080x432 with 2 Axes>"
      ]
     },
     "metadata": {
      "needs_background": "light"
     },
     "output_type": "display_data"
    }
   ],
   "source": [
    "fig, ax = plt.subplots(nrows=1, ncols=2, figsize=(15, 6))\n",
    "fig.suptitle(\"Degree distribution\", fontsize=20)\n",
    "ax[0].set_title(\"Original\", fontsize=15); ax[1].set_title(\"Shuffled\", fontsize=15)\n",
    "report.degree_seq.hist(bins=50, ax=ax[0])\n",
    "report_shuffled.degree_seq.hist(bins=50, ax=ax[1]);"
   ]
  },
  {
   "cell_type": "code",
   "execution_count": 18,
   "metadata": {},
   "outputs": [
    {
     "data": {
      "image/png": "[encoded data removed]",
      "text/plain": [
       "<Figure size 1080x432 with 2 Axes>"
      ]
     },
     "metadata": {
      "needs_background": "light"
     },
     "output_type": "display_data"
    }
   ],
   "source": [
    "fig, ax = plt.subplots(nrows=1, ncols=2, figsize=(15, 6))\n",
    "fig.suptitle(\"Betweeness centrality\", fontsize=20)\n",
    "ax[0].set_title(\"Original\", fontsize=15); ax[1].set_title(\"Shuffled\", fontsize=15)\n",
    "report.betweenness_centrality.hist(bins=50, ax=ax[0])\n",
    "report_shuffled.betweenness_centrality.hist(bins=50, ax=ax[1]);"
   ]
  },
  {
   "cell_type": "markdown",
   "metadata": {},
   "source": [
    "Diameters"
   ]
  },
  {
   "cell_type": "code",
   "execution_count": 19,
   "metadata": {},
   "outputs": [
    {
     "name": "stdout",
     "output_type": "stream",
     "text": [
      "Week conn. diameter \t original: 6\tshuffled: inf\n",
      "Strong conn. diameter \t original: inf\tshuffled: inf\n"
     ]
    }
   ],
   "source": [
    "print(f\"Week conn. diameter \\t original: {report.diameter_weak}\\tshuffled: {report_shuffled.diameter_weak}\")\n",
    "print(f\"Strong conn. diameter \\t original: {report.diameter_strong}\\tshuffled: {report_shuffled.diameter_strong}\")"
   ]
  },
  {
   "cell_type": "markdown",
   "metadata": {},
   "source": [
    "Connected part fraction"
   ]
  },
  {
   "cell_type": "code",
   "execution_count": 20,
   "metadata": {},
   "outputs": [
    {
     "name": "stdout",
     "output_type": "stream",
     "text": [
      "The largest strongly connected part fraction \t original: 0.0135\tshuffled: 0.4515\n"
     ]
    }
   ],
   "source": [
    "print(f\"The largest strongly connected part fraction \\t original: {report.largest_component_frac:.4f}\\\n",
    "\\tshuffled: {report_shuffled.largest_component_frac:.4f}\")"
   ]
  },
  {
   "cell_type": "markdown",
   "metadata": {},
   "source": [
    "## Motifs distribution comparison"
   ]
  },
  {
   "cell_type": "code",
   "execution_count": 8,
   "metadata": {},
   "outputs": [
    {
     "name": "stdout",
     "output_type": "stream",
     "text": [
      "CPU times: user 7.38 s, sys: 221 ms, total: 7.6 s\n",
      "Wall time: 12.2 s\n"
     ]
    }
   ],
   "source": [
    "%%time\n",
    "motifs_orig, counter_orig = f.motif_search(cfg, interaction_matrix, batch_size=10000)"
   ]
  },
  {
   "cell_type": "code",
   "execution_count": 9,
   "metadata": {},
   "outputs": [
    {
     "name": "stdout",
     "output_type": "stream",
     "text": [
      "CPU times: user 6.41 s, sys: 193 ms, total: 6.6 s\n",
      "Wall time: 13.2 s\n"
     ]
    }
   ],
   "source": [
    "%%time\n",
    "motifs_shuffled, counter_shuffled = f.motif_search(cfg, shuffled_matrix, batch_size=10000)"
   ]
  },
  {
   "cell_type": "code",
   "execution_count": 10,
   "metadata": {},
   "outputs": [],
   "source": [
    "df1 = pd.DataFrame(columns=[\"motif\", \"abundance\", \"network\"])\n",
    "df1.motif = counter_orig.keys(); df1.abundance = counter_orig.values(); df1.network = \"original\"\n",
    "df2 = pd.DataFrame(columns=[\"motif\", \"abundance\", \"network\"])\n",
    "df2.motif = counter_shuffled.keys(); df2.abundance = counter_shuffled.values(); df2.network = \"shuffled\"\n",
    "df = pd.concat([df1, df2], axis=0)"
   ]
  },
  {
   "cell_type": "code",
   "execution_count": 11,
   "metadata": {},
   "outputs": [
    {
     "data": {
      "text/html": [
       "<div>\n",
       "<style scoped>\n",
       "    .dataframe tbody tr th:only-of-type {\n",
       "        vertical-align: middle;\n",
       "    }\n",
       "\n",
       "    .dataframe tbody tr th {\n",
       "        vertical-align: top;\n",
       "    }\n",
       "\n",
       "    .dataframe thead th {\n",
       "        text-align: right;\n",
       "    }\n",
       "</style>\n",
       "<table border=\"1\" class=\"dataframe\">\n",
       "  <thead>\n",
       "    <tr style=\"text-align: right;\">\n",
       "      <th></th>\n",
       "      <th>motif</th>\n",
       "      <th>abundance</th>\n",
       "      <th>network</th>\n",
       "    </tr>\n",
       "  </thead>\n",
       "  <tbody>\n",
       "    <tr>\n",
       "      <td>0</td>\n",
       "      <td>021C</td>\n",
       "      <td>37631</td>\n",
       "      <td>original</td>\n",
       "    </tr>\n",
       "    <tr>\n",
       "      <td>1</td>\n",
       "      <td>021D</td>\n",
       "      <td>1059856</td>\n",
       "      <td>original</td>\n",
       "    </tr>\n",
       "    <tr>\n",
       "      <td>2</td>\n",
       "      <td>021U</td>\n",
       "      <td>26042</td>\n",
       "      <td>original</td>\n",
       "    </tr>\n",
       "    <tr>\n",
       "      <td>3</td>\n",
       "      <td>030C</td>\n",
       "      <td>8</td>\n",
       "      <td>original</td>\n",
       "    </tr>\n",
       "    <tr>\n",
       "      <td>4</td>\n",
       "      <td>030T</td>\n",
       "      <td>3370</td>\n",
       "      <td>original</td>\n",
       "    </tr>\n",
       "    <tr>\n",
       "      <td>0</td>\n",
       "      <td>021C</td>\n",
       "      <td>532523</td>\n",
       "      <td>shuffled</td>\n",
       "    </tr>\n",
       "    <tr>\n",
       "      <td>1</td>\n",
       "      <td>021D</td>\n",
       "      <td>265491</td>\n",
       "      <td>shuffled</td>\n",
       "    </tr>\n",
       "    <tr>\n",
       "      <td>2</td>\n",
       "      <td>021U</td>\n",
       "      <td>265541</td>\n",
       "      <td>shuffled</td>\n",
       "    </tr>\n",
       "    <tr>\n",
       "      <td>3</td>\n",
       "      <td>030C</td>\n",
       "      <td>5762</td>\n",
       "      <td>shuffled</td>\n",
       "    </tr>\n",
       "    <tr>\n",
       "      <td>4</td>\n",
       "      <td>030T</td>\n",
       "      <td>17780</td>\n",
       "      <td>shuffled</td>\n",
       "    </tr>\n",
       "  </tbody>\n",
       "</table>\n",
       "</div>"
      ],
      "text/plain": [
       "  motif  abundance   network\n",
       "0  021C      37631  original\n",
       "1  021D    1059856  original\n",
       "2  021U      26042  original\n",
       "3  030C          8  original\n",
       "4  030T       3370  original\n",
       "0  021C     532523  shuffled\n",
       "1  021D     265491  shuffled\n",
       "2  021U     265541  shuffled\n",
       "3  030C       5762  shuffled\n",
       "4  030T      17780  shuffled"
      ]
     },
     "execution_count": 11,
     "metadata": {},
     "output_type": "execute_result"
    }
   ],
   "source": [
    "df"
   ]
  },
  {
   "cell_type": "code",
   "execution_count": 12,
   "metadata": {},
   "outputs": [
    {
     "data": {
      "image/png": "[encoded data removed]",
      "text/plain": [
       "<Figure size 1080x432 with 1 Axes>"
      ]
     },
     "metadata": {
      "needs_background": "light"
     },
     "output_type": "display_data"
    }
   ],
   "source": [
    "plt.figure(figsize=(15, 6))\n",
    "sns.barplot(data=df, x=\"motif\", y=\"abundance\", hue=\"network\");"
   ]
  },
  {
   "cell_type": "code",
   "execution_count": null,
   "metadata": {},
   "outputs": [],
   "source": []
  }
 ],
 "metadata": {
  "kernelspec": {
   "display_name": "Python 3",
   "language": "python",
   "name": "python3"
  },
  "language_info": {
   "codemirror_mode": {
    "name": "ipython",
    "version": 3
   },
   "file_extension": ".py",
   "mimetype": "text/x-python",
   "name": "python",
   "nbconvert_exporter": "python",
   "pygments_lexer": "ipython3",
   "version": "3.7.4"
  }
 },
 "nbformat": 4,
 "nbformat_minor": 4
}
